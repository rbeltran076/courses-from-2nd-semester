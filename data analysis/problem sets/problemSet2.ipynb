{
 "cells": [
  {
   "cell_type": "code",
   "execution_count": null,
   "metadata": {},
   "outputs": [],
   "source": [
    "# Problem set of confidence intervals\n",
    "\n",
    "# Problem 1\n",
    "# I am analyzing the average waiting time of an emergency room\n",
    "# the data is extracted from a random sample of 64 people from a hospital\n",
    "# The 95% confidence interval was obtained from the interval of time people\n",
    "# checked into the ER until they were first seen by a doctor. This confidence \n",
    "# interval is [128 - 147]minutes. It is based on the normal model of the mean\n",
    "# (It encompasses the 95% of cases in a normal distribution)\n",
    "    # 1. False, since we only need the sample size to be larger than 30\n",
    "        # so that by using the central limit theorem, the population\n",
    "        # distribution is irrelevant if we are analyzing the means.\n",
    "    # 2. False, the confidence interval gives us information about\n",
    "        # the whole population, not about the sample we get it from.\n",
    "    # 3. True. It means that if we repeated this sampling procedure \n",
    "        # many times, we would expect 95% of the confidence intervals to \n",
    "        # contain the true population mean. It does not mean that 95% of \n",
    "        # the population values are in this interval, or that there is a 95% \n",
    "        # chance that the population mean is in this interval.    \n",
    "    # 4. False. 95% of random samples from the population would have\n",
    "        # a confidence interval that contains the population mean between\n",
    "        # 128 and 147 minutes.\n",
    "    # 5. False. A higher confidence interval means a larger margin of \n",
    "        # error, which increases width (plot in cell 3). And viceversa.\n",
    "    # 6. True. The margin of error is half the length of the CI and the\n",
    "        # sample mean is the CI extreme points mean.\n",
    "    # 7. False. We would have to quadruple the sample size, since the\n",
    "        # margin of error is proportional to the inverse square root of \n",
    "        # the sample size"
   ]
  },
  {
   "cell_type": "code",
   "execution_count": 116,
   "metadata": {},
   "outputs": [
    {
     "name": "stdout",
     "output_type": "stream",
     "text": [
      "\n",
      "95% (19.583599630240208, 22.024635663877433)\n",
      "90% (19.779826638367233, 21.82840865575041)\n",
      "80% (20.00606381159697, 21.60217148252067)\n"
     ]
    }
   ],
   "source": [
    "# Problem 2\n",
    "# Calculating 80, 90 and 95% confidence intervals\n",
    "# for the population mean.\n",
    "\n",
    "# Importing useful libraries\n",
    "import numpy as np\n",
    "import scipy.stats as ss\n",
    "import random \n",
    "\n",
    "# Import libraries specially necessary for confidence intervals\n",
    "import statsmodels.stats.weightstats as smw\n",
    "import statsmodels.stats.proportion as smp\n",
    "\n",
    "# Creating a list of the sample data gathered form the problem set\n",
    "sample = [18.41, 18.32, 22.86, 14.47, 16.91, 18.6, 20.86, 19.06, 16.83, \n",
    "20.71, 20.74, 18.42, 17.72, 20.66, 22.05, 20.85, 15.54, 21.04, 21.42, \n",
    "21.43, 15.56, 21.74, 22.34, 21.97, 18.01, 19.11, 19.79, 22.13, 21.96, \n",
    "22.16, 22.83, 24.34, 17.97, 21.8]\n",
    "\n",
    "# Defining a random seed \n",
    "# random.seed(3)\n",
    "# creating a subsample of half the size of the sample. make this subsample\n",
    "# a numpy array\n",
    "subSample = np.array(\n",
    "    random.choices(sample, k = int(len(sample) / 2)) # k is the sample size\n",
    ")\n",
    "\n",
    "# Calculating the 95% confidence interval \n",
    "confInterval95 = smw.DescrStatsW(subSample).zconfint_mean(alpha=0.05, alternative='two-sided')\n",
    "\n",
    "# Calculating the 90% confidence interval\n",
    "confInterval90 = smw.DescrStatsW(subSample).zconfint_mean(alpha=0.1, alternative='two-sided')\n",
    "\n",
    "# Calculating the 80% confidence interval \n",
    "confInterval80 = smw.DescrStatsW(subSample).zconfint_mean(alpha=0.2, alternative='two-sided')\n",
    "\n",
    "print(f\"\"\"\n",
    "95% {confInterval95}\n",
    "90% {confInterval90}\n",
    "80% {confInterval80}\"\"\")"
   ]
  },
  {
   "cell_type": "code",
   "execution_count": 104,
   "metadata": {},
   "outputs": [
    {
     "data": {
      "text/plain": [
       "2.4192243316364874"
      ]
     },
     "execution_count": 104,
     "metadata": {},
     "output_type": "execute_result"
    }
   ],
   "source": [
    "ss.describe(subSample)\n",
    "np.std(subSample)"
   ]
  },
  {
   "cell_type": "code",
   "execution_count": 117,
   "metadata": {},
   "outputs": [
    {
     "data": {
      "image/png": "[encoded data removed]",
      "text/plain": [
       "<Figure size 1000x600 with 1 Axes>"
      ]
     },
     "metadata": {},
     "output_type": "display_data"
    }
   ],
   "source": [
    "# Creating a plot for visualizing the data obtained\n",
    "# Importing matplotlib.pyplot\n",
    "import matplotlib.pyplot as plt\n",
    "\n",
    "# Setting the figure size\n",
    "plt.figure(figsize=(10,6))\n",
    "\n",
    "# Plotting the sample mean and the confidence intervals as horizontal lines\n",
    "plt.hlines(y=1, xmin=confInterval95[0], xmax=confInterval95[1], color=\"blue\", label=\"95% CI\") \n",
    "plt.hlines(y=2, xmin=confInterval90[0], xmax=confInterval90[1], color=\"green\", label=\"90% CI\") \n",
    "plt.hlines(y=3, xmin=confInterval80[0], xmax=confInterval80[1], color=\"red\", label=\"80% CI\") \n",
    "plt.hlines(y=4, xmin=subSample.mean(), xmax=subSample.mean(), color=\"black\", label=\"Sample mean\")\n",
    "\n",
    "# Adding some labels and a legend\n",
    "plt.xlabel(\"Mean value\") \n",
    "plt.yticks([1,2,3,4], [\"95%\", \"90%\", \"80%\", \"Sample\"]) \n",
    "plt.legend(loc=\"upper right\") \n",
    "plt.title(\"Confidence intervals for the population mean\")\n",
    "\n",
    "# Showing the plot\n",
    "plt.show()"
   ]
  },
  {
   "cell_type": "code",
   "execution_count": 100,
   "metadata": {},
   "outputs": [
    {
     "name": "stdout",
     "output_type": "stream",
     "text": [
      "The 99% confidence interval for the population\n",
      " proportion is (0.537, 0.713), the standard error is 0.03423265984407288\n"
     ]
    }
   ],
   "source": [
    "# Problem 3\n",
    "# import numpy and scipy libraries\n",
    "import numpy as np\n",
    "from scipy.stats import norm\n",
    "\n",
    "# define sample proportion, critical value and sample size\n",
    "p_hat = 0.625\n",
    "z = 2.576\n",
    "n = 200\n",
    "\n",
    "# calculate standard error of sample proportion\n",
    "se = np.sqrt(p_hat * (1 - p_hat) / n)\n",
    "\n",
    "# calculate lower and upper bounds of confidence interval\n",
    "lower = p_hat - z * se\n",
    "upper = p_hat + z * se\n",
    "\n",
    "# print confidence interval\n",
    "print(f\"\"\"The 99% confidence interval for the population\n",
    " proportion is ({lower:.3f}, {upper:.3f}), the standard error is {se}\"\"\")"
   ]
  },
  {
   "cell_type": "code",
   "execution_count": 124,
   "metadata": {},
   "outputs": [
    {
     "name": "stdout",
     "output_type": "stream",
     "text": [
      "For males, x = 109, n = 577, CI = (0.15696920203146356, 0.22084708912971493)\n",
      "For females, x = 233, n= 314, CI= (0.693646158912385, 0.790430274208634)\n"
     ]
    }
   ],
   "source": [
    "# Problem 6\n",
    "# import pandas and scipy libraries\n",
    "import pandas as pd\n",
    "from scipy.stats import norm\n",
    "\n",
    "# define a function to calculate a confidence interval for a proportion\n",
    "def ci_proportion(x, n, alpha):\n",
    "  # calculate the sample proportion\n",
    "  p = x / n\n",
    "  # find the z-value for the given confidence level\n",
    "  z = norm.ppf(1 - alpha / 2)\n",
    "  # calculate the margin of error\n",
    "  me = z * (p * (1 - p) / n) ** 0.5\n",
    "  # construct the confidence interval\n",
    "  lower = p - me\n",
    "  upper = p + me\n",
    "  # return the confidence interval as a tuple\n",
    "  return (lower, upper)\n",
    "\n",
    "# read the excel file into a dataframe using pandas\n",
    "df = pd.read_excel(\"titanic_train.xlsx\")\n",
    "\n",
    "# filter the data by gender and survival status using pandas methods\n",
    "males = df[df[\"Sex\"] == \"male\"]\n",
    "females = df[df[\"Sex\"] == \"female\"]\n",
    "males_survived = males[males[\"Survived\"] == 1]\n",
    "females_survived = females[females[\"Survived\"] == 1]\n",
    "\n",
    "# count the number of males and females who survived and the total number of males and females using pandas methods\n",
    "x_males = len(males_survived)\n",
    "n_males = len(males)\n",
    "x_females = len(females_survived)\n",
    "n_females = len(females)\n",
    "\n",
    "# set the confidence level to 0.95 (alpha = 0.05)\n",
    "alpha = 0.05\n",
    "\n",
    "# call the function to calculate the confidence intervals for males and females using the counts from above\n",
    "ci_males = ci_proportion(x_males, n_males, alpha)\n",
    "ci_females = ci_proportion(x_females, n_females, alpha)\n",
    "\n",
    "# print the results in a formatted way using f-strings\n",
    "print(f\"For males, x = {x_males}, n = {n_males}, CI = {ci_males}\")\n",
    "print(f\"For females, x = {x_females}, n= {n_females}, CI= {ci_females}\")"
   ]
  },
  {
   "cell_type": "code",
   "execution_count": 127,
   "metadata": {},
   "outputs": [
    {
     "name": "stdout",
     "output_type": "stream",
     "text": [
      "For first class passengers, x = 136, n =216, CI =(0.5652302161570761, 0.6940290431021832)\n",
      "For second class passengers, x =87, n =184, CI =(0.40068762976132744, 0.544964544151716)\n",
      "For third class passengers, x =119, n =491, CI =(0.20445976825677095, 0.280265282659726)\n"
     ]
    }
   ],
   "source": [
    "# import pandas and scipy libraries\n",
    "import pandas as pd\n",
    "from scipy.stats import norm\n",
    "\n",
    "# define a function to calculate a confidence interval for a proportion\n",
    "def ci_proportion(x, n, alpha):\n",
    "  # calculate the sample proportion\n",
    "  p = x / n\n",
    "  # find the z-value for the given confidence level\n",
    "  z = norm.ppf(1 - alpha / 2)\n",
    "  # calculate the margin of error\n",
    "  me = z * (p * (1 - p) / n) ** 0.5\n",
    "  # construct the confidence interval\n",
    "  lower = p - me\n",
    "  upper = p + me\n",
    "  # return the confidence interval as a tuple\n",
    "  return (lower, upper)\n",
    "\n",
    "# read the excel file into a dataframe using pandas\n",
    "df = pd.read_excel(\"titanic_train.xlsx\")\n",
    "\n",
    "# filter the data by class and survival status using pandas methods\n",
    "first_class = df[df[\"Pclass\"] == 1]\n",
    "second_class = df[df[\"Pclass\"] == 2]\n",
    "third_class = df[df[\"Pclass\"] == 3]\n",
    "first_class_survived = first_class[first_class[\"Survived\"] == 1]\n",
    "second_class_survived = second_class[second_class[\"Survived\"] == 1]\n",
    "third_class_survived = third_class[third_class[\"Survived\"] == 1]\n",
    "\n",
    "# count the number of passengers in each class who survived and the total number of passengers in each class using pandas methods\n",
    "x_first = len(first_class_survived)\n",
    "n_first = len(first_class)\n",
    "x_second= len(second_class_survived)\n",
    "n_second= len(second_class)\n",
    "x_third= len(third_class_survived)\n",
    "n_third= len(third_class)\n",
    "\n",
    "# set the confidence level to 0.95 (alpha = 0.05)\n",
    "alpha = 0.05\n",
    "\n",
    "# call the function to calculate the confidence intervals for each class using the counts from above\n",
    "ci_first= ci_proportion(x_first, n_first, alpha)\n",
    "ci_second= ci_proportion(x_second, n_second, alpha)\n",
    "ci_third= ci_proportion(x_third, n_third, alpha)\n",
    "\n",
    "# print the results in a formatted way using f-strings\n",
    "print(f\"For first class passengers, x = {x_first}, n ={n_first}, CI ={ci_first}\")\n",
    "print(f\"For second class passengers, x ={x_second}, n ={n_second}, CI ={ci_second}\")\n",
    "print(f\"For third class passengers, x ={x_third}, n ={n_third}, CI ={ci_third}\")"
   ]
  },
  {
   "cell_type": "code",
   "execution_count": 129,
   "metadata": {},
   "outputs": [
    {
     "name": "stdout",
     "output_type": "stream",
     "text": [
      "Checking normality assumption:\n",
      "count    50.000000\n",
      "mean      0.049020\n",
      "std       0.005313\n",
      "min       0.041000\n",
      "25%       0.044000\n",
      "50%       0.051000\n",
      "75%       0.053000\n",
      "max       0.058000\n",
      "Name: leak_rates, dtype: float64\n",
      "0.010494378700832153\n",
      "-1.667156168578907\n",
      "AxesSubplot(0.125,0.11;0.775x0.77)\n",
      "The sample variance is 2.822408163265307e-05\n",
      "The confidence interval for variance is (1.9694281779301425e-05, 4.382771862623103e-05)\n"
     ]
    },
    {
     "data": {
      "image/png": "[encoded data removed]",
      "text/plain": [
       "<Figure size 640x480 with 1 Axes>"
      ]
     },
     "metadata": {},
     "output_type": "display_data"
    }
   ],
   "source": [
    "# import pandas and scipy libraries\n",
    "import pandas as pd\n",
    "from scipy.stats import chi2\n",
    "\n",
    "# define a function to calculate a confidence interval for a variance\n",
    "def ci_variance(s2, n, alpha):\n",
    "  # find the chi-square values for the given confidence level\n",
    "  lower_chi2 = chi2.ppf(alpha / 2, n - 1)\n",
    "  upper_chi2 = chi2.ppf(1 - alpha / 2, n - 1)\n",
    "  # calculate the lower and upper bounds of the confidence interval\n",
    "  lower = (n - 1) * s2 / upper_chi2\n",
    "  upper = (n - 1) * s2 / lower_chi2\n",
    "  # return the confidence interval as a tuple\n",
    "  return (lower, upper)\n",
    "\n",
    "# read the excel file into a dataframe using pandas\n",
    "df = pd.read_excel(\"tocs.xlsx\", sheet_name=\"TOC\")\n",
    "\n",
    "# extract the leak rates from the dataframe using pandas methods\n",
    "leak_rates = df[\"leak_rates\"]\n",
    "\n",
    "# check the assumption of normality using pandas methods and scipy functions\n",
    "print(\"Checking normality assumption:\")\n",
    "print(leak_rates.describe())\n",
    "print(leak_rates.skew())\n",
    "print(leak_rates.kurtosis())\n",
    "print(leak_rates.plot.hist())\n",
    "\n",
    "# calculate the sample variance and size using pandas methods\n",
    "s2 = leak_rates.var()\n",
    "n = len(leak_rates)\n",
    "\n",
    "# set the confidence level to 0.95 (alpha = 0.05)\n",
    "alpha = 0.05\n",
    "\n",
    "# call the function to calculate the confidence interval for variance using the sample variance and size from above\n",
    "ci_var = ci_variance(s2, n, alpha)\n",
    "\n",
    "# print the result in a formatted way using f-strings\n",
    "print(f\"The sample variance is {s2}\")\n",
    "print(f\"The confidence interval for variance is {ci_var}\")"
   ]
  }
 ],
 "metadata": {
  "kernelspec": {
   "display_name": "Python 3",
   "language": "python",
   "name": "python3"
  },
  "language_info": {
   "codemirror_mode": {
    "name": "ipython",
    "version": 3
   },
   "file_extension": ".py",
   "mimetype": "text/x-python",
   "name": "python",
   "nbconvert_exporter": "python",
   "pygments_lexer": "ipython3",
   "version": "3.11.1"
  },
  "orig_nbformat": 4
 },
 "nbformat": 4,
 "nbformat_minor": 2
}
