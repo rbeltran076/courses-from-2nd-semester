{
 "cells": [
  {
   "cell_type": "code",
   "execution_count": 5,
   "metadata": {},
   "outputs": [
    {
     "name": "stdout",
     "output_type": "stream",
     "text": [
      "Sample size 5 | Mean 14.03 | Std 4.63.\n",
      "Sample size 30 | Mean 12.60 | Std 6.53.\n",
      "Sample size 100 | Mean 11.86 | Std 7.39.\n"
     ]
    }
   ],
   "source": [
    "# Exercise 1\n",
    "# 1.1 This is a heavily right skewed distribution that reflects the \n",
    "# penny ages in the bank   \n",
    "\n",
    "# 1.2 I would expect to see something like that for all of the \n",
    "# distributions below, the larger the sample, the more it \n",
    "# resembles a normal distribution and the more representative is\n",
    "# the sample, so I wouldn't be surprised to see the ones with 5 and \n",
    "# 30 being slightly right skewed, since it is more likely to have a \n",
    "# mean for the most likely ages of pennies that would pop out in a\n",
    "# random sample.\n",
    "\n",
    "# 1.3 Calculating the mean and std of distrubutions of the mean with \n",
    "# random samples of 5, 30 and 100\n",
    "import numpy as np\n",
    "import scipy.stats as ss\n",
    "def parametersOfRandomSampleMeanOfAges(mean, std, sampleSize):\n",
    "    randomPennyAge = np.random.normal(mean, std, sampleSize)\n",
    "    sample = []\n",
    "    while len(sample) != sampleSize:\n",
    "        # Only having a sample of positive integers\n",
    "        randomPennyAge = np.random.normal(mean, std, 1)\n",
    "        if randomPennyAge >= 0:\n",
    "            sample.append(randomPennyAge)\n",
    "    distribution = np.array(sample)\n",
    "    print(f\"Sample size {sampleSize} | Mean {np.mean(distribution):.2f} | Std {np.std(distribution):.2f}.\")\n",
    "parametersOfRandomSampleMeanOfAges(10.44, 9.2, 5)\n",
    "parametersOfRandomSampleMeanOfAges(10.44, 9.2, 30)\n",
    "parametersOfRandomSampleMeanOfAges(10.44, 9.2, 100)\n",
    "\n",
    "# The sampling tend to be similar to the results shown in the document. We could\n",
    "# use matplotlib to plot the results and they would likely be similar distributions."
   ]
  },
  {
   "cell_type": "code",
   "execution_count": 16,
   "metadata": {},
   "outputs": [
    {
     "name": "stdout",
     "output_type": "stream",
     "text": [
      "The probability of getting a weight less than 2.4 is 0.00042906033319683263 (very small)\n",
      "\n",
      "Sample size 10\n",
      "Mean 2.50\n",
      "Std 0.02.\n",
      "\n",
      "The proabbility of the mean of 10 random pennies to be less\n",
      "than 2.4 is [4.60054039e-01 9.91400696e-01 1.48065375e-14]\n"
     ]
    }
   ],
   "source": [
    "# Exercise 2\n",
    "# 2.1 Calculating the probability that a random penny weights less than 2.4 grams\n",
    "def probabilityOfWeightingLessThan(threshold):      \n",
    "     distribution = ss.norm(2.5, 0.03)\n",
    "     print(f\"The probability of getting a weight less than {threshold} is {distribution.cdf(threshold)} (very small)\")\n",
    "probabilityOfWeightingLessThan(2.4)\n",
    "\n",
    "# 2.2 Distribution of mean weight of 10 randomly chosen pennies (seeing forward, it should)\n",
    "# look roughly normal, because of the CLT.\n",
    "def parametersOfRandomSampleMeanOfWeights(mean, std, sampleSize):\n",
    "    randomPennyWeight = np.random.normal(mean, std, sampleSize)\n",
    "    sample = []\n",
    "    while len(sample) != sampleSize:\n",
    "        # Only having a sample of positive integers\n",
    "        randomPennyWeight = np.random.normal(mean, std, 1)\n",
    "        if randomPennyWeight >= 0:\n",
    "            sample.append(randomPennyWeight)\n",
    "    distribution = np.array(sample)\n",
    "    return np.mean(distribution), np.std(distribution), sampleSize \n",
    "print(f\"\"\"\n",
    "Sample size {parametersOfRandomSampleMeanOfWeights(2.5, 0.03, 10)[2]}\n",
    "Mean {parametersOfRandomSampleMeanOfWeights(2.5, 0.03, 10)[0]:.2f}\n",
    "Std {parametersOfRandomSampleMeanOfWeights(2.5, 0.03, 10)[1]:.2f}.\n",
    "\"\"\")\n",
    "\n",
    "# 2.3 Calculating probability that the mean weight of 10 pennies is less than 2.4g\n",
    "print(f\"\"\"The proabbility of the mean of 10 random pennies to be less\n",
    "than 2.4 is {ss.norm(parametersOfRandomSampleMeanOfWeights(2.5, 0.03, 10)).cdf(2.4)}\"\"\")\n"
   ]
  }
 ],
 "metadata": {
  "kernelspec": {
   "display_name": "Python 3",
   "language": "python",
   "name": "python3"
  },
  "language_info": {
   "codemirror_mode": {
    "name": "ipython",
    "version": 3
   },
   "file_extension": ".py",
   "mimetype": "text/x-python",
   "name": "python",
   "nbconvert_exporter": "python",
   "pygments_lexer": "ipython3",
   "version": "3.11.1"
  },
  "orig_nbformat": 4,
  "vscode": {
   "interpreter": {
    "hash": "8893b9342fbdf87db6df90644dffa06cef75745bdbce66018788be76de710825"
   }
  }
 },
 "nbformat": 4,
 "nbformat_minor": 2
}
