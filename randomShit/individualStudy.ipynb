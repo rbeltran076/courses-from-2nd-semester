{
 "cells": [
  {
   "attachments": {},
   "cell_type": "markdown",
   "metadata": {},
   "source": [
    "I am going to try being completely open, objective, and transparent in my thinking process today. I plan to come up with the most important concepts of Data Analysis, Simulation and Modelling, Statistics, physics for CS, and any other important thing I can encounter myself with along the way that I believe is important learning. i will write everything I think, learn and reason."
   ]
  },
  {
   "attachments": {},
   "cell_type": "markdown",
   "metadata": {},
   "source": [
    "## Probability things\n",
    "### Probability distributions\n",
    "These are functions. A lot of things in math, science and CS are \"modeled\" as functions, a function is a mathematical tool that allows me to enter something and get something else in return, just like a transformation of information. Input turn into output from functions.\n",
    "\n",
    "A probability distribution is a function that takes as input an outcome of an experiment, this is, an event, a situation. And outputs the probability of that particular outcome.\n",
    "For example, if we use the probability distribution function of a coin toss, and input the \"Heads\" outcome, it will output \"0.5\" as there is 50% chance of getting \"Heads\" as the outcome.\n",
    "\n",
    "\n",
    "I am starting to get distracted, to get back to reading what a random varible is after some minutes of scrolling on instagram, I just saw that a person uploaded a story and I wanted to see that. I think a lot about that person.\n",
    "\n",
    "\n",
    "### Probability mass function\n",
    "This is a subset"
   ]
  }
 ],
 "metadata": {
  "language_info": {
   "name": "python"
  },
  "orig_nbformat": 4
 },
 "nbformat": 4,
 "nbformat_minor": 2
}
