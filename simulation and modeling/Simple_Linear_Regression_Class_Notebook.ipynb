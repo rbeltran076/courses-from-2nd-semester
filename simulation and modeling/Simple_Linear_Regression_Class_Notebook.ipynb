{
  "cells": [
    {
      "cell_type": "markdown",
      "metadata": {
        "id": "Dl-e78ZcvdDn"
      },
      "source": [
        "# Simple Linear Regression Notebook\n",
        "\n",
        "In this notebook you will have all the code we will see during this session. Please, use the notebook during the session to understand how to use the code.\n",
        "\n",
        "## 1. Create the Dataset\n"
      ]
    },
    {
      "cell_type": "code",
      "execution_count": 11,
      "metadata": {
        "colab": {
          "base_uri": "https://localhost:8080/",
          "height": 206
        },
        "id": "Tc-v74jbvG3S",
        "outputId": "051873bf-29ed-491e-8d8e-2a2a04e06720"
      },
      "outputs": [
        {
          "data": {
            "text/html": [
              "<div>\n",
              "<style scoped>\n",
              "    .dataframe tbody tr th:only-of-type {\n",
              "        vertical-align: middle;\n",
              "    }\n",
              "\n",
              "    .dataframe tbody tr th {\n",
              "        vertical-align: top;\n",
              "    }\n",
              "\n",
              "    .dataframe thead th {\n",
              "        text-align: right;\n",
              "    }\n",
              "</style>\n",
              "<table border=\"1\" class=\"dataframe\">\n",
              "  <thead>\n",
              "    <tr style=\"text-align: right;\">\n",
              "      <th></th>\n",
              "      <th>drugperc</th>\n",
              "      <th>reactime</th>\n",
              "    </tr>\n",
              "  </thead>\n",
              "  <tbody>\n",
              "    <tr>\n",
              "      <th>0</th>\n",
              "      <td>1</td>\n",
              "      <td>1</td>\n",
              "    </tr>\n",
              "    <tr>\n",
              "      <th>1</th>\n",
              "      <td>2</td>\n",
              "      <td>1</td>\n",
              "    </tr>\n",
              "    <tr>\n",
              "      <th>2</th>\n",
              "      <td>3</td>\n",
              "      <td>2</td>\n",
              "    </tr>\n",
              "    <tr>\n",
              "      <th>3</th>\n",
              "      <td>4</td>\n",
              "      <td>2</td>\n",
              "    </tr>\n",
              "    <tr>\n",
              "      <th>4</th>\n",
              "      <td>5</td>\n",
              "      <td>4</td>\n",
              "    </tr>\n",
              "  </tbody>\n",
              "</table>\n",
              "</div>"
            ],
            "text/plain": [
              "   drugperc  reactime\n",
              "0         1         1\n",
              "1         2         1\n",
              "2         3         2\n",
              "3         4         2\n",
              "4         5         4"
            ]
          },
          "execution_count": 11,
          "metadata": {},
          "output_type": "execute_result"
        }
      ],
      "source": [
        "import pandas as pd\n",
        "data = pd.DataFrame({\"drugperc\":[1,2,3,4,5], # VALUES OF THE INDEPENDENT VARIABLE (X). INDEPENDENT VARIABLE COLUMN\n",
        "                     \"reactime\":[1,1,2,2,4]}) # VALUES OF THE DEPENDENT VARIABLE (Y). DEPENDENT VARIABLE COLUMN\n",
        "\n",
        "data"
      ]
    },
    {
      "cell_type": "markdown",
      "metadata": {
        "id": "cKDtzrG9wWfk"
      },
      "source": [
        "## 2. Scatterplot"
      ]
    },
    {
      "cell_type": "code",
      "execution_count": 3,
      "metadata": {
        "colab": {
          "base_uri": "https://localhost:8080/",
          "height": 497
        },
        "id": "5TChINRAwhg0",
        "outputId": "c1767ac5-bf05-4d54-f226-3982d66f840e"
      },
      "outputs": [
        {
          "data": {
            "image/png": "[encoded data removed]",
            "text/plain": [
              "<Figure size 640x480 with 1 Axes>"
            ]
          },
          "metadata": {},
          "output_type": "display_data"
        }
      ],
      "source": [
        "import matplotlib.pyplot as plt\n",
        "data.plot.scatter(x = \"drugperc\", y = \"reactime\")\n",
        "plt.show()"
      ]
    },
    {
      "cell_type": "markdown",
      "metadata": {
        "id": "RUbpQHugw2aa"
      },
      "source": [
        "## 3. The Least Squares Method"
      ]
    },
    {
      "cell_type": "code",
      "execution_count": 9,
      "metadata": {},
      "outputs": [
        {
          "name": "stdout",
          "output_type": "stream",
          "text": [
            "Requirement already satisfied: sklearn in c:\\users\\rbelt\\appdata\\local\\programs\\python\\python311\\lib\\site-packages (0.0.post1)\n",
            "Note: you may need to restart the kernel to use updated packages.\n"
          ]
        }
      ],
      "source": []
    },
    {
      "cell_type": "code",
      "execution_count": 13,
      "metadata": {
        "colab": {
          "base_uri": "https://localhost:8080/"
        },
        "id": "40jOTrX3w21v",
        "outputId": "e2d59c57-aa0c-40d1-a682-515faba1b5c0"
      },
      "outputs": [
        {
          "name": "stdout",
          "output_type": "stream",
          "text": [
            "Coefficients: [0.7]\n",
            "Intercept: -0.09999999999999964\n"
          ]
        }
      ],
      "source": [
        "from sklearn.linear_model import LinearRegression\n",
        "import numpy as np\n",
        "\n",
        "# Select the predictors and the target\n",
        "target = data[\"reactime\"]\n",
        "predictors = data.drop(\"reactime\", axis=1)\n",
        "\n",
        "# Linear Regression Object\n",
        "reg = LinearRegression()\n",
        "\n",
        "# Model Estimation\n",
        "reg.fit(predictors, target)\n",
        "\n",
        "# Show coefficients of the model\n",
        "coefficients = reg.coef_\n",
        "intercept = reg.intercept_\n",
        "print('Coefficients:', coefficients)\n",
        "print('Intercept:', intercept)"
      ]
    },
    {
      "cell_type": "markdown",
      "metadata": {
        "id": "llPehmbUH5OZ"
      },
      "source": [
        "Statsmodel library offers most of the statistics we will need to interpret in this sessions. That's why we will also use this library to extract statistical information about our models."
      ]
    },
    {
      "cell_type": "code",
      "execution_count": 6,
      "metadata": {
        "colab": {
          "base_uri": "https://localhost:8080/"
        },
        "id": "QE0n1UE07pQa",
        "outputId": "3ca4f133-246b-4cf5-8b47-b7cb8aa857a4"
      },
      "outputs": [
        {
          "name": "stdout",
          "output_type": "stream",
          "text": [
            "                            OLS Regression Results                            \n",
            "==============================================================================\n",
            "Dep. Variable:               reactime   R-squared:                       0.817\n",
            "Model:                            OLS   Adj. R-squared:                  0.756\n",
            "Method:                 Least Squares   F-statistic:                     13.36\n",
            "Date:                Sun, 12 Mar 2023   Prob (F-statistic):             0.0354\n",
            "Time:                        08:21:10   Log-Likelihood:                -3.3094\n",
            "No. Observations:                   5   AIC:                             10.62\n",
            "Df Residuals:                       3   BIC:                             9.838\n",
            "Df Model:                           1                                         \n",
            "Covariance Type:            nonrobust                                         \n",
            "==============================================================================\n",
            "                 coef    std err          t      P>|t|      [0.025      0.975]\n",
            "------------------------------------------------------------------------------\n",
            "const         -0.1000      0.635     -0.157      0.885      -2.121       1.921\n",
            "drugperc       0.7000      0.191      3.656      0.035       0.091       1.309\n",
            "==============================================================================\n",
            "Omnibus:                          nan   Durbin-Watson:                   2.509\n",
            "Prob(Omnibus):                    nan   Jarque-Bera (JB):                0.396\n",
            "Skew:                          -0.174   Prob(JB):                        0.821\n",
            "Kurtosis:                       1.667   Cond. No.                         8.37\n",
            "==============================================================================\n",
            "\n",
            "Notes:\n",
            "[1] Standard Errors assume that the covariance matrix of the errors is correctly specified.\n"
          ]
        },
        {
          "name": "stderr",
          "output_type": "stream",
          "text": [
            "/usr/local/lib/python3.9/dist-packages/statsmodels/stats/stattools.py:74: ValueWarning: omni_normtest is not valid with less than 8 observations; 5 samples were given.\n",
            "  warn(\"omni_normtest is not valid with less than 8 observations; %i \"\n"
          ]
        }
      ],
      "source": [
        "import statsmodels.api as sm\n",
        "import numpy as np\n",
        "\n",
        "# Select the predictors and the target\n",
        "target = data[\"reactime\"]\n",
        "predictors = data.drop(\"reactime\", axis=1)\n",
        "\n",
        "# Add a column of ones to X for the intercept\n",
        "predictors = sm.add_constant(predictors)\n",
        "\n",
        "# Fit the model using statsmodels\n",
        "model = sm.OLS(target, predictors).fit()\n",
        "\n",
        "# Get a summary of the regression results\n",
        "print(model.summary())"
      ]
    },
    {
      "cell_type": "markdown",
      "metadata": {
        "id": "kpwSpk0nzSLC"
      },
      "source": [
        "## 4. Measures of the Error"
      ]
    },
    {
      "cell_type": "code",
      "execution_count": 21,
      "metadata": {
        "colab": {
          "base_uri": "https://localhost:8080/"
        },
        "id": "i_rL_ydF0MLR",
        "outputId": "183dbcdf-a930-4e74-c153-4bd071fa3846"
      },
      "outputs": [
        {
          "name": "stdout",
          "output_type": "stream",
          "text": [
            "SSE: 1.1\n",
            "RSE: 0.606\n",
            "Mean Error: 30.277\n"
          ]
        }
      ],
      "source": [
        "# We need to calculate or extract this information from the model object\n",
        "sse = model.ssr\n",
        "rse = np.sqrt(model.mse_resid) # it is also = np.sqrt(sse/n-2), being n = 3 in this case\n",
        "mean_error = (rse/data[\"reactime\"].mean())*100\n",
        "\n",
        "print(\"SSE:\",round(model.ssr, 3))\n",
        "print(\"RSE:\",round(np.sqrt(model.mse_resid), 3))\n",
        "print(\"Mean Error:\",round(mean_error, 3))"
      ]
    },
    {
      "cell_type": "markdown",
      "metadata": {
        "id": "8WIS_QUYBbLl"
      },
      "source": [
        "## 5. Inferences about the Slope"
      ]
    },
    {
      "cell_type": "code",
      "execution_count": 27,
      "metadata": {
        "colab": {
          "base_uri": "https://localhost:8080/"
        },
        "id": "3N8z542OCSoG",
        "outputId": "49cac3e4-d461-4e2c-9350-67f80a8d999c"
      },
      "outputs": [
        {
          "name": "stdout",
          "output_type": "stream",
          "text": [
            "                            OLS Regression Results                            \n",
            "==============================================================================\n",
            "Dep. Variable:               reactime   R-squared:                       0.817\n",
            "Model:                            OLS   Adj. R-squared:                  0.756\n",
            "Method:                 Least Squares   F-statistic:                     13.36\n",
            "Date:                Sun, 12 Mar 2023   Prob (F-statistic):             0.0354\n",
            "Time:                        08:56:45   Log-Likelihood:                -3.3094\n",
            "No. Observations:                   5   AIC:                             10.62\n",
            "Df Residuals:                       3   BIC:                             9.838\n",
            "Df Model:                           1                                         \n",
            "Covariance Type:            nonrobust                                         \n",
            "==============================================================================\n",
            "                 coef    std err          t      P>|t|      [0.025      0.975]\n",
            "------------------------------------------------------------------------------\n",
            "const         -0.1000      0.635     -0.157      0.885      -2.121       1.921\n",
            "drugperc       0.7000      0.191      3.656      0.035       0.091       1.309\n",
            "==============================================================================\n",
            "Omnibus:                          nan   Durbin-Watson:                   2.509\n",
            "Prob(Omnibus):                    nan   Jarque-Bera (JB):                0.396\n",
            "Skew:                          -0.174   Prob(JB):                        0.821\n",
            "Kurtosis:                       1.667   Cond. No.                         8.37\n",
            "==============================================================================\n",
            "\n",
            "Notes:\n",
            "[1] Standard Errors assume that the covariance matrix of the errors is correctly specified.\n"
          ]
        },
        {
          "name": "stderr",
          "output_type": "stream",
          "text": [
            "/usr/local/lib/python3.9/dist-packages/statsmodels/stats/stattools.py:74: ValueWarning: omni_normtest is not valid with less than 8 observations; 5 samples were given.\n",
            "  warn(\"omni_normtest is not valid with less than 8 observations; %i \"\n"
          ]
        }
      ],
      "source": [
        "# We already have the p value information in the summary object\n",
        "print(model.summary())"
      ]
    },
    {
      "cell_type": "code",
      "execution_count": 26,
      "metadata": {
        "colab": {
          "base_uri": "https://localhost:8080/"
        },
        "id": "vv5gjNrHBfzD",
        "outputId": "1af6e355-1008-4516-e6e8-6c5a79b9473e"
      },
      "outputs": [
        {
          "name": "stdout",
          "output_type": "stream",
          "text": [
            "p-value two tailed test: 0.035\n",
            "p-value upper tailed test: 0.018\n",
            "p-value lower tailed test: 0.982\n"
          ]
        }
      ],
      "source": [
        "# But we can also extract this information from the model object \n",
        "# and calculate the Upper and Lower tailed p-values as follows\n",
        "p_slope = model.pvalues[1]\n",
        "p_slope_u = p_slope/2\n",
        "p_slope_l = 1-p_slope_u\n",
        "\n",
        "print(\"p-value two tailed test:\", round(p_slope,3))\n",
        "print(\"p-value upper tailed test:\", round(p_slope_u,3))\n",
        "print(\"p-value lower tailed test:\", round(p_slope_l,3))"
      ]
    },
    {
      "cell_type": "markdown",
      "metadata": {
        "id": "PRioue41DyRa"
      },
      "source": [
        "## 6. Correlation and Determination Coefficients"
      ]
    },
    {
      "cell_type": "code",
      "execution_count": 32,
      "metadata": {
        "colab": {
          "base_uri": "https://localhost:8080/"
        },
        "id": "_Hlphhx5EPGl",
        "outputId": "53e337c2-d753-42c8-d95b-9b2ecff6a7ed"
      },
      "outputs": [
        {
          "name": "stdout",
          "output_type": "stream",
          "text": [
            "R-squared: 0.817\n",
            "Correlation: 0.904\n"
          ]
        }
      ],
      "source": [
        "# Using the formulas from previous calculations we know that\n",
        "# the SSyy = 6 and the SSE = 1.1\n",
        "SSE = 1.1 # previously stated as sse\n",
        "SSyy = np.sum((data[\"reactime\"]-data[\"reactime\"].mean())**2)\n",
        "rsquared = 1 - SSE/SSyy\n",
        "r = np.sqrt(rsquared)\n",
        "print(\"R-squared:\", round(rsquared,3))\n",
        "print(\"Correlation:\", round(r,3))"
      ]
    },
    {
      "cell_type": "code",
      "execution_count": 33,
      "metadata": {
        "colab": {
          "base_uri": "https://localhost:8080/"
        },
        "id": "dgSDT02VFTmX",
        "outputId": "55b6214d-061e-493d-adb8-442b638a0db8"
      },
      "outputs": [
        {
          "name": "stdout",
          "output_type": "stream",
          "text": [
            "                            OLS Regression Results                            \n",
            "==============================================================================\n",
            "Dep. Variable:               reactime   R-squared:                       0.817\n",
            "Model:                            OLS   Adj. R-squared:                  0.756\n",
            "Method:                 Least Squares   F-statistic:                     13.36\n",
            "Date:                Sun, 12 Mar 2023   Prob (F-statistic):             0.0354\n",
            "Time:                        09:09:52   Log-Likelihood:                -3.3094\n",
            "No. Observations:                   5   AIC:                             10.62\n",
            "Df Residuals:                       3   BIC:                             9.838\n",
            "Df Model:                           1                                         \n",
            "Covariance Type:            nonrobust                                         \n",
            "==============================================================================\n",
            "                 coef    std err          t      P>|t|      [0.025      0.975]\n",
            "------------------------------------------------------------------------------\n",
            "const         -0.1000      0.635     -0.157      0.885      -2.121       1.921\n",
            "drugperc       0.7000      0.191      3.656      0.035       0.091       1.309\n",
            "==============================================================================\n",
            "Omnibus:                          nan   Durbin-Watson:                   2.509\n",
            "Prob(Omnibus):                    nan   Jarque-Bera (JB):                0.396\n",
            "Skew:                          -0.174   Prob(JB):                        0.821\n",
            "Kurtosis:                       1.667   Cond. No.                         8.37\n",
            "==============================================================================\n",
            "\n",
            "Notes:\n",
            "[1] Standard Errors assume that the covariance matrix of the errors is correctly specified.\n"
          ]
        },
        {
          "name": "stderr",
          "output_type": "stream",
          "text": [
            "/usr/local/lib/python3.9/dist-packages/statsmodels/stats/stattools.py:74: ValueWarning: omni_normtest is not valid with less than 8 observations; 5 samples were given.\n",
            "  warn(\"omni_normtest is not valid with less than 8 observations; %i \"\n"
          ]
        }
      ],
      "source": [
        "# The summary only provides the R-squared\n",
        "print(model.summary())"
      ]
    },
    {
      "cell_type": "code",
      "execution_count": 36,
      "metadata": {
        "colab": {
          "base_uri": "https://localhost:8080/"
        },
        "id": "ONJj7GArFZ8g",
        "outputId": "2966a758-7c86-4015-9c1f-c971e310a78b"
      },
      "outputs": [
        {
          "name": "stdout",
          "output_type": "stream",
          "text": [
            "Correlation: 0.904\n"
          ]
        }
      ],
      "source": [
        "# But we can also extract it from the model object to calculate r\n",
        "r = np.sqrt(model.rsquared)\n",
        "print(\"Correlation:\", round(r,3))"
      ]
    },
    {
      "cell_type": "markdown",
      "metadata": {
        "id": "6cJWGGdEHOuV"
      },
      "source": [
        "## 7. AIC and BIC Statistics"
      ]
    },
    {
      "cell_type": "code",
      "execution_count": 38,
      "metadata": {
        "colab": {
          "base_uri": "https://localhost:8080/"
        },
        "id": "x1VBL4NCHPoq",
        "outputId": "bc0c1e38-b9c6-40fd-f544-0655a3a1e4d4"
      },
      "outputs": [
        {
          "name": "stdout",
          "output_type": "stream",
          "text": [
            "AIC: 10.619\n",
            "BIC: 9.838\n"
          ]
        }
      ],
      "source": [
        "# We have these two in the model attributes\n",
        "AIC = model.aic\n",
        "BIC = model.bic\n",
        "\n",
        "print(\"AIC:\", round(AIC,3))\n",
        "print(\"BIC:\", round(BIC,3))"
      ]
    },
    {
      "cell_type": "markdown",
      "metadata": {
        "id": "qUAG16haHnU7"
      },
      "source": [
        "## 8. Estimation and Prediction"
      ]
    },
    {
      "cell_type": "code",
      "execution_count": 40,
      "metadata": {
        "colab": {
          "base_uri": "https://localhost:8080/"
        },
        "id": "hbcbfF_vIp--",
        "outputId": "9a4b204d-6938-40e6-99ce-72aba201232f"
      },
      "outputs": [
        {
          "name": "stdout",
          "output_type": "stream",
          "text": [
            "   drugperc  reactime  reactime_pred\n",
            "0         1         1            0.6\n",
            "1         2         1            1.3\n",
            "2         3         2            2.0\n",
            "3         4         2            2.7\n",
            "4         5         4            3.4\n"
          ]
        }
      ],
      "source": [
        "target_pred = model.predict(predictors)\n",
        "data[\"reactime_pred\"] = target_pred\n",
        "print(data)"
      ]
    },
    {
      "cell_type": "code",
      "execution_count": 45,
      "metadata": {
        "colab": {
          "base_uri": "https://localhost:8080/",
          "height": 483
        },
        "id": "35doBvRUJZWF",
        "outputId": "df3f855f-231a-4a5e-b2c1-a0a3cac9f830"
      },
      "outputs": [
        {
          "data": {
            "image/png": "[encoded data removed]",
            "text/plain": [
              "<Figure size 720x576 with 1 Axes>"
            ]
          },
          "metadata": {
            "needs_background": "light"
          },
          "output_type": "display_data"
        }
      ],
      "source": [
        "data[\"residuals\"] = model.resid\n",
        "data[\"residuals\"].plot.hist(bins = 4,figsize=(10,8))\n",
        "plt.show()"
      ]
    },
    {
      "cell_type": "code",
      "execution_count": 62,
      "metadata": {
        "colab": {
          "base_uri": "https://localhost:8080/"
        },
        "id": "aNVsZHFsKXg-",
        "outputId": "7a6a0535-9b55-440d-e055-4118c44cc1ac"
      },
      "outputs": [
        {
          "data": {
            "text/plain": [
              "0.4690415759823429"
            ]
          },
          "execution_count": 62,
          "metadata": {},
          "output_type": "execute_result"
        }
      ],
      "source": [
        "np.std(model.resid)"
      ]
    },
    {
      "cell_type": "code",
      "execution_count": 57,
      "metadata": {
        "colab": {
          "base_uri": "https://localhost:8080/"
        },
        "id": "4WWBtOpoLdZm",
        "outputId": "7b8e80f3-051e-4e49-ebdf-916d1e02dc17"
      },
      "outputs": [
        {
          "name": "stdout",
          "output_type": "stream",
          "text": [
            "Predicted values:\n",
            " 0    2.7\n",
            "1    4.1\n",
            "Name: mean, dtype: float64\n",
            "95% confidence intervals:\n",
            "    mean_ci_lower  mean_ci_upper\n",
            "0       1.644502       3.755498\n",
            "1       2.078875       6.121125\n"
          ]
        }
      ],
      "source": [
        "# Create the new_data object with new info about the IV.\n",
        "new_data = np.array([4,6])\n",
        "new_data = sm.add_constant(new_data)\n",
        "\n",
        "# Get prediction results with 95% confidence interval for mean predictions\n",
        "pred_results = model.get_prediction(new_data).summary_frame(alpha=0.05)\n",
        "\n",
        "# Print the predicted values and confidence intervals\n",
        "print('Predicted values:\\n', pred_results['mean'])\n",
        "print('95% confidence intervals:\\n', pred_results[['mean_ci_lower', 'mean_ci_upper']])"
      ]
    },
    {
      "cell_type": "code",
      "execution_count": 60,
      "metadata": {
        "colab": {
          "base_uri": "https://localhost:8080/"
        },
        "id": "KbkrFefQN7P-",
        "outputId": "43b292a6-bb05-4706-e7a3-d9e90787b332"
      },
      "outputs": [
        {
          "name": "stdout",
          "output_type": "stream",
          "text": [
            "95% prediction interval:\n",
            " obs_ci_lower    0.502806\n",
            "obs_ci_upper    4.897194\n",
            "Name: 0, dtype: float64\n"
          ]
        }
      ],
      "source": [
        "# Print the prediction interval\n",
        "print('95% prediction interval:\\n', pred_results[['obs_ci_lower', 'obs_ci_upper']].iloc[0])"
      ]
    }
  ],
  "metadata": {
    "colab": {
      "provenance": []
    },
    "kernelspec": {
      "display_name": "Python 3",
      "name": "python3"
    },
    "language_info": {
      "codemirror_mode": {
        "name": "ipython",
        "version": 3
      },
      "file_extension": ".py",
      "mimetype": "text/x-python",
      "name": "python",
      "nbconvert_exporter": "python",
      "pygments_lexer": "ipython3",
      "version": "3.11.1"
    }
  },
  "nbformat": 4,
  "nbformat_minor": 0
}
