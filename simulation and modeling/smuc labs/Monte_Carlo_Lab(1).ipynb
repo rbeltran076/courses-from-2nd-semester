{
  "cells": [
    {
      "cell_type": "markdown",
      "metadata": {
        "id": "ngqO8AwASH-f"
      },
      "source": [
        "# Playing the Roulette Experiment\n",
        "\n",
        "Consider a European-style roulette which includes numbers between 0 and 36. In roulette there are many different betting alternatives but we consider here the simplest case where we bet on a single number. If we pick the right number then we win 35 times what we bet.\n",
        "\n",
        "Consider the following scenario: \n",
        "* We start playing roulette with a fixed budget.\n",
        "* Every spin of the roulette costs one unit of budget. \n",
        "* We play until we run out of budget and we always bet on the same number. \n",
        "\n",
        "Create a function called `roulette` that implements this game. It takes two inputs: the budget and the number we decided to play all the time. It outputs our budget throughout the whole game until it ends."
      ]
    },
    {
      "cell_type": "code",
      "execution_count": 34,
      "metadata": {
        "id": "A_ajOejiSFA5"
      },
      "outputs": [],
      "source": [
        "# code here"
      ]
    },
    {
      "cell_type": "markdown",
      "metadata": {
        "id": "snG9VvRQSfgi"
      },
      "source": [
        "Let’s play one game with a budget of 15 and betting on the number 8. Use your new function applying these two parameters with a seed of `2023`."
      ]
    },
    {
      "cell_type": "code",
      "execution_count": 35,
      "metadata": {
        "id": "d2IX8PQjSn89"
      },
      "outputs": [],
      "source": [
        "# code here"
      ]
    },
    {
      "cell_type": "markdown",
      "metadata": {
        "id": "8yM6Hvh7Sy3W"
      },
      "source": [
        "We can ask ourselves many questions about such a game. For instance:\n",
        "\n",
        "* What is the probability that the game last exactly 15 spins if I start with a budget of 15 and bet on the number 8?\n",
        "* What is the average length of the game starting with a budget of 15 and betting on the number 8?\n",
        "* What is the average maximum wealth I have during a game started with a budget of 15 and betting on the number 8?\n",
        "\n",
        "We will develop various Monte Carlo experiments to answer all the above questions. In each case, we simply need to modify the function roulette to output some summary about the game.\n",
        "\n",
        "**What is the probability that the game last exactly 15 spins if I start with a budget of 15 and bet on the number 8?**\n",
        "\n",
        "If a game where I started with a budget of 15 ends after 15 spins, it means that the number 8 never showed up. We can adapt the function roulette to output `True` if the length of a new vector `wealth` that tracks the money we have is exactly equal to `budget` (this would be the same as having the same budget as games played)."
      ]
    },
    {
      "cell_type": "code",
      "execution_count": 36,
      "metadata": {
        "id": "06QlWa_RTx3q"
      },
      "outputs": [],
      "source": [
        "# code here"
      ]
    },
    {
      "cell_type": "markdown",
      "metadata": {
        "id": "1LxfBo_nTzIv"
      },
      "source": [
        "So if we execute the new function we should obtain either a True or a False."
      ]
    },
    {
      "cell_type": "code",
      "execution_count": 37,
      "metadata": {
        "id": "H1Bo_AoQT4ee"
      },
      "outputs": [],
      "source": [
        "# code here"
      ]
    },
    {
      "cell_type": "markdown",
      "metadata": {
        "id": "qA1IQQPMT5cl"
      },
      "source": [
        "Let’s replicate the experiment 1000 times. The proportion of True we observe is our estimate of this probability."
      ]
    },
    {
      "cell_type": "code",
      "execution_count": 38,
      "metadata": {
        "id": "_YjQxndeUEmO"
      },
      "outputs": [],
      "source": [
        "# code here"
      ]
    },
    {
      "cell_type": "markdown",
      "metadata": {
        "id": "3HrxVkGiUbHh"
      },
      "source": [
        "[INTERPRET HERE THE RESULTS OF THE EXPERIMENT AT THIS POINT]"
      ]
    },
    {
      "cell_type": "markdown",
      "metadata": {
        "id": "hISXI4BLUPTa"
      },
      "source": [
        "Notice that actually we could have also computed this probability exactly. How can we do this using the Random Variables studied in class?"
      ]
    },
    {
      "cell_type": "code",
      "execution_count": 39,
      "metadata": {
        "id": "B2J_mVDJUUYF"
      },
      "outputs": [],
      "source": [
        "# code here"
      ]
    },
    {
      "cell_type": "markdown",
      "metadata": {
        "id": "6U70LLxfUkDf"
      },
      "source": [
        "**Question**: Are we correctly approximating well this probability? [ANSWER HERE THE QUESTION]"
      ]
    },
    {
      "cell_type": "markdown",
      "metadata": {
        "id": "9JWiQdJHUrpG"
      },
      "source": [
        "**What is the average length of the game starting with a budget of 15 and betting on the number 8?**\n",
        "\n",
        "We can answer this question by adapting the roulette function to output the length of the vector wealth."
      ]
    },
    {
      "cell_type": "code",
      "execution_count": 40,
      "metadata": {
        "id": "1jrf-rcQU_A1"
      },
      "outputs": [],
      "source": [
        "# code here"
      ]
    },
    {
      "cell_type": "markdown",
      "metadata": {
        "id": "zwR4ZBhrVABA"
      },
      "source": [
        "Let’s replicate the experiment 1000 times and summarize the results with a plot (it may take some time to run the code!)"
      ]
    },
    {
      "cell_type": "code",
      "execution_count": 41,
      "metadata": {
        "id": "sxbEaGaCVI0_"
      },
      "outputs": [],
      "source": [
        "# code here"
      ]
    },
    {
      "cell_type": "markdown",
      "metadata": {
        "id": "h7APkc57VLnl"
      },
      "source": [
        "[INTERPRET HERE THE RESULTS IN THE PLOT]"
      ]
    },
    {
      "cell_type": "markdown",
      "metadata": {
        "id": "dFU0FCPfVTBU"
      },
      "source": [
        "Because of the distribution we are obtaining we should use a specific measure as the central tendency measurement. Calculate that central tendency statistic and explain this result."
      ]
    },
    {
      "cell_type": "code",
      "execution_count": 42,
      "metadata": {
        "id": "6oJ5nhWFVuS4"
      },
      "outputs": [],
      "source": [
        "# code here"
      ]
    },
    {
      "cell_type": "markdown",
      "metadata": {
        "id": "P4aGngGiVweO"
      },
      "source": [
        "[WRITE YOUR ANSWER HERE]"
      ]
    },
    {
      "cell_type": "markdown",
      "metadata": {
        "id": "0S0xnyC7Vz-M"
      },
      "source": [
        "**What is the average maximum wealth we have during a game started with a budget of 15 and betting on the number 8?**\n",
        "\n",
        "We can answer this question by adapting the roulette function to output the maximum of the vector `wealth`."
      ]
    },
    {
      "cell_type": "code",
      "execution_count": 43,
      "metadata": {
        "id": "TTr4NZ7IWBfT"
      },
      "outputs": [],
      "source": [
        "# code here"
      ]
    },
    {
      "cell_type": "markdown",
      "metadata": {
        "id": "BnqChymqWE5E"
      },
      "source": [
        "Again, replicate the experiment, aggregate the results and explain what you have obtained."
      ]
    },
    {
      "cell_type": "code",
      "execution_count": 44,
      "metadata": {
        "id": "pvUCoEo5WQEM"
      },
      "outputs": [],
      "source": [
        "# code here"
      ]
    },
    {
      "cell_type": "markdown",
      "metadata": {
        "id": "9tGDjXwcWRJL"
      },
      "source": [
        "[RESULTS INTERPRETATION]"
      ]
    },
    {
      "cell_type": "markdown",
      "metadata": {
        "id": "UNHmQ9PGWWD3"
      },
      "source": [
        "# Two samples t-test Experiment\n",
        "\n",
        "In just a few minutes we can simulate thousands of experiments using Monte Carlo Simulation. In real life any one of these experiments might take weeks or months to be conducted.\n",
        "\n",
        "A Monte Carlo t-test is therefore simply a repetitive simulation of a random sample and statistical testing performed on it. \n",
        "\n",
        "You will have to create a Monte Carlo experiment that generates a random sample, performs a t-test, and calculates a p-value associated to that t-test.\n",
        "\n",
        "Hundreds or thousands of these cycles should be runned for a given simulation. You will calculate the long-run success of an experiment based upon a set of assumptions.\n",
        "\n",
        "## Information in the experiment:\n",
        "\n",
        "Let us imagine that we are carrying out a study with a medical team, and we want to measure the difference in means between smokers and non-smokers in the RWT variable (an echocardiography parameter that helps us to identify possible myocardial infarcts).\n",
        "\n",
        "These doctors ask us to simulate different samples to determine how many patients should be used for the study, ensuring a p-value lower than 0.05. They tell us that, according to the scientific literature, the average RWT (a normally distributed variable) for non-smokers is 1.98 (SD = 0.25) and 2.12 (SD = 0.18) for smokers. They also tell us they are going to control the number of patients in each group, so there will be half smokers and half non-smokers.\n",
        "\n",
        "Remember the steps to follow in any Monte Carlo simulation:\n",
        "\n",
        "* Define the domain of the variables to be simulated.\n",
        "* Choose the appropriate distribution to generate random numbers for each of your variables.\n",
        "* Determine the statistic of interest for your study (hint: in this case it is specified in the exercise).\n",
        "* Aggregate the results of several replicates and summarize them.\n",
        "\n",
        "## Instructions of the experiment\n",
        "\n",
        "1. You have to generate, using the tools that we have learned, the response of two samples of people (smokers and non-smokers) in a echocardiographic variable named RWT (we don't care too much about the meaning of this variable, but RWT is for Relative Wall Thickness of the Hart) given some predefined parameters (mean and sd) for each group. The sample size at the beginning is not important, since this will be a variable that will vary in future steps.\n",
        "2. Secondly, you should use the results of that variables you have simulated to compute a t-test that compares the means of the two groups. At this point we are interested in the p-value that results from this analysis.\n",
        "3. Thirdly, you have to store in a function all that experiment, since we will replicate the experiment at least 100 times. \n",
        "4. Once you have your function, you will have to replicate the experiment 100 times for different sample sizes (that's why we said before that the sample size will vary). You can do it for a sequence of sample sizes in between 5 and 100 people in each group.\n",
        "5. Finally, you have to aggregate the results of the 100 replicas in each sample size and summarize and interpret everything so we can answer to the main question of this study: **What is the minimum sample size we will need to perform the medical experiment with a significant p-value?**\n",
        "\n",
        "This second part of the lab is non-guided, but you can always ask your professor if you have any doubt about the experiment."
      ]
    },
    {
      "cell_type": "code",
      "execution_count": 54,
      "metadata": {
        "id": "lMN2uKwwb-ju"
      },
      "outputs": [],
      "source": [
        "import numpy as np\n",
        "import matplotlib as plt\n",
        "from scipy.stats import norm\n",
        "import random\n",
        "import simpy\n",
        "\n",
        "# Function that generates an array of 10 random Relative Wall Thikness for a random smoker (using random library)\n",
        "def RWTOfRandomSmoker(sampleSize):\n",
        "    return np.random.normal(2.12, 0.18, sampleSize) # Smoker data\n",
        "\n",
        "# Function that generates an array of 10 random Relative Wall Thikness for a random non-smoker (using random library)\n",
        "def RWTOfRandomNonSmoker(sampleSize):\n",
        "    return np.random.normal(1.98, 0.25, sampleSize) # Non smoker data\n",
        "\n",
        "\n",
        "# set variable names for each random sample \n",
        "# This is not necessary if the values are already in \n",
        "# nonSmokerSample, smokerSample = RWTOfRandomNonSmoker(), RWTOfRandomSmoker()"
      ]
    },
    {
      "cell_type": "code",
      "execution_count": 106,
      "metadata": {},
      "outputs": [
        {
          "data": {
            "text/plain": [
              "0.7473733290888769"
            ]
          },
          "execution_count": 106,
          "metadata": {},
          "output_type": "execute_result"
        }
      ],
      "source": [
        "# Obtain the results of the simulation of a t-test\n",
        "# Each run will give a different p value because the functions are\n",
        "# being called every time this function runs.\n",
        "\n",
        "def experiment(sampleSize):\n",
        "    from scipy.stats import ttest_ind\n",
        "    statistic, pvalue = ttest_ind(RWTOfRandomNonSmoker(sampleSize), RWTOfRandomSmoker(sampleSize))\n",
        "    return pvalue\n",
        "# Conduct the experiment with a sample size of 10 in each group\n",
        "experiment(10)"
      ]
    },
    {
      "cell_type": "code",
      "execution_count": 130,
      "metadata": {},
      "outputs": [
        {
          "name": "stdout",
          "output_type": "stream",
          "text": [
            "The minimum sample size is around 5\n"
          ]
        }
      ],
      "source": [
        "# Create a list named pvalues\n",
        "pvalues = []\n",
        "sampleSizes = []\n",
        "\n",
        "# Execute the experiment 100 times with different, random sample sizes\n",
        "# Between the numbers 5 and 100\n",
        "def manyExperiments():\n",
        "    # Call the pvalues list from outside the function\n",
        "    global pvalues\n",
        "    global sampleSizes\n",
        "    # doing the experiment 100 times\n",
        "    for i in range(100):\n",
        "        # Generate a random sampleSize for this iteration\n",
        "        sampleSize = random.randint(5, 100)\n",
        "        # Append to the pvalues list the each significant pvalue \n",
        "        pvalue = experiment(sampleSize)\n",
        "        if pvalue <= 0.05:\n",
        "            pvalues.append(pvalue)\n",
        "            sampleSizes.append(sampleSize)\n",
        "manyExperiments()\n",
        "\n",
        "# Print the answer of the minimum p value significant sample size\n",
        "print(f\"The minimum sample size is around {min(sampleSizes)}\")"
      ]
    }
  ],
  "metadata": {
    "colab": {
      "provenance": []
    },
    "kernelspec": {
      "display_name": "Python 3",
      "language": "python",
      "name": "python3"
    },
    "language_info": {
      "codemirror_mode": {
        "name": "ipython",
        "version": 3
      },
      "file_extension": ".py",
      "mimetype": "text/x-python",
      "name": "python",
      "nbconvert_exporter": "python",
      "pygments_lexer": "ipython3",
      "version": "3.11.1"
    },
    "vscode": {
      "interpreter": {
        "hash": "8893b9342fbdf87db6df90644dffa06cef75745bdbce66018788be76de710825"
      }
    }
  },
  "nbformat": 4,
  "nbformat_minor": 0
}
