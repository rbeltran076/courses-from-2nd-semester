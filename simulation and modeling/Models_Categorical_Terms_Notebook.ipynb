{
  "cells": [
    {
      "cell_type": "markdown",
      "metadata": {
        "id": "oMdWFGstb4R7"
      },
      "source": [
        "# Models with Categorical Variables\n",
        "\n",
        "We start simulating a dataframe to explain the different functions we will use for fitting a linear model with categorical terms."
      ]
    },
    {
      "cell_type": "code",
      "execution_count": 1,
      "metadata": {
        "colab": {
          "base_uri": "https://localhost:8080/",
          "height": 424
        },
        "id": "8YyR2DzvKavm",
        "outputId": "df5cfd84-9c10-4839-e74c-c99f67157cb3"
      },
      "outputs": [
        {
          "data": {
            "text/html": [
              "<div>\n",
              "<style scoped>\n",
              "    .dataframe tbody tr th:only-of-type {\n",
              "        vertical-align: middle;\n",
              "    }\n",
              "\n",
              "    .dataframe tbody tr th {\n",
              "        vertical-align: top;\n",
              "    }\n",
              "\n",
              "    .dataframe thead th {\n",
              "        text-align: right;\n",
              "    }\n",
              "</style>\n",
              "<table border=\"1\" class=\"dataframe\">\n",
              "  <thead>\n",
              "    <tr style=\"text-align: right;\">\n",
              "      <th></th>\n",
              "      <th>Annual_Salary</th>\n",
              "      <th>Early_Career_Pay</th>\n",
              "      <th>Public_or_Private</th>\n",
              "      <th>Reputation_Score</th>\n",
              "    </tr>\n",
              "  </thead>\n",
              "  <tbody>\n",
              "    <tr>\n",
              "      <th>0</th>\n",
              "      <td>52330.391168</td>\n",
              "      <td>57116.735303</td>\n",
              "      <td>0</td>\n",
              "      <td>1</td>\n",
              "    </tr>\n",
              "    <tr>\n",
              "      <th>1</th>\n",
              "      <td>40520.927758</td>\n",
              "      <td>46755.150439</td>\n",
              "      <td>1</td>\n",
              "      <td>1</td>\n",
              "    </tr>\n",
              "    <tr>\n",
              "      <th>2</th>\n",
              "      <td>47734.334911</td>\n",
              "      <td>39981.293613</td>\n",
              "      <td>1</td>\n",
              "      <td>3</td>\n",
              "    </tr>\n",
              "    <tr>\n",
              "      <th>3</th>\n",
              "      <td>67768.727483</td>\n",
              "      <td>52362.507940</td>\n",
              "      <td>1</td>\n",
              "      <td>5</td>\n",
              "    </tr>\n",
              "    <tr>\n",
              "      <th>4</th>\n",
              "      <td>47954.116941</td>\n",
              "      <td>48978.401587</td>\n",
              "      <td>1</td>\n",
              "      <td>1</td>\n",
              "    </tr>\n",
              "    <tr>\n",
              "      <th>...</th>\n",
              "      <td>...</td>\n",
              "      <td>...</td>\n",
              "      <td>...</td>\n",
              "      <td>...</td>\n",
              "    </tr>\n",
              "    <tr>\n",
              "      <th>995</th>\n",
              "      <td>30948.897374</td>\n",
              "      <td>37450.379615</td>\n",
              "      <td>0</td>\n",
              "      <td>2</td>\n",
              "    </tr>\n",
              "    <tr>\n",
              "      <th>996</th>\n",
              "      <td>65291.467850</td>\n",
              "      <td>59629.237464</td>\n",
              "      <td>0</td>\n",
              "      <td>3</td>\n",
              "    </tr>\n",
              "    <tr>\n",
              "      <th>997</th>\n",
              "      <td>55183.744078</td>\n",
              "      <td>51131.116617</td>\n",
              "      <td>1</td>\n",
              "      <td>2</td>\n",
              "    </tr>\n",
              "    <tr>\n",
              "      <th>998</th>\n",
              "      <td>59608.572030</td>\n",
              "      <td>57659.203319</td>\n",
              "      <td>1</td>\n",
              "      <td>5</td>\n",
              "    </tr>\n",
              "    <tr>\n",
              "      <th>999</th>\n",
              "      <td>56343.789771</td>\n",
              "      <td>55168.957647</td>\n",
              "      <td>0</td>\n",
              "      <td>2</td>\n",
              "    </tr>\n",
              "  </tbody>\n",
              "</table>\n",
              "<p>1000 rows × 4 columns</p>\n",
              "</div>"
            ],
            "text/plain": [
              "     Annual_Salary  Early_Career_Pay  Public_or_Private  Reputation_Score\n",
              "0     52330.391168      57116.735303                  0                 1\n",
              "1     40520.927758      46755.150439                  1                 1\n",
              "2     47734.334911      39981.293613                  1                 3\n",
              "3     67768.727483      52362.507940                  1                 5\n",
              "4     47954.116941      48978.401587                  1                 1\n",
              "..             ...               ...                ...               ...\n",
              "995   30948.897374      37450.379615                  0                 2\n",
              "996   65291.467850      59629.237464                  0                 3\n",
              "997   55183.744078      51131.116617                  1                 2\n",
              "998   59608.572030      57659.203319                  1                 5\n",
              "999   56343.789771      55168.957647                  0                 2\n",
              "\n",
              "[1000 rows x 4 columns]"
            ]
          },
          "execution_count": 1,
          "metadata": {},
          "output_type": "execute_result"
        }
      ],
      "source": [
        "import numpy as np\n",
        "import pandas as pd\n",
        "import statsmodels.api as sm\n",
        "import statsmodels.formula.api as smf\n",
        "\n",
        "# Set random seed for reproducibility\n",
        "np.random.seed(2023)\n",
        "\n",
        "# Create a simulated dataset\n",
        "n = 1000  # number of samples\n",
        "early_career_pay = np.random.normal(50000, 10000, n)\n",
        "public_or_private = np.random.randint(0, 2, n)\n",
        "reputation_score = np.random.randint(1, 6, n)\n",
        "noise = np.random.normal(0, 5000, n)\n",
        "annual_salary = 0.9 * early_career_pay + 5000 * public_or_private + 2000 * reputation_score + noise\n",
        "data = pd.DataFrame({\n",
        "    'Annual_Salary': annual_salary,\n",
        "    'Early_Career_Pay': early_career_pay,\n",
        "    'Public_or_Private': public_or_private,\n",
        "    'Reputation_Score': reputation_score\n",
        "})\n",
        "data"
      ]
    },
    {
      "cell_type": "code",
      "execution_count": 2,
      "metadata": {
        "colab": {
          "base_uri": "https://localhost:8080/",
          "height": 424
        },
        "id": "w-6SNZYXKzKQ",
        "outputId": "ceaba50e-a723-4cd7-f5cf-f1aadeed708d"
      },
      "outputs": [
        {
          "data": {
            "text/html": [
              "<div>\n",
              "<style scoped>\n",
              "    .dataframe tbody tr th:only-of-type {\n",
              "        vertical-align: middle;\n",
              "    }\n",
              "\n",
              "    .dataframe tbody tr th {\n",
              "        vertical-align: top;\n",
              "    }\n",
              "\n",
              "    .dataframe thead th {\n",
              "        text-align: right;\n",
              "    }\n",
              "</style>\n",
              "<table border=\"1\" class=\"dataframe\">\n",
              "  <thead>\n",
              "    <tr style=\"text-align: right;\">\n",
              "      <th></th>\n",
              "      <th>Annual_Salary</th>\n",
              "      <th>Early_Career_Pay</th>\n",
              "      <th>Public_or_Private_1</th>\n",
              "      <th>Reputation_Score_2</th>\n",
              "      <th>Reputation_Score_3</th>\n",
              "      <th>Reputation_Score_4</th>\n",
              "      <th>Reputation_Score_5</th>\n",
              "    </tr>\n",
              "  </thead>\n",
              "  <tbody>\n",
              "    <tr>\n",
              "      <th>0</th>\n",
              "      <td>52330.391168</td>\n",
              "      <td>57116.735303</td>\n",
              "      <td>0</td>\n",
              "      <td>0</td>\n",
              "      <td>0</td>\n",
              "      <td>0</td>\n",
              "      <td>0</td>\n",
              "    </tr>\n",
              "    <tr>\n",
              "      <th>1</th>\n",
              "      <td>40520.927758</td>\n",
              "      <td>46755.150439</td>\n",
              "      <td>1</td>\n",
              "      <td>0</td>\n",
              "      <td>0</td>\n",
              "      <td>0</td>\n",
              "      <td>0</td>\n",
              "    </tr>\n",
              "    <tr>\n",
              "      <th>2</th>\n",
              "      <td>47734.334911</td>\n",
              "      <td>39981.293613</td>\n",
              "      <td>1</td>\n",
              "      <td>0</td>\n",
              "      <td>1</td>\n",
              "      <td>0</td>\n",
              "      <td>0</td>\n",
              "    </tr>\n",
              "    <tr>\n",
              "      <th>3</th>\n",
              "      <td>67768.727483</td>\n",
              "      <td>52362.507940</td>\n",
              "      <td>1</td>\n",
              "      <td>0</td>\n",
              "      <td>0</td>\n",
              "      <td>0</td>\n",
              "      <td>1</td>\n",
              "    </tr>\n",
              "    <tr>\n",
              "      <th>4</th>\n",
              "      <td>47954.116941</td>\n",
              "      <td>48978.401587</td>\n",
              "      <td>1</td>\n",
              "      <td>0</td>\n",
              "      <td>0</td>\n",
              "      <td>0</td>\n",
              "      <td>0</td>\n",
              "    </tr>\n",
              "    <tr>\n",
              "      <th>...</th>\n",
              "      <td>...</td>\n",
              "      <td>...</td>\n",
              "      <td>...</td>\n",
              "      <td>...</td>\n",
              "      <td>...</td>\n",
              "      <td>...</td>\n",
              "      <td>...</td>\n",
              "    </tr>\n",
              "    <tr>\n",
              "      <th>995</th>\n",
              "      <td>30948.897374</td>\n",
              "      <td>37450.379615</td>\n",
              "      <td>0</td>\n",
              "      <td>1</td>\n",
              "      <td>0</td>\n",
              "      <td>0</td>\n",
              "      <td>0</td>\n",
              "    </tr>\n",
              "    <tr>\n",
              "      <th>996</th>\n",
              "      <td>65291.467850</td>\n",
              "      <td>59629.237464</td>\n",
              "      <td>0</td>\n",
              "      <td>0</td>\n",
              "      <td>1</td>\n",
              "      <td>0</td>\n",
              "      <td>0</td>\n",
              "    </tr>\n",
              "    <tr>\n",
              "      <th>997</th>\n",
              "      <td>55183.744078</td>\n",
              "      <td>51131.116617</td>\n",
              "      <td>1</td>\n",
              "      <td>1</td>\n",
              "      <td>0</td>\n",
              "      <td>0</td>\n",
              "      <td>0</td>\n",
              "    </tr>\n",
              "    <tr>\n",
              "      <th>998</th>\n",
              "      <td>59608.572030</td>\n",
              "      <td>57659.203319</td>\n",
              "      <td>1</td>\n",
              "      <td>0</td>\n",
              "      <td>0</td>\n",
              "      <td>0</td>\n",
              "      <td>1</td>\n",
              "    </tr>\n",
              "    <tr>\n",
              "      <th>999</th>\n",
              "      <td>56343.789771</td>\n",
              "      <td>55168.957647</td>\n",
              "      <td>0</td>\n",
              "      <td>1</td>\n",
              "      <td>0</td>\n",
              "      <td>0</td>\n",
              "      <td>0</td>\n",
              "    </tr>\n",
              "  </tbody>\n",
              "</table>\n",
              "<p>1000 rows × 7 columns</p>\n",
              "</div>"
            ],
            "text/plain": [
              "     Annual_Salary  Early_Career_Pay  Public_or_Private_1  Reputation_Score_2  \\\n",
              "0     52330.391168      57116.735303                    0                   0   \n",
              "1     40520.927758      46755.150439                    1                   0   \n",
              "2     47734.334911      39981.293613                    1                   0   \n",
              "3     67768.727483      52362.507940                    1                   0   \n",
              "4     47954.116941      48978.401587                    1                   0   \n",
              "..             ...               ...                  ...                 ...   \n",
              "995   30948.897374      37450.379615                    0                   1   \n",
              "996   65291.467850      59629.237464                    0                   0   \n",
              "997   55183.744078      51131.116617                    1                   1   \n",
              "998   59608.572030      57659.203319                    1                   0   \n",
              "999   56343.789771      55168.957647                    0                   1   \n",
              "\n",
              "     Reputation_Score_3  Reputation_Score_4  Reputation_Score_5  \n",
              "0                     0                   0                   0  \n",
              "1                     0                   0                   0  \n",
              "2                     1                   0                   0  \n",
              "3                     0                   0                   1  \n",
              "4                     0                   0                   0  \n",
              "..                  ...                 ...                 ...  \n",
              "995                   0                   0                   0  \n",
              "996                   1                   0                   0  \n",
              "997                   0                   0                   0  \n",
              "998                   0                   0                   1  \n",
              "999                   0                   0                   0  \n",
              "\n",
              "[1000 rows x 7 columns]"
            ]
          },
          "execution_count": 2,
          "metadata": {},
          "output_type": "execute_result"
        }
      ],
      "source": [
        "# Create dummy variables for categorical predictors\n",
        "data = pd.get_dummies(data, columns=['Public_or_Private', 'Reputation_Score'], drop_first=True)\n",
        "data"
      ]
    },
    {
      "cell_type": "markdown",
      "metadata": {
        "id": "iVCYGvO5cMNt"
      },
      "source": [
        "We can insert all the dummy variables by hand, or join the name of the columns using '+' as a separator."
      ]
    },
    {
      "cell_type": "code",
      "execution_count": 3,
      "metadata": {
        "colab": {
          "base_uri": "https://localhost:8080/",
          "height": 35
        },
        "id": "RMmcx2jbLM5T",
        "outputId": "e0286447-926c-4340-c728-ebdeac0113be"
      },
      "outputs": [
        {
          "data": {
            "text/plain": [
              "'Annual_Salary ~ Early_Career_Pay + Public_or_Private_1'"
            ]
          },
          "execution_count": 3,
          "metadata": {},
          "output_type": "execute_result"
        }
      ],
      "source": [
        "# Create the Linear Regression Model Formula\n",
        "model_formula = \"Annual_Salary ~ Early_Career_Pay + \" + \" + \".join(data.columns[2:3])\n",
        "model_formula"
      ]
    },
    {
      "cell_type": "code",
      "execution_count": 4,
      "metadata": {
        "colab": {
          "base_uri": "https://localhost:8080/"
        },
        "id": "wAsnOhxXLR1k",
        "outputId": "69c06b6e-0995-4992-a64b-b837fed05102"
      },
      "outputs": [
        {
          "name": "stdout",
          "output_type": "stream",
          "text": [
            "                            OLS Regression Results                            \n",
            "==============================================================================\n",
            "Dep. Variable:          Annual_Salary   R-squared:                       0.720\n",
            "Model:                            OLS   Adj. R-squared:                  0.719\n",
            "Method:                 Least Squares   F-statistic:                     1282.\n",
            "Date:                Tue, 28 Mar 2023   Prob (F-statistic):          2.37e-276\n",
            "Time:                        14:27:43   Log-Likelihood:                -10079.\n",
            "No. Observations:                1000   AIC:                         2.016e+04\n",
            "Df Residuals:                     997   BIC:                         2.018e+04\n",
            "Df Model:                           2                                         \n",
            "Covariance Type:            nonrobust                                         \n",
            "=======================================================================================\n",
            "                          coef    std err          t      P>|t|      [0.025      0.975]\n",
            "---------------------------------------------------------------------------------------\n",
            "Intercept            6551.0841    947.756      6.912      0.000    4691.258    8410.910\n",
            "Early_Career_Pay        0.8954      0.018     48.932      0.000       0.860       0.931\n",
            "Public_or_Private_1  4617.3050    365.515     12.632      0.000    3900.038    5334.571\n",
            "==============================================================================\n",
            "Omnibus:                        0.137   Durbin-Watson:                   2.081\n",
            "Prob(Omnibus):                  0.934   Jarque-Bera (JB):                0.206\n",
            "Skew:                           0.015   Prob(JB):                        0.902\n",
            "Kurtosis:                       2.936   Cond. No.                     2.65e+05\n",
            "==============================================================================\n",
            "\n",
            "Notes:\n",
            "[1] Standard Errors assume that the covariance matrix of the errors is correctly specified.\n",
            "[2] The condition number is large, 2.65e+05. This might indicate that there are\n",
            "strong multicollinearity or other numerical problems.\n"
          ]
        }
      ],
      "source": [
        "# Estimate the model with OLS\n",
        "model = smf.ols(formula=model_formula, data=data).fit()\n",
        "# Print the model summary\n",
        "print(model.summary())"
      ]
    },
    {
      "cell_type": "code",
      "execution_count": 5,
      "metadata": {
        "colab": {
          "base_uri": "https://localhost:8080/",
          "height": 394
        },
        "id": "JwKFtCQ8Nu5A",
        "outputId": "f3fba8f3-41f5-48ca-ae2e-a911ba653475"
      },
      "outputs": [
        {
          "ename": "FileNotFoundError",
          "evalue": "[Errno 2] No such file or directory: '/content/drive/MyDrive/FORMACIÓN/IE/ALEX/Simulation and Modeling/2022-2023/Linear Regression/4. Categorical, Interaction and Polynomial Terms/SALESADVMLR2.xlsx'",
          "output_type": "error",
          "traceback": [
            "\u001b[1;31m---------------------------------------------------------------------------\u001b[0m",
            "\u001b[1;31mFileNotFoundError\u001b[0m                         Traceback (most recent call last)",
            "Cell \u001b[1;32mIn[5], line 2\u001b[0m\n\u001b[0;32m      1\u001b[0m \u001b[39m# Import the Sales dataset\u001b[39;00m\n\u001b[1;32m----> 2\u001b[0m sales_data \u001b[39m=\u001b[39m pd\u001b[39m.\u001b[39;49mread_excel(\u001b[39m\"\u001b[39;49m\u001b[39m/content/drive/MyDrive/FORMACIÓN/IE/ALEX/Simulation and Modeling/2022-2023/Linear Regression/4. Categorical, Interaction and Polynomial Terms/SALESADVMLR2.xlsx\u001b[39;49m\u001b[39m\"\u001b[39;49m)\n\u001b[0;32m      3\u001b[0m sales_data\u001b[39m.\u001b[39mdescribe(include \u001b[39m=\u001b[39m \u001b[39m\"\u001b[39m\u001b[39mall\u001b[39m\u001b[39m\"\u001b[39m)\n",
            "File \u001b[1;32mc:\\Users\\rbelt\\AppData\\Local\\Programs\\Python\\Python311\\Lib\\site-packages\\pandas\\util\\_decorators.py:211\u001b[0m, in \u001b[0;36mdeprecate_kwarg.<locals>._deprecate_kwarg.<locals>.wrapper\u001b[1;34m(*args, **kwargs)\u001b[0m\n\u001b[0;32m    209\u001b[0m     \u001b[39melse\u001b[39;00m:\n\u001b[0;32m    210\u001b[0m         kwargs[new_arg_name] \u001b[39m=\u001b[39m new_arg_value\n\u001b[1;32m--> 211\u001b[0m \u001b[39mreturn\u001b[39;00m func(\u001b[39m*\u001b[39;49margs, \u001b[39m*\u001b[39;49m\u001b[39m*\u001b[39;49mkwargs)\n",
            "File \u001b[1;32mc:\\Users\\rbelt\\AppData\\Local\\Programs\\Python\\Python311\\Lib\\site-packages\\pandas\\util\\_decorators.py:331\u001b[0m, in \u001b[0;36mdeprecate_nonkeyword_arguments.<locals>.decorate.<locals>.wrapper\u001b[1;34m(*args, **kwargs)\u001b[0m\n\u001b[0;32m    325\u001b[0m \u001b[39mif\u001b[39;00m \u001b[39mlen\u001b[39m(args) \u001b[39m>\u001b[39m num_allow_args:\n\u001b[0;32m    326\u001b[0m     warnings\u001b[39m.\u001b[39mwarn(\n\u001b[0;32m    327\u001b[0m         msg\u001b[39m.\u001b[39mformat(arguments\u001b[39m=\u001b[39m_format_argument_list(allow_args)),\n\u001b[0;32m    328\u001b[0m         \u001b[39mFutureWarning\u001b[39;00m,\n\u001b[0;32m    329\u001b[0m         stacklevel\u001b[39m=\u001b[39mfind_stack_level(),\n\u001b[0;32m    330\u001b[0m     )\n\u001b[1;32m--> 331\u001b[0m \u001b[39mreturn\u001b[39;00m func(\u001b[39m*\u001b[39;49margs, \u001b[39m*\u001b[39;49m\u001b[39m*\u001b[39;49mkwargs)\n",
            "File \u001b[1;32mc:\\Users\\rbelt\\AppData\\Local\\Programs\\Python\\Python311\\Lib\\site-packages\\pandas\\io\\excel\\_base.py:482\u001b[0m, in \u001b[0;36mread_excel\u001b[1;34m(io, sheet_name, header, names, index_col, usecols, squeeze, dtype, engine, converters, true_values, false_values, skiprows, nrows, na_values, keep_default_na, na_filter, verbose, parse_dates, date_parser, thousands, decimal, comment, skipfooter, convert_float, mangle_dupe_cols, storage_options)\u001b[0m\n\u001b[0;32m    480\u001b[0m \u001b[39mif\u001b[39;00m \u001b[39mnot\u001b[39;00m \u001b[39misinstance\u001b[39m(io, ExcelFile):\n\u001b[0;32m    481\u001b[0m     should_close \u001b[39m=\u001b[39m \u001b[39mTrue\u001b[39;00m\n\u001b[1;32m--> 482\u001b[0m     io \u001b[39m=\u001b[39m ExcelFile(io, storage_options\u001b[39m=\u001b[39;49mstorage_options, engine\u001b[39m=\u001b[39;49mengine)\n\u001b[0;32m    483\u001b[0m \u001b[39melif\u001b[39;00m engine \u001b[39mand\u001b[39;00m engine \u001b[39m!=\u001b[39m io\u001b[39m.\u001b[39mengine:\n\u001b[0;32m    484\u001b[0m     \u001b[39mraise\u001b[39;00m \u001b[39mValueError\u001b[39;00m(\n\u001b[0;32m    485\u001b[0m         \u001b[39m\"\u001b[39m\u001b[39mEngine should not be specified when passing \u001b[39m\u001b[39m\"\u001b[39m\n\u001b[0;32m    486\u001b[0m         \u001b[39m\"\u001b[39m\u001b[39man ExcelFile - ExcelFile already has the engine set\u001b[39m\u001b[39m\"\u001b[39m\n\u001b[0;32m    487\u001b[0m     )\n",
            "File \u001b[1;32mc:\\Users\\rbelt\\AppData\\Local\\Programs\\Python\\Python311\\Lib\\site-packages\\pandas\\io\\excel\\_base.py:1652\u001b[0m, in \u001b[0;36mExcelFile.__init__\u001b[1;34m(self, path_or_buffer, engine, storage_options)\u001b[0m\n\u001b[0;32m   1650\u001b[0m     ext \u001b[39m=\u001b[39m \u001b[39m\"\u001b[39m\u001b[39mxls\u001b[39m\u001b[39m\"\u001b[39m\n\u001b[0;32m   1651\u001b[0m \u001b[39melse\u001b[39;00m:\n\u001b[1;32m-> 1652\u001b[0m     ext \u001b[39m=\u001b[39m inspect_excel_format(\n\u001b[0;32m   1653\u001b[0m         content_or_path\u001b[39m=\u001b[39;49mpath_or_buffer, storage_options\u001b[39m=\u001b[39;49mstorage_options\n\u001b[0;32m   1654\u001b[0m     )\n\u001b[0;32m   1655\u001b[0m     \u001b[39mif\u001b[39;00m ext \u001b[39mis\u001b[39;00m \u001b[39mNone\u001b[39;00m:\n\u001b[0;32m   1656\u001b[0m         \u001b[39mraise\u001b[39;00m \u001b[39mValueError\u001b[39;00m(\n\u001b[0;32m   1657\u001b[0m             \u001b[39m\"\u001b[39m\u001b[39mExcel file format cannot be determined, you must specify \u001b[39m\u001b[39m\"\u001b[39m\n\u001b[0;32m   1658\u001b[0m             \u001b[39m\"\u001b[39m\u001b[39man engine manually.\u001b[39m\u001b[39m\"\u001b[39m\n\u001b[0;32m   1659\u001b[0m         )\n",
            "File \u001b[1;32mc:\\Users\\rbelt\\AppData\\Local\\Programs\\Python\\Python311\\Lib\\site-packages\\pandas\\io\\excel\\_base.py:1525\u001b[0m, in \u001b[0;36minspect_excel_format\u001b[1;34m(content_or_path, storage_options)\u001b[0m\n\u001b[0;32m   1522\u001b[0m \u001b[39mif\u001b[39;00m \u001b[39misinstance\u001b[39m(content_or_path, \u001b[39mbytes\u001b[39m):\n\u001b[0;32m   1523\u001b[0m     content_or_path \u001b[39m=\u001b[39m BytesIO(content_or_path)\n\u001b[1;32m-> 1525\u001b[0m \u001b[39mwith\u001b[39;00m get_handle(\n\u001b[0;32m   1526\u001b[0m     content_or_path, \u001b[39m\"\u001b[39;49m\u001b[39mrb\u001b[39;49m\u001b[39m\"\u001b[39;49m, storage_options\u001b[39m=\u001b[39;49mstorage_options, is_text\u001b[39m=\u001b[39;49m\u001b[39mFalse\u001b[39;49;00m\n\u001b[0;32m   1527\u001b[0m ) \u001b[39mas\u001b[39;00m handle:\n\u001b[0;32m   1528\u001b[0m     stream \u001b[39m=\u001b[39m handle\u001b[39m.\u001b[39mhandle\n\u001b[0;32m   1529\u001b[0m     stream\u001b[39m.\u001b[39mseek(\u001b[39m0\u001b[39m)\n",
            "File \u001b[1;32mc:\\Users\\rbelt\\AppData\\Local\\Programs\\Python\\Python311\\Lib\\site-packages\\pandas\\io\\common.py:865\u001b[0m, in \u001b[0;36mget_handle\u001b[1;34m(path_or_buf, mode, encoding, compression, memory_map, is_text, errors, storage_options)\u001b[0m\n\u001b[0;32m    856\u001b[0m         handle \u001b[39m=\u001b[39m \u001b[39mopen\u001b[39m(\n\u001b[0;32m    857\u001b[0m             handle,\n\u001b[0;32m    858\u001b[0m             ioargs\u001b[39m.\u001b[39mmode,\n\u001b[1;32m   (...)\u001b[0m\n\u001b[0;32m    861\u001b[0m             newline\u001b[39m=\u001b[39m\u001b[39m\"\u001b[39m\u001b[39m\"\u001b[39m,\n\u001b[0;32m    862\u001b[0m         )\n\u001b[0;32m    863\u001b[0m     \u001b[39melse\u001b[39;00m:\n\u001b[0;32m    864\u001b[0m         \u001b[39m# Binary mode\u001b[39;00m\n\u001b[1;32m--> 865\u001b[0m         handle \u001b[39m=\u001b[39m \u001b[39mopen\u001b[39;49m(handle, ioargs\u001b[39m.\u001b[39;49mmode)\n\u001b[0;32m    866\u001b[0m     handles\u001b[39m.\u001b[39mappend(handle)\n\u001b[0;32m    868\u001b[0m \u001b[39m# Convert BytesIO or file objects passed with an encoding\u001b[39;00m\n",
            "\u001b[1;31mFileNotFoundError\u001b[0m: [Errno 2] No such file or directory: '/content/drive/MyDrive/FORMACIÓN/IE/ALEX/Simulation and Modeling/2022-2023/Linear Regression/4. Categorical, Interaction and Polynomial Terms/SALESADVMLR2.xlsx'"
          ]
        }
      ],
      "source": [
        "# Import the Sales dataset\n",
        "sales_data = pd.read_excel(\"/content/drive/MyDrive/FORMACIÓN/IE/ALEX/Simulation and Modeling/2022-2023/Linear Regression/4. Categorical, Interaction and Polynomial Terms/SALESADVMLR2.xlsx\")\n",
        "sales_data.describe(include = \"all\")"
      ]
    },
    {
      "cell_type": "code",
      "execution_count": null,
      "metadata": {
        "colab": {
          "base_uri": "https://localhost:8080/",
          "height": 206
        },
        "id": "6CnJRQ7cO_Yx",
        "outputId": "eb3e652f-3e57-4ad0-e526-9c196e9d8a76"
      },
      "outputs": [
        {
          "data": {
            "text/html": [
              "\n",
              "  <div id=\"df-156083d4-c85f-4251-b1c9-84a4028a061b\">\n",
              "    <div class=\"colab-df-container\">\n",
              "      <div>\n",
              "<style scoped>\n",
              "    .dataframe tbody tr th:only-of-type {\n",
              "        vertical-align: middle;\n",
              "    }\n",
              "\n",
              "    .dataframe tbody tr th {\n",
              "        vertical-align: top;\n",
              "    }\n",
              "\n",
              "    .dataframe thead th {\n",
              "        text-align: right;\n",
              "    }\n",
              "</style>\n",
              "<table border=\"1\" class=\"dataframe\">\n",
              "  <thead>\n",
              "    <tr style=\"text-align: right;\">\n",
              "      <th></th>\n",
              "      <th>TV</th>\n",
              "      <th>Radio</th>\n",
              "      <th>Newspaper</th>\n",
              "      <th>Sales</th>\n",
              "      <th>AdType_AdType2</th>\n",
              "      <th>AdType_AdType3</th>\n",
              "      <th>AdType_AdType4</th>\n",
              "      <th>Season_Standard</th>\n",
              "      <th>Season_Summer</th>\n",
              "      <th>Country_1</th>\n",
              "    </tr>\n",
              "  </thead>\n",
              "  <tbody>\n",
              "    <tr>\n",
              "      <th>0</th>\n",
              "      <td>230.1</td>\n",
              "      <td>37.8</td>\n",
              "      <td>69.2</td>\n",
              "      <td>22.1</td>\n",
              "      <td>0</td>\n",
              "      <td>1</td>\n",
              "      <td>0</td>\n",
              "      <td>0</td>\n",
              "      <td>0</td>\n",
              "      <td>0</td>\n",
              "    </tr>\n",
              "    <tr>\n",
              "      <th>1</th>\n",
              "      <td>44.5</td>\n",
              "      <td>39.3</td>\n",
              "      <td>45.1</td>\n",
              "      <td>10.4</td>\n",
              "      <td>1</td>\n",
              "      <td>0</td>\n",
              "      <td>0</td>\n",
              "      <td>1</td>\n",
              "      <td>0</td>\n",
              "      <td>1</td>\n",
              "    </tr>\n",
              "    <tr>\n",
              "      <th>2</th>\n",
              "      <td>17.2</td>\n",
              "      <td>45.9</td>\n",
              "      <td>69.3</td>\n",
              "      <td>12.0</td>\n",
              "      <td>0</td>\n",
              "      <td>0</td>\n",
              "      <td>0</td>\n",
              "      <td>1</td>\n",
              "      <td>0</td>\n",
              "      <td>1</td>\n",
              "    </tr>\n",
              "    <tr>\n",
              "      <th>3</th>\n",
              "      <td>151.5</td>\n",
              "      <td>41.3</td>\n",
              "      <td>58.5</td>\n",
              "      <td>16.5</td>\n",
              "      <td>0</td>\n",
              "      <td>0</td>\n",
              "      <td>1</td>\n",
              "      <td>0</td>\n",
              "      <td>1</td>\n",
              "      <td>0</td>\n",
              "    </tr>\n",
              "    <tr>\n",
              "      <th>4</th>\n",
              "      <td>180.8</td>\n",
              "      <td>10.8</td>\n",
              "      <td>58.4</td>\n",
              "      <td>17.9</td>\n",
              "      <td>0</td>\n",
              "      <td>0</td>\n",
              "      <td>1</td>\n",
              "      <td>0</td>\n",
              "      <td>1</td>\n",
              "      <td>1</td>\n",
              "    </tr>\n",
              "  </tbody>\n",
              "</table>\n",
              "</div>\n",
              "      <button class=\"colab-df-convert\" onclick=\"convertToInteractive('df-156083d4-c85f-4251-b1c9-84a4028a061b')\"\n",
              "              title=\"Convert this dataframe to an interactive table.\"\n",
              "              style=\"display:none;\">\n",
              "        \n",
              "  <svg xmlns=\"http://www.w3.org/2000/svg\" height=\"24px\"viewBox=\"0 0 24 24\"\n",
              "       width=\"24px\">\n",
              "    <path d=\"M0 0h24v24H0V0z\" fill=\"none\"/>\n",
              "    <path d=\"M18.56 5.44l.94 2.06.94-2.06 2.06-.94-2.06-.94-.94-2.06-.94 2.06-2.06.94zm-11 1L8.5 8.5l.94-2.06 2.06-.94-2.06-.94L8.5 2.5l-.94 2.06-2.06.94zm10 10l.94 2.06.94-2.06 2.06-.94-2.06-.94-.94-2.06-.94 2.06-2.06.94z\"/><path d=\"M17.41 7.96l-1.37-1.37c-.4-.4-.92-.59-1.43-.59-.52 0-1.04.2-1.43.59L10.3 9.45l-7.72 7.72c-.78.78-.78 2.05 0 2.83L4 21.41c.39.39.9.59 1.41.59.51 0 1.02-.2 1.41-.59l7.78-7.78 2.81-2.81c.8-.78.8-2.07 0-2.86zM5.41 20L4 18.59l7.72-7.72 1.47 1.35L5.41 20z\"/>\n",
              "  </svg>\n",
              "      </button>\n",
              "      \n",
              "  <style>\n",
              "    .colab-df-container {\n",
              "      display:flex;\n",
              "      flex-wrap:wrap;\n",
              "      gap: 12px;\n",
              "    }\n",
              "\n",
              "    .colab-df-convert {\n",
              "      background-color: #E8F0FE;\n",
              "      border: none;\n",
              "      border-radius: 50%;\n",
              "      cursor: pointer;\n",
              "      display: none;\n",
              "      fill: #1967D2;\n",
              "      height: 32px;\n",
              "      padding: 0 0 0 0;\n",
              "      width: 32px;\n",
              "    }\n",
              "\n",
              "    .colab-df-convert:hover {\n",
              "      background-color: #E2EBFA;\n",
              "      box-shadow: 0px 1px 2px rgba(60, 64, 67, 0.3), 0px 1px 3px 1px rgba(60, 64, 67, 0.15);\n",
              "      fill: #174EA6;\n",
              "    }\n",
              "\n",
              "    [theme=dark] .colab-df-convert {\n",
              "      background-color: #3B4455;\n",
              "      fill: #D2E3FC;\n",
              "    }\n",
              "\n",
              "    [theme=dark] .colab-df-convert:hover {\n",
              "      background-color: #434B5C;\n",
              "      box-shadow: 0px 1px 3px 1px rgba(0, 0, 0, 0.15);\n",
              "      filter: drop-shadow(0px 1px 2px rgba(0, 0, 0, 0.3));\n",
              "      fill: #FFFFFF;\n",
              "    }\n",
              "  </style>\n",
              "\n",
              "      <script>\n",
              "        const buttonEl =\n",
              "          document.querySelector('#df-156083d4-c85f-4251-b1c9-84a4028a061b button.colab-df-convert');\n",
              "        buttonEl.style.display =\n",
              "          google.colab.kernel.accessAllowed ? 'block' : 'none';\n",
              "\n",
              "        async function convertToInteractive(key) {\n",
              "          const element = document.querySelector('#df-156083d4-c85f-4251-b1c9-84a4028a061b');\n",
              "          const dataTable =\n",
              "            await google.colab.kernel.invokeFunction('convertToInteractive',\n",
              "                                                     [key], {});\n",
              "          if (!dataTable) return;\n",
              "\n",
              "          const docLinkHtml = 'Like what you see? Visit the ' +\n",
              "            '<a target=\"_blank\" href=https://colab.research.google.com/notebooks/data_table.ipynb>data table notebook</a>'\n",
              "            + ' to learn more about interactive tables.';\n",
              "          element.innerHTML = '';\n",
              "          dataTable['output_type'] = 'display_data';\n",
              "          await google.colab.output.renderOutput(dataTable, element);\n",
              "          const docLink = document.createElement('div');\n",
              "          docLink.innerHTML = docLinkHtml;\n",
              "          element.appendChild(docLink);\n",
              "        }\n",
              "      </script>\n",
              "    </div>\n",
              "  </div>\n",
              "  "
            ],
            "text/plain": [
              "      TV  Radio  Newspaper  Sales  AdType_AdType2  AdType_AdType3  \\\n",
              "0  230.1   37.8       69.2   22.1               0               1   \n",
              "1   44.5   39.3       45.1   10.4               1               0   \n",
              "2   17.2   45.9       69.3   12.0               0               0   \n",
              "3  151.5   41.3       58.5   16.5               0               0   \n",
              "4  180.8   10.8       58.4   17.9               0               0   \n",
              "\n",
              "   AdType_AdType4  Season_Standard  Season_Summer  Country_1  \n",
              "0               0                0              0          0  \n",
              "1               0                1              0          1  \n",
              "2               0                1              0          1  \n",
              "3               1                0              1          0  \n",
              "4               1                0              1          1  "
            ]
          },
          "execution_count": 22,
          "metadata": {},
          "output_type": "execute_result"
        }
      ],
      "source": [
        "# Create dummy variables for categorical predictors\n",
        "sales_data = pd.get_dummies(sales_data, columns=['AdType', 'Season', 'Country'], drop_first=True)\n",
        "sales_data.head()"
      ]
    },
    {
      "cell_type": "code",
      "execution_count": null,
      "metadata": {
        "colab": {
          "base_uri": "https://localhost:8080/",
          "height": 35
        },
        "id": "Vp84cwO5Pw6y",
        "outputId": "561d65d2-fb03-4029-909b-a42e3497a5a7"
      },
      "outputs": [
        {
          "data": {
            "application/vnd.google.colaboratory.intrinsic+json": {
              "type": "string"
            },
            "text/plain": [
              "'Sales ~ TV + Radio + Newspaper + AdType_AdType2 + AdType_AdType3 + AdType_AdType4 + Season_Standard + Season_Summer + Country_1'"
            ]
          },
          "execution_count": 25,
          "metadata": {},
          "output_type": "execute_result"
        }
      ],
      "source": [
        "# Create the Linear Regression Model Formula\n",
        "model_formula = \"Sales ~ TV + Radio + Newspaper + AdType_AdType2 + AdType_AdType3 + AdType_AdType4 + Season_Standard + Season_Summer + Country_1\"\n",
        "# model_formula = \"Sales ~ TV + Radio + Newspaper + \" + \" + \".join(sales_data.columns[4:])\n",
        "model_formula"
      ]
    },
    {
      "cell_type": "code",
      "execution_count": null,
      "metadata": {
        "colab": {
          "base_uri": "https://localhost:8080/"
        },
        "id": "mGB0QSJTRWCG",
        "outputId": "05595a70-b3ab-4aaf-faba-98392ec3736a"
      },
      "outputs": [
        {
          "name": "stdout",
          "output_type": "stream",
          "text": [
            "                            OLS Regression Results                            \n",
            "==============================================================================\n",
            "Dep. Variable:                  Sales   R-squared:                       0.944\n",
            "Model:                            OLS   Adj. R-squared:                  0.942\n",
            "Method:                 Least Squares   F-statistic:                     359.0\n",
            "Date:                Sat, 25 Mar 2023   Prob (F-statistic):          3.49e-114\n",
            "Time:                        19:36:19   Log-Likelihood:                -327.15\n",
            "No. Observations:                 200   AIC:                             674.3\n",
            "Df Residuals:                     190   BIC:                             707.3\n",
            "Df Model:                           9                                         \n",
            "Covariance Type:            nonrobust                                         \n",
            "===================================================================================\n",
            "                      coef    std err          t      P>|t|      [0.025      0.975]\n",
            "-----------------------------------------------------------------------------------\n",
            "Intercept          10.1141      0.853     11.863      0.000       8.432      11.796\n",
            "TV                  0.0292      0.003     10.321      0.000       0.024       0.035\n",
            "Radio               0.0573      0.008      7.037      0.000       0.041       0.073\n",
            "Newspaper           0.0031      0.004      0.694      0.489      -0.006       0.012\n",
            "AdType_AdType2     -2.7067      0.310     -8.729      0.000      -3.318      -2.095\n",
            "AdType_AdType3      2.8056      0.654      4.289      0.000       1.515       4.096\n",
            "AdType_AdType4      0.5959      0.422      1.414      0.159      -0.236       1.427\n",
            "Season_Standard    -1.4981      0.681     -2.201      0.029      -2.841      -0.155\n",
            "Season_Summer      -0.6393      0.502     -1.274      0.204      -1.629       0.350\n",
            "Country_1          -0.0393      0.184     -0.214      0.831      -0.402       0.323\n",
            "==============================================================================\n",
            "Omnibus:                       39.543   Durbin-Watson:                   2.293\n",
            "Prob(Omnibus):                  0.000   Jarque-Bera (JB):              112.183\n",
            "Skew:                          -0.809   Prob(JB):                     4.36e-25\n",
            "Kurtosis:                       6.293   Cond. No.                     2.34e+03\n",
            "==============================================================================\n",
            "\n",
            "Notes:\n",
            "[1] Standard Errors assume that the covariance matrix of the errors is correctly specified.\n",
            "[2] The condition number is large, 2.34e+03. This might indicate that there are\n",
            "strong multicollinearity or other numerical problems.\n"
          ]
        }
      ],
      "source": [
        "# Estimate the model with OLS\n",
        "model = smf.ols(formula=model_formula, data=sales_data).fit()\n",
        "# Print the model summary\n",
        "print(model.summary())"
      ]
    },
    {
      "cell_type": "code",
      "execution_count": null,
      "metadata": {
        "colab": {
          "base_uri": "https://localhost:8080/"
        },
        "id": "eq7kRwEIVCa3",
        "outputId": "9b5e9639-2bb7-4f8a-a596-0843943685c7"
      },
      "outputs": [
        {
          "name": "stdout",
          "output_type": "stream",
          "text": [
            "Residual Standard Error (RSE): 1.242116521310255\n",
            "2s: 2.48423304262051\n"
          ]
        }
      ],
      "source": [
        "# Calculate the residuals (differences between actual and predicted values)\n",
        "residuals = model.resid\n",
        "# Compute the mean of squared residuals\n",
        "mean_squared_residuals = np.mean(residuals**2)\n",
        "# Calculate the Residual Standard Error (RSE)\n",
        "rse = np.sqrt(mean_squared_residuals)\n",
        "print(\"Residual Standard Error (RSE):\", rse)\n",
        "print(\"2s:\", rse*2)"
      ]
    },
    {
      "cell_type": "code",
      "execution_count": null,
      "metadata": {
        "colab": {
          "base_uri": "https://localhost:8080/"
        },
        "id": "zYmqQbn5Za_f",
        "outputId": "272c7d77-ce20-4328-a410-5c2b015f1a09"
      },
      "outputs": [
        {
          "name": "stdout",
          "output_type": "stream",
          "text": [
            "Predicted values:\n",
            " 0    15.227213\n",
            "Name: mean, dtype: float64\n",
            "95% prediction interval:\n",
            " obs_ci_lower    12.399002\n",
            "obs_ci_upper    18.055423\n",
            "Name: 0, dtype: float64\n"
          ]
        }
      ],
      "source": [
        "# Create new data\n",
        "new_data = pd.DataFrame({'TV':list([20]), 'Radio':list([30]), 'Newspaper':list([2]),\n",
        "                         'AdType_AdType2':list([0]), 'AdType_AdType3':list([1]),\n",
        "                         'AdType_AdType4':list([0]), 'Season_Standard':list([0]),\n",
        "                         'Season_Summer':list([0]), 'Country_1':list([0])})\n",
        "new_data = sm.add_constant(new_data)\n",
        "\n",
        "# Get prediction results with 95% confidence interval for mean predictions\n",
        "pred_results = model.get_prediction(new_data).summary_frame(alpha=0.05)\n",
        "\n",
        "# Print the predicted values and confidence intervals\n",
        "print('Predicted values:\\n', pred_results['mean'])\n",
        "# Print the prediction interval\n",
        "print('95% prediction interval:\\n', pred_results[['obs_ci_lower', 'obs_ci_upper']].iloc[0])"
      ]
    }
  ],
  "metadata": {
    "colab": {
      "provenance": []
    },
    "kernelspec": {
      "display_name": "Python 3",
      "name": "python3"
    },
    "language_info": {
      "codemirror_mode": {
        "name": "ipython",
        "version": 3
      },
      "file_extension": ".py",
      "mimetype": "text/x-python",
      "name": "python",
      "nbconvert_exporter": "python",
      "pygments_lexer": "ipython3",
      "version": "3.11.1"
    }
  },
  "nbformat": 4,
  "nbformat_minor": 0
}
