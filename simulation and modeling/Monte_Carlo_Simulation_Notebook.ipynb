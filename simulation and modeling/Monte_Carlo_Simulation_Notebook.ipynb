{
  "nbformat": 4,
  "nbformat_minor": 0,
  "metadata": {
    "colab": {
      "provenance": []
    },
    "kernelspec": {
      "name": "python3",
      "display_name": "Python 3"
    },
    "language_info": {
      "name": "python"
    }
  },
  "cells": [
    {
      "cell_type": "markdown",
      "source": [
        "# Monte Carlo Simulation\n",
        "\n",
        "## Introduction to Monte Carlo Simulation\n",
        "Monte Carlo Method is probably the most famous tool for simulation. In this first part of the module we will learn about Monte Carlo history, we will understand the difference between Monte Carlo methods and Monte Carlo simulation, we will integrate the different steps in a Monte Carlo simulation and finally we will carry on a Monte Carlo simulation experiment to estimate the Pi number.\n",
        "\n",
        "There were several approaches to the Monte Carlo method in the early 20th century, but it was in the mid-1940s during the Manhattan Project at “Los Alamos” that this method was first intentionally developed by Stanislaw Ulam and John von Neumann for early work relating to the development of nuclear weapons.\n",
        "\n",
        "Below you can read a quote from Stanislaw Ulam in which he explains how he came up with this simple but powerful method:\n",
        "\n",
        "\"The first thoughts and attempts I made to practice [the Monte Carlo Method] were suggested by a question which occurred to me in 1946 as I was convalescing from an illness and playing solitaires. \n",
        "The question was what are the chances that a Canfield solitaire laid out with 52 cards will come out successfully? After spending a lot of time trying to estimate them by pure combinatorial calculations, I wondered whether a more practical method than “abstract thinking” might not be to lay it out say one hundred times and simply observe and count the number of successful plays... This was already possible to envisage with the beginning of the new era of fast computers, and I immediately thought of problems of neutron diffusion and other questions of mathematical physics, and more generally how to change processes described by certain differential equations into an equivalent form interpretable as a succession of random operations. Later [in 1946], I described the idea to John von Neumann, and we began to plan actual calculations.\"\n",
        "\n",
        "Being secret, the work of von Neumann and Ulam required a code name. A colleague of von Neumann and Ulam, Nicholas Metropolis, suggested using the name Monte Carlo, which refers to the Monte Carlo Casino in Monaco where Ulam’s uncle would borrow money from relatives to gamble.\n",
        "\n",
        "The definition of the Monte Carlo concept can be a bit confusing. For this reason, we will take Sawilowsky’s example and distinguish between: Simulation, Monte Carlo method and Monte Carlo simulation.\n",
        "\n",
        "* A **Simulation** is a fictitious representation of reality. For example: Drawing one pseudo-random uniform variable from the interval [0,1] can be used to simulate the tossing of a coin. If the value is less than or equal to 0.50 designate the outcome as heads, but if the value is greater than 0.50 designate the outcome as tails. This is a simulation, but not a Monte Carlo simulation.\n",
        "* A **Monte Carlo method** is a technique that can be used to solve a mathematical or statistical problem. For example: Pouring out a box of coins on a table, and then computing the ratio of coins that land heads versus tails is a Monte Carlo method of determining the behavior of repeated coin tosses, but it is not a simulation.\n",
        "* A **Monte Carlo simulation** uses repeated sampling to obtain the statistical properties of some phenomenon (or behavior). For example: drawing a large number of pseudo-random uniform variables from the interval [0,1] at one time, or once at many different times, and assigning values less than or equal to 0.50 as heads and greater than 0.50 as tails, is a Monte Carlo simulation of the behavior of repeatedly tossing a coin.\n",
        "\n",
        "The main idea of this method is that a phenomenon is simulated multiple times on a computer by generating random numbers and the results are aggregated to provide statistical summaries associated with the phenomenon. Sawilowsky lists the characteristics of a high-quality Monte Carlo simulation:\n",
        "\n",
        "* The (pseudo-random) number generator has certain characteristics (e.g. a long “period” before the sequence repeats)\n",
        "* The (pseudo-random) number generator produces values that pass tests for randomness\n",
        "* There are enough samples to ensure accurate results\n",
        "* The algorithm used is valid for what is being modeled\n",
        "* It simulates the phenomenon in question\n",
        "\n",
        "## Steps in a Monte Carlo Simulation\n",
        "\n",
        "Monte Carlo methods vary, but tend to follow a particular pattern:\n",
        "1. Define a domain of possible inputs\n",
        "2. Generate inputs randomly from a probability distribution over the domain\n",
        "3. Perform a deterministic computation on the inputs\n",
        "4. Aggregate the results\n",
        "\n",
        "To better understand how Monte Carlo simulation works we will develop a classic experiment: The $\\pi$ number estimation.\n",
        "\n",
        "## The $\\pi$ number estimation\n",
        "\n",
        "$\\pi$ is the mathematical constant, which is equal to $3.14159265…$, defined as the ratio of a circle’s circumference to its diameter:\n",
        "\n",
        "$$\n",
        "\\pi = \\dfrac{C}{d}\n",
        "$$\n",
        "\n",
        "The number $π$ appears in many formulas across mathematics and physics. It is an irrational number, meaning that it cannot be expressed exactly as a ratio of two integers, although fractions such as $\\tfrac{22}{7}$ are commonly used to approximate it. Consequently, its decimal representation never ends, nor enters a permanently repeating pattern. It is a transcendental number, meaning that it cannot be a solution of an equation involving only sums, products, powers, and integers.\n",
        "\n",
        "The invention of calculus soon led to the calculation of hundreds of digits of π, enough for all practical scientific computations. Nevertheless, in the 20th and 21st centuries, mathematicians and computer scientists have pursued new approaches that, when combined with increasing computational power, extended the decimal representation of π to many trillions of digits. A very common computational way to calculate it is through Monte Carlo Simulation. Let's see some considerations for the experiment (figure below):\n",
        "\n",
        "![img](https://drive.google.com/uc?id=14ErgZCgtAC_DWcn6q7Yg4F02uvM7a3er)\n",
        "\n",
        "* Consider a circle with radius $r = 1$, which is fixed and known. \n",
        "* Imagine that this circle is circumscribed within a square, which therefore has side 2r (also equal to the diameter).\n",
        "\n",
        "**What is the probability that if I choose a random point inside the square, it will also be inside the circle?** If I choose any random point within the square, it can be inside the circle or just inside the square. A very simple way to compute this probability is the ratio between the area of the circle and the area of the square.\n",
        "\n",
        "$$\n",
        "P(\\text{point inside the circle}) = \\dfrac{\\text{area of the circle}}{\\text{area of the square}} = \\dfrac{\\pi r^2}{2r \\cdot 2r} = \\dfrac{\\pi}{4}\n",
        "$$\n",
        "\n",
        "The probability that a randomly selected point in the square is in the circle is $\\tfrac{\\pi}{4}$. This means that if I were to replicate the selection of a random point in the square a large number of times, I could **count the proportion of points inside the circle, multiply it by four and that would give me an approximation of $\\pi$.**\n",
        "\n",
        "We will create a Monte Carlo experiment in Python which implements the ideas above. We will carry out the experiment in 5 steps:\n",
        "\n",
        "1. Generate 2 random numbers between 0 and 1 in total 100 times (x and y). We will only use the upper-right square of the circle to siplify the experiment (figure below).\n",
        "2. Calculate x2 + y2 (This is the point in the space).\n",
        "  * If the value is less than 1, the case will be inside the circle\n",
        "  * If the value is greater than 1, the case will be outside the circle.\n",
        "\n",
        "3. Calculate the proportion of points inside the circle and multiply it by four to approximate the $π$ value.\n",
        "4. Repeat the experiment a thousand times, to get different approximations to $π$.\n",
        "5. Calculate the average of the previous 1000 experiments to give a final value estimate.\n",
        "\n",
        "![img](https://upload.wikimedia.org/wikipedia/commons/thumb/8/84/Pi_30K.gif/156px-Pi_30K.gif)\n",
        "\n",
        "### Step 1: Generation of pseudo-random numbers"
      ],
      "metadata": {
        "id": "9FeuAoQ5rBqN"
      }
    },
    {
      "cell_type": "code",
      "source": [
        "import numpy as np\n",
        "import matplotlib.pyplot as plt\n",
        "from scipy import stats\n",
        "import pandas as pd\n",
        "import math"
      ],
      "metadata": {
        "id": "LbDsujc05Sah"
      },
      "execution_count": null,
      "outputs": []
    },
    {
      "cell_type": "code",
      "execution_count": null,
      "metadata": {
        "colab": {
          "base_uri": "https://localhost:8080/"
        },
        "id": "1BDP7epBrA8D",
        "outputId": "d7610475-f810-48d7-fc68-6cb5ba4459f5"
      },
      "outputs": [
        {
          "output_type": "stream",
          "name": "stdout",
          "text": [
            "[0.322 0.89  0.588 0.127 0.141 0.468 0.022 0.727 0.524]\n",
            "[0.878 0.519 0.68  0.436 0.972 0.365 0.623 0.258 0.681]\n"
          ]
        }
      ],
      "source": [
        "np.random.seed(2023)\n",
        "\n",
        "nPoints = 100\n",
        "x = np.random.uniform(0,1,nPoints)\n",
        "y = np.random.uniform(0,1,nPoints)\n",
        "print(x[0:9].round(3))\n",
        "print(y[0:9].round(3))"
      ]
    },
    {
      "cell_type": "markdown",
      "source": [
        "If we plot the values in the given space, we can see that some of the points in the space are going to be inside the circle and some others will not"
      ],
      "metadata": {
        "id": "GwtDdbBrdS09"
      }
    },
    {
      "cell_type": "code",
      "source": [
        "plt.scatter(x, y)\n",
        "circle = plt.Circle((0, 0), 1, color='red', fill=False)\n",
        "plt.gca().add_artist(circle)\n",
        "plt.xlim(0, 1)\n",
        "plt.ylim(0, 1)\n",
        "plt.title(\"Scatter Plot of x and y\")\n",
        "plt.xlabel(\"x\")\n",
        "plt.ylabel(\"y\")\n",
        "plt.show()"
      ],
      "metadata": {
        "colab": {
          "base_uri": "https://localhost:8080/",
          "height": 295
        },
        "id": "oFivMCFSdkMy",
        "outputId": "538d5ae8-ad24-4d5f-c0dd-1d74c6c0e99c"
      },
      "execution_count": null,
      "outputs": [
        {
          "output_type": "display_data",
          "data": {
            "text/plain": [
              "<Figure size 432x288 with 1 Axes>"
            ],
            "image/png": "[encoded data removed]"
          },
          "metadata": {
            "needs_background": "light"
          }
        }
      ]
    },
    {
      "cell_type": "markdown",
      "source": [
        "### Step 2: Calculate the circumference equation\n",
        "\n",
        "Calculate the circumference equation\n",
        "\n",
        "* If the value is less than 1, the case will be inside the circle\n",
        "* If the value is greater than 1, the case will be outside the circle."
      ],
      "metadata": {
        "id": "VW6ci9zOOMM_"
      }
    },
    {
      "cell_type": "code",
      "source": [
        "def circum(x,y):\n",
        "  result = []\n",
        "  for i in range(len(x)):\n",
        "    point = x[i]**2 + y[i]**2\n",
        "    if(point<=1):\n",
        "      result.append(True)\n",
        "    else:\n",
        "      result.append(False)\n",
        "  return(result)"
      ],
      "metadata": {
        "id": "Goy4e-2qOde_"
      },
      "execution_count": null,
      "outputs": []
    },
    {
      "cell_type": "code",
      "source": [
        "sim_points = circum(x,y)\n",
        "print(sim_points[0:9])"
      ],
      "metadata": {
        "colab": {
          "base_uri": "https://localhost:8080/"
        },
        "id": "HZ_Sq_KRjUwK",
        "outputId": "e0b91df4-fbcb-46d9-e4fa-fc3865787961"
      },
      "execution_count": null,
      "outputs": [
        {
          "output_type": "stream",
          "name": "stdout",
          "text": [
            "[True, False, True, True, True, True, True, True, True]\n"
          ]
        }
      ]
    },
    {
      "cell_type": "markdown",
      "source": [
        "### Step 3: Estimate $\\pi$ number\n",
        "\n",
        "So using our 100 simulated points, we came up with an approximation of $3.2$ for the value of $π$. "
      ],
      "metadata": {
        "id": "A7OPyHvTPq0n"
      }
    },
    {
      "cell_type": "code",
      "source": [
        "pi_val = 4*sum(sim_points)/nPoints\n",
        "print(pi_val)"
      ],
      "metadata": {
        "colab": {
          "base_uri": "https://localhost:8080/"
        },
        "id": "JQMJMWexP1yz",
        "outputId": "08edec05-69ba-4b58-e7ef-2cd67e6573fb"
      },
      "execution_count": null,
      "outputs": [
        {
          "output_type": "stream",
          "name": "stdout",
          "text": [
            "3.16\n"
          ]
        }
      ]
    },
    {
      "cell_type": "markdown",
      "source": [
        "Of course this number depends on the random numbers that were generated. If we were to repeat it (without using the seed), we would get a different approximation."
      ],
      "metadata": {
        "id": "zNVGLAd0P2Lw"
      }
    },
    {
      "cell_type": "markdown",
      "source": [
        "### Step 4: Replicate the experiment\n",
        "\n",
        "Now that we know how to approximate the $\\pi$ number we can replicate the experiment N times to perform a monte carlo simulation and obtain a better result. We will use a single function for doing this:"
      ],
      "metadata": {
        "id": "c1TtgJ7lQPu0"
      }
    },
    {
      "cell_type": "code",
      "source": [
        "def pi_val_func(nPoint=100):\n",
        "  x = np.random.uniform(0,1,nPoints)\n",
        "  y = np.random.uniform(0,1,nPoints)\n",
        "  values = []\n",
        "  for i in range(len(x)):\n",
        "    point = x[i]**2 + y[i]**2\n",
        "    if(point<=1):\n",
        "      values.append(True)\n",
        "    else:\n",
        "      values.append(False)\n",
        "  pi_val = 4*sum(values)/nPoints\n",
        "  return(pi_val)"
      ],
      "metadata": {
        "id": "iplLUvmoQoEO"
      },
      "execution_count": null,
      "outputs": []
    },
    {
      "cell_type": "code",
      "source": [
        "np.random.seed(2022)\n",
        "pi_val_func()"
      ],
      "metadata": {
        "colab": {
          "base_uri": "https://localhost:8080/"
        },
        "id": "onsvGwvQRPNV",
        "outputId": "299cf6c9-10e6-4aa7-b777-9d72e8bf38bd"
      },
      "execution_count": null,
      "outputs": [
        {
          "output_type": "execute_result",
          "data": {
            "text/plain": [
              "2.88"
            ]
          },
          "metadata": {},
          "execution_count": 112
        }
      ]
    },
    {
      "cell_type": "markdown",
      "source": [
        "Now we can replicate this experiment any number of times (e.g., 1000 times) to obtain different measures of the $\\pi$ number."
      ],
      "metadata": {
        "id": "CWZ1ZHo0RnEF"
      }
    },
    {
      "cell_type": "code",
      "source": [
        "def replicate_pi(n_replicas = 1000, nPoints = 100):\n",
        "  replicas = []\n",
        "  for i in range(n_replicas):\n",
        "    replicas.append(pi_val_func(nPoints))\n",
        "  return(np.array(replicas))"
      ],
      "metadata": {
        "id": "bTu8QqUMR472"
      },
      "execution_count": null,
      "outputs": []
    },
    {
      "cell_type": "code",
      "source": [
        "np.random.seed(2023)\n",
        "pi_numbers = replicate_pi()\n",
        "print(pi_numbers[0:9])"
      ],
      "metadata": {
        "colab": {
          "base_uri": "https://localhost:8080/"
        },
        "id": "xoJsDXhoSR7Z",
        "outputId": "841fc42d-a12c-4c66-9a67-b92239b39af8"
      },
      "execution_count": null,
      "outputs": [
        {
          "output_type": "stream",
          "name": "stdout",
          "text": [
            "[3.16 3.36 2.64 3.04 3.4  3.04 3.16 3.2  3.08]\n"
          ]
        }
      ]
    },
    {
      "cell_type": "markdown",
      "source": [
        "### Step 5: Aggregate the results\n",
        "\n",
        "Finally, in order to obtain a accurate result of the experiment, we can aggregate those results using the average $\\pi$ number."
      ],
      "metadata": {
        "id": "gtU4NTw5TT5K"
      }
    },
    {
      "cell_type": "code",
      "source": [
        "pi_numbers.mean()"
      ],
      "metadata": {
        "colab": {
          "base_uri": "https://localhost:8080/"
        },
        "id": "fJNzmSqDTnSC",
        "outputId": "758d4ba7-ad5d-4937-d2bf-818ae9e4053a"
      },
      "execution_count": null,
      "outputs": [
        {
          "output_type": "execute_result",
          "data": {
            "text/plain": [
              "3.1427599999999996"
            ]
          },
          "metadata": {},
          "execution_count": 47
        }
      ]
    },
    {
      "cell_type": "markdown",
      "source": [
        "Other ways to summarize the results is to plot the resulting vector. In this case, a boxplot can summarize the information of the experiment very well."
      ],
      "metadata": {
        "id": "0nPvz2txTwhX"
      }
    },
    {
      "cell_type": "code",
      "source": [
        "plt.boxplot(pi_numbers)\n",
        "plt.xlabel(\"Replicas\")\n",
        "plt.ylabel(\"Pi number\")\n",
        "plt.title(\"Pi number MC Simulation\")\n",
        "plt.show()"
      ],
      "metadata": {
        "colab": {
          "base_uri": "https://localhost:8080/",
          "height": 295
        },
        "id": "huKu4FDjT83X",
        "outputId": "1b323da5-3fa1-4e88-b826-523fffd6753f"
      },
      "execution_count": null,
      "outputs": [
        {
          "output_type": "display_data",
          "data": {
            "text/plain": [
              "<Figure size 432x288 with 1 Axes>"
            ],
            "image/png": "[encoded data removed]"
          },
          "metadata": {
            "needs_background": "light"
          }
        }
      ]
    },
    {
      "cell_type": "markdown",
      "source": [
        "The boxplot tells us two important things:\n",
        "* if we were to take the average of the 1,000 approximations of π as the value of π, we would get a value very close to the actual value (see the horizontal line inside the box).\n",
        "* if we were to choose a value for π based on a single simulation, then we could choose values between 2.6 and 3.6.\n",
        "\n",
        "One thing you might wonder now is the following. Why did we replicate the experiment 1000 times and each time took only 100 points. Could have we not taken a much larger number of points only once (for example 1000×100)?\n",
        "\n",
        "On one hand that would have clearly given us a good approximation, using the same total number of simulated points. \n",
        "\n",
        "\n"
      ],
      "metadata": {
        "id": "bzuIpR7-U85f"
      }
    },
    {
      "cell_type": "code",
      "source": [
        "replicate_pi(100*1000).mean()"
      ],
      "metadata": {
        "colab": {
          "base_uri": "https://localhost:8080/"
        },
        "id": "9OGjdbj1aibo",
        "outputId": "b212f96f-3b0e-4152-8b99-c89c79fbd5b5"
      },
      "execution_count": null,
      "outputs": [
        {
          "output_type": "execute_result",
          "data": {
            "text/plain": [
              "3.1420184000000004"
            ]
          },
          "metadata": {},
          "execution_count": 116
        }
      ]
    },
    {
      "cell_type": "markdown",
      "source": [
        "However this approach does not give us any information about uncertainty or about how good our approximation is. We have just one single value. On the other hand, using replication we have 1000 possible approximations of π and we can construct confidence intervals of plausible values. For instance, we would believe that the true value π  is with 95% probability in the interval which includes 95% of the central approximations of π. "
      ],
      "metadata": {
        "id": "3Z_uvpVPawWD"
      }
    },
    {
      "cell_type": "markdown",
      "source": [
        "### Additional Step: extending our knowledge\n",
        "\n",
        "We can store the results of the experiment increasing the number of points and replicas to plot the optimization function of the $\\pi$ number estimation."
      ],
      "metadata": {
        "id": "-HclmOOuajP2"
      }
    },
    {
      "cell_type": "code",
      "source": [
        "def optim_func_pi(max_nPoints, max_Replicas, n_repetitions):\n",
        "\n",
        "  nPoints_sequence = np.linspace(100,max_nPoints,n_repetitions).round(0)\n",
        "  replicas_sequence = np.linspace(1000,max_Replicas,n_repetitions).round(0)\n",
        "  pi_averages = []\n",
        "\n",
        "  for i in range(n_repetitions):\n",
        "    print(\"Starting the estimation \", i, \" out of \", n_repetitions)\n",
        "    pi_vector = replicate_pi(int(nPoints_sequence[i]), int(replicas_sequence[i]))\n",
        "    pi_averages.append(pi_vector.mean())\n",
        "  \n",
        "  return(pi_averages)"
      ],
      "metadata": {
        "id": "xGoTsF8dV2R5"
      },
      "execution_count": null,
      "outputs": []
    },
    {
      "cell_type": "code",
      "source": [
        "results = optim_func_pi(5000,10000,100) # do not run this line, takes a while"
      ],
      "metadata": {
        "id": "_YXAwUvpWVRE"
      },
      "execution_count": null,
      "outputs": []
    },
    {
      "cell_type": "code",
      "source": [
        "results_arr = np.array(results)\n",
        "plt.plot(results_arr, 'o-', label = 'Pi Values')\n",
        "plt.legend()\n",
        "plt.title('Pi Value Estimation using MC simulation')\n",
        "plt.xlabel('Repetitions')\n",
        "plt.ylabel('Pi Value Mean')\n",
        "plt.show()"
      ],
      "metadata": {
        "colab": {
          "base_uri": "https://localhost:8080/",
          "height": 295
        },
        "id": "OEtUBHYAZA_Q",
        "outputId": "df239729-1cc0-4c1f-9d1a-64f1edd6ee8c"
      },
      "execution_count": null,
      "outputs": [
        {
          "output_type": "display_data",
          "data": {
            "text/plain": [
              "<Figure size 432x288 with 1 Axes>"
            ],
            "image/png": "[encoded data removed]"
          },
          "metadata": {
            "needs_background": "light"
          }
        }
      ]
    },
    {
      "cell_type": "markdown",
      "source": [
        "## The `choice` function\n",
        "\n",
        "We have carried out our first Monte Carlo experiment. We will carry out others in the rest of this chapter and interpret their results. There is one function, the `choice` function which we will often use. \n",
        "\n",
        "In the previous chapter we discussed how to simulate numbers distributed according to a specific random variable. One possible class of numbers we may want to simulate in some situations are integers. Suppose for example you want to simulate a dice game: then we must be able to simulate in Python a number of the set {1, 2, 3, 4, 5, 6} where each has the same probability of appearing.\n",
        "\n",
        "For this specific purpose we have choice function. This takes four inputs:\n",
        "* `a`: an array of values we want to sample from.\n",
        "* `size`: the size of the sample we want.\n",
        "* `replace`: if True sampling is done with replacement. That is if a value has been selected, it can be selected again. By default equal to False.\n",
        "* `p`: an array of the same length of a giving the probabilities that the elements of a are selected. By default equal to a uniform probability.\n",
        "\n",
        "So, for example, if we wanted to simulate ten tosses of a fair dice we can write:"
      ],
      "metadata": {
        "id": "HEjvDp10ofp4"
      }
    },
    {
      "cell_type": "code",
      "source": [
        "np.random.seed(2023)\n",
        "np.random.choice(a = [1,2,3,4,5,6], size = 10, replace = True)"
      ],
      "metadata": {
        "colab": {
          "base_uri": "https://localhost:8080/"
        },
        "id": "4HpzUZcso1sH",
        "outputId": "c7d3d0ff-3ba7-40f8-9896-56c9cf9de316"
      },
      "execution_count": null,
      "outputs": [
        {
          "output_type": "execute_result",
          "data": {
            "text/plain": [
              "array([2, 2, 5, 4, 5, 5, 6, 1, 2, 6])"
            ]
          },
          "metadata": {},
          "execution_count": 119
        }
      ]
    },
    {
      "cell_type": "markdown",
      "source": [
        "Notice that the vector `a` does not necessarily needs to be numeric. It could be a vector of characters. For example, let’s simulate the toss of 7 coins, where the probability of heads is $2/3$ and the probability of tails is $1/3$."
      ],
      "metadata": {
        "id": "MUSFNbc_pVi8"
      }
    },
    {
      "cell_type": "code",
      "source": [
        "np.random.seed(2023)\n",
        "np.random.choice(a = [\"heads\", \"tails\"], size = 7, replace = True, p = [2/3, 1/3])"
      ],
      "metadata": {
        "colab": {
          "base_uri": "https://localhost:8080/"
        },
        "id": "6eOGg31ipYQp",
        "outputId": "f9549bcc-3103-43c6-a801-6e82a407799d"
      },
      "execution_count": null,
      "outputs": [
        {
          "output_type": "execute_result",
          "data": {
            "text/plain": [
              "array(['heads', 'tails', 'heads', 'heads', 'heads', 'heads', 'heads'],\n",
              "      dtype='<U5')"
            ]
          },
          "metadata": {},
          "execution_count": 120
        }
      ]
    },
    {
      "cell_type": "markdown",
      "source": [
        "## A game of chance\n",
        "\n",
        "In this case we will simulate a little game of chance.\n",
        "\n",
        "Peter and Paul play a simple game that consists of repeatedly tossing a fair coin. On a given toss, if it comes up heads, Peter wins 1 euro from Paul; otherwise, if it comes up tails, Peter gives 1 euro to Paul. Peter starts with zero euros, let's simulate the game for 50 tosses and see how lucky he is.\n",
        "\n",
        "We can simulate this game using the Python `choice()` function. Peter’s winning on a particular toss will be 1€ or -1€ with equal probability. His winnings on 50 repeated tosses can be considered to be a sample of size 50 selected with replacement from the set {1€, -1€}."
      ],
      "metadata": {
        "id": "s4561YsQp9xm"
      }
    },
    {
      "cell_type": "code",
      "source": [
        "np.random.seed(2023)\n",
        "win = np.random.choice(a = [-1,1], size = 50, replace = True)\n",
        "print(win[0:9])"
      ],
      "metadata": {
        "colab": {
          "base_uri": "https://localhost:8080/"
        },
        "id": "sJGgPOzJsmLa",
        "outputId": "ada4b7cb-4f5a-418d-f46d-de6f3237a62e"
      },
      "execution_count": null,
      "outputs": [
        {
          "output_type": "stream",
          "name": "stdout",
          "text": [
            "[ 1  1 -1  1  1 -1  1 -1 -1]\n"
          ]
        }
      ]
    },
    {
      "cell_type": "markdown",
      "source": [
        "For this particular game Peter won the first game, then won the second, lost the third and won the fourth…\n",
        "\n",
        "Suppose Peter is interested in his cumulative winnings as he plays this game. The function `np.cumsum()` computes the cumulative winnings of the individual values and we store the cumulative values in a vector named `cumul_win`."
      ],
      "metadata": {
        "id": "OtLbJVZKtCNb"
      }
    },
    {
      "cell_type": "code",
      "source": [
        "cumul_win = np.cumsum(win)\n",
        "print(cumul_win[0:9])"
      ],
      "metadata": {
        "colab": {
          "base_uri": "https://localhost:8080/"
        },
        "id": "is18H4QEtBcW",
        "outputId": "5d9dc59e-60b4-49a2-fe66-d7e448408440"
      },
      "execution_count": null,
      "outputs": [
        {
          "output_type": "stream",
          "name": "stdout",
          "text": [
            "[1 2 1 2 3 2 3 2 1]\n"
          ]
        }
      ]
    },
    {
      "cell_type": "markdown",
      "source": [
        "So at the end of this specific game Peter won 6€. The figure below reports Peter’s fortune as the game evolved. "
      ],
      "metadata": {
        "id": "PTmROtsWtsaa"
      }
    },
    {
      "cell_type": "code",
      "source": [
        "cumul_win[len(cumul_win)-1]"
      ],
      "metadata": {
        "colab": {
          "base_uri": "https://localhost:8080/"
        },
        "id": "yx48tMxVttRD",
        "outputId": "fa12a059-5852-40ca-a0fd-c18d8a500c21"
      },
      "execution_count": null,
      "outputs": [
        {
          "output_type": "execute_result",
          "data": {
            "text/plain": [
              "6"
            ]
          },
          "metadata": {},
          "execution_count": 144
        }
      ]
    },
    {
      "cell_type": "code",
      "source": [
        "cumul_win = np.array(cumul_win)\n",
        "plt.plot(cumul_win, 'o-', label = 'Euros')\n",
        "plt.legend()\n",
        "plt.axhline(y=0, color='r', linestyle='-')\n",
        "plt.title('Cumulative Winnings for Peter')\n",
        "plt.xlabel('Game plays')\n",
        "plt.ylabel('Cumulative wins')\n",
        "plt.show()"
      ],
      "metadata": {
        "colab": {
          "base_uri": "https://localhost:8080/",
          "height": 295
        },
        "id": "6srr9qkmt1QE",
        "outputId": "1f5e6dcf-c045-450d-d6d7-76b31d795ff0"
      },
      "execution_count": null,
      "outputs": [
        {
          "output_type": "display_data",
          "data": {
            "text/plain": [
              "<Figure size 432x288 with 1 Axes>"
            ],
            "image/png": "[encoded data removed]"
          },
          "metadata": {
            "needs_background": "light"
          }
        }
      ]
    },
    {
      "cell_type": "markdown",
      "source": [
        "Of course this is the result of a single simulation and the outcome may be totally different than the one we saw. The next figure reports four simulated games: we can see that in the first one Peter wins, in the second he loses, ..."
      ],
      "metadata": {
        "id": "X55SQexlu2KF"
      }
    },
    {
      "cell_type": "code",
      "source": [
        "np.random.seed(2023)\n",
        "fig, axs = plt.subplots(2, 2)\n",
        "\n",
        "cumul_win = np.array(np.cumsum(np.random.choice(a = [-1,1], size = 50, replace = True)))\n",
        "axs[0, 0].plot(cumul_win, '-')\n",
        "axs[0, 0].axhline(y=0, color='r', linestyle='-')\n",
        "\n",
        "cumul_win = np.array(np.cumsum(np.random.choice(a = [-1,1], size = 50, replace = True)))\n",
        "axs[1, 0].plot(cumul_win, '-')\n",
        "axs[1, 0].axhline(y=0, color='r', linestyle='-')\n",
        "\n",
        "cumul_win = np.array(np.cumsum(np.random.choice(a = [-1,1], size = 50, replace = True)))\n",
        "axs[0, 1].plot(cumul_win, '-')\n",
        "axs[0, 1].axhline(y=0, color='r', linestyle='-')\n",
        "\n",
        "cumul_win = np.array(np.cumsum(np.random.choice(a = [-1,1], size = 50, replace = True)))\n",
        "axs[1, 1].plot(cumul_win, '-')\n",
        "axs[1, 1].axhline(y=0, color='r', linestyle='-')\n",
        "\n",
        "fig.tight_layout()"
      ],
      "metadata": {
        "colab": {
          "base_uri": "https://localhost:8080/",
          "height": 297
        },
        "id": "DvdoQok2vmY0",
        "outputId": "18dd1066-4440-43e6-a3aa-77aa7ed5a632"
      },
      "execution_count": null,
      "outputs": [
        {
          "output_type": "display_data",
          "data": {
            "text/plain": [
              "<Figure size 432x288 with 4 Axes>"
            ],
            "image/png": "[encoded data removed]"
          },
          "metadata": {
            "needs_background": "light"
          }
        }
      ]
    },
    {
      "cell_type": "markdown",
      "source": [
        "Suppose we are interested in the following question.\n",
        "\n",
        "**What is the probability that Peter breaks even at the end of the game?**\n",
        "\n",
        "Evidently we cannot cannot answer by simply looking at the outputs of the previous simulations. We need to do a formal Monte Carlo study. In this type of experiment, we simulate the random process and compute the statistic of interest. By repeating the random process many times, we obtain a collection of values of the statistic, which can then be used to approximate probabilities or expectations that answer the questions.\n",
        "\n",
        "As you may recall from the estimation of $π$ experiment, we first need to write a function that simulates the experiment. In particular we need to write a function which outputs Peter’s winning at the end of the game. To make this function more general, we define `n` to be the number of tosses and let the default value of `n` be 50."
      ],
      "metadata": {
        "id": "aly7-1nexrGi"
      }
    },
    {
      "cell_type": "code",
      "source": [
        "def peter_paul(n = 50):\n",
        "  return(sum(np.random.choice(a = [-1,1], size = 50, replace = True)))"
      ],
      "metadata": {
        "id": "SyhxO5PEyCcg"
      },
      "execution_count": null,
      "outputs": []
    },
    {
      "cell_type": "code",
      "source": [
        "np.random.seed(2023)\n",
        "peter_paul()"
      ],
      "metadata": {
        "colab": {
          "base_uri": "https://localhost:8080/"
        },
        "id": "8XBQhAxCyXYs",
        "outputId": "2e207441-26fa-4b08-8820-222a603ecc89"
      },
      "execution_count": null,
      "outputs": [
        {
          "output_type": "execute_result",
          "data": {
            "text/plain": [
              "6"
            ]
          },
          "metadata": {},
          "execution_count": 157
        }
      ]
    },
    {
      "cell_type": "markdown",
      "source": [
        "The output is the same as the previous code, so it seems that our function works correctly.\n",
        "\n",
        "Let’s replicate the experiment many times."
      ],
      "metadata": {
        "id": "oNVq6raLylL9"
      }
    },
    {
      "cell_type": "code",
      "source": [
        "def peter_paul_rep(replicas = 1000, n = 50):\n",
        "  results = []\n",
        "  for i in range(replicas):\n",
        "    results.append(peter_paul(n))\n",
        "  return(results)"
      ],
      "metadata": {
        "id": "bTQmYd54ymf8"
      },
      "execution_count": null,
      "outputs": []
    },
    {
      "cell_type": "code",
      "source": [
        "np.random.seed(2023)\n",
        "experiment = peter_paul_rep()\n",
        "experiment[:9]"
      ],
      "metadata": {
        "colab": {
          "base_uri": "https://localhost:8080/"
        },
        "id": "FBBxMFxYy73W",
        "outputId": "b100140e-581e-415b-8601-4ecbf8486b2f"
      },
      "execution_count": null,
      "outputs": [
        {
          "output_type": "execute_result",
          "data": {
            "text/plain": [
              "[6, 12, -8, -2, 12, 0, 2, -2, 4]"
            ]
          },
          "metadata": {},
          "execution_count": 191
        }
      ]
    },
    {
      "cell_type": "code",
      "source": [
        "import pandas as pd\n",
        "experiment = pd.Series(sorted(experiment))\n",
        "experiment_df = pd.DataFrame(experiment.value_counts(sort = False).rename_axis('values').reset_index(name='counts'))\n",
        "experiment_df.T"
      ],
      "metadata": {
        "colab": {
          "base_uri": "https://localhost:8080/",
          "height": 112
        },
        "id": "cNvyRWbDz3b3",
        "outputId": "926c7f34-c7fe-4cb9-f8ca-8f732ce1663f"
      },
      "execution_count": null,
      "outputs": [
        {
          "output_type": "execute_result",
          "data": {
            "text/plain": [
              "        0   1   2   3   4   5   6   7    8    9    10  11  12  13  14  15  16  \\\n",
              "values -20 -16 -14 -12 -10  -8  -6  -4   -2    0    2   4   6   8  10  12  14   \n",
              "counts   1   7  17  35  44  45  69  99  109  109  109  91  76  73  45  27  22   \n",
              "\n",
              "        17  18  19  \n",
              "values  16  18  20  \n",
              "counts  12   8   2  "
            ],
            "text/html": [
              "\n",
              "  <div id=\"df-65fecc0f-0f91-45d2-ab45-f4325140254e\">\n",
              "    <div class=\"colab-df-container\">\n",
              "      <div>\n",
              "<style scoped>\n",
              "    .dataframe tbody tr th:only-of-type {\n",
              "        vertical-align: middle;\n",
              "    }\n",
              "\n",
              "    .dataframe tbody tr th {\n",
              "        vertical-align: top;\n",
              "    }\n",
              "\n",
              "    .dataframe thead th {\n",
              "        text-align: right;\n",
              "    }\n",
              "</style>\n",
              "<table border=\"1\" class=\"dataframe\">\n",
              "  <thead>\n",
              "    <tr style=\"text-align: right;\">\n",
              "      <th></th>\n",
              "      <th>0</th>\n",
              "      <th>1</th>\n",
              "      <th>2</th>\n",
              "      <th>3</th>\n",
              "      <th>4</th>\n",
              "      <th>5</th>\n",
              "      <th>6</th>\n",
              "      <th>7</th>\n",
              "      <th>8</th>\n",
              "      <th>9</th>\n",
              "      <th>10</th>\n",
              "      <th>11</th>\n",
              "      <th>12</th>\n",
              "      <th>13</th>\n",
              "      <th>14</th>\n",
              "      <th>15</th>\n",
              "      <th>16</th>\n",
              "      <th>17</th>\n",
              "      <th>18</th>\n",
              "      <th>19</th>\n",
              "    </tr>\n",
              "  </thead>\n",
              "  <tbody>\n",
              "    <tr>\n",
              "      <th>values</th>\n",
              "      <td>-20</td>\n",
              "      <td>-16</td>\n",
              "      <td>-14</td>\n",
              "      <td>-12</td>\n",
              "      <td>-10</td>\n",
              "      <td>-8</td>\n",
              "      <td>-6</td>\n",
              "      <td>-4</td>\n",
              "      <td>-2</td>\n",
              "      <td>0</td>\n",
              "      <td>2</td>\n",
              "      <td>4</td>\n",
              "      <td>6</td>\n",
              "      <td>8</td>\n",
              "      <td>10</td>\n",
              "      <td>12</td>\n",
              "      <td>14</td>\n",
              "      <td>16</td>\n",
              "      <td>18</td>\n",
              "      <td>20</td>\n",
              "    </tr>\n",
              "    <tr>\n",
              "      <th>counts</th>\n",
              "      <td>1</td>\n",
              "      <td>7</td>\n",
              "      <td>17</td>\n",
              "      <td>35</td>\n",
              "      <td>44</td>\n",
              "      <td>45</td>\n",
              "      <td>69</td>\n",
              "      <td>99</td>\n",
              "      <td>109</td>\n",
              "      <td>109</td>\n",
              "      <td>109</td>\n",
              "      <td>91</td>\n",
              "      <td>76</td>\n",
              "      <td>73</td>\n",
              "      <td>45</td>\n",
              "      <td>27</td>\n",
              "      <td>22</td>\n",
              "      <td>12</td>\n",
              "      <td>8</td>\n",
              "      <td>2</td>\n",
              "    </tr>\n",
              "  </tbody>\n",
              "</table>\n",
              "</div>\n",
              "      <button class=\"colab-df-convert\" onclick=\"convertToInteractive('df-65fecc0f-0f91-45d2-ab45-f4325140254e')\"\n",
              "              title=\"Convert this dataframe to an interactive table.\"\n",
              "              style=\"display:none;\">\n",
              "        \n",
              "  <svg xmlns=\"http://www.w3.org/2000/svg\" height=\"24px\"viewBox=\"0 0 24 24\"\n",
              "       width=\"24px\">\n",
              "    <path d=\"M0 0h24v24H0V0z\" fill=\"none\"/>\n",
              "    <path d=\"M18.56 5.44l.94 2.06.94-2.06 2.06-.94-2.06-.94-.94-2.06-.94 2.06-2.06.94zm-11 1L8.5 8.5l.94-2.06 2.06-.94-2.06-.94L8.5 2.5l-.94 2.06-2.06.94zm10 10l.94 2.06.94-2.06 2.06-.94-2.06-.94-.94-2.06-.94 2.06-2.06.94z\"/><path d=\"M17.41 7.96l-1.37-1.37c-.4-.4-.92-.59-1.43-.59-.52 0-1.04.2-1.43.59L10.3 9.45l-7.72 7.72c-.78.78-.78 2.05 0 2.83L4 21.41c.39.39.9.59 1.41.59.51 0 1.02-.2 1.41-.59l7.78-7.78 2.81-2.81c.8-.78.8-2.07 0-2.86zM5.41 20L4 18.59l7.72-7.72 1.47 1.35L5.41 20z\"/>\n",
              "  </svg>\n",
              "      </button>\n",
              "      \n",
              "  <style>\n",
              "    .colab-df-container {\n",
              "      display:flex;\n",
              "      flex-wrap:wrap;\n",
              "      gap: 12px;\n",
              "    }\n",
              "\n",
              "    .colab-df-convert {\n",
              "      background-color: #E8F0FE;\n",
              "      border: none;\n",
              "      border-radius: 50%;\n",
              "      cursor: pointer;\n",
              "      display: none;\n",
              "      fill: #1967D2;\n",
              "      height: 32px;\n",
              "      padding: 0 0 0 0;\n",
              "      width: 32px;\n",
              "    }\n",
              "\n",
              "    .colab-df-convert:hover {\n",
              "      background-color: #E2EBFA;\n",
              "      box-shadow: 0px 1px 2px rgba(60, 64, 67, 0.3), 0px 1px 3px 1px rgba(60, 64, 67, 0.15);\n",
              "      fill: #174EA6;\n",
              "    }\n",
              "\n",
              "    [theme=dark] .colab-df-convert {\n",
              "      background-color: #3B4455;\n",
              "      fill: #D2E3FC;\n",
              "    }\n",
              "\n",
              "    [theme=dark] .colab-df-convert:hover {\n",
              "      background-color: #434B5C;\n",
              "      box-shadow: 0px 1px 3px 1px rgba(0, 0, 0, 0.15);\n",
              "      filter: drop-shadow(0px 1px 2px rgba(0, 0, 0, 0.3));\n",
              "      fill: #FFFFFF;\n",
              "    }\n",
              "  </style>\n",
              "\n",
              "      <script>\n",
              "        const buttonEl =\n",
              "          document.querySelector('#df-65fecc0f-0f91-45d2-ab45-f4325140254e button.colab-df-convert');\n",
              "        buttonEl.style.display =\n",
              "          google.colab.kernel.accessAllowed ? 'block' : 'none';\n",
              "\n",
              "        async function convertToInteractive(key) {\n",
              "          const element = document.querySelector('#df-65fecc0f-0f91-45d2-ab45-f4325140254e');\n",
              "          const dataTable =\n",
              "            await google.colab.kernel.invokeFunction('convertToInteractive',\n",
              "                                                     [key], {});\n",
              "          if (!dataTable) return;\n",
              "\n",
              "          const docLinkHtml = 'Like what you see? Visit the ' +\n",
              "            '<a target=\"_blank\" href=https://colab.research.google.com/notebooks/data_table.ipynb>data table notebook</a>'\n",
              "            + ' to learn more about interactive tables.';\n",
              "          element.innerHTML = '';\n",
              "          dataTable['output_type'] = 'display_data';\n",
              "          await google.colab.output.renderOutput(dataTable, element);\n",
              "          const docLink = document.createElement('div');\n",
              "          docLink.innerHTML = docLinkHtml;\n",
              "          element.appendChild(docLink);\n",
              "        }\n",
              "      </script>\n",
              "    </div>\n",
              "  </div>\n",
              "  "
            ]
          },
          "metadata": {},
          "execution_count": 194
        }
      ]
    },
    {
      "cell_type": "code",
      "source": [
        "plt.vlines(experiment_df[\"values\"], 0, experiment_df[\"counts\"], colors='b', lw=5)\n",
        "plt.plot(experiment_df[\"values\"], experiment_df[\"counts\"], 'bo', markersize=10)\n",
        "plt.xlabel(\"Value\")\n",
        "plt.ylabel(\"Frequency\")\n",
        "plt.title(\"Frequency of different results in Peter Paul experiment\")\n",
        "plt.show()"
      ],
      "metadata": {
        "colab": {
          "base_uri": "https://localhost:8080/",
          "height": 295
        },
        "id": "NDAA8X_y2mbY",
        "outputId": "5493e264-af4d-4875-ea97-e1e30036962b"
      },
      "execution_count": null,
      "outputs": [
        {
          "output_type": "display_data",
          "data": {
            "text/plain": [
              "<Figure size 432x288 with 1 Axes>"
            ],
            "image/png": "[encoded data removed]"
          },
          "metadata": {
            "needs_background": "light"
          }
        }
      ]
    },
    {
      "cell_type": "markdown",
      "source": [
        "**What is the probability that Peter breaks even at the end of the game?**\n",
        "\n",
        "So we can see that Peter breaks even 109 out of 1000 times. Furthermore the plot shows us that most commonly Peter will win/lose little money and that big wins/losses are unlikely.\n",
        "\n",
        "To conclude our experiment we need to calculate our estimated probability of Peter breaking even. Clearly this is equal to $109/1000= 0.109$. In Python:"
      ],
      "metadata": {
        "id": "X7FasuKQ4gPY"
      }
    },
    {
      "cell_type": "code",
      "source": [
        "sum(experiment == 0)/1000"
      ],
      "metadata": {
        "colab": {
          "base_uri": "https://localhost:8080/"
        },
        "id": "K8RmBTTC4lVC",
        "outputId": "00c89172-ee31-4339-a8d0-0dd3272e78e8"
      },
      "execution_count": null,
      "outputs": [
        {
          "output_type": "execute_result",
          "data": {
            "text/plain": [
              "0.109"
            ]
          },
          "metadata": {},
          "execution_count": 196
        }
      ]
    },
    {
      "cell_type": "markdown",
      "source": [
        "Notice that we could have also answered this question exactly. The event Peter breaking even coincides with a number of successes $n/2$ in a Binomial experiment with parameters `n=50` and `p=0.5`. This can be computed in Python as:"
      ],
      "metadata": {
        "id": "GpyMNjns5JU2"
      }
    },
    {
      "cell_type": "code",
      "source": [
        "from scipy import stats\n",
        "stats.binom.pmf(k = 25, n = 50, p = 0.5)"
      ],
      "metadata": {
        "colab": {
          "base_uri": "https://localhost:8080/"
        },
        "id": "Owv7UzV75N0u",
        "outputId": "26eab917-5ee2-439c-9db6-ee7f4c2213fa"
      },
      "execution_count": null,
      "outputs": [
        {
          "output_type": "execute_result",
          "data": {
            "text/plain": [
              "0.112275172659217"
            ]
          },
          "metadata": {},
          "execution_count": 197
        }
      ]
    },
    {
      "cell_type": "markdown",
      "source": [
        "## Monte Carlo for Inference\n",
        "\n",
        "Monte Carlo Simulation is a very useful tool when we want to make inferences about real world scenarios. In this second part of the module we will learn one of the most useful uses of Monte Carlo Simulation, that is Monte Carlo for Inference.\n",
        "\n",
        "In statistical inference there is uncertainty in any estimate. The methods we are going to see use repeated sampling from a given probability model, known as parametric bootstrap. We simulate the stochastic process that generated the data, repeatedly drawing samples under identical conditions.\n",
        "\n",
        "To infer means to draw a general conclusion from particular facts. Statistical inference is a set of methods and techniques that allow us to deduce characteristics of a population using data from a random sample. The method we are going to use the most to infer is the parameter estimation method.\n",
        "We estimate parameters of a population from a sample because we will rarely have access to all the data of the population. Such is the case of election surveys, disease studies, etc. in empirical studies.\n",
        "\n",
        "### How can we use Monte Carlo for Inference?\n",
        "\n",
        "We have already used Monte Carlo for Inference in the previous section. Monte Carlo Simulation will allow us to infer general conclusions by replicating an experiment and calculating parametrized statistics. We did infer the probability of Peter breaking even after 50 games, but as we have learned, this probability can be calculated with the Binomial distribution. Now we will see some more examples in which we can only approximate the solution to infer the result.\n",
        "\n",
        "We will try to answer to the following questions:\n",
        "* How often Peter will be on the lead?\n",
        "* What is the maximum possible fortune for Peter during the game?\n",
        "* What will be value of Peter’s fortune at the end?\n",
        "\n",
        "We can add additional lines of code to our function `peter_paul` to compute several statistics of interest in our experiment. To answer our questions, we focus on the final fortune `F`, the number of times Peter is in the lead `L`, and the maximum cumulative winning `M`. The output of the function is a list consisting of the values of `F`, `L`, and `M`."
      ],
      "metadata": {
        "id": "O8Lc36E-BWNq"
      }
    },
    {
      "cell_type": "code",
      "source": [
        "def peter_paul(n = 50):\n",
        "  win = np.random.choice([-1,1],n,True)\n",
        "  cumul_win = np.cumsum(win)\n",
        "  results = [sum(win), sum(cumul_win > 0), max(cumul_win)]\n",
        "  return(np.array(results))\n"
      ],
      "metadata": {
        "id": "RqMm6F8UEY1h"
      },
      "execution_count": null,
      "outputs": []
    },
    {
      "cell_type": "code",
      "source": [
        "np.random.seed(2023)\n",
        "peter_paul()"
      ],
      "metadata": {
        "colab": {
          "base_uri": "https://localhost:8080/"
        },
        "id": "_bqR_Wq4FtOL",
        "outputId": "124d2f95-39e5-4bcf-c45d-1beb0b4bf961"
      },
      "execution_count": null,
      "outputs": [
        {
          "output_type": "execute_result",
          "data": {
            "text/plain": [
              "array([ 6, 46,  7])"
            ]
          },
          "metadata": {},
          "execution_count": 211
        }
      ]
    },
    {
      "cell_type": "markdown",
      "source": [
        "Now that we have defined all the parameters to estimate in our experiment, the next step will be to replicate the experiment. Since the output of peter_paul is a vector, S will be a matrix of 3 columns and 1000 rows, where the columns correspond to the simulated draws of F, L, and M. We can verify the dimension of the matrix of S using the `shape` attribute."
      ],
      "metadata": {
        "id": "AOsGK8YlGzep"
      }
    },
    {
      "cell_type": "code",
      "source": [
        "def peter_paul_rep(n_replicas = 1000, n = 50):\n",
        "  results = np.zeros((n_replicas,3))\n",
        "  for i in range(n_replicas):\n",
        "    exp = peter_paul(n)\n",
        "    results[i,] = exp\n",
        "  return(results)"
      ],
      "metadata": {
        "id": "1m9HiLLgGbCI"
      },
      "execution_count": null,
      "outputs": []
    },
    {
      "cell_type": "code",
      "source": [
        "S = peter_paul_rep()\n",
        "S.shape"
      ],
      "metadata": {
        "colab": {
          "base_uri": "https://localhost:8080/"
        },
        "id": "0KLf-9X2HX63",
        "outputId": "d043bd94-7aaf-4587-c2dc-ba5933622dd6"
      },
      "execution_count": null,
      "outputs": [
        {
          "output_type": "execute_result",
          "data": {
            "text/plain": [
              "(1000, 3)"
            ]
          },
          "metadata": {},
          "execution_count": 216
        }
      ]
    },
    {
      "cell_type": "markdown",
      "source": [
        "**How many times Peter in the lead?** The likely answer to this question (we do not know for sure) is in the `L` column (the second). We will create the `times_in_lead` variable with all the values and print the first 10."
      ],
      "metadata": {
        "id": "4ipb5i3eIejj"
      }
    },
    {
      "cell_type": "code",
      "source": [
        "times_in_lead = S[:,1]\n",
        "print(times_in_lead[:9])"
      ],
      "metadata": {
        "colab": {
          "base_uri": "https://localhost:8080/"
        },
        "id": "N1CnnrnZIPRO",
        "outputId": "1db6110c-976c-4c85-b0b1-ace563e5f8ff"
      },
      "execution_count": null,
      "outputs": [
        {
          "output_type": "stream",
          "name": "stdout",
          "text": [
            "[16.  5.  1.  0.  2.  0. 48. 31. 30.]\n"
          ]
        }
      ]
    },
    {
      "cell_type": "markdown",
      "source": [
        "We can use the same strategy as for the Peter final fortune and plot the value counts."
      ],
      "metadata": {
        "id": "1-l0guqcJZCE"
      }
    },
    {
      "cell_type": "code",
      "source": [
        "times_in_lead_df = pd.Series(sorted(times_in_lead))\n",
        "times_in_lead_df = pd.DataFrame(times_in_lead_df.value_counts(sort = False).rename_axis('values').reset_index(name='counts'))\n",
        "times_in_lead_df.T"
      ],
      "metadata": {
        "colab": {
          "base_uri": "https://localhost:8080/",
          "height": 141
        },
        "id": "b9VQSX5ZJgxe",
        "outputId": "ebad6587-e245-409a-f8b9-57b1cee8974c"
      },
      "execution_count": null,
      "outputs": [
        {
          "output_type": "execute_result",
          "data": {
            "text/plain": [
              "           0     1     2     3     4     5    6     7     8     9   ...    41  \\\n",
              "values    0.0   1.0   2.0   3.0   4.0   5.0  6.0   7.0   8.0   9.0  ...  41.0   \n",
              "counts  124.0  56.0  30.0  28.0  22.0  15.0  9.0  12.0  12.0  14.0  ...  17.0   \n",
              "\n",
              "          42    43    44    45    46    47    48    49    50  \n",
              "values  42.0  43.0  44.0  45.0  46.0  47.0  48.0  49.0  50.0  \n",
              "counts  23.0  23.0  18.0  20.0  19.0  26.0  37.0  25.0  58.0  \n",
              "\n",
              "[2 rows x 51 columns]"
            ],
            "text/html": [
              "\n",
              "  <div id=\"df-45c5083c-32ed-4a33-9304-e04216d5d712\">\n",
              "    <div class=\"colab-df-container\">\n",
              "      <div>\n",
              "<style scoped>\n",
              "    .dataframe tbody tr th:only-of-type {\n",
              "        vertical-align: middle;\n",
              "    }\n",
              "\n",
              "    .dataframe tbody tr th {\n",
              "        vertical-align: top;\n",
              "    }\n",
              "\n",
              "    .dataframe thead th {\n",
              "        text-align: right;\n",
              "    }\n",
              "</style>\n",
              "<table border=\"1\" class=\"dataframe\">\n",
              "  <thead>\n",
              "    <tr style=\"text-align: right;\">\n",
              "      <th></th>\n",
              "      <th>0</th>\n",
              "      <th>1</th>\n",
              "      <th>2</th>\n",
              "      <th>3</th>\n",
              "      <th>4</th>\n",
              "      <th>5</th>\n",
              "      <th>6</th>\n",
              "      <th>7</th>\n",
              "      <th>8</th>\n",
              "      <th>9</th>\n",
              "      <th>...</th>\n",
              "      <th>41</th>\n",
              "      <th>42</th>\n",
              "      <th>43</th>\n",
              "      <th>44</th>\n",
              "      <th>45</th>\n",
              "      <th>46</th>\n",
              "      <th>47</th>\n",
              "      <th>48</th>\n",
              "      <th>49</th>\n",
              "      <th>50</th>\n",
              "    </tr>\n",
              "  </thead>\n",
              "  <tbody>\n",
              "    <tr>\n",
              "      <th>values</th>\n",
              "      <td>0.0</td>\n",
              "      <td>1.0</td>\n",
              "      <td>2.0</td>\n",
              "      <td>3.0</td>\n",
              "      <td>4.0</td>\n",
              "      <td>5.0</td>\n",
              "      <td>6.0</td>\n",
              "      <td>7.0</td>\n",
              "      <td>8.0</td>\n",
              "      <td>9.0</td>\n",
              "      <td>...</td>\n",
              "      <td>41.0</td>\n",
              "      <td>42.0</td>\n",
              "      <td>43.0</td>\n",
              "      <td>44.0</td>\n",
              "      <td>45.0</td>\n",
              "      <td>46.0</td>\n",
              "      <td>47.0</td>\n",
              "      <td>48.0</td>\n",
              "      <td>49.0</td>\n",
              "      <td>50.0</td>\n",
              "    </tr>\n",
              "    <tr>\n",
              "      <th>counts</th>\n",
              "      <td>124.0</td>\n",
              "      <td>56.0</td>\n",
              "      <td>30.0</td>\n",
              "      <td>28.0</td>\n",
              "      <td>22.0</td>\n",
              "      <td>15.0</td>\n",
              "      <td>9.0</td>\n",
              "      <td>12.0</td>\n",
              "      <td>12.0</td>\n",
              "      <td>14.0</td>\n",
              "      <td>...</td>\n",
              "      <td>17.0</td>\n",
              "      <td>23.0</td>\n",
              "      <td>23.0</td>\n",
              "      <td>18.0</td>\n",
              "      <td>20.0</td>\n",
              "      <td>19.0</td>\n",
              "      <td>26.0</td>\n",
              "      <td>37.0</td>\n",
              "      <td>25.0</td>\n",
              "      <td>58.0</td>\n",
              "    </tr>\n",
              "  </tbody>\n",
              "</table>\n",
              "<p>2 rows × 51 columns</p>\n",
              "</div>\n",
              "      <button class=\"colab-df-convert\" onclick=\"convertToInteractive('df-45c5083c-32ed-4a33-9304-e04216d5d712')\"\n",
              "              title=\"Convert this dataframe to an interactive table.\"\n",
              "              style=\"display:none;\">\n",
              "        \n",
              "  <svg xmlns=\"http://www.w3.org/2000/svg\" height=\"24px\"viewBox=\"0 0 24 24\"\n",
              "       width=\"24px\">\n",
              "    <path d=\"M0 0h24v24H0V0z\" fill=\"none\"/>\n",
              "    <path d=\"M18.56 5.44l.94 2.06.94-2.06 2.06-.94-2.06-.94-.94-2.06-.94 2.06-2.06.94zm-11 1L8.5 8.5l.94-2.06 2.06-.94-2.06-.94L8.5 2.5l-.94 2.06-2.06.94zm10 10l.94 2.06.94-2.06 2.06-.94-2.06-.94-.94-2.06-.94 2.06-2.06.94z\"/><path d=\"M17.41 7.96l-1.37-1.37c-.4-.4-.92-.59-1.43-.59-.52 0-1.04.2-1.43.59L10.3 9.45l-7.72 7.72c-.78.78-.78 2.05 0 2.83L4 21.41c.39.39.9.59 1.41.59.51 0 1.02-.2 1.41-.59l7.78-7.78 2.81-2.81c.8-.78.8-2.07 0-2.86zM5.41 20L4 18.59l7.72-7.72 1.47 1.35L5.41 20z\"/>\n",
              "  </svg>\n",
              "      </button>\n",
              "      \n",
              "  <style>\n",
              "    .colab-df-container {\n",
              "      display:flex;\n",
              "      flex-wrap:wrap;\n",
              "      gap: 12px;\n",
              "    }\n",
              "\n",
              "    .colab-df-convert {\n",
              "      background-color: #E8F0FE;\n",
              "      border: none;\n",
              "      border-radius: 50%;\n",
              "      cursor: pointer;\n",
              "      display: none;\n",
              "      fill: #1967D2;\n",
              "      height: 32px;\n",
              "      padding: 0 0 0 0;\n",
              "      width: 32px;\n",
              "    }\n",
              "\n",
              "    .colab-df-convert:hover {\n",
              "      background-color: #E2EBFA;\n",
              "      box-shadow: 0px 1px 2px rgba(60, 64, 67, 0.3), 0px 1px 3px 1px rgba(60, 64, 67, 0.15);\n",
              "      fill: #174EA6;\n",
              "    }\n",
              "\n",
              "    [theme=dark] .colab-df-convert {\n",
              "      background-color: #3B4455;\n",
              "      fill: #D2E3FC;\n",
              "    }\n",
              "\n",
              "    [theme=dark] .colab-df-convert:hover {\n",
              "      background-color: #434B5C;\n",
              "      box-shadow: 0px 1px 3px 1px rgba(0, 0, 0, 0.15);\n",
              "      filter: drop-shadow(0px 1px 2px rgba(0, 0, 0, 0.3));\n",
              "      fill: #FFFFFF;\n",
              "    }\n",
              "  </style>\n",
              "\n",
              "      <script>\n",
              "        const buttonEl =\n",
              "          document.querySelector('#df-45c5083c-32ed-4a33-9304-e04216d5d712 button.colab-df-convert');\n",
              "        buttonEl.style.display =\n",
              "          google.colab.kernel.accessAllowed ? 'block' : 'none';\n",
              "\n",
              "        async function convertToInteractive(key) {\n",
              "          const element = document.querySelector('#df-45c5083c-32ed-4a33-9304-e04216d5d712');\n",
              "          const dataTable =\n",
              "            await google.colab.kernel.invokeFunction('convertToInteractive',\n",
              "                                                     [key], {});\n",
              "          if (!dataTable) return;\n",
              "\n",
              "          const docLinkHtml = 'Like what you see? Visit the ' +\n",
              "            '<a target=\"_blank\" href=https://colab.research.google.com/notebooks/data_table.ipynb>data table notebook</a>'\n",
              "            + ' to learn more about interactive tables.';\n",
              "          element.innerHTML = '';\n",
              "          dataTable['output_type'] = 'display_data';\n",
              "          await google.colab.output.renderOutput(dataTable, element);\n",
              "          const docLink = document.createElement('div');\n",
              "          docLink.innerHTML = docLinkHtml;\n",
              "          element.appendChild(docLink);\n",
              "        }\n",
              "      </script>\n",
              "    </div>\n",
              "  </div>\n",
              "  "
            ]
          },
          "metadata": {},
          "execution_count": 237
        }
      ]
    },
    {
      "cell_type": "code",
      "source": [
        "plt.vlines(times_in_lead_df[\"values\"], 0, times_in_lead_df[\"counts\"], colors='b', lw=5)\n",
        "plt.xlabel(\"Value\")\n",
        "plt.ylabel(\"Frequency\")\n",
        "plt.title(\"Frequency of different times in lead in Peter Paul experiment\")\n",
        "plt.show()"
      ],
      "metadata": {
        "colab": {
          "base_uri": "https://localhost:8080/",
          "height": 295
        },
        "id": "dbTpcglkJsZq",
        "outputId": "4559a9ce-c027-4950-c94a-54d5602e160c"
      },
      "execution_count": null,
      "outputs": [
        {
          "output_type": "display_data",
          "data": {
            "text/plain": [
              "<Figure size 432x288 with 1 Axes>"
            ],
            "image/png": "[encoded data removed]"
          },
          "metadata": {
            "needs_background": "light"
          }
        }
      ]
    },
    {
      "cell_type": "markdown",
      "source": [
        "In this case can be also useful to understand the results to use the proportions for each value in `times_in_lead` to understand them better:"
      ],
      "metadata": {
        "id": "pFSh9oWjLkm1"
      }
    },
    {
      "cell_type": "code",
      "source": [
        "times_in_lead_df[\"prop\"] = times_in_lead_df[\"counts\"]/max(times_in_lead_df[\"counts\"])\n",
        "plt.vlines(times_in_lead_df[\"values\"], 0, times_in_lead_df[\"prop\"], colors='b', lw=5)\n",
        "plt.xlabel(\"Value\")\n",
        "plt.ylabel(\"Proportions\")\n",
        "plt.title(\"Proportions of different times in lead in Peter Paul experiment\")\n",
        "plt.show()"
      ],
      "metadata": {
        "colab": {
          "base_uri": "https://localhost:8080/",
          "height": 295
        },
        "id": "7drJzzzjJ9I0",
        "outputId": "27b628f9-858f-4728-b6aa-a14f8d311add"
      },
      "execution_count": null,
      "outputs": [
        {
          "output_type": "display_data",
          "data": {
            "text/plain": [
              "<Figure size 432x288 with 1 Axes>"
            ],
            "image/png": "[encoded data removed]"
          },
          "metadata": {
            "needs_background": "light"
          }
        }
      ]
    },
    {
      "cell_type": "markdown",
      "source": [
        "Finally, we can compute some statistics of this variable from the S matrix:"
      ],
      "metadata": {
        "id": "1fJBmn9CLu_f"
      }
    },
    {
      "cell_type": "code",
      "source": [
        "pd.DataFrame(S)[1].describe()"
      ],
      "metadata": {
        "colab": {
          "base_uri": "https://localhost:8080/"
        },
        "id": "6DebLwzSL3gW",
        "outputId": "93f35e75-cc98-4b52-90ed-76f369c5f217"
      },
      "execution_count": null,
      "outputs": [
        {
          "output_type": "execute_result",
          "data": {
            "text/plain": [
              "count    1000.000000\n",
              "mean       23.454000\n",
              "std        18.089475\n",
              "min         0.000000\n",
              "25%         4.000000\n",
              "50%        23.000000\n",
              "75%        41.000000\n",
              "max        50.000000\n",
              "Name: 1, dtype: float64"
            ]
          },
          "metadata": {},
          "execution_count": 243
        }
      ]
    },
    {
      "cell_type": "markdown",
      "source": [
        "**How many times Peter in the lead?**\n",
        "\n",
        "We can not ensure this result, but we can say that is more likely for Peter to be all the time or never in the lead than middle situations. We can also say that the average of times in the lead for Peter is 23 out of 50.\n",
        "\n",
        "**What is the maximum possible fortune for Peter during the game?**\n",
        "\n",
        "Let’s consider the distribution of `M`, Peter’s maximum winning during the 50 plays. We store the 1000 simulated values of `M` in the variable `maximum_lead` and extract some valuable information as before:"
      ],
      "metadata": {
        "id": "99Bwyu0uMUN0"
      }
    },
    {
      "cell_type": "code",
      "source": [
        "maximum_lead = S[:,2]"
      ],
      "metadata": {
        "id": "HzLBoJipNDZR"
      },
      "execution_count": null,
      "outputs": []
    },
    {
      "cell_type": "code",
      "source": [
        "maximum_lead_df = pd.Series(sorted(maximum_lead))\n",
        "maximum_lead_df = pd.DataFrame(maximum_lead_df.value_counts(sort = False).rename_axis('values').reset_index(name='counts'))\n",
        "maximum_lead_df[\"prop\"] = maximum_lead_df[\"counts\"]/max(maximum_lead_df[\"counts\"])\n",
        "plt.vlines(maximum_lead_df[\"values\"], 0, maximum_lead_df[\"prop\"], colors='b', lw=5)\n",
        "plt.xlabel(\"Value\")\n",
        "plt.ylabel(\"Proportions\")\n",
        "plt.title(\"Proportions of different max winnings for Peter\")\n",
        "plt.show()"
      ],
      "metadata": {
        "colab": {
          "base_uri": "https://localhost:8080/",
          "height": 295
        },
        "id": "3lksDwL9NOtY",
        "outputId": "292de1b5-a805-47c1-ca8f-c086633479ec"
      },
      "execution_count": null,
      "outputs": [
        {
          "output_type": "display_data",
          "data": {
            "text/plain": [
              "<Figure size 432x288 with 1 Axes>"
            ],
            "image/png": "[encoded data removed]"
          },
          "metadata": {
            "needs_background": "light"
          }
        }
      ]
    },
    {
      "cell_type": "code",
      "source": [
        "pd.DataFrame(S)[2].describe()"
      ],
      "metadata": {
        "colab": {
          "base_uri": "https://localhost:8080/"
        },
        "id": "ov_61EvzO19y",
        "outputId": "0076b2fa-4a94-4268-9b9b-459faefdc48b"
      },
      "execution_count": null,
      "outputs": [
        {
          "output_type": "execute_result",
          "data": {
            "text/plain": [
              "count    1000.000000\n",
              "mean        5.374000\n",
              "std         4.490243\n",
              "min        -1.000000\n",
              "25%         2.000000\n",
              "50%         5.000000\n",
              "75%         8.000000\n",
              "max        24.000000\n",
              "Name: 2, dtype: float64"
            ]
          },
          "metadata": {},
          "execution_count": 246
        }
      ]
    },
    {
      "cell_type": "markdown",
      "source": [
        "We can tell Peter that the maximum winnings he can have is 24€, so it could be a good idea to end the game if he can at that point. We can also tell him that 75% of the games his maximum winnings are of 8€, 5€ in 50% of them, and 2€ in 25%, so those are also good and safer options to end the game. On average the maximum winning for Peter during the game is of 5.37€.\n",
        "\n",
        "**What will be value of Peter’s fortune at the end?**\n",
        "\n",
        "Finally, we can estimate Peter's most likely final fortune in order to add more information to the game.\n",
        "\n",
        "We will compute the same plots and statistics:"
      ],
      "metadata": {
        "id": "aleF3ywvO7O5"
      }
    },
    {
      "cell_type": "code",
      "source": [
        "final_fort = S[:,0]\n",
        "final_fort_df = pd.Series(sorted(final_fort))\n",
        "final_fort_df = pd.DataFrame(final_fort_df.value_counts(sort = False).rename_axis('values').reset_index(name='counts'))\n",
        "final_fort_df[\"prop\"] = final_fort_df[\"counts\"]/max(final_fort_df[\"counts\"])\n",
        "plt.vlines(final_fort_df[\"values\"], 0, final_fort_df[\"prop\"], colors='b', lw=5)\n",
        "plt.xlabel(\"Value\")\n",
        "plt.ylabel(\"Proportions\")\n",
        "plt.title(\"Proportions of different max winnings for Peter\")\n",
        "plt.show()"
      ],
      "metadata": {
        "colab": {
          "base_uri": "https://localhost:8080/",
          "height": 295
        },
        "id": "Pr12mSviQb_J",
        "outputId": "96a3f445-c203-41a6-9fd1-50eb340fc994"
      },
      "execution_count": null,
      "outputs": [
        {
          "output_type": "display_data",
          "data": {
            "text/plain": [
              "<Figure size 432x288 with 1 Axes>"
            ],
            "image/png": "[encoded data removed]"
          },
          "metadata": {
            "needs_background": "light"
          }
        }
      ]
    },
    {
      "cell_type": "code",
      "source": [
        "pd.DataFrame(S)[0].describe()"
      ],
      "metadata": {
        "colab": {
          "base_uri": "https://localhost:8080/"
        },
        "id": "W4oR5YIVQ6hK",
        "outputId": "b636e651-3e0a-40ff-deb9-c027ff6892fc"
      },
      "execution_count": null,
      "outputs": [
        {
          "output_type": "execute_result",
          "data": {
            "text/plain": [
              "count    1000.000000\n",
              "mean        0.360000\n",
              "std         7.289138\n",
              "min       -22.000000\n",
              "25%        -4.000000\n",
              "50%         0.000000\n",
              "75%         6.000000\n",
              "max        24.000000\n",
              "Name: 0, dtype: float64"
            ]
          },
          "metadata": {},
          "execution_count": 251
        }
      ]
    },
    {
      "cell_type": "markdown",
      "source": [
        "As we have seen previously in this Notebook, being this a game of chance, the most likely final fortune is around 0€.\n",
        "\n",
        "\n",
        "## Sleepless in Seattle Experiment\n",
        "\n",
        "Sleepless in Seattle is a 1993 American Romantic Comedy. Annie and Sam are supposed to meet on top of the Empire State Building where they would at last meet. However, their arrival time depends on a variety of factors and may actually not coincide and therefore never fall in love.\n",
        "\n",
        "Now, let  `A`  and `S`  represent Annie´s and Sam’s arrival times at the Empire State Building, where we measure the arrival time as the number of hours after noon. We assume:\n",
        "* `A` and `S` are independent and uniformly distributed. That is, `A` and `S` are random variables symbolizing the arrival time of Annie and Sam, respectively.\n",
        "* Annie arrives somewhere between 10:30 and midnight\n",
        "* Sam arrives somewhere between 10:00 and 11:30PM.\n",
        "\n",
        "Our Questions are:\n",
        "* What is the probability that Annie arrives before Sam?\n",
        "* What is the expected difference in arrival times?\n",
        "* If they each wait only twenty minutes after their arrival, what is the probability that they meet?\n",
        "* How much should they wait (assuming they wait the same amount of time), so that the probability they meet is at least 50%?\n",
        "\n",
        "We start simulating a large number of values from distribution of  `(A,S)` say, 1000, where `A` and `S` are independent:"
      ],
      "metadata": {
        "id": "dLKBrtPtQ9FY"
      }
    },
    {
      "cell_type": "code",
      "source": [
        "np.random.seed(2023)\n",
        "sam = np.random.uniform(10,11.5,1000)\n",
        "annie = np.random.uniform(10.5, 12, 1000)"
      ],
      "metadata": {
        "id": "Ico8LrtGyfRx"
      },
      "execution_count": null,
      "outputs": []
    },
    {
      "cell_type": "markdown",
      "source": [
        "**What is the probability that Annie arrives before Sam?**\n",
        "\n",
        "The following function outputs `True` if Annie arrives before Sam and `False` otherwise."
      ],
      "metadata": {
        "id": "0wwm8TNQy63u"
      }
    },
    {
      "cell_type": "code",
      "source": [
        "def sam_annie_1():\n",
        "  sam = np.random.uniform(10,11.5,1)\n",
        "  annie = np.random.uniform(10.5, 12, 1)\n",
        "  return(annie < sam)"
      ],
      "metadata": {
        "id": "1W0YZbJ2zB8s"
      },
      "execution_count": null,
      "outputs": []
    },
    {
      "cell_type": "markdown",
      "source": [
        "If we run a single simulation, for instance:"
      ],
      "metadata": {
        "id": "ze7TDml8zm_f"
      }
    },
    {
      "cell_type": "code",
      "source": [
        "np.random.seed(2023)\n",
        "sam_annie_1()"
      ],
      "metadata": {
        "colab": {
          "base_uri": "https://localhost:8080/"
        },
        "id": "MeqRsu0lzPgD",
        "outputId": "afd07bd0-879f-47ef-b803-1258813d6e83"
      },
      "execution_count": null,
      "outputs": [
        {
          "output_type": "execute_result",
          "data": {
            "text/plain": [
              "array([False])"
            ]
          },
          "metadata": {},
          "execution_count": 14
        }
      ]
    },
    {
      "cell_type": "markdown",
      "source": [
        "We see that Annie does not arrive before Sam.\n",
        "\n",
        "We can simply adapt `sam_annie_1` to use 1000 random observations and give an estimate of this probability.\n",
        "\n"
      ],
      "metadata": {
        "id": "QYztpXQizvoR"
      }
    },
    {
      "cell_type": "code",
      "source": [
        "def sam_annie_1():\n",
        "  sam = np.random.uniform(10,11.5,1000)\n",
        "  annie = np.random.uniform(10.5, 12, 1000)\n",
        "  return(sum(annie < sam)/1000)"
      ],
      "metadata": {
        "id": "eX11Vxm7z5Gm"
      },
      "execution_count": null,
      "outputs": []
    },
    {
      "cell_type": "code",
      "source": [
        "np.random.seed(2023)\n",
        "sam_annie_1()"
      ],
      "metadata": {
        "colab": {
          "base_uri": "https://localhost:8080/"
        },
        "id": "BlKUEcEFz_d2",
        "outputId": "0914bad9-b04b-43ec-9363-e68cd47ec3aa"
      },
      "execution_count": null,
      "outputs": [
        {
          "output_type": "execute_result",
          "data": {
            "text/plain": [
              "0.226"
            ]
          },
          "metadata": {},
          "execution_count": 16
        }
      ]
    },
    {
      "cell_type": "markdown",
      "source": [
        "We can even replicate the experiment 1000 times to get a sampling distribution and have an estimate of the variability around this probability."
      ],
      "metadata": {
        "id": "a90oU2qy0IAt"
      }
    },
    {
      "cell_type": "code",
      "source": [
        "def sam_annie_1_rep(replicas=1000):\n",
        "  results = []\n",
        "  for i in range(replicas):\n",
        "    results.append(sam_annie_1())\n",
        "  return(np.array(results))"
      ],
      "metadata": {
        "id": "PM2N4bQj0JlD"
      },
      "execution_count": null,
      "outputs": []
    },
    {
      "cell_type": "code",
      "source": [
        "np.random.seed(2023)\n",
        "experiment_1 = sam_annie_1_rep()"
      ],
      "metadata": {
        "id": "Hv4JDbUH0dyS"
      },
      "execution_count": null,
      "outputs": []
    },
    {
      "cell_type": "code",
      "source": [
        "fig, axs = plt.subplots(1, 2)\n",
        "axs[0].hist(experiment_1)\n",
        "axs[1].boxplot(experiment_1)\n",
        "fig.tight_layout()"
      ],
      "metadata": {
        "colab": {
          "base_uri": "https://localhost:8080/",
          "height": 297
        },
        "id": "zc2qk1OG0sZo",
        "outputId": "99bbdb8a-f5b4-4e3b-89e0-96e41c386877"
      },
      "execution_count": null,
      "outputs": [
        {
          "output_type": "display_data",
          "data": {
            "text/plain": [
              "<Figure size 432x288 with 2 Axes>"
            ],
            "image/png": "[encoded data removed]"
          },
          "metadata": {
            "needs_background": "light"
          }
        }
      ]
    },
    {
      "cell_type": "markdown",
      "source": [
        "It seems that the average probability that Annie arrives before Sam is around 0.22.\n",
        "\n",
        "**What is the expected difference in arrival time?**\n",
        "\n",
        "The function `sam_annie_2` computes this expectation using 1000 random observations."
      ],
      "metadata": {
        "id": "MnnHwKjA1VfW"
      }
    },
    {
      "cell_type": "code",
      "source": [
        "def sam_annie_2():\n",
        "  sam = np.random.uniform(0,90,1000)\n",
        "  annie = np.random.uniform(30, 120, 1000)\n",
        "  return((sam-annie).mean())"
      ],
      "metadata": {
        "id": "Z4BJvERf1jbR"
      },
      "execution_count": null,
      "outputs": []
    },
    {
      "cell_type": "code",
      "source": [
        "np.random.seed(2023)\n",
        "sam_annie_2()"
      ],
      "metadata": {
        "colab": {
          "base_uri": "https://localhost:8080/"
        },
        "id": "JqJcMUeX1-EK",
        "outputId": "4c4107e7-43b3-44a0-965c-426cd77c0cd3"
      },
      "execution_count": null,
      "outputs": [
        {
          "output_type": "execute_result",
          "data": {
            "text/plain": [
              "-29.33070515057468"
            ]
          },
          "metadata": {},
          "execution_count": 35
        }
      ]
    },
    {
      "cell_type": "markdown",
      "source": [
        "We can replicate and plot the results."
      ],
      "metadata": {
        "id": "MRHsGWhW2GPT"
      }
    },
    {
      "cell_type": "code",
      "source": [
        "def sam_annie_2_rep(replicas=1000):\n",
        "  results = []\n",
        "  for i in range(replicas):\n",
        "    results.append(sam_annie_2())\n",
        "  return(np.array(results))\n",
        "np.random.seed(2023)\n",
        "experiment_2 = sam_annie_2_rep()"
      ],
      "metadata": {
        "id": "bwR3gP-U2JMd"
      },
      "execution_count": null,
      "outputs": []
    },
    {
      "cell_type": "code",
      "source": [
        "fig, axs = plt.subplots(1, 2)\n",
        "axs[0].hist(experiment_2)\n",
        "axs[1].boxplot(experiment_2)\n",
        "fig.tight_layout()"
      ],
      "metadata": {
        "colab": {
          "base_uri": "https://localhost:8080/",
          "height": 297
        },
        "id": "yDq5ItHM2Zni",
        "outputId": "e9460251-c921-45cd-a35f-781f3c28272c"
      },
      "execution_count": null,
      "outputs": [
        {
          "output_type": "display_data",
          "data": {
            "text/plain": [
              "<Figure size 432x288 with 2 Axes>"
            ],
            "image/png": "[encoded data removed]"
          },
          "metadata": {
            "needs_background": "light"
          }
        }
      ]
    },
    {
      "cell_type": "markdown",
      "source": [
        "So on average Sam arrives 30 minutes before Annie.\n",
        "\n",
        "**If they each wait only twenty minutes after their arrival, what is the probability that they meet?**\n",
        "\n",
        "The function `sleepless` below returns `True` if Annie and Sam meets,`False` otherwise."
      ],
      "metadata": {
        "id": "l_JA1Xov28Od"
      }
    },
    {
      "cell_type": "code",
      "source": [
        "def sleepless(waiting = 20):\n",
        "  sam = np.random.uniform(0,90,1)[0]\n",
        "  annie = np.random.uniform(30, 120, 1)[0]\n",
        "  if sam < annie:\n",
        "    if sam + waiting > annie:\n",
        "      return(True)\n",
        "  elif annie + waiting > sam:\n",
        "    return(True)\n",
        "  return(False)"
      ],
      "metadata": {
        "id": "14cxHUTL3O-Z"
      },
      "execution_count": null,
      "outputs": []
    },
    {
      "cell_type": "code",
      "source": [
        "np.random.seed(2023)\n",
        "sleepless()"
      ],
      "metadata": {
        "colab": {
          "base_uri": "https://localhost:8080/"
        },
        "id": "6KINuXyB36Np",
        "outputId": "6877fce3-adfb-4a9f-8774-d9d2087a637e"
      },
      "execution_count": null,
      "outputs": [
        {
          "output_type": "execute_result",
          "data": {
            "text/plain": [
              "False"
            ]
          },
          "metadata": {},
          "execution_count": 80
        }
      ]
    },
    {
      "cell_type": "markdown",
      "source": [
        "Let’s run it 10.000 times to get an estimate of the probability."
      ],
      "metadata": {
        "id": "1tqKHAef4Jdk"
      }
    },
    {
      "cell_type": "code",
      "source": [
        "def sleepless_rep(replicas=10000, waiting = 20):\n",
        "  results = []\n",
        "  for i in range(replicas):\n",
        "    results.append(sleepless(waiting))\n",
        "  return(np.array(results))\n",
        "np.random.seed(2023)\n",
        "experiment_3 = sleepless_rep()"
      ],
      "metadata": {
        "id": "-A2XuW-14Ki3"
      },
      "execution_count": null,
      "outputs": []
    },
    {
      "cell_type": "code",
      "source": [
        "pd.Series(experiment_3).value_counts()"
      ],
      "metadata": {
        "colab": {
          "base_uri": "https://localhost:8080/"
        },
        "id": "W7OTsHGb5GkM",
        "outputId": "721217fe-6c19-40da-eb95-b21477033614"
      },
      "execution_count": null,
      "outputs": [
        {
          "output_type": "execute_result",
          "data": {
            "text/plain": [
              "False    7135\n",
              "True     2865\n",
              "dtype: int64"
            ]
          },
          "metadata": {},
          "execution_count": 82
        }
      ]
    },
    {
      "cell_type": "code",
      "source": [
        "experiment_3.mean()"
      ],
      "metadata": {
        "colab": {
          "base_uri": "https://localhost:8080/"
        },
        "id": "y9qfnLqd4csc",
        "outputId": "a592f2aa-b72d-430a-9c25-0d7f36b16b35"
      },
      "execution_count": null,
      "outputs": [
        {
          "output_type": "execute_result",
          "data": {
            "text/plain": [
              "0.2865"
            ]
          },
          "metadata": {},
          "execution_count": 83
        }
      ]
    },
    {
      "cell_type": "markdown",
      "source": [
        "So we see that if they each wait 20 minutes, they have a probability of meeting around 0.2865."
      ],
      "metadata": {
        "id": "lgr7Vi1b4pDZ"
      }
    },
    {
      "cell_type": "code",
      "source": [
        "np.random.seed(2023)\n",
        "results = []\n",
        "for i in range(20,61):\n",
        "  np.array(results.append(sleepless_rep(waiting=i).mean()))"
      ],
      "metadata": {
        "id": "ZgBwXGi96QbZ"
      },
      "execution_count": null,
      "outputs": []
    },
    {
      "cell_type": "code",
      "source": [
        "plt.plot( np.array(list(range(20,61))), results, 'o-', label = 'Prob')\n",
        "plt.legend()\n",
        "plt.axhline(y=0.5, color='r', linestyle='-')\n",
        "plt.title('Probability of meeting for Sam and Annie')\n",
        "plt.ylabel('Probability of meeting')\n",
        "plt.show()"
      ],
      "metadata": {
        "colab": {
          "base_uri": "https://localhost:8080/",
          "height": 281
        },
        "id": "X41En6fl8cFY",
        "outputId": "f52f82b6-98a8-41c3-f2a8-15f05c8ce616"
      },
      "execution_count": null,
      "outputs": [
        {
          "output_type": "display_data",
          "data": {
            "text/plain": [
              "<Figure size 432x288 with 1 Axes>"
            ],
            "image/png": "[encoded data removed]"
          },
          "metadata": {
            "needs_background": "light"
          }
        }
      ]
    },
    {
      "cell_type": "markdown",
      "source": [
        "From the plot, we can interpret that a waiting time of 35 minutes or more is enough for meeting in at least the 50% of the cases.\n",
        "\n",
        "## The Taxi problem experiment\n",
        "\n",
        "Imagine that a person is walking through the streets of a city and notices the following numbers of 5 taxis (n = 5) that pass by: 34,100,65,81,120. \n",
        "\n",
        "Can he/she make an intelligent guess at the number of taxis in the city?: Is a problem of statistical inference where population is the collection of taxis driven in the city and one wishes to know the value of N (total number of taxis).\n",
        "\n",
        "Assume taxis are numbered from 1 to N, each equally likely to be observed and consider two possible estimates:\n",
        "\n",
        "* The largest taxi number observed.\n",
        "* Twice the sample mean.\n",
        "\n",
        "The distribution of cabs will therefore be a uniform distribution of discrete values. The values range from 1 to 100 (identifying number of each cab) and each and every one of them has the same probability of appearing (0.01).\n",
        "\n",
        "**The largest taxi number observed**\n",
        "\n",
        "With the information we have, a sample of 5 taxis, this estimator is not going to be very reliable. However, imagine that this person sees 5 taxis every day, for 1000 days. In this case, it is more likely that the taxi with the highest number of all the taxis that this person has seen coincides with N, since the total number of taxis N will be equal to the number of the taxi with the highest number.\n",
        "For example, if there are 100 taxis in total (N = 100), the number of the taxi with the highest number will be 100 → N = highest number.\n",
        "\n",
        "\n",
        "**Twice the sample mean**\n",
        "\n",
        "Taking into account the previously mentioned discrete uniform distribution, the mean in the case of 100 cabs in total will be 50.5, but since the identifiers of each cab are integers, it will be 50, so → $𝝁 = 50$, and, therefore $2𝝁 = 100 = N$\n",
        "\n",
        "As you have already seen in Fundamentals of Data Analysis, the best estimator of the population mean $𝝁$ is the sample mean $\\bar{X}$, so the best estimator for N using the information of the sample, will be → $2\\bar{X}$.\n",
        "\n",
        "The problem here is that we don't know that N = 100, so we don't really know which of the two is the better estimate. To test this, let's simulate two sampling distributions and work with the expected value of each (mean) to see which of the two is less biased.\n",
        "\n",
        "**Which is a better estimator of the number of taxis N?** We will compare these two estimators using a Monte Carlo Simulation:\n",
        "\n",
        "1. Simulate taxi numbers from a uniform distribution with a known number of taxis N and compute the two estimates.\n",
        "2. Repeat the simulation many times and obtain two empirical sampling distributions.\n",
        "3. Then compare the two estimators by examining various properties of their respective sampling distributions.\n",
        "\n",
        "The `taxi()` function will implement a single simulation. We have two arguments:\n",
        "* The actual number of taxis `N`.\n",
        "* The sample size `n`."
      ],
      "metadata": {
        "id": "Gu8ExNY3-qtQ"
      }
    },
    {
      "cell_type": "code",
      "source": [
        "def taxi(N,n):\n",
        "  x = np.random.choice(np.arange(1,N+1), n, True)\n",
        "  estimate1 = max(x)\n",
        "  estimate2 = x.mean()*2\n",
        "  return([estimate1, estimate2])"
      ],
      "metadata": {
        "id": "kh9aXynFAsj8"
      },
      "execution_count": null,
      "outputs": []
    },
    {
      "cell_type": "markdown",
      "source": [
        " Let’s say the actual number of taxis in city is 100 (N = 100) and we observe numbers of n=5 taxis."
      ],
      "metadata": {
        "id": "3Jrrv8kjBUTV"
      }
    },
    {
      "cell_type": "code",
      "source": [
        "np.random.seed(2023)\n",
        "taxi(100,5)"
      ],
      "metadata": {
        "colab": {
          "base_uri": "https://localhost:8080/"
        },
        "id": "6AlBNkVRBKLf",
        "outputId": "e1dfb4e6-c64c-4494-fcdd-94e911c1298c"
      },
      "execution_count": null,
      "outputs": [
        {
          "output_type": "execute_result",
          "data": {
            "text/plain": [
              "[88, 110.0]"
            ]
          },
          "metadata": {},
          "execution_count": 113
        }
      ]
    },
    {
      "cell_type": "markdown",
      "source": [
        "We get values largestnumber= 88 and twicethemean= 110.0. Given this result it seems that two times the mean works better, but this is just one execution of the experiment, we have to replicate it.\n",
        "\n",
        "Let’s simulate sampling process 1000 times. We are going to create a matrix with two columns (largestnumber and twicethemean), and 1000 rows. This rows will hold the estimated values of largestnumber and twicethemean for 1000 simulated experiments."
      ],
      "metadata": {
        "id": "JcHuCCsqBcpG"
      }
    },
    {
      "cell_type": "code",
      "source": [
        "def taxi_rep(replicas = 1000):\n",
        "  results = np.zeros((replicas,2))\n",
        "  for i in range(replicas):\n",
        "    exp = taxi(100,5)\n",
        "    results[i,] = exp\n",
        "  return(results)"
      ],
      "metadata": {
        "id": "tsrPEw6zBwCq"
      },
      "execution_count": null,
      "outputs": []
    },
    {
      "cell_type": "code",
      "source": [
        "np.random.seed(2023)\n",
        "taxi_experiment = taxi_rep()"
      ],
      "metadata": {
        "id": "yGE2bSGuCCn6"
      },
      "execution_count": null,
      "outputs": []
    },
    {
      "cell_type": "code",
      "source": [
        "taxi_experiment"
      ],
      "metadata": {
        "colab": {
          "base_uri": "https://localhost:8080/"
        },
        "id": "dVJPKNhoCdg7",
        "outputId": "12314081-e631-43a5-d08e-c3a9d5f60d5d"
      },
      "execution_count": null,
      "outputs": [
        {
          "output_type": "execute_result",
          "data": {
            "text/plain": [
              "array([[ 88. , 110. ],\n",
              "       [ 97. , 133.6],\n",
              "       [ 78. ,  88.4],\n",
              "       ...,\n",
              "       [ 97. , 135.6],\n",
              "       [ 89. ,  90. ],\n",
              "       [ 73. ,  50. ]])"
            ]
          },
          "metadata": {},
          "execution_count": 118
        }
      ]
    },
    {
      "cell_type": "markdown",
      "source": [
        "In this way, we are simulating a thousand samples of 5 cabs each and obtaining the estimates of each one of them.\n",
        "We are thus generating a sampling distribution of \"largest number estimator\" and another of \"twice the mean estimator\".\n",
        "\n",
        "Here we are looking for “unbiasedness,” which means that the mean value of the estimator (expected) should be equal to the parameter. If we compare the estimators assuming that the value of N is 100:"
      ],
      "metadata": {
        "id": "gauCW2l_CjwK"
      }
    },
    {
      "cell_type": "code",
      "source": [
        "largestNumber = taxi_experiment[:,0]\n",
        "twiceTheMean = taxi_experiment[:,1]\n",
        "print(\"Largest Number: \", largestNumber.mean(), \"\\n\", \"Twice the Mean: \", twiceTheMean.mean())"
      ],
      "metadata": {
        "colab": {
          "base_uri": "https://localhost:8080/"
        },
        "id": "xmFNfJ4IC4BX",
        "outputId": "5046cdb3-87e6-4ebf-fbaf-531b0f0d4e57"
      },
      "execution_count": null,
      "outputs": [
        {
          "output_type": "stream",
          "name": "stdout",
          "text": [
            "Largest Number:  84.105 \n",
            " Twice the Mean:  100.9328\n"
          ]
        }
      ]
    },
    {
      "cell_type": "markdown",
      "source": [
        "In the same way, we can calculate its margin of error (composed by the standard error and the z-value) to obtain a confidence interval and see which estimate is closer to the N parameter."
      ],
      "metadata": {
        "id": "OBklxdkIENCx"
      }
    },
    {
      "cell_type": "code",
      "source": [
        "se1 = largestNumber.std()/math.sqrt(1000)\n",
        "se2 = twiceTheMean.std()/math.sqrt(1000)"
      ],
      "metadata": {
        "id": "i9kmkEFSERat"
      },
      "execution_count": null,
      "outputs": []
    },
    {
      "cell_type": "code",
      "source": [
        "se2"
      ],
      "metadata": {
        "colab": {
          "base_uri": "https://localhost:8080/"
        },
        "id": "PhUWrn16OOlZ",
        "outputId": "3c5eaf64-cbfc-46fe-bb36-2d9d6fdbc4ba"
      },
      "execution_count": null,
      "outputs": [
        {
          "output_type": "execute_result",
          "data": {
            "text/plain": [
              "0.8373506578250237"
            ]
          },
          "metadata": {},
          "execution_count": 136
        }
      ]
    },
    {
      "cell_type": "code",
      "source": [
        "CI_lower_LN = (largestNumber.mean() - (1.96*se1))\n",
        "CI_upper_LN = (largestNumber.mean() + (1.96*se1))\n",
        "print(\"Upper and Lower bounds for the Largest Number estimator are:\", CI_lower_LN, \"and\", CI_upper_LN)"
      ],
      "metadata": {
        "colab": {
          "base_uri": "https://localhost:8080/"
        },
        "id": "z8nOhmicFJdq",
        "outputId": "92ac75b5-b438-4469-cb10-3f9a2cefc791"
      },
      "execution_count": null,
      "outputs": [
        {
          "output_type": "stream",
          "name": "stdout",
          "text": [
            "Upper and Lower bounds for the Largest Number estimator are: 83.22777359458348 and 84.98222640541653\n"
          ]
        }
      ]
    },
    {
      "cell_type": "code",
      "source": [
        "CI_lower_LN = (twiceTheMean.mean() - (1.96*se1))\n",
        "CI_upper_LN = (twiceTheMean.mean() + (1.96*se1))\n",
        "print(\"Upper and Lower bounds for the Largest Number estimator are:\", CI_lower_LN, \"and\", CI_upper_LN)"
      ],
      "metadata": {
        "colab": {
          "base_uri": "https://localhost:8080/"
        },
        "id": "tEG1CJG4Fxbw",
        "outputId": "c4acc852-6d11-4768-933d-aa47de5d4c31"
      },
      "execution_count": null,
      "outputs": [
        {
          "output_type": "stream",
          "name": "stdout",
          "text": [
            "Upper and Lower bounds for the Largest Number estimator are: 100.05557359458348 and 101.81002640541652\n"
          ]
        }
      ]
    },
    {
      "cell_type": "markdown",
      "source": [
        "From the results, we can interpret that for both, the expected value estimation, and the error estimation, the second method works much better, giving a more precise prediction of the total number of taxis in the city, and having a lower variability in the estimation.\n",
        "\n",
        "## Conclusions\n",
        "\n",
        "Throughout this module we have learned how to carry out a simulation using Monte Carlo methods, and to make inferences from the results of the simulated experiments. The concepts acquired have been applied to concrete experiments, developing the steps of a Monte Carlo simulation in very different contexts. In the Lab of this module you will face problems with similar dynamics, but keep in mind that each Monte Carlo simulation is totally unique, and you will have to develop the code from scratch."
      ],
      "metadata": {
        "id": "-W5ygpsUF4g5"
      }
    }
  ]
}