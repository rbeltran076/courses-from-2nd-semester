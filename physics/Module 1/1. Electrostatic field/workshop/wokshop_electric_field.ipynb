{
 "cells": [
  {
   "cell_type": "markdown",
   "metadata": {},
   "source": [
    "# Workshop module 1: Electric field "
   ]
  },
  {
   "cell_type": "markdown",
   "metadata": {},
   "source": [
    "# True or false (and why)\n",
    "\n",
    "\n",
    "1. Insulators can be charged by induction.\n",
    "2. An electrically charged insulator and a neutral conductor attract each other.\n",
    "3. The electric force exerted on $q_1$ by $q_2$ does not change even if another charge $q_3$ shows up.\n",
    "4. The acceleration of a charge located at a certain point in space where there exists an electric field lies in the direction of the electric field line that passes through that point. \n",
    "5. A body cannot create an electric field unless it has a net electric charge.\n",
    "6. A dipole whose moment is perpendicular to an external electric field does not move.\n",
    "7. The existence of a nucleus contradicts the Coulomb force.\n",
    "8. If the electric flux through a closed surface is zero then there cannot be any charge inside the surface.\n",
    "9. If the electric flux through a closed surface is zero, the electric field must be zero at any point over that surface.\n",
    "10. If the electric flux through a closed surface is zero, then number of field lines going out of the surface must equal the number of lines going in.\n",
    "11. Gauss law is only valid for symmetrical charge distributions.\n",
    "12. A gaussian surface is one such that the electric field is constant over it.\n",
    "13. Close enough to a uniformly charged disk, the electric field resembles the field created by an infinitely charged sheet.\n",
    "14. If the electric field is zero at any point of a closed surface, then there must be no net charge inside the surface.\n",
    "15. The electric potential can be positive or negative depending on the sign of the source charge.\n",
    "16. The net potential at any given point created by a collection of charges is the vectorial sum of the potential created by each charge independently.\n",
    "17. It's impossible to have a negative electric potential between the space of two positive charges.\n",
    "18. The potential energy of a collection of charges is $U=\\frac{1}{4 \\pi \\epsilon_{0}} \\sum_{i,j} \\frac{q_{i} q_{j}}{r_{i j}}$.\n",
    "19. We put three identical charges in the vertices of a triangle. In the center of the triangle, both the electric field and the potential are zero. \n",
    "20. In presence of an electric field, it's impossible to move a charge without doing work against the field.\n",
    "21. Capacitor 1 has twice as much capacitance as capacitor 2 given the same charge. Therefore, capacitor 1 has also twice as much voltage as capacitor 2.\n",
    "22. Capacitor 1 has twice as much charge as capacitor 2 given the same voltage. Consequently, the energy stored in capacitor 2 doubles the energy of capacitor 1.\n",
    "23. Capacitance decreases when a dielectric is put between the plates of a capacitor.\n",
    "24. Given a capacitor connected to a battery, its charge decreases when a dielectric is put between its plates."
   ]
  },
  {
   "cell_type": "markdown",
   "metadata": {},
   "source": [
    "# Questions\n",
    "\n",
    "1. Suppose you have a positive charge $q$ that you want to distribute in two different bodies. How do you have to distribute the electrical charge between them so that electrical repulsion is maximum?\n",
    "2. Choose the figure that best represents Coulomb force as a function of distance.\n",
    "<center><img src=\"graphF.png\" width=\"600\" /></center>\n",
    "\n",
    "3. The dielectric strength of air is $3 MV/m$, what should be the minimum separation between the plates of a capacitor to avoid dielectric breakdown given a voltage of $4kV$?\n",
    "\n",
    "4. A charge $Q_1$ is located on the positive $x$ axis, and another charge $Q_2$ is located on the same axis but further away from the origin $O$. Knowing that the total electric charge is zero in $O$, what can we state about the signs of the charges? and what about their magnitudes?\n",
    "\n",
    "5. A balloon of radius $R$ if full of a gas with charge $Q$. The balloon is injected with another neutral gas so that the radius doubles. How does the electric field $E$ vary at a distance $R$ from the center of the balloon?\n",
    "\n",
    "6. For parallel-plate capacitor with $d=1mm$, how much surface do we need to store $1F$?\n",
    "\n",
    "7. A little metallic sphere is placed between the plates of a capacitor. What is the value of the electric field and the potential inside the sphere?\n",
    "\n",
    "8. Discuss what happens to a charged parallel-plate capacitor when the distance $d$ is reduced to a half, in terms of its capacitance, voltage, electric field, and stored energy. Repeat the same analysis when the capacitor is connected to a battery.\n"
   ]
  },
  {
   "cell_type": "markdown",
   "metadata": {},
   "source": [
    "# Problems\n",
    "## Problem 1\n",
    "At the end points of a straight tube of length $L$ there are two charges $Q_1$ and $Q_2=2Q_1$, respectively. A small metallic sphere of charge $Q$ lies within, which can freely move along the tube. \n",
    "<center><img src=\"module1a.p1.png\" width=\"500\" /></center>\n",
    "\n",
    "Find:\n",
    "* a) The equilibrium position $x$ of the sphere.\n",
    "* b) is the equilibrium stable?\n",
    "* c) it would be stable without the tube?\n",
    "* d) it would be stable if the charge $Q$ were negative?\n",
    "\n",
    "\n",
    "## Problem 2\n",
    "Positive charge Q is uniformly distributed along the positive $y$-axis between as indicated in the figure. Another point charge $q$ is located one the $x$-axis at $x=a$. Calculate the electric field experienced by $q$.\n",
    "<center><img src=\"module1ap2.png\" width=\"500\" /></center>\n",
    "\n",
    "\n",
    "## Problem 3\n",
    "Calculate the electric field at any point created by an infinitely large cylinder of radius $R$ with a charge density \n",
    "\n",
    "$$\\begin{array}{ll}\\rho(r)=\\rho_{0}(1-r / R) & \\text { for } r \\leq R \\\\ \\rho(r)=0 & \\text { for } r \\geq R\\end{array}$$\n",
    "\n",
    "where $r$ is the distance from the axis of the cylinder. \n",
    "\n",
    "\n",
    "## Problem 4\n",
    "Three point charges are located on the $x$-axis. $Q_1=2nC$ at $x=0$, $Q_2=-3nC$ at $x=20cm$ and $Q_3=5nC$ at $x=10cm$. Assume that the energy is zero when charges are infinitely separated. \n",
    "\n",
    "* a) What is the potential energy of this configuration?\n",
    "* b) Having fixed $Q_1$ and $Q_2$, where should I place $Q_3$ so that the total energy is zero?\n",
    "\n",
    "\n",
    "\n",
    "## Problem 5\n",
    "    \n",
    "The electric potential in a certain region of space is given by $V(x)=ax^2+bxy+cy$, with $a=3V/m^2,b=-2V/m^2,c=5V/m^2$. Find\n",
    "\n",
    "* a) The electric field $\\vec E(x,y)$.\n",
    "* b) The work done by the electric field when moving a proton from $x=0m$ to $x=1m$.\n",
    "\n",
    "\n",
    "\n",
    "## Problem 6    \n",
    "    \n",
    "A parallel-plate capacitor with area $A=500cm^2$ and separation $d=5mm$ has a voltage of $V_0=2000V$. Introducing a dielectric between its plates reduces the voltage to $V=1000V$. Find\n",
    "\n",
    "* a) The capacity after introducing the dielectric.\n",
    "* b) The relative permittivity.\n",
    "* c) The induced charge on each surface of the dielectric.\n",
    "\n",
    "## Problem 7\n",
    "\n",
    "Suppose we connect a couple of capacitors in series, with capacitance of $150nF$ and $120nF$ respectively. Knowing that the potential difference across them is $36V$. Find:\n",
    "\n",
    "* a) the total charge stored in the network. \n",
    "* b) the charge on each capacitor. \n",
    "* c) the total energy stored in the network. \n",
    "* d) the energy stored in each capacitor. \n",
    "* e) the potential differences across each capacitor.\n",
    "\n",
    "## Problem 8\n",
    "\n",
    "Electronic flash units for cameras contain a capacitor for storing the energy used to produce the flash. In one such unit, the\n",
    "flash lasts for $(1/675)$ seconds with an average light power output of $2.7\\times 10^5 W$. \n",
    "\n",
    "* a) If the conversion of electrical energy to light is 95% efficient (the rest of the energy goes to thermal energy), how\n",
    "much energy must be stored in the capacitor for one flash?  \n",
    "* b) If the capacitor has a potential difference between its plates of 125V, what is the capacitance?\n",
    "\n",
    "\n",
    "## Problem 9\n",
    "\n",
    "A parallel-plate capacitor is made from two plates $12 cm$ on each side and $4.50 mm$ apart. Half of the space between these plates contains only air, but the other half is filled with Plexiglas of relative permittivity  3.40 as shown below. An 18.0-V battery is connected across the plates. \n",
    "<center><img src=\"capacitors_half.png\" width=\"400\"/></center>\n",
    "\n",
    "\n",
    "* a) What is the capacitance of this combination? Assume this capacitor as equivalent to two capacitors in parallel\n",
    "* b) How much energy is stored in the capacitor? \n",
    "* c) If we remove the Plexiglas but change nothing else, how much energy will be stored in the capacitor?\n",
    "\n",
    "## Problem 10\n",
    "\n",
    "Calculate how much the capacitance varies when we introduce a layer of methacrylate $d/2$ thick, as illustrated below. In other words, calculate the ratio $\\frac{C_{\\text {final}}}{C_{\\text {initial}}}$. (Hint: for this calculation you will probably want to determine the voltage $V$ between the plates. Assume that the electric field between the plates is like the one created by an infinite parallel-plate capacitor, so you can use the expression for the electric field given in the class notes for two oppositely charged infinite sheets, the only difference is that  you have to take into account that there are two regions with different permittivity)\n",
    "\n",
    "<center><img src=\"dielectric.png\" width=\"700\"/></center>"
   ]
  },
  {
   "cell_type": "code",
   "execution_count": null,
   "metadata": {},
   "outputs": [],
   "source": []
  }
 ],
 "metadata": {
  "hide_input": false,
  "kernelspec": {
   "display_name": "Python 3 (ipykernel)",
   "language": "python",
   "name": "python3"
  },
  "language_info": {
   "codemirror_mode": {
    "name": "ipython",
    "version": 3
   },
   "file_extension": ".py",
   "mimetype": "text/x-python",
   "name": "python",
   "nbconvert_exporter": "python",
   "pygments_lexer": "ipython3",
   "version": "3.9.7"
  },
  "latex_envs": {
   "LaTeX_envs_menu_present": true,
   "autoclose": false,
   "autocomplete": true,
   "bibliofile": "biblio.bib",
   "cite_by": "apalike",
   "current_citInitial": 1,
   "eqLabelWithNumbers": true,
   "eqNumInitial": 1,
   "hotkeys": {
    "equation": "Ctrl-E",
    "itemize": "Ctrl-I"
   },
   "labels_anchors": false,
   "latex_user_defs": false,
   "report_style_numbering": false,
   "user_envs_cfg": false
  },
  "toc": {
   "base_numbering": 1,
   "nav_menu": {},
   "number_sections": false,
   "sideBar": true,
   "skip_h1_title": false,
   "title_cell": "Table of Contents",
   "title_sidebar": "Contents",
   "toc_cell": false,
   "toc_position": {
    "height": "calc(100% - 180px)",
    "left": "10px",
    "top": "150px",
    "width": "248.338px"
   },
   "toc_section_display": true,
   "toc_window_display": false
  },
  "varInspector": {
   "cols": {
    "lenName": 16,
    "lenType": 16,
    "lenVar": 40
   },
   "kernels_config": {
    "python": {
     "delete_cmd_postfix": "",
     "delete_cmd_prefix": "del ",
     "library": "var_list.py",
     "varRefreshCmd": "print(var_dic_list())"
    },
    "r": {
     "delete_cmd_postfix": ") ",
     "delete_cmd_prefix": "rm(",
     "library": "var_list.r",
     "varRefreshCmd": "cat(var_dic_list()) "
    }
   },
   "types_to_exclude": [
    "module",
    "function",
    "builtin_function_or_method",
    "instance",
    "_Feature"
   ],
   "window_display": false
  }
 },
 "nbformat": 4,
 "nbformat_minor": 4
}
