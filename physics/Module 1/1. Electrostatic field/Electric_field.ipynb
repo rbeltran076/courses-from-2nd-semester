{
 "cells": [
  {
   "cell_type": "code",
   "execution_count": 1,
   "metadata": {
    "slideshow": {
     "slide_type": "skip"
    }
   },
   "outputs": [],
   "source": [
    "from IPython.display import display, Image\n",
    "from IPython.display import YouTubeVideo"
   ]
  },
  {
   "cell_type": "markdown",
   "metadata": {
    "slideshow": {
     "slide_type": "slide"
    }
   },
   "source": [
    " <span style=\"font-size:30px;\">Electrostatic field</span>\n",
    " \n",
    " Class notes Physics for computer science and AI. Module 1.\n",
    " \n",
    "1. Electric charge\n",
    "2. Polarization\n",
    "3. Electric force\n",
    "4. Electrostatic field\n",
    "5. Electric flux\n",
    "6. Gauss's law\n",
    "7. Electric potential\n",
    "8. Electric work\n",
    "9. Potential energy\n",
    "10. Electric dipole\n",
    "11. Dielectrics\n",
    "12. Capacitors\n",
    "\n",
    "**Recommended readings**\n",
    " \n",
    " - Sears and Zemansky's University physics-Addison Wesley (credit: I will mostly follow this book, almost all figures in these notes taken from it)\n",
    "     - Chapters 21,22,23,24"
   ]
  },
  {
   "cell_type": "markdown",
   "metadata": {
    "slideshow": {
     "slide_type": "slide"
    }
   },
   "source": [
    "# 1. Electric charge\n",
    "\n",
    "What is electric charge?\n",
    "* A fundamental attribute of matter that determines the **intensity of electromagnetic forces** (Similar to mass, in the way that it determines the intensity of gravitational forces)"
   ]
  },
  {
   "cell_type": "markdown",
   "metadata": {
    "slideshow": {
     "slide_type": "subslide"
    }
   },
   "source": [
    "## 1.1 Charge laws\n",
    "\n",
    "1. Charges of equal sign repel each other. Charges of different sign attract each other.\n",
    "2. The sum of all the electric charges in any **closed** system is constant: charge is neither created nor destroyed, just transferred from one body to another.\n",
    "3. Charge is **quantized**: the charge on any macroscopic body is always either zero or an integer multiple (negative or positive) of the electron (proton) charge."
   ]
  },
  {
   "cell_type": "markdown",
   "metadata": {
    "slideshow": {
     "slide_type": "subslide"
    }
   },
   "source": [
    "## 1.2 Basic structure of matter: atoms\n",
    "\n",
    "How can we explain the previous laws? matter is quantized!\n",
    "\n",
    "* Basic structure of atoms can be described in terms of three particles: **electron** (negative charge), **proton** (positive charge), and neutrons (no charge)\n",
    "* The charge of the electron has the same magnitude as the charge of the proton.\n",
    "* Protons and neutrons form a dense core: the **nucleus** (order of $10^{-15}m$)\n",
    "* Protons and neutrons are held together thanks to nuclear forces (not relevant in ordinary life)\n",
    "* Electrons surrounding nucleus by attraction. Typical size $10^{-10}m$ ( 1 angstrom, symbol Å). Five orders bigger than nucleus!!\n",
    "* The masses of the proton and neutron are nearly equal and are roughly 2000 times the mass of the electron. Over 99.9% of the mass of any atom is concentrated in its nucleus.\n",
    "<center><img src=\"structure_matter.png\" width=\"300\" />"
   ]
  },
  {
   "cell_type": "markdown",
   "metadata": {
    "slideshow": {
     "slide_type": "subslide"
    }
   },
   "source": [
    "## 1.3 Basic structure of matter: ions\n",
    "\n",
    "* **Neutral atom**: the number of electrons equals the number of protons, thus the net charge is zero.\n",
    "* **Positive ion**: atom with one or more electrons **removed**, thus the net charge is positive.\n",
    "* **Negative ion**: atom with one or more electrons **gained**, thus the net charge is negative.\n",
    "\n",
    "We create electrically charged bodies by adding or removing negative or positive charges (electrons or protons)."
   ]
  },
  {
   "cell_type": "markdown",
   "metadata": {
    "slideshow": {
     "slide_type": "subslide"
    }
   },
   "source": [
    "## 1.4 Units of charge\n",
    "\n",
    "In the International System of Units (abbreviated SI), the unit of charge is called **coulomb** (1C).\n",
    "\n",
    "$$e=1.602176487(40) \\times 10^{-19} \\mathrm{C}$$\n",
    "\n",
    "1C is actually a high amount of charge! More common is to use submultiples:  $1 mC = 10^{-3} C$,  $1 µC = 10^{-6} C $. e has **no sign**"
   ]
  },
  {
   "cell_type": "markdown",
   "metadata": {
    "slideshow": {
     "slide_type": "subslide"
    }
   },
   "source": [
    "## 1.5 Basic structure of matter: insulators, conductors and semiconductors\n",
    "\n",
    "Basic classification of matter according to **conductivity**\n",
    "\n",
    "* __Conductors__: allow charge to move easily within the material.\n",
    "    - Examples: copper, iron, gold...\n",
    "* __Insulators__:  electrons remain bound to the positively charged nuclei.\n",
    "    - Examples: plastic, paper, rubber... \n",
    "* __Semiconductors__: intermediate between good conductors and good insulators.\n",
    "    - Examples: silicon, germanium...\n"
   ]
  },
  {
   "cell_type": "markdown",
   "metadata": {
    "slideshow": {
     "slide_type": "subslide"
    }
   },
   "source": [
    "## 1.6 Charging\n",
    "\n",
    "3 ways of charging a body\n",
    "\n",
    "* __By friction__: electrons are transfered by rubbing one object on another.\n",
    "* __By conduction__: electrons are transfered from an object to a different object by contact. Some of the excess electrons in a certain object flow into a conductor (from an insulator or another conductor).\n",
    "* __By induction__: electrons are transfered as they gather in a certain region (usually by polarization). It gives another body a charge of opposite sign without losing any of its own charge.\n"
   ]
  },
  {
   "cell_type": "code",
   "execution_count": 2,
   "metadata": {
    "slideshow": {
     "slide_type": "subslide"
    }
   },
   "outputs": [
    {
     "data": {
      "image/jpeg": "[encoded data removed]",
      "text/html": [
       "\n",
       "        <iframe\n",
       "            width=\"400\"\n",
       "            height=\"300\"\n",
       "            src=\"https://www.youtube.com/embed/rdeDnmjoKOc\"\n",
       "            frameborder=\"0\"\n",
       "            allowfullscreen\n",
       "        ></iframe>\n",
       "        "
      ],
      "text/plain": [
       "<IPython.lib.display.YouTubeVideo at 0x22d89a76b50>"
      ]
     },
     "execution_count": 2,
     "metadata": {},
     "output_type": "execute_result"
    }
   ],
   "source": [
    "# charging by friction video\n",
    "YouTubeVideo('rdeDnmjoKOc')"
   ]
  },
  {
   "cell_type": "markdown",
   "metadata": {
    "slideshow": {
     "slide_type": "subslide"
    }
   },
   "source": [
    "charging by conduction\n",
    "<center><img src=\"conduction.png\" width=\"900\" />"
   ]
  },
  {
   "cell_type": "markdown",
   "metadata": {
    "slideshow": {
     "slide_type": "subslide"
    }
   },
   "source": [
    "__Everyday physics example of friction+conduction__: When you use shoes with rubber sole, rubbing yourself against certaing fibers causes charge to build up on you, which will remain because it can't flow through the air, the insulating fibers or the shoes to the ground. When you then touch a conducting object like a doorknob, there is a sudden transfer of electrons from your fingers, feeling a shock."
   ]
  },
  {
   "cell_type": "markdown",
   "metadata": {
    "slideshow": {
     "slide_type": "subslide"
    }
   },
   "source": [
    "charging by induction\n",
    "<center><img src=\"induction.png\" width=\"700\" />"
   ]
  },
  {
   "cell_type": "markdown",
   "metadata": {
    "slideshow": {
     "slide_type": "subslide"
    }
   },
   "source": [
    "# 2. Polarization\n",
    "\n",
    "Charging is not the only way to activate electric forces...\n",
    "\n",
    "A charged body can exert forces even on objects that are not charged themselves. Why? Due to an **inhomogeneous** charge distribution. \n",
    "\n",
    "    - In a metal: electrons accumulate in a certain region as they can move freely\n",
    "    - In an insulator: induced dipoles orientate towards the charged body. \n",
    "    - In polar liquids: molecules orientate towards the charged body."
   ]
  },
  {
   "cell_type": "markdown",
   "metadata": {
    "slideshow": {
     "slide_type": "subslide"
    }
   },
   "source": [
    "<center><img src=\"polarization2.png\" width=\"300\" />"
   ]
  },
  {
   "cell_type": "markdown",
   "metadata": {
    "slideshow": {
     "slide_type": "subslide"
    }
   },
   "source": [
    "<center><img src=\"polarization.png\" width=\"800\" />"
   ]
  },
  {
   "cell_type": "code",
   "execution_count": 3,
   "metadata": {
    "slideshow": {
     "slide_type": "subslide"
    }
   },
   "outputs": [
    {
     "data": {
      "image/jpeg": "[encoded data removed]",
      "text/html": [
       "\n",
       "        <iframe\n",
       "            width=\"400\"\n",
       "            height=\"300\"\n",
       "            src=\"https://www.youtube.com/embed/VF-WG5XYMJM\"\n",
       "            frameborder=\"0\"\n",
       "            allowfullscreen\n",
       "        ></iframe>\n",
       "        "
      ],
      "text/plain": [
       "<IPython.lib.display.YouTubeVideo at 0x22d89617160>"
      ]
     },
     "execution_count": 3,
     "metadata": {},
     "output_type": "execute_result"
    }
   ],
   "source": [
    "#Polarization of a metal in action!\n",
    "YouTubeVideo('VF-WG5XYMJM')"
   ]
  },
  {
   "cell_type": "code",
   "execution_count": 4,
   "metadata": {
    "slideshow": {
     "slide_type": "subslide"
    }
   },
   "outputs": [
    {
     "data": {
      "image/jpeg": "[encoded data removed]",
      "text/html": [
       "\n",
       "        <iframe\n",
       "            width=\"400\"\n",
       "            height=\"300\"\n",
       "            src=\"https://www.youtube.com/embed/oaZADiH_gRY\"\n",
       "            frameborder=\"0\"\n",
       "            allowfullscreen\n",
       "        ></iframe>\n",
       "        "
      ],
      "text/plain": [
       "<IPython.lib.display.YouTubeVideo at 0x22d89617bb0>"
      ]
     },
     "execution_count": 4,
     "metadata": {},
     "output_type": "execute_result"
    }
   ],
   "source": [
    "# Polarization+Conduction\n",
    "YouTubeVideo('oaZADiH_gRY')"
   ]
  },
  {
   "cell_type": "code",
   "execution_count": 5,
   "metadata": {
    "slideshow": {
     "slide_type": "subslide"
    }
   },
   "outputs": [
    {
     "data": {
      "image/jpeg": "[encoded data removed]",
      "text/html": [
       "\n",
       "        <iframe\n",
       "            width=\"400\"\n",
       "            height=\"300\"\n",
       "            src=\"https://www.youtube.com/embed/Ns_HVQmuMTY\"\n",
       "            frameborder=\"0\"\n",
       "            allowfullscreen\n",
       "        ></iframe>\n",
       "        "
      ],
      "text/plain": [
       "<IPython.lib.display.YouTubeVideo at 0x22d89a76dc0>"
      ]
     },
     "execution_count": 5,
     "metadata": {},
     "output_type": "execute_result"
    }
   ],
   "source": [
    "# Polarization of a liquid (each water molecule is an electric dipole)!\n",
    "YouTubeVideo('Ns_HVQmuMTY')"
   ]
  },
  {
   "cell_type": "code",
   "execution_count": 6,
   "metadata": {
    "slideshow": {
     "slide_type": "subslide"
    }
   },
   "outputs": [
    {
     "data": {
      "image/jpeg": "[encoded data removed]",
      "text/html": [
       "\n",
       "        <iframe\n",
       "            width=\"400\"\n",
       "            height=\"300\"\n",
       "            src=\"https://www.youtube.com/embed/bVquLXTq4bQ\"\n",
       "            frameborder=\"0\"\n",
       "            allowfullscreen\n",
       "        ></iframe>\n",
       "        "
      ],
      "text/plain": [
       "<IPython.lib.display.YouTubeVideo at 0x22d896529d0>"
      ]
     },
     "execution_count": 6,
     "metadata": {},
     "output_type": "execute_result"
    }
   ],
   "source": [
    "#Investigate: Van der graaff generator\n",
    "YouTubeVideo('bVquLXTq4bQ')"
   ]
  },
  {
   "cell_type": "markdown",
   "metadata": {
    "slideshow": {
     "slide_type": "slide"
    }
   },
   "source": [
    "# 3. Electric force\n",
    "\n",
    "The electric force is a fundamental interaction between charged particles. Quantitatively, this force is determined by **Coulomb's law** (Experimental law discovered by Charles Augustin de Coulomb in the XVIII century),\n",
    "\n",
    "|   |\n",
    "|---|\n",
    "|$$\\vec{F}_{1}=\\frac{1}{4 \\pi \\epsilon_{0}} \\frac{q_{1} q_{2}}{r_{12}^{2}} \\frac{\\vec{r}_{12}}{r_{12}}=\\frac{1}{4 \\pi \\epsilon_{0}} \\frac{q_{1} q_{2}}{r_{12}^{2}} \\hat {r}_{12}$$|\n",
    "|   |\n",
    "\n",
    "$$\\vec{r}_{12}=\\vec{r}_{1}-\\vec{r}_{2}$$\n",
    "\n",
    "where $q_1$,$q_2$ are **point charges**.$\\mathbf{F}_{1}$ reads \"force applied on $q_1$ by $q_2$\".\n",
    "\n",
    "\n",
    "|  | |\n",
    "| ------------- | ------------- |\n",
    "| ![](force0.png)  |![](force.png)  |\n",
    "\n",
    "What do I mean by a point charge? A point charge is a **model**: a charged object small enough to be considered a mathematical point in space (i.e. without internal structure).\n",
    "\n",
    "$$\\epsilon_{0}=8.854 \\times 10^{-12} \\mathrm{C}^{2} / \\mathrm{N} \\cdot \\mathrm{m}^{2}$$\n",
    "\n",
    "$$k=1 / (4 \\pi \\epsilon_{0})=8.987551787 \\times 10^{9} \\mathrm{N} \\cdot \\mathrm{m}^{2} / \\mathrm{C}^{2} \\cong 8.988 \\times 10^{9} \\mathrm{N} \\cdot \\mathrm{m}^{2} / \\mathrm{C}^{2}$$\n",
    "\n",
    "**Coulomb's constant** k is universal constant of nature. \n",
    "$\\epsilon_0$ is the **vacuum permittivity**. Why do we define like that? it will simplify other formulas later on.\n",
    " "
   ]
  },
  {
   "cell_type": "markdown",
   "metadata": {
    "slideshow": {
     "slide_type": "subslide"
    }
   },
   "source": [
    "Some *properties*:\n",
    "\n",
    "- Charges are supposed to be in **vacuum**. Electrically speaking, air is like vacuum.\n",
    "- Magnitude of electric force is $F=k \\frac{\\left|q_{1} q_{2}\\right|}{r^{2}}$, this is, proportional to the **squared inverse of the distance** between the charges. Experimentally tested to an accuracy of $10^{-16}$!!\n",
    "- Most of everyday forces are the result of electric forces at the level of atoms and molecules, like the normal force, the tension force or the friction force.\n",
    "- It obeys **Newton's third law**: the force applied on charge 1 by 2 is equal in magnitude and opposite in direction to the force applied on charge 2 by 1.\n",
    "- Formally analogous to Newton's gravitation law.\n",
    "- It satisfies the **superposition principle**: The net electric force applied on a charge is the __vector sum__ of all electric forces acting on it.\n",
    "$$\\mathbf{F}_{i}=q_{i} \\sum_{j \\neq i}^{N} \\frac{q_{j}}{4 \\pi \\epsilon_{0}} \\frac{\\mathbf{r}_{i j}}{r_{i j}^{3}}$$"
   ]
  },
  {
   "cell_type": "markdown",
   "metadata": {
    "slideshow": {
     "slide_type": "subslide"
    }
   },
   "source": [
    "## 3.1 Generalization to extensive bodies\n",
    "\n",
    "Let us define the charge density per unit of area ($\\sigma$) and the charge density per unit of volume ($\\rho$) (think: are we allowed to do this? why?) to describe a **continuous** charge distributed within a volume or on a surface.\n",
    "\n",
    "$$\\rho=\\lim _{\\Delta V \\rightarrow 0} \\frac{\\Delta q}{\\Delta V}$$\n",
    "$$\\sigma=\\lim _{\\Delta S \\rightarrow 0} \\frac{\\Delta q}{\\Delta S}$$\n",
    "\n",
    "Then, as a direct application of the superposition principle and the meaning of an integral, we have the force applied on charge q is\n",
    "\n",
    "\n",
    "$$\\vec{F}_q= \\frac{q}{4 \\pi \\epsilon_{0}} \\sum_{i=1}^{N} q_{i} \\frac{\\vec{r}-\\vec{r}_{i}}{|\\vec{r}-\\vec{r}_{i}|^{3}}+\\frac{q}{4 \\pi \\epsilon_{0}} \\int_{V} \\frac{\\vec{r}-\\vec{r}'}{|\\vec{r}-\\vec{r}'|^{3}} \\rho\\left(\\vec{r}'\\right) d V'\\\\\n",
    "+\\frac{q}{4 \\pi \\epsilon_{0}} \\int_{S} \\frac{\\vec{r}-\\vec{r}'}{|\\vec{r}-\\vec{r}'|^{3}} \\sigma\\left(\\vec{r}'\\right) d S'$$\n",
    "\n",
    "\n",
    "$\\vec{r}'$ is used to identify a point within the body.\n",
    "\n",
    "<center><img src=\"force_cont.png\" width=\"400\" /></center>"
   ]
  },
  {
   "cell_type": "markdown",
   "metadata": {
    "slideshow": {
     "slide_type": "slide"
    }
   },
   "source": [
    "# 4. Electrostatic field\n",
    "\n",
    "A different way to think forces: a charge $q$ modifies the space around it, and other charges can sense it. We say that a charge creates a electric field $\\vec{E}_0$ at point $\\vec{r}$. This electric field is present at $\\vec{r}$ even if there is no charge at $\\vec{r}$. When we place another charge $q_0$ at $\\vec{r}$ (called __test charge__), it experiences a force $\\vec{F}_0$ such that\n",
    "\n",
    "|  |\n",
    "|--|\n",
    "|$$\\vec{F}_{0}=q_{0} \\vec{E}_0$$|\n",
    "|  |\n",
    "\n",
    "\n",
    "<center><img src=\"electric_field.png\" width=\"300\" />\n"
   ]
  },
  {
   "cell_type": "markdown",
   "metadata": {
    "slideshow": {
     "slide_type": "subslide"
    }
   },
   "source": [
    "Mathematically, the electric field is then defined as a limit whereby the test charge goes to zero.\n",
    "\n",
    "$$\\vec{E}=\\lim _{q \\rightarrow 0} \\frac{\\vec{F}_{q}}{q}$$\n",
    "\n",
    "The concept of field will be crucial to avoid \"action-at-a-distance\" force. Instead, fields that propagate in space and time (electromagnetic waves).\n",
    "\n",
    "*Properties*:\n",
    "\n",
    "- The electric field is a **vector field**, this is, a function $\\vec E(\\vec r): \\mathbb{R}^3\\rightarrow\\mathbb{R}^3$ (like the velocity of a fluid)\n",
    "- The sign of the electric field does not depend on the sign of the test charge, only on the **source charge**.\n",
    "- Analogous to the gravity field $\\vec{F}_{g}=m_{0} \\vec{g}$ per unit of mass.\n",
    "- The expression $\\vec{F}_{0}=q_{0} \\vec{E}_0$ is valid only for **point charges**.\n",
    "- **Superposition principle** is equally valid for the electric field.\n",
    "- SI units: N/C"
   ]
  },
  {
   "cell_type": "markdown",
   "metadata": {
    "slideshow": {
     "slide_type": "subslide"
    }
   },
   "source": [
    "## 4.1 Electric field lines\n",
    "\n",
    "An electric field line is an imaginary curve such that its tangent at any point gives the direction of the electric-filed at that point.\n",
    "\n",
    "|  | |\n",
    "| ------------- | ------------- |\n",
    "| ![](field_lines.png)  |![](field_lines2.png)  |\n",
    "\n",
    "*Properties*:\n",
    "- their **spacing** represents the magnitude of the electric field: the closer the lines, the stronger the field.\n",
    "- At any given point the electric field is unique, hence field lines **never intersect**.\n",
    "- A field line does **not** illustrate the trajectory of a point charge upon the electric field (except for uniform fields)."
   ]
  },
  {
   "cell_type": "markdown",
   "metadata": {
    "slideshow": {
     "slide_type": "slide"
    }
   },
   "source": [
    "## 4.2 Some sources of electric field\n",
    "\n",
    "### 4.2.1 Electric field of a point charge\n",
    "\n",
    "As a direct consequence of Coulomb's law, we have\n",
    "\n",
    "$$\\vec{E}=\\frac{1}{4 \\pi \\epsilon_{0}} \\frac{q}{r^{2}} \\hat{r}$$\n",
    "\n",
    "|  | |\n",
    "| ------------- | ------------- |\n",
    "| ![](repulsive.png)  |![](atractive.png)  |\n",
    "\n",
    "It has **spherical symmetry**\n"
   ]
  },
  {
   "cell_type": "markdown",
   "metadata": {
    "slideshow": {
     "slide_type": "subslide"
    }
   },
   "source": [
    "### 4.2.2 Uniform field\n",
    "\n",
    "Electric field between two parallel conducting plates\n",
    "\n",
    "$$\\vec E(\\vec r)=\\vec E_0$$\n",
    "\n",
    "<center><img src=\"uniform.png\" width=\"400\" />"
   ]
  },
  {
   "cell_type": "markdown",
   "metadata": {
    "slideshow": {
     "slide_type": "subslide"
    }
   },
   "source": [
    "### 4.2.3 Electric field inside a conductor\n",
    "\n",
    "The electric field in a conductor is identically **zero**. *Proof by reductio ad absurdum*: Assume there exists an electrostatic field inside the conductor. Thus, there appears an electric force on the charges in the conductor. As charges can move freely in a conductor, they experience a net motion so the electric field will change. Nevertheless, we stated that the field is stated. Therefore we conclude that the electric field must be zero at any point. (Caution: there still could be electric field in a hole inside the conductor!)\n"
   ]
  },
  {
   "cell_type": "markdown",
   "metadata": {
    "slideshow": {
     "slide_type": "subslide"
    }
   },
   "source": [
    "## 4.3 How to calculate electric fields?\n",
    "\n",
    "One can always rely on the superposition principle since $\\vec{E}=\\frac{\\vec{F}}{q_{0}}=\\vec{E}_{1}+\\vec{E}_{2}+\\vec{E}_{3}+\\dots$. Thus\n",
    "\n",
    "\\begin{aligned}\n",
    "\\mathbf{E}(\\mathbf{r})=& \\frac{1}{4 \\pi \\epsilon_{0}} \\sum_{i=1}^{N} q_{i} \\frac{\\mathbf{r}-\\mathbf{r}_{i}}{\\left|\\mathbf{r}-\\mathbf{r}_{i}\\right|^{3}}+\\frac{1}{4 \\pi \\epsilon_{0}} \\int_{V} \\frac{\\mathbf{r}-\\mathbf{r}^{\\prime}}{\\left|\\mathbf{r}-\\mathbf{r}^{\\prime}\\right|^{3}} \\rho\\left(\\mathbf{r}^{\\prime}\\right) d v^{\\prime} \\\\\n",
    "&+\\frac{1}{4 \\pi \\epsilon_{0}} \\int_{S} \\frac{\\mathbf{r}-\\mathbf{r}^{\\prime}}{\\left|\\mathbf{r}-\\mathbf{r}^{\\prime}\\right|^{3}} \\sigma\\left(\\mathbf{r}^{\\prime}\\right) d a^{\\prime}\n",
    "\\end{aligned}\n",
    "\n"
   ]
  },
  {
   "cell_type": "markdown",
   "metadata": {
    "slideshow": {
     "slide_type": "subslide"
    }
   },
   "source": [
    "## 4.4 Important simple cases\n",
    "\n",
    "\n",
    "|Charged line segment|Ring of charge| Uniformly charged disk |Two oppositely charged infinite sheets|\n",
    "|--------------------|--------------|------------------------|--------------------------------------|\n",
    "|<img src=\"long_cable.png\" width=\"300\" />|<img src=\"ring.png\" width=\"300\" />|<img src=\"disk.png\" width=\"300\" />|<img src=\"sheets.png\" width=\"400\" />|\n",
    "|$\\vec{E}=\\frac{1}{4 \\pi \\epsilon_{0}} \\frac{Q}{x \\sqrt{x^{2}+a^{2}}} \\hat{\\boldsymbol{\\imath}}$|$\\vec{E}=\\frac{1}{4 \\pi \\epsilon_{0}} \\frac{Q x}{\\left(x^{2}+a^{2}\\right)^{3 / 2}} \\hat{\\imath}$|$\\vec{E}=\\frac{\\sigma}{2 \\epsilon_{0}}\\left[1-\\frac{1}{\\sqrt{\\left(R^{2} / z^{2}\\right)+1}}\\right]\\hat{k}$|$\\vec{E}=\\left\\{\\begin{array}{ll}0 & \\text { above the upper sheet } \\\\ \\frac{\\sigma}{\\epsilon_{0}} \\hat{j} & \\text { between the sheets } \\\\ 0 & \\text { below the lower sheet }\\end{array}\\right.$|\n",
    "\n",
    "Read carefully section 21.5 from Sears and Zemansky's for detailed derivation."
   ]
  },
  {
   "cell_type": "markdown",
   "metadata": {
    "slideshow": {
     "slide_type": "slide"
    }
   },
   "source": [
    "# 5. Electric flux\n",
    "\n",
    "Electric flux $\\Phi_{E}$ is essentially a measure of how much electric field flows though a certain surface. For a uniform electric field and a flat surface, the electric flux is\n",
    "\n",
    "$$\\Phi_{E}=|\\vec E| A \\cos \\phi=\\vec{E} \\cdot \\vec{A}=\\vec E \\cdot (A\\hat n)$$\n",
    "\n",
    "where $\\phi$ is the angle between the electric field and the normal vector $\\hat n$. $E\\cos\\phi$ is the perpendicular component of the electric field with respect to the surface. \n",
    "\n",
    "* A surface has two sides, so there will be two possible signs of the flux: positive when the electric field has a component along the normal, and negative otherwise. The limit case when the electric field is parallel to the surface produces a zero flux.\n",
    " \n",
    "\n",
    "<center><img src=\"flux.png\" width=\"700\" />"
   ]
  },
  {
   "cell_type": "markdown",
   "metadata": {
    "slideshow": {
     "slide_type": "subslide"
    }
   },
   "source": [
    "## 5.1 General expression\n",
    "The way to generalize the previous expression to general electric fields and surfaces is to integrate the contribution of infinitesimal surfaces. Mathematically speaking, we are defining a **surface integral**.\n",
    "\n",
    "|   |\n",
    "|---|\n",
    "|$$\\Phi_{E}=\\int_S \\vec E \\cdot d \\vec A=\\int_S E \\cos \\phi dA$$|\n",
    "|   |\n",
    "\n",
    "$$d \\vec{A}=\\hat{n} d A$$\n",
    "\n",
    "- flux is a **scalar**\n",
    "- This expression gives an **average** value of the perpendicular component of the electric field (multiplied by a factor: the area of the surface).\n",
    "- The SI unit is $Nm^2/C$\n"
   ]
  },
  {
   "cell_type": "markdown",
   "metadata": {
    "slideshow": {
     "slide_type": "slide"
    }
   },
   "source": [
    "# 6. Gauss's Law\n",
    "\n",
    "The Gauss' law tells us that the total electric flux through a **closed** surface is proportional to the net electric charge enclosed by the surface.\n",
    "\n",
    "|  |\n",
    "|---|\n",
    "|$$\\Phi_{E}=\\oint \\vec E \\cdot d \\vec{A}=\\frac{Q_{\\mathrm{encl}}}{\\epsilon_{0}}\\label{Gauss}$$|\n",
    "|  |\n",
    "\n",
    "*Remarks*\n",
    "- Valid for **any** distribution of charges and for **any** closed surface.\n",
    "- the closed surface does not necessarily correspond to any physical surface, it is just **imaginary** (also called gaussian surface).\n",
    "- the outside charges do **not** contribute to the net flux, $Q_{\\mathrm{encl}}$ refers to the charge **inside the gaussian surface**.\n",
    "- When $Q_{\\mathrm{encl}}$ the flux must be zero as well."
   ]
  },
  {
   "cell_type": "markdown",
   "metadata": {
    "slideshow": {
     "slide_type": "subslide"
    }
   },
   "source": [
    "what happens with zero net charge?\n",
    "<center><img src=\"net_zero.png\" width=\"500\" />"
   ]
  },
  {
   "cell_type": "markdown",
   "metadata": {
    "slideshow": {
     "slide_type": "subslide"
    }
   },
   "source": [
    "## 6.1 Using Gauss's law to calculate electric fields \n",
    " \n",
    "Gauss' law is useful in situations with high degree of **symmetry** so that the integral is trivial to compute.\n",
    "\n",
    "Simplest case: point charge. We recover Coulomb's law!\n",
    "\n",
    "$$ \\int \\vec E d\\vec A=E\\int dA=E(4\\pi r^2)=\\frac{q}{\\epsilon_0}\\implies E=\\frac{q}{4\\pi\\epsilon_0 r^2}$$\n",
    "\n",
    "Important: Gauss's law gives you the **module** of the field, but the direction is presumed to be known already!"
   ]
  },
  {
   "cell_type": "markdown",
   "metadata": {
    "slideshow": {
     "slide_type": "subslide"
    }
   },
   "source": [
    "## 6.2 Application to conductors\n",
    "\n",
    "Any excess of **charge in a conductor lies on its surface**. *Proof*: We already know that the electrostatic field $\\vec E$ in a conductor must be zero. Using Gauss’s law, we infer that the net charge inside any surface must be zero, including a infinitesimal surface located within the conductor at any given point. Hence, there cannot be any net charge inside the conductor.\n",
    "\n",
    "<center><img src=\"gauss_conductor.png\" width=\"300\" />"
   ]
  },
  {
   "cell_type": "markdown",
   "metadata": {
    "slideshow": {
     "slide_type": "subslide"
    }
   },
   "source": [
    "Experimental proof: **Faraday's ice pail experiment** (1843).\n",
    "\n",
    "<center><img src=\"faraday.png\" width=\"700\" />"
   ]
  },
  {
   "cell_type": "markdown",
   "metadata": {
    "slideshow": {
     "slide_type": "slide"
    }
   },
   "source": [
    "# 7. Electric potential\n",
    "\n",
    "The inverse squared dependency of the electric force is crucial, as it allows as to write the electric field as the **gradient** a scalar field: the **electric potential** $V$ (also frequently denoted by $\\varphi$)\n",
    "\n",
    "|  |\n",
    "|--|\n",
    "|$$\\vec{E}(\\mathbf{r})=-\\nabla V(\\vec{r})\\label{gradient}$$|\n",
    "|  |\n",
    "\n",
    "This equation thus implies\n",
    "\n",
    "|  |\n",
    "|--|\n",
    "|$$V_{a}-V_{b}=\\int_{a}^{b} \\vec E \\cdot \\vec{d l}=\\int_{a}^{b} E \\cos \\phi d l$$|\n",
    "|  |\n",
    "\n",
    "*Properties*\n",
    "- minus sign for convenience \n",
    "- Since the electric field satisfies the **superposition principle**, and being nabla a linear operator, the electric potential fulfills superposition.\n",
    "\n",
    "$$V=V_1+V_2+V_3+\\dots$$\n",
    "\n",
    "- the SI unit is one **volt**  (1V) in honor of Alessandro Volta.\n",
    "- Alternative SI unit for electric field: volt per meter $1 \\mathrm{V} / \\mathrm{m}=1 \\mathrm{N} / \\mathrm{C}$\n",
    "- In circuits, a difference in potential from one point to another is often called **voltage**."
   ]
  },
  {
   "cell_type": "markdown",
   "metadata": {
    "slideshow": {
     "slide_type": "subslide"
    }
   },
   "source": [
    "## 7.1 Calculating electric potentials\n",
    "\n",
    "The potential of a point charge located at $\\vec{r}'$ is simply\n",
    "$$V(\\vec{r})=\\frac{1}{4 \\pi \\epsilon_{0}} \\frac{q_{1}}{|\\vec{r}-\\vec{r}'|}$$\n",
    "\n",
    "Invoking the superposition principle, any potential can be calculated as sum (integral) of contributions.\n",
    "\n",
    "$$\n",
    "V(\\vec{r})= \\frac{1}{4 \\pi \\epsilon_{0}} \\sum_{i=1}^{N} \\frac{q_{i}}{|\\vec{r}-\\vec{r}_{i}|}+\\frac{1}{4 \\pi \\epsilon_{0}} \\int_{V} \\frac{\\rho\\left(\\vec{r}^{\\prime}\\right)}{|\\vec{r}-\\vec{r}^{\\prime}|} d V^{\\prime}\\\\\n",
    "+\\frac{1}{4 \\pi \\epsilon_{0}} \\int_{S} \\frac{\\sigma\\left(\\vec{r}^{\\prime}\\right)}{|\\vec{r}-\\vec{r}^{\\prime}|} d S^{\\prime}$$"
   ]
  },
  {
   "cell_type": "markdown",
   "metadata": {
    "slideshow": {
     "slide_type": "subslide"
    }
   },
   "source": [
    "## 7.2 Simple cases\n",
    "\n",
    "|  Charged cylinder | Charged ring |\n",
    "| ------------- | ------------- |\n",
    "| ![](cable.png)  |![](Ring.png)  |\n",
    "| $V=\\frac{\\lambda}{2 \\pi \\epsilon_{0}} \\ln \\frac{R}{r}$ |$V=\\frac{1}{4 \\pi \\epsilon_{0}} \\frac{Q}{\\sqrt{x^{2}+a^{2}}}$  |\n",
    "\n",
    "Read and understand the derivation by yourself: Sears & Zemansky examples 23.10, 23.11"
   ]
  },
  {
   "cell_type": "markdown",
   "metadata": {
    "slideshow": {
     "slide_type": "subslide"
    }
   },
   "source": [
    "## 7.3 Equipotential lines\n",
    "\n",
    "A equipotential surface is an imaginary surface such that the electric potential $V$ is **constant** over it.\n",
    "\n",
    "*Examples*\n",
    "\n",
    "<center><img src=\"equipotential.png\" width=\"700\" /></center>\n",
    "\n",
    "*Properties*:\n",
    "* Field lines and equipotential surfaces are always **perpendicular** to each other.\n",
    "* $E$ doesn't have to be constant over an equipotential surface.\n",
    "* The larger the electric field, the closer the equipotential surfaces are.\n",
    "* The surface of a **conductor** *in equilibrium* is always an equipotential surface. Actually, all the volume is equipotential. \n",
    "    * This follows from the fact that **the electric field is always perpendicular to the surface of a conductor**."
   ]
  },
  {
   "cell_type": "markdown",
   "metadata": {
    "slideshow": {
     "slide_type": "subslide"
    }
   },
   "source": [
    "## 7.4 Poisson and Laplace equations\n",
    "\n",
    "Combining equations (17) and (19), one can prove the the electric potential satisfies the following **Poisson's equation**\n",
    "\n",
    "|  |\n",
    "|---|\n",
    "|$$\\nabla^{2} V(\\vec r)=-\\frac{\\rho (\\vec r)}{\\epsilon_{0}}$$|\n",
    "|  |\n",
    "\n",
    "where $\\nabla$ is the nabla operator, defined in cartesian coordinates as\n",
    "\n",
    "$$\\nabla^{2} V \\equiv \\frac{\\partial^{2} V}{\\partial x^{2}}+\\frac{\\partial^{2} V}{\\partial y^{2}}+\\frac{\\partial^{2} V}{\\partial z^{2}}$$\n",
    "\n",
    "In many electrostatic problems where the charge is found on the surface of conductors, or in point charges, the charge density $\\rho$ is almost always zero. In those regions, Poisson's equations comes down to the **Laplace's equation**\n",
    "\n",
    "|  |\n",
    "|--|\n",
    "|$$\\nabla^{2} V(\\vec r)=0$$|\n",
    "|  |\n",
    "\n",
    "*Properties*\n",
    "\n",
    "* Both equations are **linear partial differential equations**, whose resolution leads to finding the electrostatic potential, provided that we are also given appropriate **boundary conditions**."
   ]
  },
  {
   "cell_type": "markdown",
   "metadata": {
    "slideshow": {
     "slide_type": "subslide"
    }
   },
   "source": [
    "# 8. Electric work\n",
    "\n",
    "When an electric force $\\vec{\\mathbf{F}}$ acts on a particle moving from a to b, the **work** done **by the force** is a **line integral**\n",
    "\n",
    "|  |\n",
    "|---|\n",
    "|$$W_{a \\rightarrow b}=\\int_{a}^{b} \\overrightarrow{\\mathbf{F}} \\cdot {d \\vec{l}}=\\int_{a}^{b} F \\cos \\phi d l$$|\n",
    "|  |\n",
    "\n",
    "where $d \\vec{l}$ is an infinitesimal displacement along the particle’s path and $\\phi$ is the angle between $\\vec{\\mathbf{F}}$ and $d\\vec{\\mathbf{l}}$.\n",
    "\n",
    "(Recall that **electric power** is then $P=\\frac{dW}{dt}$)"
   ]
  },
  {
   "cell_type": "markdown",
   "metadata": {
    "slideshow": {
     "slide_type": "subslide"
    }
   },
   "source": [
    "When a charged particle moves in an electric field, the field exerts a force\n",
    "that can do work on the particle.This work can always be expressed in terms of\n",
    "electric **potential energy** (see next section).\n",
    "\n",
    "Combining the general expression with the definition of the potential,\n",
    "\n",
    "|   |\n",
    "|---|\n",
    "|$$W_{a \\rightarrow b}=\\int_{a}^{b} \\overrightarrow{\\mathbf{F}} \\cdot {d \\vec{l}}=\\int_{a}^{b} F \\cos \\phi d l=-q\\int_{a}^{b} \\nabla V(\\mathbf{r})  \\cdot {d \\vec{l}}=U_{a}-U_{b}=-\\left(U_{b}-U_{a}\\right)=-\\Delta U$$|\n",
    "|   |\n",
    "\n",
    "Conclusion: electric force is **conservative**: it only depends on the difference between the initial and final points \n"
   ]
  },
  {
   "cell_type": "markdown",
   "metadata": {
    "slideshow": {
     "slide_type": "subslide"
    }
   },
   "source": [
    "## 8.1 Special cases\n",
    "\n",
    "Work in a uniform electric field\n",
    "\n",
    "$$W_{a \\rightarrow b}=F d=q_{0} E d$$\n",
    "\n",
    "Work in spherical field\n",
    "\n",
    "$$W_{a \\rightarrow b}=\\int_{r_{a}}^{r_{b}} F_{r} d r=\\int_{r_{a}}^{r_{b}} \\frac{1}{4 \\pi \\epsilon_{0}} \\frac{q q_{0}}{r^{2}} d r=\\frac{q q_{0}}{4 \\pi \\epsilon_{0}}\\left(\\frac{1}{r_{a}}-\\frac{1}{r_{b}}\\right)$$"
   ]
  },
  {
   "cell_type": "markdown",
   "metadata": {
    "slideshow": {
     "slide_type": "subslide"
    }
   },
   "source": [
    "# 9. Potential energy\n",
    "\n",
    "The previous scalar function U is the **electric potential energy**. \n",
    "\n",
    "$$U=q_0V$$\n",
    "\n",
    "*Remarks*\n",
    "\n",
    "- Remember: SI unit of energy is **Joule** (1 J).\n",
    "- When the force does a positive work, the potential energy decreases.\n",
    "- Only **a difference of potential energy** is really meaningful. We can always add up a constant. To give an absolute value, potential energy must be defined relative to some reference point where $U=0$. In circuits, this is called **ground**\n",
    "- When working with atomic systems, it is useful to define another unit: a **electron volt** (1 eV); $1 \\mathrm{eV}=1.602 \\times 10^{-19} \\mathrm{J}=e^-\\times 1V$"
   ]
  },
  {
   "cell_type": "markdown",
   "metadata": {
    "slideshow": {
     "slide_type": "subslide"
    }
   },
   "source": [
    "## 9.1 Reinterpreting the electric potential\n",
    "\n",
    "The electric potential can then be interpreted as a **potential energy per unit charge**\n",
    "\n",
    "|  |\n",
    "|--|\n",
    "|$$V=\\frac{U}{q_0}$$|\n",
    "|  |\n",
    "\n",
    "and a voltage as a **work per unit charge**\n",
    "\n",
    "$$\\frac{W_{a \\rightarrow b}}{q_{0}}=-\\frac{\\Delta U}{q_{0}}=-\\left(\\frac{U_{b}}{q_{0}}-\\frac{U_{a}}{q_{0}}\\right)=-\\left(V_{b}-V_{a}\\right)=V_{a}-V_{b}$$\n",
    "\n",
    "And we find the following equivalence of units\n",
    "\n",
    "$1 \\mathrm{V}=1$ volt $=1 \\mathrm{J} / \\mathrm{C}=1$ joule/coulomb"
   ]
  },
  {
   "cell_type": "markdown",
   "metadata": {
    "slideshow": {
     "slide_type": "subslide"
    }
   },
   "source": [
    "## 9.2 Energy in uniform fields\n",
    "\n",
    "$$U=q_{0} E y$$\n",
    "\n",
    "<center><img src=\"uniformEnergy.png\" width=\"500\" /></center>"
   ]
  },
  {
   "cell_type": "markdown",
   "metadata": {
    "slideshow": {
     "slide_type": "subslide"
    }
   },
   "source": [
    "## 9.3 Electric potential energy of two point charges\n",
    "\n",
    "By setting U to zero when two point charges $q$ and $q_0$ are infinitely far apart $r=\\infty$, we have\n",
    "\n",
    "$$U=\\frac{1}{4 \\pi \\epsilon_{0}} \\frac{q q_{0}}{r}$$\n",
    "\n",
    "- The potential energy U given is a shared property of the two charges. In general, its a property of the charge configuration.\n",
    "- The equation also holds if the test charge $q_0$ is outside a spherically symmetric charge distribution with net charge q; This is because Gauss’s law states us that the electric field outside such a distribution is the same as if all of its charge q were concentrated at its center.\n",
    "- The energy of a collection of charges is the algebraic sum (energy is additive!) of each **pair** of charges.\n",
    "\n",
    "$$U=\\frac{1}{4 \\pi \\epsilon_{0}} \\sum_{i<j} \\frac{q_{i} q_{j}}{r_{i j}}$$"
   ]
  },
  {
   "cell_type": "markdown",
   "metadata": {
    "slideshow": {
     "slide_type": "slide"
    }
   },
   "source": [
    "# 10. Electric dipole \n",
    "\n",
    "A dipole consists of two opposite charges of equal sizes at a relatively small distance.\n",
    "<center><img src=\"dipole.png\" width=\"300\" /></center>\n",
    "\n",
    "- Characterized by a **electric dipole moment** $\\vec p=q\\vec d$ where $\\vec d$ is the vector that goes from the negative to the positive charge.\n",
    "\n",
    "- Why is it important? because it simplest **model** of an inhomogeneous charge distribution with zero net charge. At a long enough distance, any inhomogeneous charge distribution looks like a dipole."
   ]
  },
  {
   "cell_type": "markdown",
   "metadata": {
    "slideshow": {
     "slide_type": "subslide"
    }
   },
   "source": [
    "## 10.1 Force on a dipole\n",
    "\n",
    "When a dipole lies in an Electric field, there appears a torque that tends to align the dipole moment with the direction of the field at that point. \n",
    "\n",
    "<center><img src=\"forceDipole.png\" width=\"300\" /></center>"
   ]
  },
  {
   "cell_type": "markdown",
   "metadata": {
    "slideshow": {
     "slide_type": "subslide"
    }
   },
   "source": [
    "## 10.2 Potential Energy of an Electric Dipole\n",
    "\n",
    "It's not difficult to prove that the potential energy of a dipole in an electric field $\\vec E$ is\n",
    "\n",
    "$$U=-\\vec{p} \\cdot \\vec{E}$$\n",
    "\n",
    "- maximum when $\\vec{p}$ is parallel to $\\vec{E}$, minimum when it is perpendicular. As any mechanical system, the dipole will try to minimize the potential energy. "
   ]
  },
  {
   "cell_type": "markdown",
   "metadata": {
    "slideshow": {
     "slide_type": "slide"
    }
   },
   "source": [
    "# 11. Dielectrics\n",
    "\n",
    "Dielectrics are **insulators** that get **polarized** when an electrical field is applied.\n",
    "\n",
    "- Polar molecules inside the material orientate in the direction of an externally applied field like tiny dipoles <center><img src=\"orientation.png\" width=\"250\" /></center>\n",
    "- Non-polar molecules can also become dipoles. Electrons in dielectric materials are bound to the nucleus and thus present very little movement. However, when external voltage is applied, the nucleus and the atoms get attracted to negative and positive sides respectively. These are called bound charges in contrast to free charges. \n",
    "\n",
    "*Examples*:  Ceramics, mica, and certain type of plastics are examples of dielectric materials."
   ]
  },
  {
   "cell_type": "markdown",
   "metadata": {
    "slideshow": {
     "slide_type": "subslide"
    }
   },
   "source": [
    "## 11.1 Permittivity and susceptibility\n",
    "\n",
    "The dielectric material is characterized by its **permittivity** $\\epsilon$ (same units as $\\epsilon_{0}$)\n",
    "\n",
    "$$\\epsilon=\\epsilon_{r} \\epsilon_{0}$$\n",
    "\n",
    "Permittivity can be understood as the ability of a material to resist the formation of electric fields inside.\n",
    "\n",
    "$\\epsilon_{r}$ is the **relative permittivity** (no units). Equivalently, we define the electric **susceptibility** $\\chi_{\\mathrm{e}}$\n",
    "\n",
    "$$\\varepsilon_{\\mathrm{r}}=1+\\chi_{\\mathrm{e}}$$"
   ]
  },
  {
   "cell_type": "markdown",
   "metadata": {
    "slideshow": {
     "slide_type": "subslide"
    }
   },
   "source": [
    "|  Material (20ºC)  |  $\\epsilon_r$    |\n",
    "|------------|------------------|\n",
    "| Vacuum     |        1         |\n",
    "| Air     |        1.0059         |\n",
    "| Teflon     |        2.1         |\n",
    "| Mica     |        3-6         |\n",
    "| Plexiglas     |        3.40         |\n",
    "| Glass     |        5-10         |\n",
    "| Glycerin     |        42.5         |\n",
    "| Water     |        80.4         |"
   ]
  },
  {
   "cell_type": "markdown",
   "metadata": {
    "slideshow": {
     "slide_type": "slide"
    }
   },
   "source": [
    "# 12. Capacitors\n",
    "\n",
    "What is a capacitor? Essentially, two conductors separated by an insulator (or a vacuum).\n",
    "\n",
    "In circuit diagrams a capacitor is symbolized by vertical lines representing the conductors\n",
    "and the horizontal lines represent wires connected to either conductor.  \n",
    "\n",
    "|  | |\n",
    "| ------------- | ------------- |\n",
    "| <img src=\"capacitor.png\" width=\"250\" />|<img src=\"symbol.png\" width=\"150\" />  |"
   ]
  },
  {
   "cell_type": "markdown",
   "metadata": {
    "slideshow": {
     "slide_type": "subslide"
    }
   },
   "source": [
    "## 12.1 Charging a capacitor\n",
    "\n",
    "Each conductor initially has zero net charge. Then a voltage transfers charge from one conductor to the other so that\n",
    "one has a negative charge and the other has an equal amount of positive charge. In this process, the electric field does some work to move the charges and create the potential difference between the conductors.\n",
    " <center><img src=\"charging.png\" width=\"200\" /></center>\n",
    "Such work must be stored somewhere. Where? in the electric field created between the conductors! An electric field stores energy, which will be important when we study electromagnetic waves.\n",
    "\n",
    "A capacitor is therefore a device that stores electric **potential energy** but also **electric charge**. "
   ]
  },
  {
   "cell_type": "markdown",
   "metadata": {
    "slideshow": {
     "slide_type": "subslide"
    }
   },
   "source": [
    "## 12.2 Capacitance \n",
    "\n",
    "For a particular capacitor, the ratio of the charge on each conductor to the potential difference between the conductors is a constant, called the capacitance\n",
    "\n",
    "\n",
    "|  |\n",
    "|--|\n",
    "|$$C=\\frac{Q}{V_{a b}}$$|\n",
    "|  |\n",
    "\n",
    "SI unit of capacitance: **farad** (F), in honor of Michael Faraday. $1 \\mathrm{F}=1$ farad $=1 \\mathrm{C} / \\mathrm{V}=1$ coulomb/volt. $1 \\mathrm{F}=1 \\mathrm{C}^{2} / \\mathrm{N} \\cdot \\mathrm{m}=1 \\mathrm{C}^{2} / \\mathrm{J}$\n",
    "\n",
    "*Properties*\n",
    "\n",
    "- The capacitance depends on the **geometry** of the capacitor and on the **insulator** between them.\n",
    "- The greater the capacity, the greater the charge a capacitor accumulates for a fixed voltage. Hence, capacitance can be viewed as a measure of **how well a capacitor stores energy**. \n",
    "- One farad is a very large capacitance, as the following example shows. In many applications the most convenient units of capacitance are the microfarad $1 \\mu \\mathrm{F}=10^{-6} \\mathrm{F}$ and picofarad $1 \\mathrm{pF}=10^{-12} \\mathrm{F}$"
   ]
  },
  {
   "cell_type": "markdown",
   "metadata": {
    "slideshow": {
     "slide_type": "subslide"
    }
   },
   "source": [
    "## 12.3 The parallel-plate capacitor\n",
    "\n",
    "The simplest capacitor is the parallel-plate capacitor, consisting of two parallel conducting plates, each with area A at a distance d. The separation between the plates is small compared to their dimensions, and so we shall assume that the electric  <center><img src=\"fieldCapacitor.png\" width=\"300\" /></center>\n",
    "The charges on the plates are uniformly distributed over their surfaces, thus by applying Gauss's law we find that $E=\\frac{\\sigma}{\\epsilon_{0}}=\\frac{Q}{\\epsilon_{0} A}$. Additionally, for a uniform field we also have $V_{a b}=E d$. Combining both,\n",
    "\n",
    "|  |\n",
    "|---|\n",
    "|$$C=\\epsilon_{0} \\frac{A}{d}$$|\n",
    "|  |"
   ]
  },
  {
   "cell_type": "markdown",
   "metadata": {
    "slideshow": {
     "slide_type": "subslide"
    }
   },
   "source": [
    "## 12.4 Other important types of capacitors\n",
    "\n",
    "\n",
    "| Spherical capacitor | Cylindrical capacitor|\n",
    "| ------------- | ------------- |\n",
    "| <img src=\"sphericalCap.png\" width=\"300\" />  |<img src=\"cilinderCap.png\" width=\"300\" />  |\n",
    "| $C=4 \\pi \\epsilon_{0} \\frac{r_{a} r_{b}}{r_{b}-r_{a}}$ |$\\frac{C}{L}=\\frac{2 \\pi \\epsilon_{0}}{\\ln \\left(r_{b} / r_{a}\\right)}$  |\n",
    "\n",
    "See derivation on Sears-Zemansky's chapter 24."
   ]
  },
  {
   "cell_type": "markdown",
   "metadata": {
    "slideshow": {
     "slide_type": "subslide"
    }
   },
   "source": [
    "## 12.5 Potential energy of a capacitor\n",
    "\n",
    "For a given voltage, the work necessary to transfer an infinitesimal charge is $dW=V dq$, so $V dq=\\frac{q dq}{C}$ in view of the definition of capacitance (remember, the capacitance $C$ does not change during the charging process, as it only depends on the physical characteristics of the capacitor). Thus\n",
    "\n",
    "$$W=\\int_{0}^{W} d W=\\frac{1}{C} \\int_{0}^{Q} q d q=\\frac{Q^{2}}{2 C}$$\n",
    "\n",
    "If we define the **potential energy** of an uncharged capacitor to be zero, then $U=W$ and\n",
    "\n",
    "|   |\n",
    "|---|\n",
    "|$$U=\\frac{Q^{2}}{2 C}=\\frac{1}{2} C V^{2}=\\frac{1}{2} Q V$$|\n",
    "|   |\n",
    "\n",
    "The **energy density** $u$, defined as energy per unit volume is then \n",
    "\n",
    "$$u=\\frac{\\frac{1}{2} C V^{2}}{A d}=\\frac{1}{2} \\epsilon_{0} E^{2}$$"
   ]
  },
  {
   "cell_type": "markdown",
   "metadata": {
    "slideshow": {
     "slide_type": "subslide"
    }
   },
   "source": [
    "## 12.6 Dielectrics in capacitors\n",
    "\n",
    "In practice, dielectrics contain dielectrics between the plates. This gives mechanical support for the whole configuration. Additionally, it increases the capacitance due to polarization: the electric field induces an opposite electric field inside the dielectric, which eventually decreases the voltage $V$ while keeping the charge $Q$ constant, thereby increasing the capacitance.\n",
    "\n",
    " <center><img src=\"dielectricCap.png\" width=\"500\" /></center>"
   ]
  },
  {
   "cell_type": "markdown",
   "metadata": {
    "slideshow": {
     "slide_type": "subslide"
    }
   },
   "source": [
    "All our previous expressions remain the same by replacing $\\epsilon_0\\rightarrow\\epsilon$\n",
    "\n",
    "$$E=\\sigma_{\\mathrm{net}} / \\epsilon_{0}=\\frac{\\sigma-\\sigma_{\\mathrm{i}}}{\\epsilon_{0}}=\\frac{\\sigma}{\\epsilon}$$\n",
    "\n",
    "$$C=\\epsilon_{r} C_{0}=\\epsilon  \\epsilon_{0} \\frac{A}{d}=\\epsilon \\frac{A}{d}$$\n",
    "\n",
    "$$u=\\frac{1}{2} \\epsilon E^{2}$$"
   ]
  },
  {
   "cell_type": "markdown",
   "metadata": {
    "slideshow": {
     "slide_type": "subslide"
    }
   },
   "source": [
    "\n",
    "## 12.7 Dielectric breakdown\n",
    "\n",
    "No real dielectric remains an insulator for any electric field. High electric fields ionize the material, allowing conduction of charge: this is known as **dielectric breakdown**, and the magnitude of the field at which it occurs is the **dielectric strength** $E_m$. For dry air $E_m=3\\times10^6 V/m$."
   ]
  },
  {
   "cell_type": "markdown",
   "metadata": {
    "slideshow": {
     "slide_type": "subslide"
    }
   },
   "source": [
    "## 12.8 Commercial capacitors\n",
    "\n",
    "|   |   |\n",
    "|---|---|\n",
    "|<img src=\"realcaps.png\" width=\"300\" />|<img src=\"capRead.png\" width=\"300\" />|\n",
    "\n",
    "See description of each type [here](http://www.learningaboutelectronics.com/Articles/Types-of-capacitors)"
   ]
  },
  {
   "cell_type": "code",
   "execution_count": 8,
   "metadata": {
    "slideshow": {
     "slide_type": "subslide"
    }
   },
   "outputs": [
    {
     "data": {
      "image/jpeg": "[encoded data removed]",
      "text/html": [
       "\n",
       "        <iframe\n",
       "            width=\"400\"\n",
       "            height=\"300\"\n",
       "            src=\"https://www.youtube.com/embed/X4EUwTwZ110\"\n",
       "            frameborder=\"0\"\n",
       "            allowfullscreen\n",
       "        ></iframe>\n",
       "        "
      ],
      "text/plain": [
       "<IPython.lib.display.YouTubeVideo at 0x22d89652f40>"
      ]
     },
     "execution_count": 8,
     "metadata": {},
     "output_type": "execute_result"
    }
   ],
   "source": [
    "## Capacitors in practice\n",
    "YouTubeVideo('X4EUwTwZ110')"
   ]
  },
  {
   "cell_type": "code",
   "execution_count": null,
   "metadata": {},
   "outputs": [],
   "source": []
  }
 ],
 "metadata": {
  "celltoolbar": "Slideshow",
  "hide_input": false,
  "kernelspec": {
   "display_name": "Python 3 (ipykernel)",
   "language": "python",
   "name": "python3"
  },
  "language_info": {
   "codemirror_mode": {
    "name": "ipython",
    "version": 3
   },
   "file_extension": ".py",
   "mimetype": "text/x-python",
   "name": "python",
   "nbconvert_exporter": "python",
   "pygments_lexer": "ipython3",
   "version": "3.9.7"
  },
  "latex_envs": {
   "LaTeX_envs_menu_present": true,
   "autoclose": false,
   "autocomplete": true,
   "bibliofile": "biblio.bib",
   "cite_by": "apalike",
   "current_citInitial": 1,
   "eqLabelWithNumbers": true,
   "eqNumInitial": 1,
   "hotkeys": {
    "equation": "Ctrl-E",
    "itemize": "Ctrl-I"
   },
   "labels_anchors": false,
   "latex_user_defs": false,
   "report_style_numbering": false,
   "user_envs_cfg": false
  },
  "rise": {
   "scroll": true
  },
  "toc": {
   "base_numbering": 1,
   "nav_menu": {},
   "number_sections": false,
   "sideBar": true,
   "skip_h1_title": false,
   "title_cell": "Table of Contents",
   "title_sidebar": "Contents",
   "toc_cell": false,
   "toc_position": {},
   "toc_section_display": true,
   "toc_window_display": false
  },
  "varInspector": {
   "cols": {
    "lenName": 16,
    "lenType": 16,
    "lenVar": 40
   },
   "kernels_config": {
    "python": {
     "delete_cmd_postfix": "",
     "delete_cmd_prefix": "del ",
     "library": "var_list.py",
     "varRefreshCmd": "print(var_dic_list())"
    },
    "r": {
     "delete_cmd_postfix": ") ",
     "delete_cmd_prefix": "rm(",
     "library": "var_list.r",
     "varRefreshCmd": "cat(var_dic_list()) "
    }
   },
   "types_to_exclude": [
    "module",
    "function",
    "builtin_function_or_method",
    "instance",
    "_Feature"
   ],
   "window_display": false
  }
 },
 "nbformat": 4,
 "nbformat_minor": 2
}
