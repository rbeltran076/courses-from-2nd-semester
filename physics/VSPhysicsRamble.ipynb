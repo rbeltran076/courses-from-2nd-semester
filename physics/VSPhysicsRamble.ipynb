{
 "cells": [
  {
   "attachments": {},
   "cell_type": "markdown",
   "metadata": {},
   "source": [
    "## Physics for computer science\n",
    "### Electric field\n",
    "Important things about electric field that anyone should know include:\n",
    "\n",
    "- *The electric charge*. Which is a fundamental property of matter that influences the effects of electromagnetic forces.\n",
    "    - opposite cherges attract, equals repell. \n",
    "    - charge is determined by electrons, they represent a negative charge amount, if less electrons than protons, atomically speaking, the object is positively charged, elif it has more electrons than protons, it is negatively charged, or else it is neutral. \n",
    "- *The *"
   ]
  }
 ],
 "metadata": {
  "kernelspec": {
   "display_name": "Python 3",
   "language": "python",
   "name": "python3"
  },
  "language_info": {
   "name": "python",
   "version": "3.11.1"
  },
  "orig_nbformat": 4,
  "vscode": {
   "interpreter": {
    "hash": "8893b9342fbdf87db6df90644dffa06cef75745bdbce66018788be76de710825"
   }
  }
 },
 "nbformat": 4,
 "nbformat_minor": 2
}
