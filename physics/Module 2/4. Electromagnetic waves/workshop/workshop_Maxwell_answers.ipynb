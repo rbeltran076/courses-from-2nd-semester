{
 "cells": [
  {
   "cell_type": "markdown",
   "metadata": {},
   "source": [
    "# Workshop module 2: Maxwell's equations and electromagnetic waves"
   ]
  },
  {
   "cell_type": "markdown",
   "metadata": {},
   "source": [
    "## True or false (and why)\n",
    "\n",
    "1. X-rays exhibit higher frequencies than visible light.\n",
    "    * True\n",
    "2. There are no electromagnetic waves with wavelengths of the order of meters.\n",
    "    * False. Radio\n",
    "3. Maxwell's equations are only valid to time-dependent electromagnetic fields.\n",
    "    * False.\n",
    "4. A EM wave propagates along the positive x-axis, with a magnetic field directed along the positive y-axis. That implies that the electric field is directed along the positive z-axis.\n",
    "    * False. negative z-axis\n",
    "5. In a traveling EM wave, the magnetic and electric fields are in phase.\n",
    "    * True\n",
    "6. In a traveling EM wave, the magnetic and electric fields have the same module.\n",
    "    * False\n",
    "7. In a traveling EM wave, the magnetic and electric energy densities can be different.\n",
    "    * False\n",
    "8. Polarization is a property of all electromagnetic waves exclusively.\n",
    "    * False\n",
    "9. Two plane waves linearly polarized with the same amplitude and frequency but a phase shift of $\\pi$ give rise to a circular polarization \n",
    "    * False. should be $pi/2$\n",
    "10. Two plane waves with left and right circular polarizations respectively, same amplitudes and frequencies give rise to a linearly polarized wave with the same amplitude as the circular ones.\n",
    "    * False. with two times the amplitude.\n",
    "11. The Lorenz force can be derived from the Maxwell's equation.\n",
    "    * False\n",
    "12. The continuity equation can be derived from the Maxwell's equation.\n",
    "    * True\n",
    "13. Standing waves propagate energy.\n",
    "    * False\n",
    "14. A reflected wave gets a phase shift of $pi/2$.\n",
    "    * False. $/pi$\n",
    "15. Boundary conditions, such as metallic planes, impose restrictions over the possible frequencies of stable waves.\n",
    "    * True"
   ]
  },
  {
   "cell_type": "markdown",
   "metadata": {},
   "source": [
    "## Questions\n",
    "\n",
    "1.By measuring the electric and magnetic fields at a point in space where there is an electromagnetic wave, can you determine the direction from which the wave came?\n",
    "\n",
    "*Answer*: yes, because of the right-hand rule\n",
    "\n",
    "2.Suppose that a proton is initially at rest on the x-axis the in the path of the electromagnetic plane wave moving along the positive x-axis. Will the charge move after the wave front reaches it? If the charge does move, describe its motion qualitatively. How does the movement charge by having an electron instead of a proton?\n",
    "\n",
    "*Answer*: proton will move describing a sinusoidal movement along the positive x-axis, due to Lorenz force. Negative x-axis for electron. \n",
    "\n",
    "3.Assume that the magnetic-field amplitude of the electromagnetic wave from a laser is 100 times greater than the Earth’s magnetic field. If you illuminate a compass with the light from this laser, would you expect the compass to deflect? Why or why not?\n",
    "\n",
    "*Answer*: we would see the average movement, which due to rapid oscillations is simply zero.\n",
    "\n",
    "4. For a certain sinusoidal wave of intensity I, the amplitude of the magnetic field is B. What would be the amplitude (in terms of B) in a similar wave of twice the intensity?\n",
    "\n",
    "*Answer*: 4 times bigger.\n",
    "\n",
    "5.We have studied the Maxwell's equations as a set of linear equations (integral equations or partial differential equations). Nevertheless, is this always the case? can you think of any situation in which we have nonlinear Maxwell's equations?\n",
    "\n",
    "*Answer*: Not always linear, as there exists nonlinear media"
   ]
  },
  {
   "cell_type": "markdown",
   "metadata": {},
   "source": [
    "## Problems\n",
    "### Problem 1\n",
    "The magnetic field of an electromagnetic field is given by $\\vec{{B}}(x, t)=-\\left(8.25 \\times 10^{-9} \\mathrm{~T}\\right) \\hat{\\jmath} \\cos \\left[\\left(1.38 \\times 10^{4} \\mathrm{rad} / \\mathrm{m}\\right) x+\\omega t\\right]$\n",
    "* a) In which direction is the wave traveling?\n",
    "* b) What is the frequency of the wave? \n",
    "* c) Write the vector equation for $\\vec E$"
   ]
  },
  {
   "cell_type": "markdown",
   "metadata": {},
   "source": [
    "**Answer**\n",
    "a) in the negative x-direction\n",
    "\n",
    "b) $k=\\frac{2 \\pi}{\\lambda}=\\frac{2 \\pi f}{c} . f=\\frac{k c}{2 \\pi}=\\frac{\\left(1.38 \\times 10^{4} \\mathrm{rad} / \\mathrm{m}\\right)\\left(3.0 \\times 10^{8} \\mathrm{~m} / \\mathrm{s}\\right)}{2 \\pi}=6.59 \\times 10^{11} \\mathrm{~Hz}$\n",
    "\n",
    "c) since the magnetic field is in the minus y-direction and the wave propagates in the minus x-direction, the electric field must be in the minus z-direction. $\\vec{E}(x, t)=-c B_{\\max } \\cos (k x+\\omega t) \\hat{k}$\n",
    "$;\\vec{E}(x, t)=-\\left(c\\left(8.25 \\times 10^{-9} \\mathrm{~T}\\right)\\right) \\cos \\left(\\left(1.38 \\times 10^{4} \\mathrm{rad} / \\mathrm{m}\\right) x+\\left(4.14 \\times 10^{12} \\mathrm{rad} / \\mathrm{s}\\right) t\\right) \\hat{k}$\n",
    "$\\vec{E}(x, t)=-(2.48 \\mathrm{~V} / \\mathrm{m}) \\cos \\left(\\left(1.38 \\times 10^{4} \\mathrm{rad} / \\mathrm{m}\\right) x+\\left(4.14 \\times 10^{12} \\mathrm{rad} / \\mathrm{s}\\right) t\\right) \\hat{k}$"
   ]
  },
  {
   "cell_type": "markdown",
   "metadata": {},
   "source": [
    "### Problem 2   \n",
    "If the eye receives an average intensity greater than $1.0\\times10^2W/m^2$ damage to the retina can occur. This quantity is called the damage threshold of the retina.\n",
    "* a) What is the largest average power (in $mW$) that a laser beam 1.5 mm in diameter can have and still be considered safe to view head-on? \n",
    "* b) What are the maximum values of the electric and magnetic fields for the beam in part a)? \n",
    "* c) How much energy would the beam in part a) deliver per second to the retina?\n",
    "* d) Express the damage threshold in $W/cm^2$"
   ]
  },
  {
   "cell_type": "markdown",
   "metadata": {},
   "source": [
    "**Answer**\n",
    "\n",
    "a)$P=I A=\\left(1.0 \\times 10^{2} \\mathrm{~W} / \\mathrm{m}^{2}\\right) \\pi\\left(0.75 \\times 10^{-3} \\mathrm{~m}\\right)^{2}=1.8 \\times 10^{-4} \\mathrm{~W}=0.18 \\mathrm{~mW}$\n",
    "\n",
    "b)$E=\\sqrt{\\frac{2 I}{\\epsilon_{0} c}}=\\sqrt{\\frac{2\\left(1.0 \\times 10^{2} \\mathrm{~W} / \\mathrm{m}^{2}\\right)}{\\left(8.85 \\times 10^{-12} \\mathrm{C}^{2} / \\mathrm{N} \\cdot \\mathrm{m}^{2}\\right)\\left(3.00 \\times 10^{8} \\mathrm{~m} / \\mathrm{s}\\right)}}=274 \\mathrm{~V} / \\mathrm{m} . B_{\\max }=\\frac{E_{\\mathrm{max}}}{c}=9.13 \\times 10^{-7} \\mathrm{~T}$\n",
    "\n",
    "c) $P=0.18 \\mathrm{~mW}=0.18 \\mathrm{~mJ} / \\mathrm{s}$\n",
    "\n",
    "d)$I=\\left(1.0 \\times 10^{2} \\mathrm{~W} / \\mathrm{m}^{2}\\right)\\left(\\frac{1 \\mathrm{~m}}{10^{2} \\mathrm{~cm}}\\right)^{2}=0.010 \\mathrm{~W} / \\mathrm{cm}^{2}$"
   ]
  },
  {
   "cell_type": "markdown",
   "metadata": {},
   "source": [
    "### Problem 3\n",
    "The electric-field component of a sinusoidal electromagnetic wave traveling through a plastic cylinder is given by the equation $E=(5.35 \\mathrm{~V} / \\mathrm{m}) \\cos \\left[\\left(1.39 \\times 10^{7} \\mathrm{rad} / \\mathrm{m}\\right) x-(3.02 \\times 10^{15} rad/s^2)t\\right]$. Find the frequency, wavelength, and speed of this wave and the index of refraction of the medium in which is traveling?"
   ]
  },
  {
   "cell_type": "markdown",
   "metadata": {},
   "source": [
    "**Answer**\n",
    "\n",
    "$\\omega=3.02 \\times 10^{15} \\mathrm{rad} / \\mathrm{s}$\n",
    "\n",
    "$k=1.39 \\times 10^{7} \\mathrm{rad} / \\mathrm{m} . f=\\frac{\\omega}{2 \\pi}=4.81 \\times 10^{14} \\mathrm{~Hz} . \\lambda=\\frac{2 \\pi}{k}=4.52 \\times 10^{-7} \\mathrm{~m}=452 \\mathrm{nm} .$\n",
    "\n",
    "$v=f \\lambda=2.17 \\times 10^{8} \\mathrm{~m} / \\mathrm{s}$\n",
    "\n",
    "$n=\\frac{c}{v}=\\frac{3.00 \\times 10^{8} \\mathrm{~m} / \\mathrm{s}}{2.17 \\times 10^{8} \\mathrm{~m} / \\mathrm{s}}=1.38 .$"
   ]
  },
  {
   "cell_type": "markdown",
   "metadata": {},
   "source": [
    "### Problem 4\n",
    "An electromagnetic standing wave in a certain material has frequency $1.2\\times 10^{10}Hz$ and speed of propagation $2.1\\times 10^8m/s$\n",
    "* a) What is the distance between a nodal plane of $\\vec B$ and the closest antinodal plane of $\\vec B$ ? \n",
    "* b) What is the distance between an antinodal plane of $\\vec E$ and the closest antinodal plane of $\\vec B$?\n",
    "* c) What is the distance between a nodal plane of $\\vec E$ and the closest nodal plane of $\\vec B$?"
   ]
  },
  {
   "cell_type": "markdown",
   "metadata": {},
   "source": [
    "**Answer**\n",
    "Nodal planes electric field/aninodal planes magnetic field at $x=0,\\lambda/2,\\lambda,3\\lambda/2,...$. Antinodal planes electric field/nodal planes magnetic field at $x=\\lambda/4,3\\lambda/4,5\\lambda/4...$\n",
    "\n",
    "a) The distance between adjacent nodal planes is $\\lambda/2$. Thus the distance between nodal and antinodal planes is $\\lambda/2$.$\\lambda=\\frac{v}{f}=\\frac{2.10 \\times 10^{8} \\mathrm{~m} / \\mathrm{s}}{1.20 \\times 10^{10} \\mathrm{~Hz}}=0.0175 \\mathrm{~m}$$;\\frac{\\lambda}{4}=\\frac{0.0175 \\mathrm{~m}}{4}=4.38 \\times 10^{-3} \\mathrm{~m}=4.38 \\mathrm{~mm}$\n",
    "\n",
    "b) $\\frac{\\lambda}{4}$\n",
    "\n",
    "c)$\\frac{\\lambda}{4}$"
   ]
  },
  {
   "cell_type": "markdown",
   "metadata": {},
   "source": [
    "### Problem 5\n",
    "The voltage across a circular parallel-plate capacitor with area $A=800cm^2$ and separation $d=2mm$ varies sinusoidally as $V=(15mV)cos(150t)$, where t is in seconds. Find the displacement current between the plates and the induced magnetic field at an arbitrary distance $r$ from the axis."
   ]
  },
  {
   "cell_type": "markdown",
   "metadata": {},
   "source": [
    "**Answer**\n",
    "$$V=V_0cos(\\omega t)$$\n",
    "$$\\phi=EA=VA/d$$\n",
    "$$i_D=\\epsilon_0\\frac{d\\phi}{dt}=-\\frac{\\epsilon_0\\omega V_0A}{d}sin(\\omega t)=-(7.97×10^{−10}A)sin(150t)$$\n",
    "\n",
    "$$\\vec{B}=\\frac{\\mu_{0}}{2 \\pi} \\frac{r}{R^{2}} i_{\\mathrm{C}} \\hat{u}_{\\varphi}=\\frac{\\mu_{0}i_{\\mathrm{D}}r}{2 A}  \\hat{u}_{\\varphi}=(6.25\\times10^{-15}(T/m))r\\sin(150t)\\hat{u}_{\\varphi}$$"
   ]
  },
  {
   "cell_type": "code",
   "execution_count": 8,
   "metadata": {},
   "outputs": [],
   "source": [
    "eps=8.84*10**(-12)\n",
    "w=150\n",
    "V=15*10**(-3)\n",
    "A=800*10**(-4)\n",
    "d=2*10**(-3)\n",
    "mu=12.57*10**(-7)"
   ]
  },
  {
   "cell_type": "code",
   "execution_count": 9,
   "metadata": {},
   "outputs": [
    {
     "data": {
      "text/plain": [
       "7.955999999999999e-10"
      ]
     },
     "execution_count": 9,
     "metadata": {},
     "output_type": "execute_result"
    }
   ],
   "source": [
    "iD=eps*w*V*A/d\n",
    "iD"
   ]
  },
  {
   "cell_type": "code",
   "execution_count": 10,
   "metadata": {},
   "outputs": [
    {
     "data": {
      "text/plain": [
       "6.250432499999999e-15"
      ]
     },
     "execution_count": 10,
     "metadata": {},
     "output_type": "execute_result"
    }
   ],
   "source": [
    "mu*iD/(2*A)"
   ]
  }
 ],
 "metadata": {
  "hide_input": false,
  "kernelspec": {
   "display_name": "Python 3 (ipykernel)",
   "language": "python",
   "name": "python3"
  },
  "language_info": {
   "codemirror_mode": {
    "name": "ipython",
    "version": 3
   },
   "file_extension": ".py",
   "mimetype": "text/x-python",
   "name": "python",
   "nbconvert_exporter": "python",
   "pygments_lexer": "ipython3",
   "version": "3.9.7"
  },
  "latex_envs": {
   "LaTeX_envs_menu_present": true,
   "autoclose": false,
   "autocomplete": true,
   "bibliofile": "biblio.bib",
   "cite_by": "apalike",
   "current_citInitial": 1,
   "eqLabelWithNumbers": true,
   "eqNumInitial": 1,
   "hotkeys": {
    "equation": "Ctrl-E",
    "itemize": "Ctrl-I"
   },
   "labels_anchors": false,
   "latex_user_defs": false,
   "report_style_numbering": false,
   "user_envs_cfg": false
  },
  "toc": {
   "base_numbering": 1,
   "nav_menu": {},
   "number_sections": true,
   "sideBar": true,
   "skip_h1_title": true,
   "title_cell": "Table of Contents",
   "title_sidebar": "Contents",
   "toc_cell": false,
   "toc_position": {},
   "toc_section_display": true,
   "toc_window_display": false
  },
  "varInspector": {
   "cols": {
    "lenName": 16,
    "lenType": 16,
    "lenVar": 40
   },
   "kernels_config": {
    "python": {
     "delete_cmd_postfix": "",
     "delete_cmd_prefix": "del ",
     "library": "var_list.py",
     "varRefreshCmd": "print(var_dic_list())"
    },
    "r": {
     "delete_cmd_postfix": ") ",
     "delete_cmd_prefix": "rm(",
     "library": "var_list.r",
     "varRefreshCmd": "cat(var_dic_list()) "
    }
   },
   "types_to_exclude": [
    "module",
    "function",
    "builtin_function_or_method",
    "instance",
    "_Feature"
   ],
   "window_display": false
  }
 },
 "nbformat": 4,
 "nbformat_minor": 4
}
