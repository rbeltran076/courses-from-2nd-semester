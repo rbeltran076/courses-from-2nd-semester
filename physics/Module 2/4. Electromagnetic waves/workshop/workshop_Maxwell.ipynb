{
 "cells": [
  {
   "cell_type": "markdown",
   "metadata": {},
   "source": [
    "# Workshop module 2: Maxwell's equations and electromagnetic waves"
   ]
  },
  {
   "cell_type": "markdown",
   "metadata": {},
   "source": [
    "## True or false (and why)\n",
    "\n",
    "1. X-rays exhibit higher frequencies than visible light.\n",
    "2. There are no electromagnetic waves with wavelengths of the order of meters.\n",
    "3. Maxwell's equations are only valid to time-dependent electromagnetic fields.\n",
    "4. A EM wave propagates along the positive x-axis, with a magnetic field directed along the positive y-axis. That implies that the electric field is directed along the positive z-axis.\n",
    "5. In a traveling EM wave, the magnetic and electric fields are in phase.\n",
    "6. In a traveling EM wave, the magnetic and electric fields have the same module.\n",
    "7. In a traveling EM wave, the magnetic and electric energy densities can be different.\n",
    "8. Polarization is a property of all electromagnetic waves exclusively.\n",
    "9. Two plane waves linearly polarized with the same amplitude and frequency but a phase shift of $\\pi$ give rise to a circular polarization \n",
    "10. Two plane waves with left and right circular polarizations respectively, same amplitudes and frequencies give rise to a linearly polarized wave with the same amplitude as the circular ones.\n",
    "11. The Lorenz force can be derived from the Maxwell's equation.\n",
    "12. The continuity equation can be derived from the Maxwell's equation.\n",
    "13. Standing waves propagate energy.\n",
    "14. A reflected wave gets a phase shift of $pi/2$.\n",
    "15. Boundary conditions, such as metallic planes, impose restrictions over the possible frequencies of stable waves."
   ]
  },
  {
   "cell_type": "markdown",
   "metadata": {},
   "source": [
    "## Questions\n",
    "\n",
    "1. By measuring the electric and magnetic fields at a point in space where there is an electromagnetic wave, can you determine the direction from which the wave came?\n",
    "2. Suppose that a proton is initially at rest on the x-axis the in the path of the electromagnetic plane wave moving along the positive x-axis. Will the charge move after the wave front reaches it? If the charge does move, describe its motion qualitatively. How does the movement charge by having an electron instead of a proton?\n",
    "3. Assume that the magnetic-field amplitude of the electromagnetic wave from a laser is 100 times greater than the Earth’s magnetic field. If you illuminate a compass with the light from this laser, would you expect the compass to deflect? Why or why not?\n",
    "4.  For a certain sinusoidal wave of intensity I, the amplitude of the magnetic field is B. What would be the amplitude (in terms of B) in a similar wave of twice the intensity?\n",
    "5. We have studied the Maxwell's equations as a set of linear equations (integral equations or partial differential equations). Nevertheless, is this always the case? can you think of any situation in which we have nonlinear Maxwell's equations?\n"
   ]
  },
  {
   "cell_type": "markdown",
   "metadata": {},
   "source": [
    "## Problems\n",
    "### Problem 1\n",
    "The magnetic field of an electromagnetic field is given by $\\vec{{B}}(x, t)=-\\left(8.25 \\times 10^{-9} \\mathrm{~T}\\right) \\hat{\\jmath} \\cos \\left[\\left(1.38 \\times 10^{4} \\mathrm{rad} / \\mathrm{m}\\right) x+\\omega t\\right]$\n",
    "* a) In which direction is the wave traveling?\n",
    "* b) What is the frequency of the wave? \n",
    "* c) Write the vector equation for $\\vec E$\n",
    "\n",
    "\n",
    "\n",
    "### Problem 2\n",
    "If the eye receives an average intensity greater than $1.0\\times10^2W/m^2$ damage to the retina can occur. This quantity is called the damage threshold of the retina.\n",
    "* a) What is the largest average power (in $mW$) that a laser beam 1.5 mm in diameter can have and still be considered safe to view head-on? \n",
    "* b) What are the maximum values of the electric and magnetic fields for the beam in part a)? \n",
    "* c) How much energy would the beam in part a) deliver per second to the retina?\n",
    "* d) Express the damage threshold in $W/cm^2$\n",
    "\n",
    "\n",
    "\n",
    "### Problem 3\n",
    "The electric-field component of a sinusoidal electromagnetic wave traveling through a plastic cylinder is given by the equation $E=(5.35 \\mathrm{~V} / \\mathrm{m}) \\cos \\left[\\left(1.39 \\times 10^{7} \\mathrm{rad} / \\mathrm{m}\\right) x-(3.02 \\times 10^{15} rad/s^2)t\\right]$. Find the frequency, wavelength, and speed of this wave and the index of refraction of the medium in which is traveling?\n",
    "\n",
    "\n",
    "### Problem 4\n",
    "An electromagnetic standing wave in a certain material has frequency $1.2\\times 10^{10}Hz$ and speed of propagation $2.1\\times 10^8m/s$\n",
    "* a) What is the distance between a nodal plane of and the closest antinodal plane of ? \n",
    "* b) What is the distance between an antinodal plane of and the closest antinodal plane of\n",
    "* c) What is the distance between a nodal plane of and the closest nodal plane of\n",
    "\n",
    "\n",
    "\n",
    "### Problem 5\n",
    "The voltage across a circular parallel-plate capacitor with area $A=800cm^2$ and separation $d=2mm$ varies sinusoidally as $V=(15mV)cos(150t)$, where t is in seconds. Find the displacement current between the plates and the induced magnetic field at an arbitrary distance $r$ from the axis."
   ]
  }
 ],
 "metadata": {
  "hide_input": false,
  "kernelspec": {
   "display_name": "Python 3 (ipykernel)",
   "language": "python",
   "name": "python3"
  },
  "language_info": {
   "codemirror_mode": {
    "name": "ipython",
    "version": 3
   },
   "file_extension": ".py",
   "mimetype": "text/x-python",
   "name": "python",
   "nbconvert_exporter": "python",
   "pygments_lexer": "ipython3",
   "version": "3.9.7"
  },
  "latex_envs": {
   "LaTeX_envs_menu_present": true,
   "autoclose": false,
   "autocomplete": true,
   "bibliofile": "biblio.bib",
   "cite_by": "apalike",
   "current_citInitial": 1,
   "eqLabelWithNumbers": true,
   "eqNumInitial": 1,
   "hotkeys": {
    "equation": "Ctrl-E",
    "itemize": "Ctrl-I"
   },
   "labels_anchors": false,
   "latex_user_defs": false,
   "report_style_numbering": false,
   "user_envs_cfg": false
  },
  "toc": {
   "base_numbering": 1,
   "nav_menu": {},
   "number_sections": true,
   "sideBar": true,
   "skip_h1_title": true,
   "title_cell": "Table of Contents",
   "title_sidebar": "Contents",
   "toc_cell": false,
   "toc_position": {},
   "toc_section_display": true,
   "toc_window_display": false
  },
  "varInspector": {
   "cols": {
    "lenName": 16,
    "lenType": 16,
    "lenVar": 40
   },
   "kernels_config": {
    "python": {
     "delete_cmd_postfix": "",
     "delete_cmd_prefix": "del ",
     "library": "var_list.py",
     "varRefreshCmd": "print(var_dic_list())"
    },
    "r": {
     "delete_cmd_postfix": ") ",
     "delete_cmd_prefix": "rm(",
     "library": "var_list.r",
     "varRefreshCmd": "cat(var_dic_list()) "
    }
   },
   "types_to_exclude": [
    "module",
    "function",
    "builtin_function_or_method",
    "instance",
    "_Feature"
   ],
   "window_display": false
  }
 },
 "nbformat": 4,
 "nbformat_minor": 4
}
