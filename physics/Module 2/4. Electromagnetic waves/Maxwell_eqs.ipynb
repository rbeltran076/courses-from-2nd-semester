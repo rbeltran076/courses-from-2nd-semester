{
 "cells": [
  {
   "cell_type": "code",
   "execution_count": 2,
   "metadata": {
    "slideshow": {
     "slide_type": "skip"
    }
   },
   "outputs": [],
   "source": [
    "from IPython.display import YouTubeVideo"
   ]
  },
  {
   "cell_type": "markdown",
   "metadata": {
    "slideshow": {
     "slide_type": "slide"
    }
   },
   "source": [
    " <span style=\"font-size:30px;\">Dynamic fields II: Maxwell's equations and electromagnetic waves</span>\n",
    " \n",
    "1. Displacement current\n",
    "2. Maxwell's equations\n",
    "3. Electromagnetic waves\n",
    "4. Plane electromagnetic waves\n",
    "5. The electromagnetic spectrum\n",
    "6. Poynting vector\n",
    "7. Reflection and refraction\n",
    "8. Standing waves\n",
    "9. Photons\n",
    "\n",
    "**Recommended readings**\n",
    " \n",
    " - Sears and Zemansky's University physics-Addison Wesley (credit: I will mostly follow this book, many figures in these slides taken from it)\n",
    "     - Chapters 29.7,32,38"
   ]
  },
  {
   "cell_type": "markdown",
   "metadata": {
    "slideshow": {
     "slide_type": "slide"
    }
   },
   "source": [
    "# 1. Displacement current\n",
    "\n",
    "We have seen that a dynamic magnetic field induces an electric current (driven by a non-electrostatic electric field). The Scottish physicist James Clerk Maxwell (1831–1879) postulated the existence of an **induced magnetic field** caused by a varying electric field.\n",
    "\n",
    "We must extend Ampere's circuital law $\\oint \\vec{{B}} \\cdot {d \\vec{l}}=\\mu_{0} I_{\\text {encl }}$ to include this new source of magnetic field. **Generalized Ampere's law**:\n",
    "\n",
    "|  |\n",
    "|--|\n",
    "|$$\\oint \\vec{B} \\cdot d \\vec{l}=\\mu_{0}\\left(i_{\\mathrm{C}}+i_{\\mathrm{D}}\\right)_{\\mathrm{enc}}$$|\n",
    "|  |\n",
    "\n",
    "where we defined the **displacement current**\n",
    "\n",
    "|   |\n",
    "|---|\n",
    "|$$i_{\\mathrm{D}}=\\epsilon_0 \\frac{d \\Phi_{E}}{d t}$$|\n",
    "|  |"
   ]
  },
  {
   "cell_type": "markdown",
   "metadata": {
    "slideshow": {
     "slide_type": "subslide"
    }
   },
   "source": [
    "## 1.1 Derivation from a charging capacitor\n",
    "\n",
    "Ampere's circuital law leads to a mathematical **contradiction** when applied to a charging capacitor\n",
    "\n",
    "<center><img src=\"displacement.png\" width=\"250\"/></center>\n",
    "\n",
    "As the capacitor charges, the electric flux between the plates of a capacitor builds up. The instantaneous charge in the capacitor can be expressed in terms of this varying flux as\n",
    "\n",
    "$$q=C v=\\frac{\\epsilon A}{d}(E d)=\\epsilon_0 E A=\\epsilon \\Phi_{E}.$$\n",
    "\n",
    "Thus, the current must be\n",
    "\n",
    "$$i_{\\mathrm{C}}=\\frac{d q}{d t}=\\epsilon_0 \\frac{d \\Phi_{E}}{d t}$$\n",
    "\n",
    "As for our original Ampere's circuital law $\\oint_C \\vec{B} \\cdot d \\vec{l}$, notice that the surface over which the current $I_{enc}$ is evaluated can be any open surface bounded by the closed Amperian loop $C$. Using a surface crossing one the terminals of the capacitor indicates that $\\oint \\vec{B} \\cdot d \\vec{l}\\neq 0$. Yet, using a surface that goes between the plates (with the same $C$!!) for which $i_{\\mathrm{C}}=0$, one concludes that $\\oint \\vec{B} \\cdot d \\vec{l}= 0$. To 'fix' Ampere's law, we introduce a displacement current $i_{\\mathrm{D}}$ with equal magnitude as $i_{\\mathrm{C}}$. Expressing the electric flux as $\\Phi_{E}=EA$, the displacement current density can also be defined as \n",
    "\n",
    "|   |\n",
    "|---|\n",
    "|$$j_{\\mathrm{D}}=\\frac{i_D}{A}=\\epsilon_0 \\frac{d E}{d t}$$|\n",
    "|  |"
   ]
  },
  {
   "cell_type": "markdown",
   "metadata": {
    "slideshow": {
     "slide_type": "subslide"
    }
   },
   "source": [
    "## 1.2 Induced magnetic field in a charging capacitor\n",
    "\n",
    "<center><img src=\"inducedB.png\" width=\"250\"/></center>\n",
    "\n",
    "Let's apply Ampere's law to find the induced magnetic field between the plates of a charging circular capacitor. Assuming a cylindrical symmetry around the axis, then\n",
    "\n",
    "$$\\oint \\vec{{B}} \\cdot d \\vec{l}= B(2 \\pi r)=\\mu_{0}( \\frac{i_{\\mathrm{D}}}{\\pi R^2}(\\pi r^2))=\\frac{r^{2}}{R^{2}} i_{\\mathrm{C}}\\implies \\vec B=\\frac{\\mu_{0}}{2 \\pi} \\frac{r}{R^{2}} i_{\\mathrm{C}}\\label{inducedB} \\hat u_\\varphi$$,\n",
    "\n",
    "where we used the fact that $i_{\\mathrm{D}}=i_{\\mathrm{C}}$ for a charging capacitor. Maxwell's displacement current is not merely a convenient way to fix Ampere's law: measurement indicates that **the induced magnetic field is really there** and behaves according to Eq. \\eqref{inducedB}. Instead, the displacement current is a successful prediction of the theory.  "
   ]
  },
  {
   "cell_type": "markdown",
   "metadata": {
    "slideshow": {
     "slide_type": "slide"
    }
   },
   "source": [
    "# 2. Maxwell's equations\n",
    "\n",
    "Maxwell **put together** the fundamental equations of electromagnetism **and understood their significance**, discovered the **displacement current** and predicted the existence of electromagnetic waves.\n",
    "\n",
    "$$\\oint \\vec{E} \\cdot d {\\vec{A}}=\\frac{Q_{\\mathrm{encl}}}{\\epsilon_{0}} \\quad(\\text { Gauss's law for } \\vec{E})$$\n",
    "\n",
    "$$\\oint \\vec{{B}} \\cdot d{\\vec{A}}=0 \\quad(\\text { Gauss's law for } \\vec{B})$$\n",
    "\n",
    "$$\\oint \\vec{{B}} \\cdot d \\vec{{l}}=\\mu_{0}\\left(i_{\\mathrm{C}}+\\epsilon_{0} \\frac{d \\Phi_{E}}{d t}\\right)_{\\mathrm{encl}} \\quad \\text { (Extended Ampere's circuital law) }$$\n",
    "\n",
    "$$\\oint \\vec{{E}} \\cdot d \\vec{l}=-\\frac{d \\Phi_{B}}{d t} \\quad(\\text { Faraday's law })$$\n",
    "\n",
    "Maxwell's equations together with Lorenz force $\\vec{F}=q(\\vec{E}+\\vec{v} \\times \\vec{B})$ describes how electromagnetism works. In combination with Newton's law, we have all the basic classical physics. Probably **the greatest intellectual achievement of the XIX century**"
   ]
  },
  {
   "cell_type": "markdown",
   "metadata": {
    "slideshow": {
     "slide_type": "subslide"
    }
   },
   "source": [
    "*Properties*:\n",
    "- Maxwell's equations are **linear** equations (linear integral equations in the previous form).\n",
    "- Because of the linearity of the equations, the electric field can be broken down in two parts $\\vec{E}=\\vec{{E}}_{\\mathrm{c}}+\\vec{{E}}_{\\mathrm{n}}$ (as we already know) such that the first contribution is always conservative (so $\\oint_C \\vec{{E}}_{\\mathrm{c}}\\cdot d\\vec l=0$), and the second is non-conservative (fulfilling $\\oint_S \\vec{{E}}_{\\mathrm{n}}\\cdot d\\vec A=0$ because of Helmholtz's theorem). \n",
    "- Maxwell's equations contain all the information regarding the magnetic and the electromagnetic fields and the relationship with their sources. Other equations such as Coulomb's law, the continuity equation or the Poisson's equation can be derived from them.\n",
    "- Maxwell's equations manifest a significant **symmetry** between the two fields. This symmetry could be even greater if there existed magnetic monopoles.\n",
    "- When fields do not vary with time, they can be solved **independently**. But when fields do vary, they are **coupled** and have to calculated as a whole."
   ]
  },
  {
   "cell_type": "markdown",
   "metadata": {
    "slideshow": {
     "slide_type": "subslide"
    }
   },
   "source": [
    "## 2.2 Maxwell's equations in differential form\n",
    "\n",
    "Using Stoke's theorem and Gauss's divergence theorem one can convert the integral equations into partial differential equations\n",
    "\n",
    "\\begin{aligned}\n",
    "\\nabla \\cdot \\vec{E} &=\\frac{\\rho}{\\epsilon_{0}} \\\\\n",
    "\\nabla \\cdot \\vec{B} &=0 \\\\\n",
    "\\nabla \\times \\vec{E} &=-\\frac{\\partial \\vec{B}}{\\partial t} \\\\\n",
    "\\nabla \\times \\vec{B} &=\\mu_{0}\\vec{j}+\\mu_{0}\\epsilon_{0} \\frac{\\partial \\vec{E}}{\\partial t}\n",
    "\\end{aligned}"
   ]
  },
  {
   "cell_type": "markdown",
   "metadata": {
    "slideshow": {
     "slide_type": "subslide"
    }
   },
   "source": [
    "Helmholtz's theorem states that a vector field is fully defined through its divergence ($\\nabla \\cdot$) and curl ($\\nabla \\times$). Or in other words, any vector field can be decomposed into $\n",
    "\\vec{F}=\\vec{\\nabla} \\varphi+\\vec{\\nabla} \\times \\vec{A}\n",
    "$. That's why Maxwell's equations totally determine the electromagnetic fields.\n",
    "\n",
    "$$\\begin{aligned}\n",
    "&\\vec{F}=F_{1} \\hat{i}+F_{2} \\hat{j}+F_{3} \\hat{k}=\\left( F_{1}, F_{2}, F_{3}\\right)\\\\\n",
    "&\\vec\\nabla=\\frac{\\partial}{\\partial x} \\hat{i}+\\frac{\\partial}{\\partial y} \\hat{j}+\\frac{\\partial}{\\partial z} \\hat{k}=\\left(\\frac{\\partial}{\\partial x}, \\frac{\\partial}{\\partial y}, \\frac{\\partial}{\\partial z}\\right)\\\\\n",
    "&\\mathrm{Div}=\\nabla \\cdot \\vec{F}=\\frac{\\partial F_{1}}{\\partial x}+\\frac{\\partial F_{2}}{\\partial y}+\\frac{\\partial F_{3}}{\\partial z}\\\\\n",
    "&\\operatorname{Curl}=\\vec\\nabla \\times \\vec{F}=\\left|\\begin{array}{ccc}\n",
    "\\hat{i} & \\hat{j} & \\hat{k} \\\\\n",
    "\\frac{\\partial}{\\partial x} & \\frac{\\partial}{\\partial y} & \\frac{\\partial}{\\partial z} \\\\\n",
    "F_{1} & F_{2} & F_{3}\n",
    "\\end{array}\\right|=\\vec\\nabla \\times \\vec{F}=\\left[\\frac{\\partial F_{3}}{\\partial y}-\\frac{\\partial F_{2}}{\\partial z}\\right] \\hat i-\\left[\\frac{\\partial F_3}{\\partial x}-\\frac{\\partial F_{1}}{\\partial z}\\right] \\hat j+\\left[\\frac{\\partial F_{2}}{\\partial x}-\\frac{\\partial F_{1}}{\\partial y}\\right] \\hat{k}\n",
    "\\end{aligned}$$"
   ]
  },
  {
   "cell_type": "markdown",
   "metadata": {
    "slideshow": {
     "slide_type": "slide"
    }
   },
   "source": [
    "# 3. Electromagnetic waves\n",
    "## 3.1 in vaccum\n",
    "\n",
    "From Maxwell's equations in empty space, where $i_C=0$ and $Q_{encl}=0$, one can derive the following relations\n",
    "\n",
    "$$\\begin{array}{c}\n",
    "\\oint \\vec{B} \\cdot d \\vec{l}=\\epsilon_{0} \\mu_{0} \\frac{d}{d t} \\int \\vec{E} \\cdot d \\vec{A} \\\\\n",
    "\\oint \\vec{E} \\cdot d \\vec{l}=-\\frac{d}{d t} \\int \\vec{B} \\cdot d \\vec{A}\n",
    "\\end{array}$$\n",
    "\n",
    "These equations express the fact that a time-varying field of one kind induces a field of the other kind.\n",
    "\n",
    "*Electromagnetic waves (physical definition)*: a perturbation of electric and magnetic fields that propagates through space and time like a wave, even in the absence of matter acting as a medium.\n",
    "\n",
    "Electromagnetic waves  were first experimentally produced in the laboratory in 1887 by the German physicist Heinrich Hertz. He used LC circuits and detected the electromagnetic waves with other circuits tuned at the same frequency (resonance). He was also able to measure the speed of light and confirmed Maxwell's predictions.  The SI unit of frequency (one cycle per second) is named in honor of Hertz. "
   ]
  },
  {
   "cell_type": "markdown",
   "metadata": {
    "slideshow": {
     "slide_type": "subslide"
    }
   },
   "source": [
    "Manipulating the previous expressions one arrives to a closed equation for each field\n",
    "\n",
    "|  |\n",
    "|--|\n",
    "|$$\\nabla^{2} \\vec{E}-\\frac{1}{c^{2}} \\frac{\\partial^{2} \\vec{E}}{\\partial t^{2}}=0 $$|\n",
    "|$$\\nabla^{2} \\vec{B}-\\frac{1}{c^{2}} \\frac{\\partial^{2} \\vec{B}}{\\partial t^{2}}=0$$|\n",
    "|  |\n",
    "\n",
    "where \n",
    "$$\\nabla^{2} \\vec F=\\vec\\nabla \\cdot(\\vec\\nabla \\vec F)=\\frac{\\partial^{2} F_1}{\\partial {x}^{2}}+\\frac{\\partial^{2} F_2}{\\partial {y}^{2}}+\\frac{\\partial^{2} F_{3}}{\\partial z^{2}}\\quad\\text { (Laplacian) }$$\n",
    "\n",
    "$$c=\\frac{1}{\\sqrt{\\mu_{0} \\varepsilon_{0}}}=2.99792458 \\times 10^{8} \\mathrm{m} / \\mathrm{s}$$\n",
    "These equations are the 3-D version of the well-known **wave equation**:\n",
    "\n",
    "|  |\n",
    "|--|\n",
    "|$$\\frac{\\partial^{2} y(x, t)}{\\partial x^{2}}=\\frac{1}{v^{2}} \\frac{\\partial^{2} y(x, t)}{\\partial t^{2}}$$|\n",
    "|  |\n",
    "\n",
    "*Electromagnetic waves (mathematical definition)*: any solution to the electromagnetic wave equation."
   ]
  },
  {
   "cell_type": "markdown",
   "metadata": {
    "slideshow": {
     "slide_type": "subslide"
    }
   },
   "source": [
    "\n",
    "<center><img src=\"https://m.media-amazon.com/images/I/A1ntnF3PJOL._AC_CLa%7C2140%2C2000%7C61h31jjIsiL.png%7C0%2C0%2C2140%2C2000%2B0.0%2C0.0%2C2140.0%2C2000.0_UX342_.png\" width=\"400\"/></center>\n"
   ]
  },
  {
   "cell_type": "markdown",
   "metadata": {
    "slideshow": {
     "slide_type": "subslide"
    }
   },
   "source": [
    "*Properties*:\n",
    "- Electromagnetic waves obey the **superposition principle**, which leads to well-understood **interference** phenomena.\n",
    "- Electromagnetic waves in vacuum must travel at the **speed of light** $c$.\n",
    "- Unlike mechanical waves, like sound waves, electromagnetic waves do **not require a material medium** to propagate.\n",
    "- The magnitude of the electric and the magnetic field are related by $E=cB$. Hence, the **magnetic force is negligible** compared to the electric force.\n",
    "-  $\\vec E$ and $\\vec B$ and the direction of propagation $\\vec k$ are **orthogonal** to each other, following the **right-hand rule**. $\\vec k\\sim \\vec E\\times\\vec B$.\n",
    "<center><img src=\"right.png\" width=\"250\"/></center>"
   ]
  },
  {
   "cell_type": "markdown",
   "metadata": {
    "slideshow": {
     "slide_type": "subslide"
    }
   },
   "source": [
    "## 3.2 Electromagnetic waves in matter (dielectrics)\n",
    "\n",
    "Previous equations are only valid in vacuum. For dielectrics, Maxwell's equations are modified accordingly. Yet, the electromagnetic wave equation keeps the same form where the speed of light $c$ is replaced by the speed of light in the dielectric $v$, \n",
    "\n",
    "$$v=\\frac{1}{\\sqrt{\\epsilon \\mu}}=\\frac{1}{\\sqrt{\\epsilon_r \\mu_{r}}} \\frac{1}{\\sqrt{\\epsilon_{0} \\mu_{0}}}=\\frac{c}{\\sqrt{\\epsilon_r \\mu_{r}}}$$\n",
    "\n",
    "For most dielectrics $\\mu_r\\approx 1$, hence \n",
    "\n",
    "$$v=\\frac{c}{\\sqrt \\epsilon_r}$$\n",
    "\n",
    "As $ \\epsilon_r$ is always greater than unity, the speed of light is always less than the speed of light in vacuum. We define the index of refraction (or **refractive index**) $n$ as ratio between the these two speeds\n",
    "\n",
    "|  |\n",
    "|--|\n",
    "|$$\\frac{c}{v}=n=\\sqrt{\\epsilon_r \\mu_{r}} \\equiv \\sqrt{\\epsilon_r }$$|\n",
    "|  |\n",
    "\n",
    "- The dielectric susceptibility is a function of frequency, because of the time it takes for the electric dipoles to reorientate in a time-varying electric field. Usually, the greater the frequency, the smaller the susceptibility. This causes **dispersion** of electromagnetic waves, this is, different refraction as a function of frequency."
   ]
  },
  {
   "cell_type": "markdown",
   "metadata": {
    "slideshow": {
     "slide_type": "subslide"
    }
   },
   "source": [
    "## 3.3 Energy density of an electromagnetic wave\n",
    "\n",
    "The energy density in a region with an electric field and a magnetic field present, is simply the sum of the energy density for each field (already covered in previous lectures). \n",
    "\n",
    "$$u=\\frac{1}{2} \\epsilon_{0} E^{2}+\\frac{1}{2 \\mu_{0}} B^{2}$$\n",
    "\n",
    "If we now bear in mind the relationship $E=cB$, then\n",
    "\n",
    "|  |\n",
    "|---|\n",
    "|$$u=\\frac{1}{2} \\epsilon_{0} E^{2}+\\frac{1}{2 \\mu_{0}}(\\sqrt{\\epsilon_{0} \\mu_{0}} E)^{2}=\\epsilon_{0} E^{2}$$|\n",
    "|  |\n",
    "\n",
    "This result implies that, in a wave in vacuum, the energy density contained in the electric field is equal to the energy density of the magnetic field.\n",
    "\n",
    "Energy densities in the fields are equal even in a dielectric."
   ]
  },
  {
   "cell_type": "markdown",
   "metadata": {
    "slideshow": {
     "slide_type": "slide"
    }
   },
   "source": [
    "# 4. Plane waves\n",
    "\n",
    "A plane wave is a solution to the wave equation such that the fields are uniform over any plane perpendicular to the direction of propagation\n",
    "\n",
    "<center><img src=\"planewave.png\" width=\"250\"/></center>\n",
    "\n",
    "Other common special cases of waves which are **not** plane waves: spherical waves, 2D cylindrical waves..."
   ]
  },
  {
   "cell_type": "markdown",
   "metadata": {
    "slideshow": {
     "slide_type": "subslide"
    }
   },
   "source": [
    "##  4.1 Monochromatic plane waves\n",
    "\n",
    "In 1-D is a solution of the form\n",
    "\n",
    "$$y(x, t)=A \\cos (k x-\\omega t)$$\n",
    "\n",
    "A is the amplitude of the wave; $\\omega$ is the angular frequency, which satisfies $\\omega=2\\pi f$, with $f$ being the frequency ($f=1/T$); $k$ is the wavenumber, $k=2\\pi/\\lambda$, with $\\lambda$ being the wavelength.\n",
    "\n",
    "In 3-D it generalizes to\n",
    "\n",
    "|  |\n",
    "|--|\n",
    "|$$\\vec E(\\vec r, t)=\\vec E_{max} \\cos (\\vec k\\cdot \\vec r-\\omega t)$$|\n",
    "|  |\n",
    "\n",
    "A monochromatic plane wave is totally defined by the amplitude $\\vec E_{max}$, the frequency $\\omega$ and the wave vector $\\vec k$."
   ]
  },
  {
   "cell_type": "markdown",
   "metadata": {
    "slideshow": {
     "slide_type": "subslide"
    }
   },
   "source": [
    "Example, a monochromatic electromagnetic plane wave propagating along the positive x-axis\n",
    "\n",
    "<center><img src=\"mono.png\" width=\"300\"/></center>\n",
    "\n",
    "$$\\begin{array}{l}\n",
    "\\vec{E}(x, t)=\\hat{j} E_{\\max } \\cos (k x-\\omega t) \\\\\n",
    "\\vec{B}(x, t)=\\hat{k} B_{\\max } \\cos (k x-\\omega t)\n",
    "\\end{array}$$"
   ]
  },
  {
   "cell_type": "markdown",
   "metadata": {
    "slideshow": {
     "slide_type": "subslide"
    }
   },
   "source": [
    "*Properties*:\n",
    "- $\\vec E$ and $\\vec B$ vary, but they do it **in phase**.\n",
    "- The name monochromatic comes from the fact that it contains **a single frequency** (a single color). polychromatic waves are composed of multiple frequencies.\n",
    "- they compose the basis of a **Fourier decomposition**: any other wave can be decomposed as a sum of monochromatic plane waves.\n",
    "- How is a monochromatic wave generated? It is produced by an oscillating charge, which produces a spherical wave. At a sufficiently long distance from the source, spherical waves look like plane waves if we restrict ourselves to small areas. However, a monochromatic plane wave is an idealized model for the light produced by a laser. \n",
    "- Inserting the general expression of the wave into the Maxwell's equation we arrive at the following equations\n",
    "$$\\begin{aligned}\n",
    "\\vec{k} \\cdot \\vec{E} &=0 \\\\\n",
    "\\vec{k} \\cdot \\vec{B} &=0 \\\\\n",
    "\\vec{B} &=\\frac{1}{\\omega} \\vec{k} \\times \\vec{E} \\\\\n",
    "\\end{aligned}$$\n",
    "    which, among other things, confirm our previous right-hand rule $\\vec k\\sim \\vec E\\times\\vec B$."
   ]
  },
  {
   "cell_type": "markdown",
   "metadata": {
    "slideshow": {
     "slide_type": "subslide"
    }
   },
   "source": [
    "### 4.1.1 Complex notation\n",
    "\n",
    "Monochromatic plane waves can be represented using the complex exponential form\n",
    "\n",
    "$$\\vec E(\\vec r, t)=\\vec E_{max} e^{i(\\vec k\\cdot \\vec r-\\omega t)}$$\n",
    "\n",
    "This is useful when working with linear equations, because we transform differential operators into algebraic operators\n",
    "\n",
    "$$\\frac{\\partial}{\\partial t}=-i \\omega$$\n",
    "$$\\nabla=i \\mathbf{\\kappa}$$\n",
    "\n",
    "At the end of our calculations, we obtain the physical solution just by taking the real part of the answer.\n",
    "\n",
    "A Fourier decomposition is naturally expressed as\n",
    "\n",
    "$$\\vec{E}(\\vec{r}, t)=\\sum_{i} {\\vec{E}}\\left(\\vec{\\kappa}_{i}, \\omega_{i}\\right) \\exp \\left[-i\\left(\\omega_{i} t-\\vec{\\kappa}_{i} \\cdot \\vec{r}\\right)\\right]$$"
   ]
  },
  {
   "cell_type": "code",
   "execution_count": 3,
   "metadata": {
    "slideshow": {
     "slide_type": "subslide"
    }
   },
   "outputs": [
    {
     "data": {
      "image/jpeg": "[encoded data removed]",
      "text/html": [
       "\n",
       "        <iframe\n",
       "            width=\"400\"\n",
       "            height=\"300\"\n",
       "            src=\"https://www.youtube.com/embed/ds0cmAV-Yek\"\n",
       "            frameborder=\"0\"\n",
       "            allowfullscreen\n",
       "            \n",
       "        ></iframe>\n",
       "        "
      ],
      "text/plain": [
       "<IPython.lib.display.YouTubeVideo at 0x1ae6eaaa220>"
      ]
     },
     "execution_count": 3,
     "metadata": {},
     "output_type": "execute_result"
    }
   ],
   "source": [
    "# A cool video about visualizing a Fourier series decomposition\n",
    "YouTubeVideo('ds0cmAV-Yek')"
   ]
  },
  {
   "cell_type": "markdown",
   "metadata": {
    "slideshow": {
     "slide_type": "subslide"
    }
   },
   "source": [
    "## 4.2 Polarization of plane waves\n",
    "\n",
    "Polarization is a property of any transverse wave, which refers to the geometrical orientation of the oscillations perpendicular to the direction of propagation. Longitudinal waves, like sound waves, don't possess polarization.\n",
    "\n",
    "In electromagnetic waves, we focus on the polarization of the electric field (as the magnetic field is trivial once we know it). \n",
    "\n",
    "Polarization is described as a vector moving a 2-D plane. Important types of polarization: linear polarization; circular polarization; random polarization.\n",
    "\n",
    "<center><img src=\"polarization.png\" width=\"500\"/></center>"
   ]
  },
  {
   "cell_type": "code",
   "execution_count": 4,
   "metadata": {
    "slideshow": {
     "slide_type": "subslide"
    }
   },
   "outputs": [
    {
     "data": {
      "image/jpeg": "[encoded data removed]",
      "text/html": [
       "\n",
       "        <iframe\n",
       "            width=\"400\"\n",
       "            height=\"300\"\n",
       "            src=\"https://www.youtube.com/embed/MhhHPOxTUy8\"\n",
       "            frameborder=\"0\"\n",
       "            allowfullscreen\n",
       "            \n",
       "        ></iframe>\n",
       "        "
      ],
      "text/plain": [
       "<IPython.lib.display.YouTubeVideo at 0x1ae6eaaa250>"
      ]
     },
     "execution_count": 4,
     "metadata": {},
     "output_type": "execute_result"
    }
   ],
   "source": [
    "# experiments with polarizers \n",
    "YouTubeVideo('MhhHPOxTUy8')"
   ]
  },
  {
   "cell_type": "markdown",
   "metadata": {
    "slideshow": {
     "slide_type": "slide"
    }
   },
   "source": [
    "# 5. The electromagnetic spectrum\n",
    "\n",
    "The electromagnetic spectrum refers to the whole range of frequencies (wavelengths) of electromagnetic waves. In vacuum, the relationship\n",
    "\n",
    "|  |\n",
    "|--|\n",
    "|$$c=\\lambda f$$|\n",
    "|  |\n",
    "\n",
    "always holds, so it is indifferent to speak about waves of higher (smaller) frequencies or smaller (higher) wavelengths. \n",
    "\n",
    "Different segments of the spectrum receive special names, e.g. visible spectrum from 380 to 750 nm\n",
    "\n",
    "<center><img src=\"spectrum.png\" width=\"500\"/></center>"
   ]
  },
  {
   "cell_type": "markdown",
   "metadata": {
    "slideshow": {
     "slide_type": "slide"
    }
   },
   "source": [
    "# 6. Poynting vector\n",
    "\n",
    "As traveling waves, electromagnetic waves transport energy as they move. The energy flux per unit cross-sectional area $A$ perpendicular to the direction of propagation and per unit time \n",
    "\n",
    "$$S=\\frac{1}{A} \\frac{d U}{d t}$$\n",
    "\n",
    "can be calculated using the expression for the energy density contained in a infinitesimal volume of the wave\n",
    "\n",
    "$$d U=u d V=\\left(\\epsilon_{0} E^{2}\\right)(A c d t)$$\n",
    "\n",
    "Thus\n",
    "\n",
    "$$S=\\epsilon_{0} c E^{2}=\\frac{\\epsilon_{0}}{\\sqrt{\\epsilon_{0} \\mu_{0}}} E^{2}=\\sqrt{\\frac{\\epsilon_{0}}{\\mu_{0}}} E^{2}=\\frac{E B}{\\mu_{0}}$$\n",
    "\n",
    "We now define a vector in the direction of wave propagation whose module is $S$: **the Poynting vector**\n",
    "\n",
    "|  |\n",
    "|--|\n",
    "|$$\\vec{S}=\\frac{1}{\\mu_{0}} \\vec{E} \\times \\vec{B}$$|\n",
    "|  |"
   ]
  },
  {
   "cell_type": "markdown",
   "metadata": {
    "slideshow": {
     "slide_type": "subslide"
    }
   },
   "source": [
    "*Properties*:\n",
    "\n",
    "- SI units of $\\vec S$: power per unit area $\\frac{J}{s\\cdot m^2}$\n",
    "- The surface integral gives us the **power** (i.e. the energy flow per unit time crossing that surface)\n",
    "$$P=\\int \\vec{S} \\cdot d \\vec{A}$$\n",
    "- The time average of $\\vec S$ gives us the **intensity** of the wave $I$."
   ]
  },
  {
   "cell_type": "markdown",
   "metadata": {
    "slideshow": {
     "slide_type": "subslide"
    }
   },
   "source": [
    "## 6.1 Poynting vector of a monochromatic wave\n",
    "\n",
    "For plane waves, $\\vec S$ is orthogonal to the plane wavefront. For plane monochromatic waves, we can also write\n",
    "\n",
    "$$\\vec{S}(x, t) =\\frac{1}{\\mu_{0}} \\vec{E}(x, t) \\times \\vec{B}(x, t)=\\frac{1}{\\mu_{0}}\\left[\\hat{i} E_{\\max } \\cos (k x-\\omega t)\\right] \\times\\left[\\hat{j} B_{\\max } \\cos (k x-\\omega t)\\right]=\\frac{E_{\\max } B_{\\max }}{\\mu_{0}} \\cos ^{2}(k x-\\omega t)\\hat{k}=\\frac{E_{\\max } B_{\\max }}{2 \\mu_{0}}[1+\\cos 2(k x-\\omega t)]\\hat{k}$$\n",
    "\n",
    "The Poynting vector gives the instantaneous intensity of the wave, but this quantity does not reflect the **perceived strength** of the electromagnetic radiation since optical frequencies are too high to be noticed. Instead, what we perceive is a time average of this quantity, the **intensity**.\n",
    "\n",
    "|  |\n",
    "|--|\n",
    "|$$\\langle S\\rangle=\\frac{1}{2\\pi}\\int_0^{2\\pi} S(t)dt=I=\\frac{E_{{max}} B_{{max}}}{2 \\mu_{0}}=\\frac{E_{\\max }^{2}}{2 \\mu_{0} c}=\\frac{1}{2} \\sqrt{\\frac{\\epsilon_{0}}{\\mu_{0}}} E_{\\max }^{2}=\\frac{1}{2} \\epsilon_{0} c E_{\\max }^{2}$$|\n",
    "|  |"
   ]
  },
  {
   "cell_type": "markdown",
   "metadata": {
    "slideshow": {
     "slide_type": "slide"
    }
   },
   "source": [
    "# 7. Reflection and refraction\n",
    "\n",
    "What happens to an electromagnetic wave at the boundary between two different media, like two dielectrics? \n",
    "An incident wave with wavevector $\\vec k_I$ is partially **reflected** into another wave with wavevector $\\vec k_R$ and partially, and partially refracted (transmitted) into another wave with wave vector $\\vec k_T$. \n",
    "\n",
    "<center><img src=\"boundaries.png\" width=\"500\"/></center>\n",
    "\n",
    "The angle between the incident and reflected wave is symmetric $\\theta_I=\\theta_R$, while the relation between the angles of the incident and refracted waves satisfy the **Snell's law**\n",
    "\n",
    "$$n_1\\sin\\theta_I=n_2\\sin\\theta_T$$\n",
    "\n",
    "Additionally, the phase of the reflected wave is reversed (i.e. gets a phase shift of $\\pi$) with respect to the incident one.\n",
    "<center><img src=\"reflect1.gif\" width=\"300\" /></center>"
   ]
  },
  {
   "cell_type": "markdown",
   "metadata": {
    "slideshow": {
     "slide_type": "slide"
    }
   },
   "source": [
    "# 8. Standing electromagnetic waves\n",
    "\n",
    "The superposition of an incident wave and a reflected wave forms a standing wave. \n",
    "\n",
    "<center><img src=\"standing.gif\" width=\"300\" /></center>\n",
    "\n",
    "Applying the **superposition principle** to a wave travelling along the -x-direction, the net electric and magnetic fields are\n",
    "    <center><img src=\"standing_wave.png\" width=\"300\" /></center>\n",
    "$$\n",
    "\\begin{array}{l}\n",
    "E_{y}(x, t)=E_{\\max }[\\cos (k x+\\omega t)-\\cos (k x-\\omega t)] \\\\\n",
    "B_{z}(x, t)=B_{\\max }[-\\cos (k x+\\omega t)-\\cos (k x-\\omega t)]\n",
    "\\end{array}\n",
    "$$\n",
    "\n",
    "which, using a trigonometric identity can be expressed as\n",
    "$$\n",
    "\\begin{array}{l}\n",
    "E_{y}(x, t)=-2 E_{\\max } \\sin k x \\sin \\omega t \\\\\n",
    "B_{z}(x, t)=-2 B_{\\max } \\cos k x \\cos \\omega t\n",
    "\\end{array}\n",
    "$$\n",
    "\n",
    "*Properties*:\n",
    "\n",
    "* We identify certain special points where there occurs **destructive interference**, \n",
    "\n",
    "    $$\n",
    "    x=0, \\frac{\\lambda}{2}, \\lambda, \\frac{3 \\lambda}{2}, \\ldots \\quad (\\text { nodal planes of } \\vec{E})\n",
    "    $$\n",
    "    $$\n",
    "    x=\\frac{\\lambda}{4}, \\frac{3 \\lambda}{4}, \\frac{5 \\lambda}{4}, \\ldots \\quad (\\text { nodal planes of } \\vec{{B}})\n",
    "    $$\n",
    "\n",
    "\n",
    "    \n",
    "* The electric and magnetic fields are now **out of phase** $90º$ ($\\pi/2$)\n",
    "* A standing wave, unlike a traveling wave, does **not transfer energy** from one end to the other (it can be shown mathematically by calculating the time average of the Poynting vector). There is just a local back and forth flow of energy"
   ]
  },
  {
   "cell_type": "markdown",
   "metadata": {
    "slideshow": {
     "slide_type": "subslide"
    }
   },
   "source": [
    "## 8.1 Standing wave in a cavity\n",
    "\n",
    "Let's assume there exists a electromagnetic wave contained in a cavity consisting of two metallic planes at a distance $L$. The previous equations holds, but we also have to impose a boundary condition equation\n",
    "\n",
    "$$ E(x=L,t)=0\\implies\\sin(kL)=0$$ \n",
    "\n",
    "The solutions to this equation indicates that  standing wave can only be produced with a set of discrete wavelengths and corresponding frequencies,\n",
    "$$\\lambda_{n}=\\frac{2 L}{n} \\quad(n=1,2,3, \\ldots)$$\n",
    "\n",
    "$$f_{n}=n \\frac{v}{2 L}=n f_{1} \\quad(n=1,2,3, \\ldots)$$\n",
    "\n",
    "These frequencies are the frequencies of the **normal modes** in a cavity; they are also called harmonics or overtones (and the complete series is called harmonic or overtone series)."
   ]
  },
  {
   "cell_type": "code",
   "execution_count": 5,
   "metadata": {
    "slideshow": {
     "slide_type": "subslide"
    }
   },
   "outputs": [
    {
     "data": {
      "image/jpeg": "[encoded data removed]",
      "text/html": [
       "\n",
       "        <iframe\n",
       "            width=\"400\"\n",
       "            height=\"300\"\n",
       "            src=\"https://www.youtube.com/embed/qhXbAoqWCwY\"\n",
       "            frameborder=\"0\"\n",
       "            allowfullscreen\n",
       "            \n",
       "        ></iframe>\n",
       "        "
      ],
      "text/plain": [
       "<IPython.lib.display.YouTubeVideo at 0x1ae6eaaab50>"
      ]
     },
     "execution_count": 5,
     "metadata": {},
     "output_type": "execute_result"
    }
   ],
   "source": [
    "# Microwave oven and electromagnetic standing waves\n",
    "# A typical microwave oven sets up a standing electromagnetic wave with λ=12.2 cm, \n",
    "# tuned this way so that it gets eaisly absorved by water molecules (which is part of almost every food)\n",
    "YouTubeVideo('qhXbAoqWCwY')"
   ]
  },
  {
   "cell_type": "markdown",
   "metadata": {
    "slideshow": {
     "slide_type": "slide"
    }
   },
   "source": [
    "# 9. Photons\n",
    "\n",
    "Einstein was the first one to postulate that a beam of light in reality consists of small packages of energy called photons or quanta. Einstein was able to successfully explain the **photoelectric effect** by stating that a photon can be absorbed or emitted in terms of massless photons, each carrying an energy given by its frequency\n",
    "\n",
    "|  |\n",
    "|--|\n",
    "|$$E=h f=\\frac{h c}{\\lambda}$$|\n",
    "|  |\n",
    "\n",
    "where $h$ is the **Planck constant**\n",
    "\n",
    "$$h=6.63 \\times 10^{-34} \\mathrm{~J} \\cdot \\mathrm{s}$$\n",
    "\n",
    "Einstein received hist Nobel prize for this work, which was also a foundation stone in the development of **quantum mechanics** in the XX century."
   ]
  },
  {
   "cell_type": "markdown",
   "metadata": {
    "slideshow": {
     "slide_type": "slide"
    }
   },
   "source": [
    "# Appendix"
   ]
  },
  {
   "cell_type": "code",
   "execution_count": 6,
   "metadata": {
    "slideshow": {
     "slide_type": "subslide"
    }
   },
   "outputs": [
    {
     "data": {
      "image/jpeg": "[encoded data removed]",
      "text/html": [
       "\n",
       "        <iframe\n",
       "            width=\"400\"\n",
       "            height=\"300\"\n",
       "            src=\"https://www.youtube.com/embed/6Fdrr_1guok\"\n",
       "            frameborder=\"0\"\n",
       "            allowfullscreen\n",
       "            \n",
       "        ></iframe>\n",
       "        "
      ],
      "text/plain": [
       "<IPython.lib.display.YouTubeVideo at 0x1ae6eaaab20>"
      ]
     },
     "execution_count": 6,
     "metadata": {},
     "output_type": "execute_result"
    }
   ],
   "source": [
    "# Sensor movement for arduino based on infrared radiation\n",
    "YouTubeVideo('6Fdrr_1guok')"
   ]
  }
 ],
 "metadata": {
  "celltoolbar": "Slideshow",
  "hide_input": false,
  "kernelspec": {
   "display_name": "Python 3 (ipykernel)",
   "language": "python",
   "name": "python3"
  },
  "language_info": {
   "codemirror_mode": {
    "name": "ipython",
    "version": 3
   },
   "file_extension": ".py",
   "mimetype": "text/x-python",
   "name": "python",
   "nbconvert_exporter": "python",
   "pygments_lexer": "ipython3",
   "version": "3.9.7"
  },
  "latex_envs": {
   "LaTeX_envs_menu_present": true,
   "autoclose": false,
   "autocomplete": true,
   "bibliofile": "biblio.bib",
   "cite_by": "apalike",
   "current_citInitial": 1,
   "eqLabelWithNumbers": true,
   "eqNumInitial": 1,
   "hotkeys": {
    "equation": "Ctrl-E",
    "itemize": "Ctrl-I"
   },
   "labels_anchors": false,
   "latex_user_defs": false,
   "report_style_numbering": false,
   "user_envs_cfg": false
  },
  "rise": {
   "scroll": true
  },
  "toc": {
   "base_numbering": 1,
   "nav_menu": {},
   "number_sections": true,
   "sideBar": true,
   "skip_h1_title": false,
   "title_cell": "Table of Contents",
   "title_sidebar": "Contents",
   "toc_cell": false,
   "toc_position": {},
   "toc_section_display": true,
   "toc_window_display": false
  },
  "varInspector": {
   "cols": {
    "lenName": 16,
    "lenType": 16,
    "lenVar": 40
   },
   "kernels_config": {
    "python": {
     "delete_cmd_postfix": "",
     "delete_cmd_prefix": "del ",
     "library": "var_list.py",
     "varRefreshCmd": "print(var_dic_list())"
    },
    "r": {
     "delete_cmd_postfix": ") ",
     "delete_cmd_prefix": "rm(",
     "library": "var_list.r",
     "varRefreshCmd": "cat(var_dic_list()) "
    }
   },
   "types_to_exclude": [
    "module",
    "function",
    "builtin_function_or_method",
    "instance",
    "_Feature"
   ],
   "window_display": false
  }
 },
 "nbformat": 4,
 "nbformat_minor": 4
}
