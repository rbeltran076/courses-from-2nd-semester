{
 "cells": [
  {
   "cell_type": "markdown",
   "metadata": {},
   "source": [
    "# Problems\n",
    "## Problem 1"
   ]
  },
  {
   "cell_type": "markdown",
   "metadata": {},
   "source": [
    "Find the impedance of the following circuit. Assuming that $v(t)=V_{p} \\cos \\omega t$, find the expression of current. Find the resonance frequency of the circuit.\n",
    "<center><img src=\"circuit.png\" width=\"500\" /></center>"
   ]
  },
  {
   "cell_type": "markdown",
   "metadata": {},
   "source": [
    "**Solution**: the three components are in parallel, so we can write\n",
    "\n",
    "$$\\frac{1}{Z}=\\frac{1}{Z_1}+\\frac{1}{Z_2}+\\frac{1}{Z_3}=\\frac{1}{R}+\\frac{1}{j\\omega L}+\\frac{1}{(1/(j\\omega C)}$$\n",
    "\n",
    "Then,\n",
    "\n",
    "$$\\frac{1}{Z}=\\frac{1}{R}+\\frac{-j}{\\omega L}+j\\omega C=\\frac{1}{R}+j(\\omega C-\\frac{1}{\\omega L})$$\n",
    "\n",
    "Finally, the impedance is \n",
    "\n",
    "$$Z=\\frac{1}{\\frac{1}{R}+j(\\omega C-\\frac{1}{\\omega L})}=\\frac{\\frac{1}{R}-j(\\omega C-\\frac{1}{\\omega L})}{\\frac{1}{R^2}+(\\omega C-\\frac{1}{\\omega L})^2}$$"
   ]
  },
  {
   "cell_type": "markdown",
   "metadata": {},
   "source": [
    "The current will be of the form $i(t)=I_{p} \\cos (\\omega t+\\varphi)$, where\n",
    "\n",
    "$$I_{p}=\\frac{V_p}{|Z|}=V_p\\frac{1}{|Z|}=V_p\\sqrt{\\frac{1}{R^2}+(\\omega C-\\frac{1}{\\omega L})^2}$$"
   ]
  },
  {
   "cell_type": "markdown",
   "metadata": {},
   "source": [
    "$$\n",
    "\\varphi=-\\arctan \\frac{\\operatorname{Im}(Z)}{\\operatorname{Re}(Z)}=\\arctan \\left((\\omega C-\\frac{1}{\\omega L})R\\right)\n",
    "$$"
   ]
  },
  {
   "cell_type": "markdown",
   "metadata": {},
   "source": [
    "Resonance occurs when $$\n",
    "L \\omega=\\frac{1}{\\omega C} \\Rightarrow \\omega_{res}=\\sqrt{\\frac{1}{L C}}\n",
    "$$\n",
    "\n",
    "at which current reaches a **minimum** (contrary to a RLC circuit in series!)"
   ]
  },
  {
   "cell_type": "markdown",
   "metadata": {},
   "source": [
    "## Problem 2\n",
    "Find the impedance of the following circuit. Assuming that $v(t)=V_{p} \\cos \\omega t$, find the expression of the peak current current $I_p$. Find the resonance frequency of the circuit.\n",
    "<center><img src=\"circuit (2).png\" width=\"500\" /></center>"
   ]
  },
  {
   "cell_type": "markdown",
   "metadata": {},
   "source": [
    "**Solution**: **Solution**: the inductor and capacitor are in parallel, so we can write\n",
    "\n",
    "$$\\frac{1}{Z}=\\frac{1}{Z_1}+\\frac{1}{Z_2}=\\frac{1}{j\\omega L}+\\frac{1}{(1/(j\\omega C)}$$\n",
    "\n",
    "Then,\n",
    "\n",
    "$$\\frac{1}{Z}=\\frac{-j}{\\omega L}+j\\omega C=j(\\omega C-\\frac{1}{\\omega L})$$\n",
    "\n",
    "\n",
    "The impedance would be  \n",
    "\n",
    "$$Z=\\frac{1}{j(\\omega C-\\frac{1}{\\omega L})}=\\frac{-j}{(\\omega C-\\frac{1}{\\omega L})}$$\n",
    "\n",
    "This impedance is now in series with the resistor, so the final impedance is\n",
    "\n",
    "$$Z=R-j\\frac{1}{(\\omega C-\\frac{1}{\\omega L})}$$"
   ]
  },
  {
   "cell_type": "markdown",
   "metadata": {},
   "source": [
    "The current will be of the form $i(t)=I_{p} \\cos (\\omega t+\\varphi)$, where\n",
    "\n",
    "$$I_{p}=\\frac{V_p}{|Z|}=\\frac{V_p}{\\sqrt{{R^2}+\\frac{1}{(\\omega C-\\frac{1}{\\omega L})^2}}}\\\\\n",
    "=\\frac{V_p}{\\sqrt{{R^2}+\\frac{\\omega^2L^2}{(\\omega^2 LC-1)^2}}}$$"
   ]
  },
  {
   "cell_type": "markdown",
   "metadata": {},
   "source": [
    "Resonance occurs when $$(\\omega^2 LC-1)=0\\implies \\omega=\\frac{1}{\\sqrt{LC}}$$, at which $I_p\\rightarrow 0$"
   ]
  },
  {
   "cell_type": "markdown",
   "metadata": {},
   "source": [
    "## Problem 3\n",
    "Find the impedance of the following circuit and the power dissipated knowing that it is powered by an alternating voltage $v(t)=220V\\cos(2\\pi (50Hz)t)$\n",
    "<center><img src=\"circuit (3).png\" width=\"500\" /></center>"
   ]
  },
  {
   "cell_type": "markdown",
   "metadata": {},
   "source": [
    "**Solution**: \n",
    "\n",
    "First of all, $\\omega=2\\pi f=2\\pi 50=314.16 rad/s$.\n",
    "\n",
    "The inductor and the resistance are in parallel, so\n",
    "\n",
    "$${Z}_{aux1}=R1+j(\\omega L)=(4+15.7j)\\Omega$$\n",
    "\n",
    "This is in parallel with the capacitor so\n",
    "\n",
    "$${Z}_{aux2}=Z_1*Z2/(Z_1+Z_2)=(0.31-4.46j)\\Omega$$\n",
    "\n",
    "The final impedance is obtained by combining the previous one with the last resistor in series,\n",
    "\n",
    "\n",
    "$${Z}=Z_{aux2}+R2=(12.31-4.46j)\\Omega$$\n",
    "\n",
    "In other words,\n",
    "\n",
    "$$|Z|=13.1\\Omega$$\n",
    "$$\\phi=19.94º$$\n",
    "\n",
    "The peak current is $$I_p=V_p/|Z|=16.8A$$, and the power dissipated $$P=\\frac{1}{2}V_pI_p\\cos(\\phi)=1.7kW$$"
   ]
  },
  {
   "cell_type": "code",
   "execution_count": 2,
   "metadata": {},
   "outputs": [],
   "source": [
    "import numpy as np\n",
    "omega=2*np.pi*50\n",
    "L=50*10**(-3)\n",
    "C=900*10**(-6)\n",
    "R1=4\n",
    "R2=12"
   ]
  },
  {
   "cell_type": "code",
   "execution_count": 3,
   "metadata": {},
   "outputs": [
    {
     "data": {
      "text/plain": [
       "314.1592653589793"
      ]
     },
     "execution_count": 3,
     "metadata": {},
     "output_type": "execute_result"
    }
   ],
   "source": [
    "omega"
   ]
  },
  {
   "cell_type": "code",
   "execution_count": 4,
   "metadata": {},
   "outputs": [
    {
     "data": {
      "text/plain": [
       "15.707963267948967"
      ]
     },
     "execution_count": 4,
     "metadata": {},
     "output_type": "execute_result"
    }
   ],
   "source": [
    "omega*L"
   ]
  },
  {
   "cell_type": "code",
   "execution_count": 54,
   "metadata": {},
   "outputs": [
    {
     "data": {
      "text/plain": [
       "(0.3051965958474903-4.464820113832698j)"
      ]
     },
     "execution_count": 54,
     "metadata": {},
     "output_type": "execute_result"
    }
   ],
   "source": [
    "Zaux1=(4+15.7j)\n",
    "Zcap=complex(0,-1/(omega*C))\n",
    "Zaux2=Zaux1*Zcap/(Zaux1+Zcap)\n",
    "Zaux2"
   ]
  },
  {
   "cell_type": "code",
   "execution_count": 6,
   "metadata": {},
   "outputs": [
    {
     "name": "stdout",
     "output_type": "stream",
     "text": [
      "(12.305196595847491-4.464820113832698j)\n"
     ]
    }
   ],
   "source": [
    "Zaux1=(4+15.7j)\n",
    "Zcap=complex(0,-1/(omega*C))\n",
    "Zaux2=Zaux1*Zcap/(Zaux1+Zcap)\n",
    "Z=Zaux2+R2\n",
    "print(Z)"
   ]
  },
  {
   "cell_type": "code",
   "execution_count": 55,
   "metadata": {},
   "outputs": [
    {
     "data": {
      "text/plain": [
       "(12.305196595847491-4.464820113832698j)"
      ]
     },
     "execution_count": 55,
     "metadata": {},
     "output_type": "execute_result"
    }
   ],
   "source": [
    "Z=Zaux2+R2\n",
    "Z"
   ]
  },
  {
   "cell_type": "code",
   "execution_count": 56,
   "metadata": {},
   "outputs": [
    {
     "data": {
      "text/plain": [
       "13.090167375222583"
      ]
     },
     "execution_count": 56,
     "metadata": {},
     "output_type": "execute_result"
    }
   ],
   "source": [
    "abs(Z)"
   ]
  },
  {
   "cell_type": "code",
   "execution_count": 57,
   "metadata": {},
   "outputs": [
    {
     "data": {
      "text/plain": [
       "19.94280741262228"
      ]
     },
     "execution_count": 57,
     "metadata": {},
     "output_type": "execute_result"
    }
   ],
   "source": [
    "phi=-np.degrees(np.arctan(Z.imag/Z.real))\n",
    "phi"
   ]
  },
  {
   "cell_type": "code",
   "execution_count": 59,
   "metadata": {},
   "outputs": [
    {
     "data": {
      "text/plain": [
       "16.806507792743876"
      ]
     },
     "execution_count": 59,
     "metadata": {},
     "output_type": "execute_result"
    }
   ],
   "source": [
    "Ip=220/abs(Z)\n",
    "Ip"
   ]
  },
  {
   "cell_type": "code",
   "execution_count": 61,
   "metadata": {},
   "outputs": [
    {
     "data": {
      "text/plain": [
       "1737.854942618132"
      ]
     },
     "execution_count": 61,
     "metadata": {},
     "output_type": "execute_result"
    }
   ],
   "source": [
    "P=0.5*220*Ip*np.cos(-np.arctan(Z.imag/Z.real))\n",
    "P"
   ]
  },
  {
   "cell_type": "markdown",
   "metadata": {},
   "source": [
    "## Problem 4\n",
    "\n",
    "Find the voltage gain $A_{V}=\\frac{\\left|V_{\\text {out }}\\right|}{\\left|V_{\\text {in }}\\right|}$ in the following circuit. What kind of filter is it?\n",
    "<center><img src=\"circuit (4).png\" width=\"500\" /></center>"
   ]
  },
  {
   "cell_type": "markdown",
   "metadata": {},
   "source": [
    "**Solution**:\n",
    "\n",
    "Applying Kirchoff and the generalized Ohm's law,\n",
    "\n",
    "$$V_{in}=(R_1+R_2+j \\omega L)I $$\n",
    "$$V_{out}=R_1I $$\n",
    "Hence,\n",
    "$$\n",
    "A_{V}=\\frac{|V_{o u t}|}{|V_{i n}|}=\\frac{R_1}{\\sqrt{(R_1+R_2)^2+(\\omega L)^2}}$$\n",
    "\n",
    "Let us re-express the previous gain more beautifully by defining $\\omega_0=\\frac{R1+R2}{L}$, so that\n",
    "\n",
    "\n",
    "$$A_{V}=\\frac{R_1}{(R_1+R_2)}\\frac{1}{\\sqrt{1+(\\frac{\\omega L}{R1+R2})^2}}=\\frac{R_1}{(R_1+R_2)}\\frac{1}{\\sqrt{1+(\\frac{\\omega}{\\omega_0})^2}}\n",
    "$$\n",
    "\n",
    "Then we can see it acts as a low-pass filter since\n",
    "\n",
    "* If $\\omega \\gg \\omega_0\\implies A_V\\rightarrow 0$\n",
    "* If $\\omega \\ll \\omega_0\\implies A_V\\rightarrow \\frac{R_1}{(R_1+R_2)}$\n",
    "* If $\\omega = \\omega_0\\implies A_V=\\frac{R_1}{\\sqrt{2}(R_1+R_2)}$"
   ]
  },
  {
   "cell_type": "markdown",
   "metadata": {},
   "source": [
    "## Problem 5\n",
    "\n",
    "Find the voltage gain $A_{V}=\\frac{\\left|V_{\\text {out }}\\right|}{\\left|V_{\\text {in }}\\right|}$ in the following circuit, knowing that the voltage frequency is $f=50Hz$.\n",
    "<center><img src=\"circuit (6).png\" width=\"500\" /></center>"
   ]
  },
  {
   "cell_type": "markdown",
   "metadata": {},
   "source": [
    "Applying Kirchoff and the generalized Ohm's law,\n",
    "\n",
    "$$V_{in}=(R_1+R_2-j \\frac{1}{\\omega C})I $$\n",
    "$$V_{out}=R_1I $$\n",
    "Hence,\n",
    "$$\n",
    "A_{V}=\\frac{|V_{o u t}|}{|V_{i n}|}=\\frac{R_1}{\\sqrt{(R_1+R_2)^2+(\\frac{1}{\\omega C})^2}}=0.59$$"
   ]
  },
  {
   "cell_type": "code",
   "execution_count": 104,
   "metadata": {},
   "outputs": [],
   "source": [
    "f=50\n",
    "w=2*np.pi*f\n",
    "R1=2*10**3\n",
    "R2=1*10**3\n",
    "C=2*10**(-6)\n",
    "Zcap=complex(0,-1/(w*C))"
   ]
  },
  {
   "cell_type": "code",
   "execution_count": 105,
   "metadata": {},
   "outputs": [
    {
     "data": {
      "text/plain": [
       "(3000-1591.5494309189535j)"
      ]
     },
     "execution_count": 105,
     "metadata": {},
     "output_type": "execute_result"
    }
   ],
   "source": [
    "Z_aux=R1+R2+Zcap\n",
    "Z_aux"
   ]
  },
  {
   "cell_type": "code",
   "execution_count": 106,
   "metadata": {},
   "outputs": [
    {
     "data": {
      "text/plain": [
       "0.5889226972822662"
      ]
     },
     "execution_count": 106,
     "metadata": {},
     "output_type": "execute_result"
    }
   ],
   "source": [
    "Av=R1/Z_aux\n",
    "abs(Av)"
   ]
  }
 ],
 "metadata": {
  "hide_input": false,
  "kernelspec": {
   "display_name": "Python 3",
   "language": "python",
   "name": "python3"
  },
  "language_info": {
   "codemirror_mode": {
    "name": "ipython",
    "version": 3
   },
   "file_extension": ".py",
   "mimetype": "text/x-python",
   "name": "python",
   "nbconvert_exporter": "python",
   "pygments_lexer": "ipython3",
   "version": "3.8.3"
  },
  "latex_envs": {
   "LaTeX_envs_menu_present": true,
   "autoclose": false,
   "autocomplete": true,
   "bibliofile": "biblio.bib",
   "cite_by": "apalike",
   "current_citInitial": 1,
   "eqLabelWithNumbers": true,
   "eqNumInitial": 1,
   "hotkeys": {
    "equation": "Ctrl-E",
    "itemize": "Ctrl-I"
   },
   "labels_anchors": false,
   "latex_user_defs": false,
   "report_style_numbering": false,
   "user_envs_cfg": false
  },
  "toc": {
   "base_numbering": 1,
   "nav_menu": {},
   "number_sections": true,
   "sideBar": true,
   "skip_h1_title": false,
   "title_cell": "Table of Contents",
   "title_sidebar": "Contents",
   "toc_cell": false,
   "toc_position": {},
   "toc_section_display": true,
   "toc_window_display": false
  },
  "varInspector": {
   "cols": {
    "lenName": 16,
    "lenType": 16,
    "lenVar": 40
   },
   "kernels_config": {
    "python": {
     "delete_cmd_postfix": "",
     "delete_cmd_prefix": "del ",
     "library": "var_list.py",
     "varRefreshCmd": "print(var_dic_list())"
    },
    "r": {
     "delete_cmd_postfix": ") ",
     "delete_cmd_prefix": "rm(",
     "library": "var_list.r",
     "varRefreshCmd": "cat(var_dic_list()) "
    }
   },
   "types_to_exclude": [
    "module",
    "function",
    "builtin_function_or_method",
    "instance",
    "_Feature"
   ],
   "window_display": false
  }
 },
 "nbformat": 4,
 "nbformat_minor": 4
}
