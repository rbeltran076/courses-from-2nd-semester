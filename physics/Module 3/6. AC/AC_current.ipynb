{
 "cells": [
  {
   "cell_type": "code",
   "execution_count": null,
   "metadata": {
    "slideshow": {
     "slide_type": "skip"
    }
   },
   "outputs": [],
   "source": [
    "from IPython.display import YouTubeVideo"
   ]
  },
  {
   "cell_type": "markdown",
   "metadata": {
    "slideshow": {
     "slide_type": "slide"
    }
   },
   "source": [
    " <span style=\"font-size:30px;\">AC circuits</span>\n",
    " \n",
    " 1. Alternating current\n",
    " 2. Impedance\n",
    " 3. Superposition theorem\n",
    " 4. Power in AC circuits\n",
    " 5. Transformers\n",
    " 6. Resonant circuits\n",
    " 7. Filters\n",
    "\n",
    "\n",
    " **Recommended readings**\n",
    " \n",
    " - Sears and Zemansky's University physics-Addison Wesley\n",
    "     - Chapters 31\n",
    "     \n",
    " Free tutorials: https://www.electronics-tutorials.ws/"
   ]
  },
  {
   "cell_type": "markdown",
   "metadata": {
    "slideshow": {
     "slide_type": "slide"
    }
   },
   "source": [
    "# 1. Alternating current\n",
    "\n",
    "**Alternating current** (AC) is a flow of electric charge that periodically reverses direction.\n",
    "\n",
    "What causes an AC current? a source of **alternating emf** or voltage, such as the **alternator** already studied. We call **ac source** for any device that supplies a sinusoidally varying voltage, this is\n",
    "\n",
    "$$\n",
    "v(t)=V_p \\cos \\omega t\n",
    "$$\n",
    "\n",
    "where $V_p$ is the **peak voltage**. Graphically,\n",
    "\n",
    "<center><img src=\"https://openstax.org/resources/939cdd3768c3c3ff93b1cb78cb7e7fbf0fcdf6cb\" width=\"300\"/></center>\n",
    "\n",
    "Generally speaking, by applying a sinusoidal voltage to a circuit containing capacitors and inductors, the circuity will carry a sinusoidal current of the **same frequency** but with a **phase shift** $\\varphi$ with respect to the voltage.\n",
    "\n",
    "$$\n",
    "i(t)=I_{p} \\cos (\\omega t+\\varphi)\n",
    "$$\n",
    "\n",
    "*Remarks*\n",
    "* AC currents are used all around the world as a way to transmit electric energy. **Transformers** can be used to step the voltage up and down; low voltages are safer for consumer use, while high voltages and low currents are suited for **long-distance power transmission** to minimize losses in the cables.\n",
    "* The AC voltages and frequencies commonly used in homes vary depending on the country. The potential difference between the two sides of an electrical outlet alternates sinusoidally with a frequency of 60 Hz and voltage peak of 170 V in the United States, and 50 Hz/311 V in Europe."
   ]
  },
  {
   "cell_type": "markdown",
   "metadata": {
    "slideshow": {
     "slide_type": "subslide"
    }
   },
   "source": [
    "## 1.1 Root-Mean-Square (rms) Values\n",
    "\n",
    "Instead of peak or peak-to-peak voltages, a convenient way to describe a quantity that can be either positive or negative is by using the root-mean-square (rms) value, which is calculated simply by taking the square root of the squared value.\n",
    "\n",
    "Let's square the instantaneous voltage \n",
    "\n",
    "$$\n",
    "v^{2}=V_p^{2} \\cos ^{2} \\omega t\n",
    "$$\n",
    "\n",
    "which, by using the identity $\\cos ^{2} A=\\frac{1}{2}(1+\\cos 2 A)$, gives\n",
    "\n",
    "$$\n",
    "v^{2}=V_p^{2} \\frac{1}{2}(1+\\cos 2 \\omega t)=\\frac{1}{2} V_p^{2}+\\frac{1}{2} V_p^{2} \\cos 2 \\omega t.\n",
    "$$\n",
    "\n",
    "If we now take the average (mean) value, which is simply $\\frac{1}{2} V_p^{2}$, and take the square root of that average, we arrive to the root-mean-square (rms) value\n",
    "\n",
    "|  |\n",
    "|--|\n",
    "|$$V_{\\mathrm{rms}}=\\sqrt{\\frac{1}{T} \\int_{0}^{T} v^{2}(t) d t}=\\sqrt{v_{av}^2}=\\frac{V_p}{\\sqrt{2}}$$|\n",
    "|  |\n",
    "\n",
    "\n",
    "<center><img src=\"https://www.allaboutcircuits.com/uploads/thumbnails/rms-peak-to-peak-01.png\" width=\"300\"/></center>"
   ]
  },
  {
   "cell_type": "markdown",
   "metadata": {
    "slideshow": {
     "slide_type": "subslide"
    }
   },
   "source": [
    "## 1.2 Complex representation\n",
    "\n",
    "Recall \n",
    "<center><img src=\"https://images.slideplayer.com/27/9103601/slides/slide_1.jpg\" width=\"500\"/></center>\n",
    "\n",
    "A very useful way to represent a rotating quantity is by using the complex exponential\n",
    "\n",
    "$$\n",
    "e^{j(\\omega t+\\theta)}=\\cos (\\omega t+\\theta)+j \\operatorname{sen}(\\omega t+\\theta).\n",
    "$$\n",
    "\n",
    "We recover a sinusoidal variation by taking the **real part** of the exponential (by convention). We then write\n",
    "\n",
    "|  |\n",
    "|--|\n",
    "|$$V_S=V_{p} e^{j \\omega t} \\\\ I_S=I_{p} e^{j(\\omega t+\\varphi)}$$|\n",
    "|  |\n",
    "\n",
    "**Important**: as long as we deal with **linear** circuit elements and operations, we are allowed to leverage the complex representation."
   ]
  },
  {
   "cell_type": "markdown",
   "metadata": {
    "slideshow": {
     "slide_type": "slide"
    }
   },
   "source": [
    "# 2. Impedance\n",
    "\n",
    "Let's insert the complex representation into the expressions defining the characteristic I-V curves of a resistor, capacitor and inductor\n",
    "\n",
    "Resistor $v_{R}=i_{R} R$\n",
    "\n",
    "$$\n",
    "\\left.\\begin{array}{l}\n",
    "i_{R}=\\underbrace{I_{R}} e^{j \\omega t} \\\\\n",
    "v_{R}=\\underbrace{R I_{R}} e^{j \\omega t}\n",
    "\\end{array}\\right\\} \\quad {Z}_{R}=\\frac{{V}_{R}}{{I}_{R}}\n",
    "$$\n",
    "with $Z_R=R$.\n",
    "\n",
    "Inductor $v_{L}=L \\frac{d i_{L}}{d t}$\n",
    "\n",
    "$$\n",
    "\\left.\\begin{array}{l}\n",
    "i_{L}=\\underbrace{I_{L}} e^{j \\omega t}  \\\\\n",
    "v_{L}=\\underbrace{L I_{L} j \\omega}_{L} e^{j \\omega t}\n",
    "\\end{array}\\right\\} \\quad {Z}_{L}=\\frac{{V}_{L}}{{I}_{L}}\n",
    "$$\n",
    "with ${Z}_{L}=j \\omega L$\n",
    "\n",
    "Capacitor $i_{C}=C \\frac{d v_{C}}{d t}$\n",
    "\n",
    "$$\n",
    "\\left.\\begin{array}{l}\n",
    "v_{C}=\\underbrace{V_{C}} e^{j \\omega t} \\\\\n",
    "i_{C}=\\underbrace{C V_{C} j \\omega}_{C} e^{j \\omega t}\n",
    "\\end{array}\\right\\}  \\quad {Z}_{C}=\\frac{{V}_{C}}{{I}_{C}}\n",
    "$$\n",
    "\n",
    "with ${Z}_{C}=\\frac{1}{j \\omega C}$\n",
    "\n",
    "We call ${Z}$ **impedance** (of a resistor, inductor and capacitor, respectively), which satisfies a **generalized Ohm's law**\n",
    "\n",
    "|  |\n",
    "|--|\n",
    "|$$V=IZ \\label{ohm}$$|\n",
    "|  |"
   ]
  },
  {
   "attachments": {},
   "cell_type": "markdown",
   "metadata": {
    "slideshow": {
     "slide_type": "subslide"
    }
   },
   "source": [
    "*Properties*:\n",
    "* We can work with impedances as if they were resistors, but operating with complex numbers.\n",
    "* **Kirchhoff's rule** is valid for impedances\n",
    "* Impedances can be associated in **series and parallel** in the same way as resistors.\n",
    "* Mesh analysis and Thevenin's theorem are valid. \n",
    "* An impedance has the general form $Z=R+jX$. The imaginary part of an impedance $X$ is called **reactance**, which is the opposition of an impedance to the flow of current due to that element's inductance or capacitance\n",
    "\n",
    "$$\n",
    "\\left\\{\\begin{array}{l}\n",
    "\\omega \\rightarrow 0 \\quad\\quad Z_{L} \\rightarrow 0 \\text { short circuit } \\\\\n",
    "\\omega \\rightarrow \\infty\\quad\\quad Z_{L} \\rightarrow \\infty \\text { open circuit }\n",
    "\\end{array}\\right.\n",
    "$$\n",
    "\n",
    "\n",
    "$$\n",
    "\\left\\{\\begin{array}{l}\n",
    "\\omega \\rightarrow 0 \\quad\\quad Z_{C} \\rightarrow \\infty \\text { open circuit } \\\\\n",
    "\\omega \\rightarrow \\infty\\quad\\quad Z_{C} \\rightarrow 0 \\text { short circuit }\n",
    "\\end{array}\\right.\n",
    "$$"
   ]
  },
  {
   "cell_type": "markdown",
   "metadata": {
    "slideshow": {
     "slide_type": "subslide"
    }
   },
   "source": [
    "## 2.1 Example: resistor\n",
    "<center><img src=\"https://openstax.org/resources/7e649edf0ddbab55720f5290fc21c054bb50cede\" width=\"600\"/></center>\n",
    "\n",
    "Voltage and current oscillate **in phase**."
   ]
  },
  {
   "cell_type": "markdown",
   "metadata": {
    "slideshow": {
     "slide_type": "subslide"
    }
   },
   "source": [
    "## Example: RL circuit+AC source\n",
    "\n",
    "<center><img src=\"RL.png\" width=\"300\"/></center>\n",
    "\n",
    "$$Z=Z_R+Z_L=R+i\\omega L$$\n",
    "\n",
    "Equating module and argument from both sides of equation $V=IZ$\n",
    "\n",
    "$$\n",
    "\\begin{array}{l}\n",
    "V_{p}=I_p \\sqrt{R^2+\\omega^{2} L^{2}} \\\\\n",
    "\\varphi=-\\arctan\\frac{Im(Z)}{Re(Z)}=-\\arctan{(\\frac{\\omega L}{R})}\n",
    "\\end{array}\n",
    "$$\n",
    "\n",
    "if $R\\rightarrow 0$, then $\\varphi\\rightarrow -\\pi/2$. This is,\n",
    "$$\n",
    "\\begin{array}{l}\n",
    "V_S=V_{p} \\cos{\\omega t} \\\\\n",
    "I_S=I_{p} \\cos{(\\omega t-\\pi/2)}=I_p\\sin(\\omega t)\n",
    "\\end{array}\n",
    "$$\n",
    "\n",
    "<center><img src=\"https://openstax.org/resources/827e4b94a1e0322d423428478a93c00f7626d8f3\" width=\"600\"/></center>\n",
    "\n",
    "Since the voltage peaks occur a quarter-cycle earlier than the current peaks, we say that the **voltage leads the current** by $\\pi/2$ (which makes sense if you think about the \"inertia\" of an inductor\")."
   ]
  },
  {
   "cell_type": "markdown",
   "metadata": {
    "slideshow": {
     "slide_type": "subslide"
    }
   },
   "source": [
    "## 2.2 Example: RC circuit+AC source\n",
    "\n",
    "\n",
    "$$Z=Z_R+Z_C=R+\\frac{1}{i\\omega C}=R-\\frac{i}{\\omega C}$$\n",
    "\n",
    "Equating module and argument from both sides of equation $V=IZ$\n",
    "\n",
    "$$\n",
    "\\begin{array}{l}\n",
    "V_{p}=I_p \\sqrt{R^2+\\frac{1}{w^2C^2}} \\\\\n",
    "\\varphi=\\arctan{(\\frac{1}{\\omega RC})}\n",
    "\\end{array}\n",
    "$$\n",
    "\n",
    "if $R\\rightarrow 0$, then $\\varphi\\rightarrow \\pi/2$. This is,\n",
    "$$\n",
    "\\begin{array}{l}\n",
    "V_S=V_{p} \\cos{\\omega t} \\\\\n",
    "I_S=I_{p} \\cos{(\\omega t+\\pi/2)}=-I_p\\sin(\\omega t)\n",
    "\\end{array}\n",
    "$$\n",
    "\n",
    "<center><img src=\"https://openstax.org/resources/8a8c6229862e20fed56d0b983fc218848173079d\" width=\"600\"/></center>\n",
    "\n",
    "Since the voltage peaks occur a quarter-cycle earlier than the current peaks, we say that the **current leads the voltage** by $\\pi/2$."
   ]
  },
  {
   "cell_type": "markdown",
   "metadata": {
    "slideshow": {
     "slide_type": "slide"
    }
   },
   "source": [
    "# 3. Superposition theorem\n",
    "\n",
    "Recall the superposition theorem of DC sources: in a **linear** circuit with several sources, the current and voltage for any element in the circuit is the sum of the currents and voltages produced by each source acting independently.\n",
    "\n",
    "This statement generalizes to having different AC sources of different frequencies or a mix of AC and DC sources (DC is just an AC with $\\omega=0$!).\n",
    "\n",
    "As any periodic signal can be decomposed into a linear combination of cosines and sines by a **Fourier series**, the superposition theorem implies that understanding how to deal with simple AC sources is enough to analyze **arbitrary signals**."
   ]
  },
  {
   "cell_type": "markdown",
   "metadata": {
    "slideshow": {
     "slide_type": "slide"
    }
   },
   "source": [
    "# 4. Power in AC circuits\n",
    "## 4.1 instantaneous power\n",
    "Using the general equations for voltage and current in an alternating current circuit, the **instantaneous power** must be\n",
    "\n",
    "$$\n",
    "p(t)=v(t) i(t)=[V_p\\cos (\\omega t)][I_p \\cos (\\omega t+\\varphi)]\n",
    "$$\n",
    "\n",
    "which, by using a trigonometric identity for the cosine of the sum of two angles, can be written as, \n",
    "\n",
    "$$\n",
    "p =V_p I_p \\cos \\phi \\cos ^{2} \\omega t-V_p I_p \\sin \\phi \\cos \\omega t \\sin \\omega t\n",
    "$$\n",
    "\n",
    "One can also write the previous expression as\n",
    "\n",
    "|  |\n",
    "|--|\n",
    "|$$p(t)=\\frac{1}{2} V_{p} I_{p} \\cos \\left(\\varphi\\right)+\\frac{1}{2} V_{p} I_{p} \\cos \\left(2 \\omega t+\\varphi\\right)=V_{rms} I_{rms} \\cos \\left(\\varphi\\right)+ V_{rms} I_{rms} \\cos \\left(2 \\omega t+\\varphi\\right)\\label{instant}$$|\n",
    "|  |\n",
    "\n",
    "*Properties*:\n",
    "\n",
    "* p(t) is positive at some times and negative at others, indicating that capacitive and inductive elements produce power at some instants and absorb it at others.\n",
    "* the first term in $p(t)$ is time-independent, while the second is a **fluctuating power**.\n",
    "* A purely fluctuating power exists when $\\varphi=\\pm \\pi/2$. Thus, it corresponds to the power of a circuit with only capacitors and inductors. These elements"
   ]
  },
  {
   "cell_type": "markdown",
   "metadata": {
    "slideshow": {
     "slide_type": "subslide"
    }
   },
   "source": [
    "## 4.2 average power\n",
    "\n",
    "We can define the **average power** simply as\n",
    "\n",
    "$$\n",
    "P_{\\mathrm{ave}}=\\frac{1}{T} \\int_{0}^{T} p(t) d t.\n",
    "$$\n",
    "\n",
    "Only the first term in expression of instantaneous power $p(t)$ gives a nonzero contribution, also called **active power**.\n",
    "\n",
    "|  |\n",
    "|--|\n",
    "|$$P_{\\mathrm{ave}}=P_{\\mathrm{active}}=\\frac{1}{2} I_{p} V_{p} \\cos \\varphi=V_{\\mathrm{rms}}I_{\\mathrm{rms}}\\cos\\varphi$$|\n",
    "|  |\n",
    "\n",
    "*Remarks*:\n",
    "\n",
    "* As we can see, the fluctuation power does not contribute to the average power. The active power is the real power dissipated in the circuit by the resistors. Capacitors and inductors only moves power back and forth between the source and the circuit.\n",
    "* $cos\\varphi$ is called **power factor**.\n",
    "* Given the above observation, we can also define the **reactive power** as $Q=V_{\\mathrm{rms}}I_{\\mathrm{rms}}\\sin\\varphi$, measured in $VA$ (volt-ampere).\n",
    "* We can also define the **apparent power** as $S=\\sqrt{P^2+Q^2}$."
   ]
  },
  {
   "cell_type": "markdown",
   "metadata": {
    "slideshow": {
     "slide_type": "subslide"
    }
   },
   "source": [
    "## 4.3 complex power\n",
    "\n",
    "Combining the ideas of the active and reactive power plus the complex representation, we shall define the **complex power** as\n",
    "\n",
    "$S=VI^*$\n",
    "\n",
    "(where $I^*$ is the complex conjugate). Then we can write\n",
    "\n",
    "$$\n",
    "S=|I|^{2} Z=\\frac{|V|^{2}}{Z^{*}}\n",
    "$$\n",
    "\n",
    "hence, we recover familiar expressions for the active power in terms of impedance\n",
    "\n",
    "$$\n",
    "P=|S| \\cos \\varphi\n",
    "$$"
   ]
  },
  {
   "cell_type": "markdown",
   "metadata": {
    "slideshow": {
     "slide_type": "slide"
    }
   },
   "source": [
    "# 5. Resonant circuits\n",
    "\n",
    "## 5.1 Canonical example: RLC circuit+AC source\n",
    "\n",
    "<center><img src=\"https://openstax.org/resources/f8e1f2c4ce18f4e9dcc754b2c39ff25365fe98c0\" width=\"600\"/></center>\n",
    "\n",
    "The net impedance is\n",
    "$$Z=Z_R+Z_C+Z_L=R+i\\omega L-\\frac{i}{\\omega C}$$\n",
    "\n",
    "Hence,\n",
    "$$\n",
    "I_{p}=|I|=\\frac{|V|}{|Z|}=\\frac{V_{p}}{\\sqrt{R^{2}+\\left(X_{L}-X_{C}\\right)^{2}}}=\\frac{V_{p}}{\\sqrt{R^{2}+\\left(\\omega L-\\frac{1}{\\omega C}\\right)^{2}}} \\label{rlc}\n",
    "$$\n",
    "$$\n",
    "\\varphi=-\\arctan \\frac{\\omega L-\\frac{1}{\\omega C}}{R}\n",
    "$$\n",
    "\n",
    "* $\\varphi$ is positive or negative depending on the relative values of the reactances."
   ]
  },
  {
   "cell_type": "markdown",
   "metadata": {
    "slideshow": {
     "slide_type": "subslide"
    }
   },
   "source": [
    "## 5.2 Resonance frequency\n",
    "\n",
    "By drawing the **response curve** implied by our previous equation for $I_{p}$,\n",
    "\n",
    "<center><img src=\"https://openstax.org/resources/8f5f65b83798f57060b13b7902793322deec04f4\" width=\"300\"/></center>\n",
    "\n",
    "we notice that the current amplitude is maximum for a certain frequency called **resonant frequency** \n",
    "\n",
    "|  |\n",
    "|--|\n",
    "|$$\\omega_0=\\frac{1}{\\sqrt{LC}}$$|\n",
    "|  |\n",
    "\n",
    "At resonance, we have \n",
    "\n",
    "$$\n",
    "\\varphi=\\tan ^{-1}(0)=0, \\quad I_{p}=V_{p} / R, \\quad \\text { and } \\quad Z=R\n",
    "$$\n",
    "\n",
    "*Remarks*:\n",
    "* The resonance frequency is the frequency at which the amplitude of the current would oscillate if not driven by a voltage source (called **natural frequency**). Thus, by tuning the **driving force** (emf) at that frequency, energy transfer between source and circuit is maximal.\n",
    "* At resonance, an RLC circuit is purely resistive, with the applied emf and current **in phase**."
   ]
  },
  {
   "cell_type": "markdown",
   "metadata": {
    "slideshow": {
     "slide_type": "subslide"
    }
   },
   "source": [
    "## 5.3 Quality factor\n",
    "\n",
    "Let's draw $P_{ave}$ versus $\\omega$. \n",
    "\n",
    "<center><img src=\"https://openstax.org/resources/1348e5afbe7d6b34124b68c31d0462a0eed1424e\" width=\"300\"/></center>\n",
    "\n",
    "We define the bandwidth $\\Delta\\omega$ of the resonance peak as the range of angular frequencies $\\omega$ over which the average power is greater than one-half the maximum value of $P_{ave}$.\n",
    "\n",
    "We then define the quality factor $Q$ of the circuit as the following dimensionless quantity\n",
    "\n",
    "$$\n",
    "Q=\\frac{\\omega_{0}}{\\Delta \\omega}\n",
    "$$\n",
    "\n",
    "For a RLC circuit in series, one can show that \n",
    "$$\n",
    "Q=\\frac{1}{R} \\sqrt{\\frac{L}{C}}\n",
    "$$\n",
    "\n",
    "*Properties*:\n",
    "\n",
    "* $Q$ measures the sharpness of the curve. A high Q indicates a sharp resonance peak.\n",
    "* $Q$ also measures the relation between active and reactive power. A high $Q$ indicates low dissipation with respect to the energy stored in the resonator."
   ]
  },
  {
   "cell_type": "markdown",
   "metadata": {
    "slideshow": {
     "slide_type": "subslide"
    }
   },
   "source": [
    "## 5.4 Applications\n",
    "\n",
    "* **Radio**: Resonant circuits are commonly used to pass or reject selected frequency ranges, by tuning the circuit to a particular resonant frequency. In radios, a receiver is tuned to match the frequency of the station we want to listen to. A circuit with high $Q$ (small bandwidth) will be efficient at selecting different radio stations.\n",
    "\n",
    "* **Metal detectors**: When a metal detector approaches a piece of metal, the self-inductance of one of its coils changes, causing a shift in the resonant frequency of a circuit containing that coil. This shift is in turn detected, revealing the presence of a metal nearby.  "
   ]
  },
  {
   "cell_type": "markdown",
   "metadata": {
    "slideshow": {
     "slide_type": "slide"
    }
   },
   "source": [
    "# 6. Transformers\n",
    "\n",
    "A transformer basically consists of two separated coils, or windings, wrapped around a soft iron core with relative magnetic permeability $\\mu_r$. The winding to which power is supplied is called the **primary**; the winding from which power is delivered is called the **secondary**. \n",
    "\n",
    "\n",
    "<center><img src=\"https://openstax.org/resources/4690e4794903cd20ec055bd198c429ac65d26023\" width=\"500\"/></center>\n",
    "\n",
    "* *Functioning*: The AC source generates an AC current in the primary, which induces an alternating magnetic flux in the core. This in turn induces an emf in each winding, according to Faraday's law. Correspondingly, an alternating current in the secondary is generated, which delivers power to the circuit to which is connected. Both induced currents have the same frequency as the AC source.\n",
    "\n",
    "* *Relation of voltages*: Applying Faraday's law to each winding,\n",
    "\n",
    "    $$\n",
    "    \\mathcal{E}_{1}=-N_{1} \\frac{d \\Phi_{B}}{d t} \\text { and } \\mathcal{E}_{2}=-N_{2} \\frac{d \\Phi_{B}}{d t}\n",
    "    $$\n",
    "\n",
    "    Noticing that the magnetic flux must be the same in each coil, then \n",
    "\n",
    "|  |\n",
    "|--|\n",
    "|$$\\frac{\\mathcal{E}_{2}}{\\mathcal{E}_{1}}=\\frac{N_{2}}{N_{1}}$$|\n",
    "|  |\n",
    "\n",
    "    \n",
    "   We can obtain any desired secondary voltage by choosing the appropriate turns ratio.\n",
    "\n",
    "* *Relation of powers*: Invoking conservation of energy, the power delivered to the primary must equal the power delivered to the secondary.\n",
    "\n",
    "    $V_1I_1=V_2I_2$\n",
    "\n",
    "* Real transformers always have some *energy losses* caused by \n",
    "    * Power dissipated by the windings.\n",
    "    * Power dissipated by the core (hysteresis): minimized by the use of soft iron with a narrow hysteresis loop.\n",
    "    * Eddy currents in the core: they can be minimized by the use of a laminated core. This way, possible eddy-current paths are narrower, so induced emfs in each path are smaller. The alternating magnetic field exerts forces on the current-carrying laminae that cause them to vibrate back and forth; this vibration causes the characteristic “hum” of an operating transformer. Thanks to the use of soft iron cores and lamination, transformer efficiencies are usually well over 90%"
   ]
  },
  {
   "cell_type": "markdown",
   "metadata": {
    "slideshow": {
     "slide_type": "slide"
    }
   },
   "source": [
    "# 7. Filters\n",
    "\n",
    "A filter is a four-terminal circuit element that pass to the output terminals those input signals in a desired range of frequencies. The amplitude of signals outside of such range is ideally reduced to zero (just attenuated in practice).\n",
    "\n",
    "We call **voltage gain** to the ratio\n",
    "\n",
    "| |\n",
    "|--|\n",
    "|$$A_V=\\frac{V_{out}}{V_{in}}$$|\n",
    "|  |\n",
    "\n",
    "We distinguish between\n",
    "* Active filters: composed of active elements like transistors.\n",
    "* Passive filter: composed of passive elements, such as resistors, inductors and capacitors.\n",
    "\n",
    "A filter can be:\n",
    "* Low pass filter\n",
    "* High pass filter\n",
    "* Band pass filter\n",
    "* Band stop filter\n",
    "\n",
    "<center><img src=\"https://www.electronics-tutorials.ws/wp-content/uploads/2018/05/filter-fil79.gif\" width=\"500\"/></center>"
   ]
  },
  {
   "cell_type": "markdown",
   "metadata": {
    "slideshow": {
     "slide_type": "subslide"
    }
   },
   "source": [
    "## 7.1 Decibels\n",
    "\n",
    "When analysing response functions or gains in the frequency domain, the range of frequencies may vary between different **orders of magnitude**. It is therefore more convenient to compare the amplitude ratio on a logarithmic scale rather than on a linear scale.\n",
    "\n",
    "If we have two quantities of **power**, $P_1$ and $P_2$, a **decibel** (simply dB) is defined as the following logarithmic ratio\n",
    "\n",
    "$$\n",
    "\\mathrm{dB}=10 \\log _{10}\\left[\\mathrm{P}_{2} / \\mathrm{P}_{1}\\right]\n",
    "$$\n",
    "\n",
    "*example*: three order of magnitudes in power gives 30 dB.\n",
    "\n",
    "$$\n",
    "10 \\times \\log _{10}\\left[\\frac{100}{0.1}\\right]=10 \\times \\log _{10}(1000)=30 \\mathrm{~dB}\n",
    "$$\n",
    "\n",
    "If we want to apply the definition to **voltages**, then we find that\n",
    "\n",
    "$$\n",
    "\\mathrm{dB}_{\\mathrm{v}}=10 \\log _{10}\\left[\\frac{\\mathrm{V}_{2}^{2} / \\mathrm{R}}{\\mathrm{V}_{1}^{2} / \\mathrm{R}}\\right]=10 \\log _{10}\\left[\\frac{\\mathrm{V}_{2}^{2}}{\\mathrm{~V}_{1}^{2}}\\right]=10 \\log _{10}\\left[\\frac{\\mathrm{V}_{2}}{\\mathrm{~V}_{1}}\\right]^{2}=20 \\log _{10}\\left[\\frac{\\mathrm{V}_{2}}{\\mathrm{~V}_{1}}\\right]\n",
    "$$\n",
    "\n",
    "Similarly for currents,\n",
    "\n",
    "$$\n",
    "\\mathrm{dB}_{\\mathrm{i}}=10 \\log _{10}\\left[\\frac{\\mathrm{I}_{2}}{\\mathrm{I}_{1}}\\right]^{2}=20 \\log _{10}\\left[\\frac{\\mathrm{I}_{2}}{\\mathrm{I}_{1}}\\right]\n",
    "$$\n",
    "\n",
    "Finally, we can express the **voltage gain in dB** as \n",
    "\n",
    "| |\n",
    "|--|\n",
    "|$$A_{V}(\\mathrm{~dB})=>20 \\log \\left(A_{V}\\right)$$|\n",
    "|  |"
   ]
  },
  {
   "cell_type": "markdown",
   "metadata": {
    "slideshow": {
     "slide_type": "subslide"
    }
   },
   "source": [
    "## 7.2 Passive low-pass filter\n",
    "\n",
    "<center><img src=\"https://www.electronics-tutorials.ws/wp-content/uploads/2018/05/filter-fil5.gif\" width=\"300\"/></center>\n",
    "\n",
    "Applying Kirchoff and the generalized Ohm's law,\n",
    "\n",
    "$$V_{in}=(R+1 /(j \\omega C))I $$\n",
    "$$V_{out}=(1 /(j \\omega C))I $$\n",
    "\n",
    "Then\n",
    "\n",
    "$$\n",
    "V_{o}=\\frac{1 /(j \\omega C)}{R+1 /(j \\omega C)} V_{i}=\\frac{1}{1+j(\\omega R C)} V_{i}\n",
    "$$\n",
    "\n",
    "Defining the **cut-off frequency** $\\omega=1/(RC)$, the voltage gain is\n",
    "$$\n",
    "A_{V}=\\frac{|V_{o u t}|}{|V_{i n}|}=\\frac{1}{\\sqrt{1+\\omega^{2} / \\omega_{0}^{2}}}\n",
    "$$\n",
    "\n",
    "* If $\\omega \\gg \\omega_0\\implies A_V\\rightarrow 0$\n",
    "* If $\\omega \\ll \\omega_0\\implies A_V\\rightarrow 1$\n",
    "* If $\\omega = \\omega_0\\implies A_V=1/\\sqrt{2}$\n",
    "\n",
    "Intuition: \n",
    "<center><img src=\"https://www.electronics-tutorials.ws/wp-content/uploads/2018/05/filter-fil76.gif\" width=\"500\"/></center>"
   ]
  },
  {
   "cell_type": "markdown",
   "metadata": {
    "slideshow": {
     "slide_type": "subslide"
    }
   },
   "source": [
    "example: **Bode diagram (amplitude only)** with $\\omega_0=1(rad/s)$\n",
    "\n",
    "$$\n",
    "A_V (dB)=20 \\log \\frac{1}{\\left(1+\\omega^{2} / \\omega_{0}^{2}\\right)^{1 / 2}}=-10 \\log \\left(1+\\frac{\\omega^{2}}{\\omega_{0}^{2}}\\right)\n",
    "$$\n",
    "\n",
    "$$\n",
    "\\left\\{\\begin{array}{ll}\n",
    "\\omega<<\\omega_{0} & A_{V}(d B) \\rightarrow 0 \\\\\n",
    "\\omega>>\\omega_{0} & A_{V}(d B) \\rightarrow-20\\left(\\log \\omega-\\log \\omega_{0}\\right) \\quad \\text { straight line with slope }-20 \\\\\n",
    "\\omega=\\omega_{0} & A_{V}(d B)=-20 \\log 0.707=-3 d B\n",
    "\\end{array}\\right.\n",
    "$$\n",
    "\n",
    "<center><img src=\"bode_lowpass.png\" width=\"300\"/></center>"
   ]
  },
  {
   "cell_type": "markdown",
   "metadata": {
    "slideshow": {
     "slide_type": "subslide"
    }
   },
   "source": [
    "## 7.3 Passive high-pass filter\n",
    "\n",
    "<center><img src=\"https://www.electronics-tutorials.ws/wp-content/uploads/2018/05/filter-fil11.gif\" width=\"300\"/></center>\n",
    "\n",
    "Applying Kirchoff,\n",
    "\n",
    "$$\n",
    "\\frac{V_{o}}{V_{i}}=\\frac{R}{R+1 /(j \\omega C)}=\\frac{1}{1-j(1 / \\omega R C)}\n",
    "$$\n",
    "\n",
    "Defining the **cut-off frequency** $\\omega=1/(RC)$, the voltage gain is\n",
    "$$\n",
    "A_{V}=\\frac{|V_{\\text {out}}|}{|V_{\\text {in}}|}=\\frac{\\omega / \\omega_{0}}{\\sqrt{1+\\omega^{2} / \\omega_{0}^{2}}}\n",
    "$$\n",
    "\n",
    "* If $\\omega \\ll \\omega_0\\implies A_V\\rightarrow 0$\n",
    "* If $\\omega \\gg \\omega_0\\implies A_V\\rightarrow 1$\n",
    "* If $\\omega = \\omega_0\\implies A_V=1/\\sqrt{2}$\n",
    "\n",
    "Intuition: \n",
    "<center><img src=\"https://www.electronics-tutorials.ws/wp-content/uploads/2018/05/filter-fil77.gif\" width=\"500\"/></center>"
   ]
  },
  {
   "cell_type": "markdown",
   "metadata": {
    "slideshow": {
     "slide_type": "subslide"
    }
   },
   "source": [
    "Bode diagram with $\\omega_0=10 rad/s$\n",
    "$$\n",
    "A_V(dB)=20 \\log \\frac{\\omega / \\omega_{0}}{\\left(1+\\omega^{2} / \\omega_{0}^{2}\\right)^{1 / 2}}\\\\\n",
    "=20 \\log \\omega -20 \\log \\omega_{0}-10 \\log \\left(1+\\frac{\\omega^{2}}{\\omega_{0}^{2}}\\right)\n",
    "$$\n",
    "\n",
    "<center><img src=\"bode_high.png\" width=\"300\"/></center>"
   ]
  }
 ],
 "metadata": {
  "celltoolbar": "Slideshow",
  "hide_input": false,
  "kernelspec": {
   "display_name": "Python 3 (ipykernel)",
   "language": "python",
   "name": "python3"
  },
  "language_info": {
   "codemirror_mode": {
    "name": "ipython",
    "version": 3
   },
   "file_extension": ".py",
   "mimetype": "text/x-python",
   "name": "python",
   "nbconvert_exporter": "python",
   "pygments_lexer": "ipython3",
   "version": "3.9.7"
  },
  "latex_envs": {
   "LaTeX_envs_menu_present": true,
   "autoclose": false,
   "autocomplete": true,
   "bibliofile": "biblio.bib",
   "cite_by": "apalike",
   "current_citInitial": 1,
   "eqLabelWithNumbers": true,
   "eqNumInitial": 1,
   "hotkeys": {
    "equation": "Ctrl-E",
    "itemize": "Ctrl-I"
   },
   "labels_anchors": false,
   "latex_user_defs": false,
   "report_style_numbering": false,
   "user_envs_cfg": false
  },
  "toc": {
   "base_numbering": 1,
   "nav_menu": {},
   "number_sections": true,
   "sideBar": true,
   "skip_h1_title": false,
   "title_cell": "Table of Contents",
   "title_sidebar": "Contents",
   "toc_cell": false,
   "toc_position": {},
   "toc_section_display": true,
   "toc_window_display": false
  },
  "varInspector": {
   "cols": {
    "lenName": 16,
    "lenType": 16,
    "lenVar": 40
   },
   "kernels_config": {
    "python": {
     "delete_cmd_postfix": "",
     "delete_cmd_prefix": "del ",
     "library": "var_list.py",
     "varRefreshCmd": "print(var_dic_list())"
    },
    "r": {
     "delete_cmd_postfix": ") ",
     "delete_cmd_prefix": "rm(",
     "library": "var_list.r",
     "varRefreshCmd": "cat(var_dic_list()) "
    }
   },
   "types_to_exclude": [
    "module",
    "function",
    "builtin_function_or_method",
    "instance",
    "_Feature"
   ],
   "window_display": false
  }
 },
 "nbformat": 4,
 "nbformat_minor": 4
}
