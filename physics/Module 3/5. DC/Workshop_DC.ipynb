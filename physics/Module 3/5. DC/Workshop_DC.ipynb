{
 "cells": [
  {
   "cell_type": "markdown",
   "metadata": {},
   "source": [
    "# Problems"
   ]
  },
  {
   "cell_type": "markdown",
   "metadata": {},
   "source": [
    "## Problem 1"
   ]
  },
  {
   "cell_type": "markdown",
   "metadata": {},
   "source": [
    "Find the currents going through R2 and R4 in the following circuit\n",
    "<center><img src=\"circuit1.png\" width=\"500\" /></center>"
   ]
  },
  {
   "cell_type": "markdown",
   "metadata": {},
   "source": [
    "**Solution**\n",
    "<center><img src=\"circuit1_ans.jpg\" width=\"500\" /></center>\n",
    "\n",
    "Mesh equations:\n",
    "$$\n",
    "\\begin{array}{l}\n",
    "\\left(2 I_{1}+2 I_{3}\\right)+\\left(8 I_{1}+8 I_{2}\\right)=40 \\\\\n",
    "\\left(8 I_{2}+8 I_{1}\\right)+\\left(6 I_{2}\\right)+\\left(6 I_{2}-6 I_{3}\\right)=0 \\\\\n",
    "\\left(2 I_{3}+2 I_{1}\\right)+\\left(6 I_{3}-6 I_{2}\\right)+\\left(2 I_{3}\\right)+\\left(3 I_{3}\\right)=20\n",
    "\\end{array}\n",
    "$$\n",
    "Hence,\n",
    "$$\n",
    "\\begin{array}{l}\n",
    "10 I_{1}+8 I_{2}+2 I_{3}=40 \\\\\n",
    "8 I_{1}+20 I_{2}-6 I_{3}=0 \\\\\n",
    "2 I_{1}-6 I_{2}+13 I_{3}=20\n",
    "\\end{array}\n",
    "$$\n",
    "which leads to,\n",
    "$$\n",
    "I_{1}=6,34 \\mathrm{A}, I_{2}=-2,75 \\mathrm{A}, I_{3}=-0,71 \\mathrm{A}\n",
    "$$\n",
    "Finally\n",
    "$$\n",
    "I_{R2}=I_{1}+I_{3}=5,63 \\mathrm{A}\\\\\n",
    "I_{R4}=I_{3}-I_{2}=2,04 \\mathrm{A}\n",
    "$$"
   ]
  },
  {
   "cell_type": "code",
   "execution_count": 2,
   "metadata": {},
   "outputs": [],
   "source": [
    "from numpy.linalg import solve"
   ]
  },
  {
   "cell_type": "code",
   "execution_count": 5,
   "metadata": {},
   "outputs": [
    {
     "name": "stdout",
     "output_type": "stream",
     "text": [
      "[[ 6.33802817]\n",
      " [-2.74647887]\n",
      " [-0.70422535]]\n"
     ]
    }
   ],
   "source": [
    "A=np.matrix('10,8,2;8,20,-6;2,-6,13')\n",
    "b=np.matrix('40;0;20')\n",
    "x=solve(A,b)\n",
    "print(x)"
   ]
  },
  {
   "cell_type": "code",
   "execution_count": 2,
   "metadata": {},
   "outputs": [
    {
     "name": "stdout",
     "output_type": "stream",
     "text": [
      "[[6.33802817]\n",
      " [2.74647887]\n",
      " [0.70422535]]\n"
     ]
    }
   ],
   "source": [
    "A=np.matrix('10,-8,-2;-8,20,-6;-2,-6,13')\n",
    "b=np.matrix('40;0;-20')\n",
    "x=solve(A,b)\n",
    "print(x)"
   ]
  },
  {
   "cell_type": "code",
   "execution_count": 4,
   "metadata": {},
   "outputs": [
    {
     "name": "stdout",
     "output_type": "stream",
     "text": [
      "[[2.1]\n",
      " [0.3]]\n"
     ]
    }
   ],
   "source": [
    "\n",
    "A=np.matrix('6,-2;-2,8')\n",
    "b=np.matrix('12;-1.8')\n",
    "x=solve(A,b)\n",
    "print(x)"
   ]
  },
  {
   "cell_type": "code",
   "execution_count": 5,
   "metadata": {},
   "outputs": [
    {
     "data": {
      "text/plain": [
       "0.25384615384615383"
      ]
     },
     "execution_count": 5,
     "metadata": {},
     "output_type": "execute_result"
    }
   ],
   "source": [
    "6.6/26"
   ]
  },
  {
   "cell_type": "code",
   "execution_count": 4,
   "metadata": {},
   "outputs": [
    {
     "data": {
      "text/plain": [
       "40.00000004"
      ]
     },
     "execution_count": 4,
     "metadata": {},
     "output_type": "execute_result"
    }
   ],
   "source": [
    " (6.33802817-0.70422535)*2+(6.33802817-2.74647887)*8"
   ]
  },
  {
   "cell_type": "markdown",
   "metadata": {},
   "source": [
    "## Problem 2\n",
    "\n",
    "Find the current going through R4 in the following circuit\n",
    "<center><img src=\"circuit2_.png\" width=\"500\" /></center>"
   ]
  },
  {
   "cell_type": "markdown",
   "metadata": {},
   "source": [
    "**Solution**\n",
    "<center><img src=\"circuit2_ans.jpg\" width=\"500\" /></center>\n",
    "\n",
    "Mesh equations\n",
    "$$\n",
    "\\begin{array}{l}\n",
    "\\left(1 I_{1}\\right)+\\left(2 I_{1}+2 I_{2}\\right)=20 \\\\\n",
    "\\left(2 I_{2}+2 I_{1}\\right)+\\left(1 I_{2}\\right)+\\left(1 I_{2}-1 I_{3}\\right)=0\\\\\n",
    "I_3=2mA\n",
    "\\end{array}\n",
    "$$\n",
    "Then,\n",
    "\n",
    "$$\n",
    "\\begin{array}{l}\n",
    "3 I_{1}+2 I_{2}=20 \\\\\n",
    "2 I_{1}+4 I_{2}-I_{3}=0 \\\\\n",
    "I_{3}=2\n",
    "\\end{array}\n",
    "$$\n",
    "The solution to the system of equations is,\n",
    "$$\n",
    "I_{1}=9,5 \\mathrm{mA}, I_{2}=-4,25 \\mathrm{mA}, I_{3}=2 \\mathrm{mA}\n",
    "$$\n",
    "Then\n",
    "$$I_{R4}=I_3-I_2=6,25\\mathrm{mA}$$"
   ]
  },
  {
   "cell_type": "code",
   "execution_count": 7,
   "metadata": {},
   "outputs": [
    {
     "name": "stdout",
     "output_type": "stream",
     "text": [
      "[[ 9.5 ]\n",
      " [-4.25]\n",
      " [ 2.  ]]\n"
     ]
    }
   ],
   "source": [
    "A=np.matrix('3,2,0;2,4,-1;0,0,1')\n",
    "b=np.matrix('20;0;2')\n",
    "x=solve(A,b)\n",
    "print(x)"
   ]
  },
  {
   "cell_type": "markdown",
   "metadata": {},
   "source": [
    "## Problem 3\n",
    "\n",
    "Find the current and voltage drop in through R4 in the following circuit. How many nodes are there?\n",
    "<center><img src=\"circuit3.png\" width=\"500\" /></center>"
   ]
  },
  {
   "cell_type": "markdown",
   "metadata": {},
   "source": [
    "**Solution**\n",
    "\n",
    "Let's apply mesh analysis for the three lower meshes and the outer loop, assuming they are all clockwise. The equations are:\n",
    "\n",
    "$$\n",
    "\\begin{array}{l}\n",
    "I_1(40+15)+I_2(-15)=15 \\\\\n",
    "I_2=0.1\\\\\n",
    "I_2(-10)+I_3(20)+I_4(10)=0 \\\\\n",
    "I_2(4)+I_3(10)+I_4(20+10+4)=15 \\\\\n",
    "\\end{array}\n",
    "$$"
   ]
  },
  {
   "cell_type": "code",
   "execution_count": 3,
   "metadata": {},
   "outputs": [
    {
     "name": "stdout",
     "output_type": "stream",
     "text": [
      "[[ 0.3       ]\n",
      " [ 0.1       ]\n",
      " [-0.19310345]\n",
      " [ 0.4862069 ]]\n"
     ]
    }
   ],
   "source": [
    "A=np.matrix('55,-15,0,0;0,1,0,0;0,-10,20,10;0,4,10,34')\n",
    "b=np.matrix('15;0.1;0;15')\n",
    "x=solve(A,b)\n",
    "print(x)"
   ]
  },
  {
   "cell_type": "markdown",
   "metadata": {},
   "source": [
    "$I_{R4}=I_3+I_4=0.29A$"
   ]
  },
  {
   "cell_type": "markdown",
   "metadata": {},
   "source": [
    "$\\Delta V_{R4}=I_{R4}R_4=0.29\\times10=2.9V$"
   ]
  },
  {
   "cell_type": "markdown",
   "metadata": {},
   "source": [
    "*Alternative solution*: Let's combine R3 and R4 as they are in parallel, so $R_{eq}=(R_3R_4)/(R_3+R_4)=100/20=5\\Omega$. It is not required, but we simplify the analysis as we now require 3 equations instead of 4. Now there are only 3 meshes.Using the outer loop instead of mesh 3\n",
    "\n",
    "$$\n",
    "\\begin{array}{l}\n",
    "I_1(40+15)+I_2(-15)+I_3(0)=15 \\\\\n",
    "I_2=0.1\\\\\n",
    "I_2(5+4)+I_3(20+5+4)=15\n",
    "\\end{array}\n",
    "$$"
   ]
  },
  {
   "cell_type": "code",
   "execution_count": 13,
   "metadata": {},
   "outputs": [
    {
     "name": "stdout",
     "output_type": "stream",
     "text": [
      "[[0.65360502]\n",
      " [0.1       ]\n",
      " [0.4862069 ]]\n"
     ]
    }
   ],
   "source": [
    "A=np.matrix('55,-15,-40;0,1,0;0,9,29')\n",
    "b=np.matrix('15;0.1;15')\n",
    "x=solve(A,b)\n",
    "print(x)"
   ]
  },
  {
   "cell_type": "markdown",
   "metadata": {},
   "source": [
    "The net current is going though $R_4$ is then $I_{R_4}=(I_2+I_3)R_{eq}/R_4=0.29A$, which is the same as our previous result."
   ]
  },
  {
   "cell_type": "markdown",
   "metadata": {},
   "source": [
    "## Problem 4"
   ]
  },
  {
   "cell_type": "markdown",
   "metadata": {},
   "source": [
    "Find the Thevenin's equivalent between A and B\n",
    "<center><img src=\"circuit4.png\" width=\"500\" /></center>"
   ]
  },
  {
   "cell_type": "markdown",
   "metadata": {},
   "source": [
    "![](circuit4.png)"
   ]
  },
  {
   "cell_type": "markdown",
   "metadata": {},
   "source": [
    "**Solution**\n",
    "\n",
    "To calculate $V_{th}$, let us choose the the two lower meshes and the outer loop, then \n",
    "$$\n",
    "\\begin{array}{l}\n",
    "(40+15) I_{1}-15 I_{2}=17,4 \\\\\n",
    "I_{2}=0,1 \\\\\n",
    "14 I_{2}+40 I_{3}=17,4\n",
    "\\end{array}\n",
    "$$\n",
    "Then\n",
    "$$\n",
    "I_{1}=0.34 \\mathrm{~A} ; I_{2}=0.1 \\mathrm{~A} ; I_{3}=0.4 \\mathrm{~A}\n",
    "$$\n",
    "Hence\n",
    "$$\n",
    "V_{th}=10 \\Omega \\cdot (0.4+0.1) \\mathrm{A}=5V\n",
    "$$\n",
    "Now $R_{th}$:\n",
    "<center><img src=\"circuit4_ans.png\" width=\"500\" /></center>\n",
    "\n",
    "There is a short circuit for the $40\\Omega$ and $15\\Omega$ resistors, so they do not contribute. Everything comes down to two resistors in parallel with values $10\\Omega$ and $(25+4)\\Omega$\n",
    "$$\n",
    "R_{th}=\\frac{10 \\Omega \\cdot (26+4) \\Omega}{10 \\Omega+(26+4) \\Omega}=7,5\\Omega\n",
    "$$"
   ]
  },
  {
   "cell_type": "code",
   "execution_count": 26,
   "metadata": {},
   "outputs": [
    {
     "name": "stdout",
     "output_type": "stream",
     "text": [
      "[[0.34363636]\n",
      " [0.1       ]\n",
      " [0.4       ]]\n"
     ]
    }
   ],
   "source": [
    "A=np.matrix('55,-15,0;0,1,0;0,14,40')\n",
    "b=np.matrix('17.4;0.1;17.4')\n",
    "x=solve(A,b)\n",
    "print(x)"
   ]
  },
  {
   "cell_type": "markdown",
   "metadata": {},
   "source": [
    "## Problem 5"
   ]
  },
  {
   "cell_type": "markdown",
   "metadata": {},
   "source": [
    "Find the Thevenin's equivalent between A and B\n",
    "<center><img src=\"circuit5.png\" width=\"500\" /></center>"
   ]
  },
  {
   "cell_type": "markdown",
   "metadata": {},
   "source": [
    "**Answer**"
   ]
  },
  {
   "cell_type": "code",
   "execution_count": 11,
   "metadata": {},
   "outputs": [
    {
     "name": "stdout",
     "output_type": "stream",
     "text": [
      "[[4. ]\n",
      " [2. ]\n",
      " [0.4]]\n"
     ]
    }
   ],
   "source": [
    "A=np.matrix('22,-20,-20;0,1,0;-20,25,75')\n",
    "b=np.matrix('40;2;0')\n",
    "x=solve(A,b)\n",
    "print(x)"
   ]
  },
  {
   "cell_type": "markdown",
   "metadata": {},
   "source": [
    "\n",
    "$$\n",
    "I_{1}=4 \\mathrm{mA} ; I_{2}=2 \\mathrm{mA} ; I_{3}=0.4 \\mathrm{mA} \n",
    "$$\n",
    "Hence\n",
    "$$\n",
    "V_{th}=40k\\Omega\\cdot I_{3}=16V\n",
    "$$"
   ]
  },
  {
   "cell_type": "code",
   "execution_count": 12,
   "metadata": {},
   "outputs": [
    {
     "data": {
      "text/plain": [
       "16.0"
      ]
     },
     "execution_count": 12,
     "metadata": {},
     "output_type": "execute_result"
    }
   ],
   "source": [
    "40*0.4"
   ]
  },
  {
   "cell_type": "markdown",
   "metadata": {},
   "source": [
    "<center><img src=\"circuit5_ans.png\" width=\"500\" /></center>\n",
    "$R_{th}=11.84k\\Omega$"
   ]
  },
  {
   "cell_type": "code",
   "execution_count": 11,
   "metadata": {},
   "outputs": [
    {
     "name": "stdout",
     "output_type": "stream",
     "text": [
      "11.84\n"
     ]
    }
   ],
   "source": [
    "parallel1=20*2/(20+2)\n",
    "series1=parallel1+10+5\n",
    "parallel2=(series1)*40/(series1+40)\n",
    "print(parallel2)"
   ]
  }
 ],
 "metadata": {
  "hide_input": false,
  "kernelspec": {
   "display_name": "Python 3",
   "language": "python",
   "name": "python3"
  },
  "language_info": {
   "codemirror_mode": {
    "name": "ipython",
    "version": 3
   },
   "file_extension": ".py",
   "mimetype": "text/x-python",
   "name": "python",
   "nbconvert_exporter": "python",
   "pygments_lexer": "ipython3",
   "version": "3.8.3"
  },
  "latex_envs": {
   "LaTeX_envs_menu_present": true,
   "autoclose": false,
   "autocomplete": true,
   "bibliofile": "biblio.bib",
   "cite_by": "apalike",
   "current_citInitial": 1,
   "eqLabelWithNumbers": true,
   "eqNumInitial": 1,
   "hotkeys": {
    "equation": "Ctrl-E",
    "itemize": "Ctrl-I"
   },
   "labels_anchors": false,
   "latex_user_defs": false,
   "report_style_numbering": false,
   "user_envs_cfg": false
  },
  "toc": {
   "base_numbering": 1,
   "nav_menu": {},
   "number_sections": true,
   "sideBar": true,
   "skip_h1_title": false,
   "title_cell": "Table of Contents",
   "title_sidebar": "Contents",
   "toc_cell": false,
   "toc_position": {},
   "toc_section_display": true,
   "toc_window_display": false
  },
  "varInspector": {
   "cols": {
    "lenName": 16,
    "lenType": 16,
    "lenVar": 40
   },
   "kernels_config": {
    "python": {
     "delete_cmd_postfix": "",
     "delete_cmd_prefix": "del ",
     "library": "var_list.py",
     "varRefreshCmd": "print(var_dic_list())"
    },
    "r": {
     "delete_cmd_postfix": ") ",
     "delete_cmd_prefix": "rm(",
     "library": "var_list.r",
     "varRefreshCmd": "cat(var_dic_list()) "
    }
   },
   "types_to_exclude": [
    "module",
    "function",
    "builtin_function_or_method",
    "instance",
    "_Feature"
   ],
   "window_display": false
  }
 },
 "nbformat": 4,
 "nbformat_minor": 4
}
