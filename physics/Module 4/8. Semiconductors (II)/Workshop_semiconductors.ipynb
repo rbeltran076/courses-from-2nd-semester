{
 "cells": [
  {
   "cell_type": "markdown",
   "metadata": {},
   "source": [
    "# Table\n",
    "\n",
    "|     |  Intrinsic carrier density $n_i$ (1/cm³)  | $N_V$ (1/cm³)|  $N_C$ (1/cm³) |  Bandgap (eV) |\n",
    " |-----|-----|-----|-----|-----|\n",
    " | Silicon|\t$1.5\\times 10^{10}$ | \t$1.02\\times 10^{19}$ | \t$2.83\\times 10^{19}$ | 1.12 |\n",
    " |Germanium|\t$1.72\\times 10^{13}$|\t $5.18\\times 10^{18}$ | $1.03\\times 10^{19}$ | 0.67 |\n",
    " |Gallium Arsenide|\t$2.22\\times10^{6}$|\t \t$8.16\\times 10^{18}$ | \t$4.35\\times 10^{17}$ | 1.42 |"
   ]
  },
  {
   "cell_type": "markdown",
   "metadata": {},
   "source": [
    "# Problems"
   ]
  },
  {
   "cell_type": "markdown",
   "metadata": {},
   "source": [
    "## Problem 1\n",
    "\n",
    "Suppose we introduce one donor impurity per million of atoms of $Si$. How does it affect the concentration of carriers?\n",
    "\n",
    "**Solution**: \n",
    "\n",
    "The number of atoms in a sample is of the order of Avogadro's number: $N_{Si}\\approx 10^{23}$. One impurity per million of atoms represent a concentration of impurities of $N_D=10^{17}$, so that\n",
    "\n",
    "$$\\frac{N_D}{N_{Si}}=10^{17}/10^{23}=10^{-6}$$\n",
    "\n",
    "As the concentration of intrinsic carriers in $Si$ is $n_i\\approx 10^{10}$ then $$N_D\\approx 10^7n_i$$. Hence, one donor impurity per million of atoms results in 7 orders of difference in carrier concentration!!"
   ]
  },
  {
   "cell_type": "markdown",
   "metadata": {},
   "source": [
    "## Problem 2\n",
    "\n",
    "Calculate the charge carrier densities and the Fermi level with respect to the conduction band for a sample of $Ge$ doped with $10^{17}cm^{-3}$ of $As$ at room temperature $T = 300 K$.\n",
    "\n",
    "**Solution**:\n",
    "\n",
    "As $T$ is high enough, we consider that all impurities are ionized so $N_D^+=N_D=n_0=10^{17}cm^{-3}$. The minority carriers can be calculated through LAM and the intrinsic carrier density $n_i$ from the table\n",
    "\n",
    "$p_0=\\frac{n_i^2}{N_D}=3.2\\times 10^9 cm^{-3}$\n",
    "\n",
    "Additionally, from $\\label{carriers}n_{0}=N_{C} \\exp \\left(-\\frac{E_{C}-E_{F}}{K T} \\right)$ we can obtain the position of the Fermi level,\n",
    "\n",
    "$E_C-E_F=-kT\\ln(n_0/N_C)=0.12eV$\n",
    "\n",
    "with $kT=0.025eV$ and $N_C=1.03\\cdot 10^{19}cm^{-3}$"
   ]
  },
  {
   "cell_type": "code",
   "execution_count": 6,
   "metadata": {},
   "outputs": [
    {
     "data": {
      "text/plain": [
       "3240000000.0"
      ]
     },
     "execution_count": 6,
     "metadata": {},
     "output_type": "execute_result"
    }
   ],
   "source": [
    "import numpy as np\n",
    "(1.8*10**(13))**2/10**(17)"
   ]
  },
  {
   "cell_type": "code",
   "execution_count": 4,
   "metadata": {},
   "outputs": [
    {
     "data": {
      "text/plain": [
       "-0.1158682247057409"
      ]
     },
     "execution_count": 4,
     "metadata": {},
     "output_type": "execute_result"
    }
   ],
   "source": [
    "0.025*np.log(10**17/(1.03*10**19))"
   ]
  },
  {
   "cell_type": "markdown",
   "metadata": {},
   "source": [
    "## Problem 3\n",
    "\n",
    "The electric conductivity at room temperature of a semiconductor made of Si is $500(\\Omega m )^{-1}$ and the electron concentration is $2.0\\times 10^{22}m^{-3}$. Determine whether the sample is intrinsic, n or p. Mobilities for electrons and holes at room temperature are $0.14m^2/Vs$ and $0.05m^2/Vs$ respectively. \n",
    "\n",
    "**Solution**:\n",
    "\n",
    "Since $\\sigma=e\\left(n \\mu_{n}+p \\mu_{p}\\right)$, then\n",
    "\n",
    "$p=\\frac{\\sigma-ne\\mu_e}{e\\mu_p}=6.5\\cdot 10^{21}m^{-3}$\n",
    "\n",
    "The sample is n-type."
   ]
  },
  {
   "cell_type": "code",
   "execution_count": 8,
   "metadata": {},
   "outputs": [
    {
     "data": {
      "text/plain": [
       "6.499999999999993e+21"
      ]
     },
     "execution_count": 8,
     "metadata": {},
     "output_type": "execute_result"
    }
   ],
   "source": [
    "(500-2*10**(22)*1.6*10**(-19)*0.14)/(1.6*10**(-19)*0.05)"
   ]
  },
  {
   "cell_type": "markdown",
   "metadata": {},
   "source": [
    "## Problem 4\n",
    "\n",
    "The Hall coefficient of a sample at room temperature is $R_H=-4\\cdot10^4 cm^3/C$, and the conductivity $\\sigma=0.166 (\\Omega cm)^{-1}$. Determine the sign, concentration and mobility of carriers.\n",
    "\n",
    "**Solution**:\n",
    "\n",
    "$R_H<0$ so they must be negative. Type-n.\n",
    "\n",
    "$n=\\frac{-1}{eR_H}=-\\frac{1}{1.6\\cdot 10^{-19}C\\times 4\\cdot10^4 cm^3/C}=1.6\\cdot 10^{14}$\n",
    "$\\mu=\\sigma R_H=6640 cm^2/(\\Omega C)=6640 cm^2/(V s)$"
   ]
  },
  {
   "cell_type": "code",
   "execution_count": 7,
   "metadata": {},
   "outputs": [
    {
     "data": {
      "text/plain": [
       "6640.0"
      ]
     },
     "execution_count": 7,
     "metadata": {},
     "output_type": "execute_result"
    }
   ],
   "source": [
    "0.166*4*10**4"
   ]
  },
  {
   "cell_type": "markdown",
   "metadata": {},
   "source": [
    "## Problem 5\n",
    "\n",
    "A sample of intrinsic $Ge$ has a conductivity of $\\sigma=2.2(\\Omega m)^{-1}$ at $25º$. Calculate the conductivity at $T=150º$.\n",
    "\n",
    "**Solution**:\n",
    "\n",
    "$T=25º=298K$\n",
    "\n",
    "$T=150º=423K$\n",
    "\n",
    "For $Ge$, $E_g=0.67eV$. \n",
    "\n",
    "$\\sigma(T)=\\sigma_{0} \\exp \\left(-\\frac{E_{g}}{2k T}\\right)\\implies \\ln(\\sigma_0)=\\ln(\\sigma)+\\left(\\frac{E_g}{2k}\\right)=13.83$\n",
    "\n",
    "$\\sigma(T=423K)=\\sigma_{0} \\exp \\left(-\\frac{E_{g}}{2k T}\\right)=\\exp(13.83)\\exp(-\\frac{0.67eV}{2\\cdot 8.62\\cdot10^{-5}eV/K\\cdot423K})=103.8(\\Omega m)^{-1}$"
   ]
  },
  {
   "cell_type": "code",
   "execution_count": 5,
   "metadata": {},
   "outputs": [
    {
     "data": {
      "text/plain": [
       "103.80392374067645"
      ]
     },
     "execution_count": 5,
     "metadata": {},
     "output_type": "execute_result"
    }
   ],
   "source": [
    "k=8.62*10**(-5)\n",
    "T=423\n",
    "Eg=0.67\n",
    "sigma=np.exp(13.83)*np.exp(-Eg/(2*k*T))\n",
    "sigma"
   ]
  },
  {
   "cell_type": "markdown",
   "metadata": {},
   "source": [
    "## Problem 6\n",
    "\n",
    "In the next table there are values for conductivity at different temperatures in the intrinsic regime:\n",
    "\n",
    "| T(K) | $\\sigma$($\\Omega $$m)^{-1}$|\n",
    "|------|----------------------|\n",
    "|350|17.2|\n",
    "|400|81.4|\n",
    "|500|717.0|\n",
    "\n",
    "Determine the value of the bandgap and estimate the value of the conductivity at room temperature (300K). \n",
    "\n",
    "**Solution**\n",
    "\n",
    "Let's fit the model using sklearn library.\n",
    "\n",
    "$\\sigma(T)=\\sigma_{0} \\exp \\left(-\\frac{E_{g}}{2k T}\\right)\\implies \\ln(\\sigma)=-\\left(\\frac{E_g}{2k}\\right)\\frac{1}{T}+\\ln(\\sigma_0)$\n",
    "\n",
    "$y=mx+b=-4351.83x+15.28$\n",
    "\n",
    "The bandgap is then\n",
    "\n",
    "$E_g=-m2k=0.74eV$\n",
    "\n",
    "for $x=1/300\\implies \\sigma(T=300K)=\\exp(m(1/300)+b)=2.16 (\\Omega m)^{-1}$"
   ]
  },
  {
   "cell_type": "code",
   "execution_count": 42,
   "metadata": {},
   "outputs": [],
   "source": [
    "from sklearn.linear_model import LinearRegression\n",
    "x=1/(np.matrix('350;400;500'))\n",
    "y=np.log(np.matrix('17.2;81.4;717'))"
   ]
  },
  {
   "cell_type": "code",
   "execution_count": 43,
   "metadata": {},
   "outputs": [
    {
     "name": "stdout",
     "output_type": "stream",
     "text": [
      "1/T: [[0.00285714]\n",
      " [0.0025    ]\n",
      " [0.002     ]]\n",
      "log(σ): [[2.84490938]\n",
      " [4.39937527]\n",
      " [6.57507584]]\n"
     ]
    }
   ],
   "source": [
    "print('1/T:', x)\n",
    "print('log(σ):',y)"
   ]
  },
  {
   "cell_type": "code",
   "execution_count": null,
   "metadata": {},
   "outputs": [],
   "source": [
    "# we fit the model\n",
    "reg = LinearRegression().fit(x, y)"
   ]
  },
  {
   "cell_type": "code",
   "execution_count": 44,
   "metadata": {},
   "outputs": [
    {
     "name": "stdout",
     "output_type": "stream",
     "text": [
      "[[-4351.83134223]]\n"
     ]
    }
   ],
   "source": [
    "# slope\n",
    "print(reg.coef_)"
   ]
  },
  {
   "cell_type": "code",
   "execution_count": 45,
   "metadata": {},
   "outputs": [
    {
     "data": {
      "text/plain": [
       "array([15.27880179])"
      ]
     },
     "execution_count": 45,
     "metadata": {},
     "output_type": "execute_result"
    }
   ],
   "source": [
    "# intercept\n",
    "reg.intercept_"
   ]
  },
  {
   "cell_type": "code",
   "execution_count": 53,
   "metadata": {},
   "outputs": [
    {
     "data": {
      "text/plain": [
       "0.9999999950291527"
      ]
     },
     "execution_count": 53,
     "metadata": {},
     "output_type": "execute_result"
    }
   ],
   "source": [
    "# how good the fitting is?\n",
    "reg.score(x,y)"
   ]
  },
  {
   "cell_type": "code",
   "execution_count": 49,
   "metadata": {},
   "outputs": [
    {
     "name": "stdout",
     "output_type": "stream",
     "text": [
      "[[0.74999461]]\n"
     ]
    }
   ],
   "source": [
    "k=8.617*10**(-5)\n",
    "Eg=-reg.coef_*(2*k)\n",
    "print(Eg)"
   ]
  },
  {
   "cell_type": "code",
   "execution_count": 57,
   "metadata": {},
   "outputs": [
    {
     "data": {
      "text/plain": [
       "array([[2.16559969]])"
      ]
     },
     "execution_count": 57,
     "metadata": {},
     "output_type": "execute_result"
    }
   ],
   "source": [
    "np.exp(reg.coef_*(1/300)+reg.intercept_)"
   ]
  },
  {
   "cell_type": "markdown",
   "metadata": {},
   "source": [
    "## Problem 7\n",
    "\n",
    "A sample of $Ge$ is doped with is doped with $2\\cdot 10^{22}m^{-3}$ of a trivalent impurity. Knowing that only 90% of impurities are ionized, calculate the conductivity of the semiconductor. Mobilities for electrons and holes are $0.1$ and $0.05m^2/(Vs)$ respectively.\n",
    "\n",
    "**Solution**: \n",
    "\n",
    "For a trivalent atoms, we are dealing with a p-type semiconductor. As not every impurity is ionized, then $p=0.9\\times 2\\cdot 10^{22}m^{-3}$. The conductivity must be then,\n",
    "\n",
    "$$\n",
    "\\sigma=p \\mu e=0.9 \\times 2 \\cdot 10^{22} \\times 0.05 \\times 1.602 \\cdot 10^{-19}=144(\\Omega m)^{-1}\n",
    "$$"
   ]
  },
  {
   "cell_type": "markdown",
   "metadata": {},
   "source": [
    "## Problem 8\n",
    "\n",
    "A sample of $Si$ is doped with $P$ atoms and concentration $N=10^{23}$. What type of semiconductor is it? Calculate the conductivity at room temperature. Mobilities of electrons and holes $0.14$ and $0.048 m^2/Vs$ respectively.\n",
    "\n",
    "**Solution**:\n",
    "\n",
    "Phosphorus belongs to group V, which means is a donor impurity. At room temperature, we can assume that all impurities are ionized, and as $N=10^{23}\\gg n_i$ of $Si$, then the sample is a n-type semiconductor. The conductivity can be calculated as\n",
    "\n",
    "$$\n",
    "\\sigma=n \\mu e=\\cdot 10^{23} \\times 0.14 \\times 1.602 \\cdot 10^{-19}=2240(\\Omega m)^{-1}\n",
    "$$"
   ]
  },
  {
   "cell_type": "markdown",
   "metadata": {},
   "source": [
    "## Problem 9\n",
    "\n",
    "A sample of $Ge$ at $T=300K$ has a concentration of donor impurities of $N_D=10^{14}cm^{-3}$. In these conditions, new charge carriers are injected so that the quasi Fermi levels for electrons and holes are located at $0.2365eV$ and $0.221eV$ with respect to the conduction and valence bands, respectively. Determine the charge carrier densities injected in the semiconductor."
   ]
  },
  {
   "cell_type": "markdown",
   "metadata": {},
   "source": [
    "**Solution**:\n",
    "\n",
    "$$n=n_{0}+\\Delta n=N_{C} \\exp \\left(-\\frac{E_{C}-F_{n}}{K T}\\right)\\\\p=p_{0}+\\Delta p=N_{V} \\exp \\left(-\\frac{F_{p}-E_{V}}{KT}\\right)$$\n",
    "\n",
    "$$n=8.02\\cdot10^{14}cm^{-3}$$\n",
    "$$p=7.5\\cdot10^{14}cm^{-3}$$\n",
    "\n",
    "$n_i=1.72\\cdot10^{13}cm^{-3}\\ll N_D\\implies n_0\\approx 10^{14}cm^{-3}$ (majority carriers)\n",
    "minority carriers, $p_0=n_i^2/N_D=2.96\\cdot10^{12}cm^{-3}$\n",
    "\n",
    "\n",
    "$\\Delta n=n-n_0=7.02\\cdot10^{14}cm^{-3}$\n",
    "\n",
    "$\\Delta p=p-p_0=7.47\\cdot10^{14}cm^{-3}$"
   ]
  },
  {
   "cell_type": "code",
   "execution_count": 65,
   "metadata": {},
   "outputs": [],
   "source": [
    "Nc=1.03*10**(19)\n",
    "Nv=5.18*10**(18)\n",
    "Ec_Fn=0.2365\n",
    "kT=0.025\n",
    "Fp_Ev=0.221"
   ]
  },
  {
   "cell_type": "code",
   "execution_count": 66,
   "metadata": {},
   "outputs": [
    {
     "name": "stdout",
     "output_type": "stream",
     "text": [
      "802437887455887.1\n"
     ]
    }
   ],
   "source": [
    "n=Nc*np.exp(-Ec_Fn/kT)\n",
    "print(n)"
   ]
  },
  {
   "cell_type": "code",
   "execution_count": 67,
   "metadata": {},
   "outputs": [
    {
     "name": "stdout",
     "output_type": "stream",
     "text": [
      "750181827816323.9\n"
     ]
    }
   ],
   "source": [
    "p=Nv*np.exp(-Fp_Ev/kT)\n",
    "print(p)"
   ]
  },
  {
   "cell_type": "code",
   "execution_count": 70,
   "metadata": {},
   "outputs": [
    {
     "name": "stdout",
     "output_type": "stream",
     "text": [
      "2958400000000.0\n"
     ]
    }
   ],
   "source": [
    "ni=1.72* 10**(13)\n",
    "ND=10**(14)\n",
    "p0=ni**2/ND\n",
    "print(p0)"
   ]
  },
  {
   "cell_type": "code",
   "execution_count": 72,
   "metadata": {},
   "outputs": [
    {
     "name": "stdout",
     "output_type": "stream",
     "text": [
      "n-n0 702437887455887.1\n",
      "p-p0 747223427816323.9\n"
     ]
    }
   ],
   "source": [
    "print('n-n0',n-ND)\n",
    "print('p-p0',p-p0)"
   ]
  },
  {
   "cell_type": "code",
   "execution_count": null,
   "metadata": {},
   "outputs": [],
   "source": []
  }
 ],
 "metadata": {
  "hide_input": false,
  "kernelspec": {
   "display_name": "Python 3",
   "language": "python",
   "name": "python3"
  },
  "language_info": {
   "codemirror_mode": {
    "name": "ipython",
    "version": 3
   },
   "file_extension": ".py",
   "mimetype": "text/x-python",
   "name": "python",
   "nbconvert_exporter": "python",
   "pygments_lexer": "ipython3",
   "version": "3.8.3"
  },
  "latex_envs": {
   "LaTeX_envs_menu_present": true,
   "autoclose": false,
   "autocomplete": true,
   "bibliofile": "biblio.bib",
   "cite_by": "apalike",
   "current_citInitial": 1,
   "eqLabelWithNumbers": true,
   "eqNumInitial": 1,
   "hotkeys": {
    "equation": "Ctrl-E",
    "itemize": "Ctrl-I"
   },
   "labels_anchors": false,
   "latex_user_defs": false,
   "report_style_numbering": false,
   "user_envs_cfg": false
  },
  "toc": {
   "base_numbering": 1,
   "nav_menu": {},
   "number_sections": true,
   "sideBar": true,
   "skip_h1_title": false,
   "title_cell": "Table of Contents",
   "title_sidebar": "Contents",
   "toc_cell": false,
   "toc_position": {},
   "toc_section_display": true,
   "toc_window_display": false
  },
  "varInspector": {
   "cols": {
    "lenName": 16,
    "lenType": 16,
    "lenVar": 40
   },
   "kernels_config": {
    "python": {
     "delete_cmd_postfix": "",
     "delete_cmd_prefix": "del ",
     "library": "var_list.py",
     "varRefreshCmd": "print(var_dic_list())"
    },
    "r": {
     "delete_cmd_postfix": ") ",
     "delete_cmd_prefix": "rm(",
     "library": "var_list.r",
     "varRefreshCmd": "cat(var_dic_list()) "
    }
   },
   "types_to_exclude": [
    "module",
    "function",
    "builtin_function_or_method",
    "instance",
    "_Feature"
   ],
   "window_display": false
  }
 },
 "nbformat": 4,
 "nbformat_minor": 4
}
