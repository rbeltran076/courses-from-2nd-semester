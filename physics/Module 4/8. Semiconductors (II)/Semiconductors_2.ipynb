{
 "cells": [
  {
   "cell_type": "code",
   "execution_count": null,
   "metadata": {
    "slideshow": {
     "slide_type": "skip"
    }
   },
   "outputs": [],
   "source": [
    "from IPython.display import YouTubeVideo"
   ]
  },
  {
   "cell_type": "markdown",
   "metadata": {
    "slideshow": {
     "slide_type": "slide"
    }
   },
   "source": [
    " <span style=\"font-size:30px;\">Semiconductors out of equilibrium</span>\n",
    " \n",
    "1. Electric field on semiconductors\n",
    "2. How to measure energy bandgaps?\n",
    "3. Hall effect in semiconductors\n",
    "4. Inhomogeneous semiconductors\n",
    "5. Carrier generation and recombination\n",
    "6. Quasi Fermi levels.\n",
    "7. Drift-diffusion equation."
   ]
  },
  {
   "cell_type": "markdown",
   "metadata": {
    "slideshow": {
     "slide_type": "slide"
    }
   },
   "source": [
    "# 1. Electric field on semiconductors\n",
    "## 1.1 drift velocity\n",
    "\n",
    "In absence of any electromagnetic field, charge carriers randomly move at thermal speed $v_{th}$. Statistical mechanics predicts that this speed satisfies $\\frac{1}{2}m^*v_{th}^2=\\frac{3}{2}kT$, where $m^*$ is the effective mass of charge carrier in the solid. Typically $v_{th}\\approx 10^7cm/s$. Since movement is random, **there is no net displacement in any direction**."
   ]
  },
  {
   "cell_type": "markdown",
   "metadata": {
    "slideshow": {
     "slide_type": "subslide"
    }
   },
   "source": [
    " \n",
    "\n",
    "When a constant electric field $\\vec E$ is applied, charge carriers will accelerate in response. However, due to collisions with impurities and vibrating atoms in the crystal, carriers are not uniformly accelerated: they accelerate for brief periods of time, then collide and change linear momentum $\\vec p$, transferring part of their energy to the lattice. Yet, carriers will eventually experience a net displacement or **drift** in the direction of the electric field, described by a **drift velocity** $\\vec v_d$\n",
    "<center><img src=\"drift.png\" width=\"400\" /></center>"
   ]
  },
  {
   "cell_type": "markdown",
   "metadata": {
    "slideshow": {
     "slide_type": "subslide"
    }
   },
   "source": [
    "This process can be modeled by a particle moving in viscous fluid subject to a constant electric field $\\vec E$. Applying Newton's second law we have\n",
    "\n",
    "$$m^*\\frac{d \\vec{v}}{d t}=q \\vec{E}-\\frac{m^*}{\\tau}\\vec v \\label{viscous}$$\n",
    "\n",
    "where $\\tau$ is the **relaxation time**. \n",
    "\n",
    "Solving the previous equation we obtain\n",
    "\n",
    "$$\\vec v(t)=\\vec v_d \\exp{\\left(-\\frac{t}{\\tau}\\right)} \\label{transient}$$\n",
    "\n",
    "where we defined $\\vec v_d=\\frac{q\\tau}{m^*}$\n",
    "\n",
    "From the last equation we readily notice that carriers velocity converges to the drift velocity $\\vec v_d$ as $t\\rightarrow\\infty$ (relaxation), by which the system reaches a **steady state** (a new equilibrium state). The relaxation time measures how fast this process occurs. Typical order of magnitude $\\tau\\approx 10^{-12}s$."
   ]
  },
  {
   "cell_type": "markdown",
   "metadata": {
    "slideshow": {
     "slide_type": "subslide"
    }
   },
   "source": [
    "## 1.2 mobility\n",
    "\n",
    " \n",
    "\n",
    "We can now define **mobility** as $\\mu=\\frac{|\\vec v_d|}{|\\vec E|}$, which somehow gives us a measurement of how strong the drift is for a given external field.\n",
    "\n",
    "- Mobility is different from electrons and holes, because $m^*_n\\neq m^*_p$ and $\\tau_n\\neq\\tau_p$. Normally, **mobility of electrons is greater than mobility of holes** $\\mu_n>\\mu_p$.\n",
    "- **Mobility depends on impurity concentration** $N_{A,D}$ and **temperature** $T$. Essentially, $N_{A,D},T\\uparrow\\implies\\mu\\downarrow$\n",
    "- Mobility depends on two underlying mechanisms:\n",
    "    - collisions with lattice vibrations. It can be shown that $\\mu_{vib}\\propto T^{-3/2}$\n",
    "    - collisions with ionized impurities. It can be shown that $\\mu_{imp}\\propto \\frac{T^{3/2}}{N_{imp}}$\n",
    "- Combining both mechanisms, Matthiessen's empirical rule models mobility as a function of temperature \n",
    "$$\\frac{1}{\\mu}=\\frac{1}{\\mu_{ {vib }}}+\\frac{1}{\\mu_{ {imp}}}=AT^{3/2}+BT^{-3/2}$$"
   ]
  },
  {
   "cell_type": "markdown",
   "metadata": {
    "slideshow": {
     "slide_type": "subslide"
    }
   },
   "source": [
    "Mobility as a function of temperature in silicon\n",
    "<center><img src=\"silicon_T.png\" width=\"900\" /></center>\n",
    "Mobility as a function of impurity concentration in silicon\n",
    "<center><img src=\"silicon_N.png\" width=\"500\" /></center>"
   ]
  },
  {
   "cell_type": "markdown",
   "metadata": {
    "slideshow": {
     "slide_type": "subslide"
    }
   },
   "source": [
    "## 1.3 drift current and conductivity\n",
    "\n",
    "With our previous results, we can calculate the electric current (**drift current**) due to each kind of charge carrier.\n",
    "\n",
    "\\begin{array}{l}\n",
    "j_{n}=\\frac{I_{n}}{A}=(-e) n v_{n}=(-e) n\\left(-\\mu_{n} {E}\\right)=e n \\mu_{n} {E} \\\\\n",
    "j_{p}=\\frac{I_{p}}{A}=e p v_{p}=e p\\left(\\mu_{p} {E}\\right)=e p \\mu_{p} {E}\n",
    "\\end{array}\n",
    "\n",
    "where $e$ is the electron charge and $n,p$ the electron/hole concentration. The total current is simply the sum of both terms\n",
    "\n",
    "$$ \\left.J_{\\text{total} }\\right|_{\\text{dri}}=j_{n}+j_{p}=e\\left(n \\mu_{n}+p \\mu_{p}\\right) {E}= \\sigma {E} \\label{conductivity}$$\n",
    "\n",
    "where in the last equivalence we made use of Ohm's law."
   ]
  },
  {
   "cell_type": "markdown",
   "metadata": {
    "slideshow": {
     "slide_type": "subslide"
    }
   },
   "source": [
    "Conductivity is therefore\n",
    "\n",
    "|   |\n",
    "|---|\n",
    "|$$\\sigma=e\\left(n \\mu_{n}+p \\mu_{p}\\right) \\label{conduct}$$|\n",
    "|  |\n",
    "\n",
    "At the same time, conductivity can be easily measured using Ohm's law, because\n",
    "\n",
    "$$R=\\frac{V}{I}=\\frac{L}{\\sigma A}\\implies\\sigma=\\frac{LI}{AV}\\label{ohm}$$\n",
    "\n",
    "where $A$ is the cross-section area and $L$ the length of the material. "
   ]
  },
  {
   "cell_type": "markdown",
   "metadata": {
    "slideshow": {
     "slide_type": "slide"
    }
   },
   "source": [
    "# 2. How to measure energy gaps?\n",
    "\n",
    "## 2.1 Intrinsic conductivity\n",
    "\n",
    "In 1.3 we showed that **conductivity is proportional to the charge carrier concentration**. Hence, in the intrinsic range (remember: electrons from the valence band getting through the energy gap), conductivity will be a function of the intrinsic carrier concentration $n_i$. Using the electronic mass action law ($n_{i}^{2}\\propto \\exp \\left(-\\frac{E_{g}}{K T}\\right)$), we may write $\\sigma$ as a function of temperature and bandgap energy $E_g$,\n",
    "\n",
    "$$\\sigma(T)=\\sigma_{0} \\exp \\left(-\\frac{E_{g}}{2K T}\\right)$$ (the $1/2$ factor comes from the square root of $n_i$!!)\n",
    "\n",
    "Alternatively,\n",
    "\n",
    "|   |\n",
    "|---|\n",
    "|$$\\ln(\\sigma)=-\\left(\\frac{E_g}{2k}\\right)\\frac{1}{T}+\\ln(\\sigma_0)$$|\n",
    "|  |\n",
    "\n",
    "which expresses a linear relationship between $\\ln(\\sigma)$ and $\\frac{1}{T}$. The slope gives us $E_g$. Experimental values of $\\sigma$ can easily be measured using Ohm's law.\n",
    "\n",
    "<center><img src=\"conductivity.jpg\" width=\"500\" /></center>"
   ]
  },
  {
   "cell_type": "markdown",
   "metadata": {
    "slideshow": {
     "slide_type": "subslide"
    }
   },
   "source": [
    "## 2.2 Photoconductivity \n",
    "\n",
    "When a semiconductor is irradiated with an electromagnetic wave, **electrons in the valence band may absorb a photon and jump into the conduction band**, thereby increasing the conductivity. This will only occur when the photon has enough energy to cause such excitation, namely when the energy of the photon is greater than the energy gap. The energy of a photon is given by its frequency $E_{ph}=h\\nu$. When a bias voltage and a load resistor are put in series with the semiconductor, **a sudden voltage drop** will be measured once the frequency of the wave satisfies $\\nu=E_g/h$.\n",
    "\n",
    "This conversion of light into electricity is widely used in **photodiodes** and **solar cells**."
   ]
  },
  {
   "cell_type": "markdown",
   "metadata": {
    "slideshow": {
     "slide_type": "slide"
    }
   },
   "source": [
    "# 3. Hall effect in semiconductors\n",
    "\n",
    "<center><img src=\"hall.png\" width=\"600\" /></center>\n",
    "\n",
    "\n",
    "Let's assume a p-type semiconductor on which we apply a voltage $V_0$ as indicated in the figure. This voltage induces a current\n",
    "\n",
    "$$j_{x}=\\frac{I}{A}=\\frac{e p v_{x}}{Wd}\\label{current}$$\n",
    "\n",
    "Let's also apply simultaneously a magnetic field perpendicular to the electric field, i.e. $\\vec E=(E_x,0,0)$,$\\vec B=(0,0,B_z)$. Holes will then experience a magnetic force $\\vec F=e(\\vec v\\times\\vec B)=-e v_{x} B_{z} \\vec j$ and tend to accumulate on one face of the material. This in turn creates an electric field that counteracts the magnetic force. In equilibrium we have\n",
    "\n",
    "$$q E_{y}=q v_{x} B_{z}\\label{eq}$$."
   ]
  },
  {
   "cell_type": "markdown",
   "metadata": {
    "slideshow": {
     "slide_type": "subslide"
    }
   },
   "source": [
    "The electric field $E_y$ is associated with a corresponding **Hall voltage** \n",
    "\n",
    "$${V_{H}}=E_y W\\label{hall}$$,\n",
    "\n",
    "Combining all our previous equations, we conclude\n",
    "\n",
    "$$V_{H}=\\frac{I B_{z}}{e p d}\\implies p=\\frac{I B_{z}}{e d V_{H}}$$. Analogously for a n-type semiconductor\n",
    "\n",
    "$$V_{H}=\\frac{-I B_{z}}{e n d}\\implies n=\\frac{-I B_{z}}{e d V_{H}}$$"
   ]
  },
  {
   "cell_type": "markdown",
   "metadata": {
    "slideshow": {
     "slide_type": "subslide"
    }
   },
   "source": [
    "Let's define the **Hall coefficient**, which can be experimentally measured\n",
    "\n",
    "|   |\n",
    "|---|\n",
    "|$$R_H=\\frac{E_y}{j_xB_z}=\\frac{V_Hd}{IB_z}$$|\n",
    "|  |\n",
    "\n",
    "For a p-type semiconductor, it's easy to show that\n",
    "\n",
    "|   |\n",
    "|---|\n",
    "|$$R_{H}=\\frac{1}{e p}\\label{RH}.$$|\n",
    "|   |\n",
    "\n",
    "For a n-type semiconductor\n",
    "\n",
    "|   |\n",
    "|---|\n",
    "|$$R_{H}=-\\frac{1}{e n}$$.|\n",
    "|  |\n",
    "\n",
    "For both types\n",
    "\n",
    "$$R_{H}=\\frac{1}{e} \\frac{p \\mu_{p}^{2}-n \\mu_{n}^{2}}{\\left(p \\mu_{p}+n \\mu_{n}\\right)^{2}}$$"
   ]
  },
  {
   "cell_type": "markdown",
   "metadata": {
    "slideshow": {
     "slide_type": "subslide"
    }
   },
   "source": [
    "Combining our definition of $R_H$ with the conductivity calculated in 1.3 and Ohm's law, we can calculate the mobility in terms of the Hall voltage or the Hall coefficient\n",
    "\n",
    "|   |\n",
    "|---|\n",
    "|$$\\mu_{p}=\\sigma \\mathrm{R}_{\\mathrm{H}}=\\frac{V_{H} L}{V_{0} B_{z} W}$$|\n",
    "|   |\n",
    "\n",
    "In summary, by means of the Hall effect, we are able to calculate:\n",
    "- The **sign** of the charge carrier\n",
    "- The charge **carrier concentration** $p,n=\\pm \\frac{1}{eR_H}$\n",
    "- The **mobility** $\\mu_{\\mathrm{H}}=\\sigma \\mathrm{R}_{\\mathrm{H}}$"
   ]
  },
  {
   "cell_type": "markdown",
   "metadata": {
    "slideshow": {
     "slide_type": "slide"
    }
   },
   "source": [
    "# 4. Inhomogeneous semiconductors\n",
    "\n",
    "Even in the absence of an external electric field, there may exist a net current of charge carriers. For this, the semiconductor must be in a **non-equilibrium state**. Potential causes:\n",
    "\n",
    "- inhomogeneous illumination\n",
    "- inhomogeneous doping (like a p-n junction)"
   ]
  },
  {
   "cell_type": "markdown",
   "metadata": {
    "slideshow": {
     "slide_type": "slide"
    }
   },
   "source": [
    "## 4.1 diffusion current\n",
    "\n",
    "Diffusion is defined as a net movement of any collection of entities (molecules, electrons, ions...) from a region of **higher concentration to a region of lower concentration**. We therefore say that diffusion is driven by a **gradient** of concentration. At a microscopic level, diffusion is driven by thermal agitation. **Fick's law** put this mathematically, establishing a linear relationship between current and gradient of concentration\n",
    "\n",
    "$${j}=-D \\frac{\\partial c}{\\partial x}.$$\n",
    "\n",
    "where $D$ is the **diffusion constant**. Inhomogeneous concentration of electrons or holes will drive a net electric current\n",
    "\n",
    "$$\n",
    "\\begin{array}{l}\n",
    "\\left.J_{n}\\right|_{\\text{dif}}=q(-D_{n} \\frac{\\partial n}{\\partial x})=e D_{n} \\frac{\\partial n}{\\partial x} \\\\\n",
    "\\left.J_{p}\\right|_{\\text{dif}}=q(-D_{p} \\frac{\\partial p}{\\partial x})=-e D_{p} \\frac{\\partial p}{\\partial x}\n",
    "\\end{array}\n",
    "$$\n",
    "\n",
    "Simulation: [Diffusion simulator](https://phet.colorado.edu/en/simulation/diffusion)"
   ]
  },
  {
   "cell_type": "markdown",
   "metadata": {
    "slideshow": {
     "slide_type": "subslide"
    }
   },
   "source": [
    "Recall the geometrical interpretation of the gradient as the direction of the steepest descent/ascent\n",
    "\n",
    "\n",
    "<center><img src=\"https://blog.paperspace.com/content/images/2018/05/grad.png\" width=\"500\" /></center>"
   ]
  },
  {
   "cell_type": "markdown",
   "metadata": {
    "slideshow": {
     "slide_type": "slide"
    }
   },
   "source": [
    "## 4.2 Einstein relations\n",
    "\n",
    "Diffusion constants and mobilities cannot be independent, since they are both connected to the same microscopic process: how charge carriers propagate through the material.\n",
    "\n",
    "Einstein relations shows such relationship.\n",
    "\n",
    "|   |\n",
    "|---|\n",
    "|$$\\frac{D_{n}}{\\mu_{n}}=\\frac{D_{p}}{\\mu_{p}}=\\frac{k T}{e}$$|\n",
    "|   |"
   ]
  },
  {
   "cell_type": "markdown",
   "metadata": {
    "slideshow": {
     "slide_type": "slide"
    }
   },
   "source": [
    "# 5. Carrier generation and recombination\n",
    "\n",
    "Carrier generation and carrier recombination are processes whereby **mobile** charge carriers (electrons and holes) are **created and eliminated**, respectively. Both generation and recombination are driven by different physical mechanisms. \n",
    "\n",
    "<center><img src=\"eh.png\" width=\"500\" /></center>\n",
    "\n",
    "* Generation: \n",
    "    - when a photon strikes an electron, it can be absorbed and generate an electron-hole pair (or another quasi-particle called exciton). This is the mechanism behind photodetectors and solar cells. \n",
    "    - carriers can also be generated by an external electric field. This occurs in light-emitting diodes (LEDs) and transistors.\n",
    "\n",
    "* Recombination: \n",
    "    - radiative\n",
    "        - Band-to-band radiative recombination: this is a form of **spontaneous emission**, in which electrons release energy moving from the conduction band to the valence band in a radiative manner, i.e. in the form of photons. Generally these photons contain the same or less energy than those initially absorbed. This effect is how LEDs produce light. \n",
    "        - **Stimulated emission**:  is a process in which an incident photon interacts with an excited electron causing it to recombine and emit a photon with the same properties of the incident one. This mechanism together with population inversion effect are the principles of operation in laser diodes.\n",
    "    - non-radiative:  a pair electron-hole recombine producing phonons (lattice vibrations) instead of photons\n",
    "    \n",
    "Generation and recombination can be: a) band-to-band, b) through allowed energy states withing the bandgap (recombination centers)."
   ]
  },
  {
   "cell_type": "markdown",
   "metadata": {
    "slideshow": {
     "slide_type": "subslide"
    }
   },
   "source": [
    "Even in thermal equilibrium, recombination and generation are constantly happening, both optically and thermally. Yet, generation and recombination rates are balanced and consequently the net charge carrier density does not vary with time ($n_0,p_0$ are time-independent). \n",
    "\n",
    "**Out of equilibrium**, charge carrier density are **time-dependent**.\n",
    "\n",
    "|  |\n",
    "|--|\n",
    "|$$n(t)=n_{0}+\\Delta n(t)\\\\p(t)=p_{0}+\\Delta p(t)$$|\n",
    "\n",
    "(Notice that $\\Delta n(t)=\\Delta p(t)$ due to charge neutrality condition)."
   ]
  },
  {
   "cell_type": "markdown",
   "metadata": {
    "slideshow": {
     "slide_type": "subslide"
    }
   },
   "source": [
    "For **band-to-band radiative recombination** (the main mechanism in our case), one can show (see the appendix for a detailed derivation) that the **recombination rate** $R$ (the number of electron-hole pair recombinations per second) in **low-level injection regime** (defined as $\\Delta n=\\Delta p\\ll n_{0}+p_{0}$) is given by\n",
    "\n",
    "(In n-type semiconductors)\n",
    "\n",
    "|  |\n",
    "|--|\n",
    "|$$R_{n}=R_{p}=\\frac{\\Delta n(t)}{\\tau_{n}}=\\frac{n-n_{0}}{\\tau_{n}}$$|\n",
    "|  |\n",
    "\n",
    "where $\\tau_n$ is the **carrier lifetime** (the average time before an electron in the conduction band of a semiconductor recombines with a hole)\n",
    "\n",
    "Similarly, in p-type semiconductors\n",
    "\n",
    "|  |\n",
    "|--|\n",
    "|$$R_p=R_n=\\frac{\\Delta p(t)}{\\tau_{p}}=\\frac{p-p_{0}}{\\tau_{p}}$$|\n",
    "|   |\n",
    "\n"
   ]
  },
  {
   "cell_type": "markdown",
   "metadata": {
    "slideshow": {
     "slide_type": "slide"
    }
   },
   "source": [
    "# 6. Quasi Fermi levels\n",
    "\n",
    "How to describe the charge carrier concentration of each band **out of equilibrium**?\n",
    "\n",
    "Since recombination rate (the rate of equilibration between bands) is normally much slower than the energy relaxation rate within each band, we can model the conduction and valence band with a population that is internally in equilibrium, even though they are not in equilibrium with respect each other.\n",
    "\n",
    "We therefore define **quasi Fermi levels** $F_n,F_p$ in such a way they describe the carrier densities of each band out of equilibrium.\n",
    "\n",
    "|   |\n",
    "|---|\n",
    "|$$n=n_{0}+\\Delta n=N_{C} \\exp \\left(-\\frac{E_{C}-F_{n}}{k T}\\right)\\\\p=p_{0}+\\Delta p=N_{V} \\exp \\left(-\\frac{F_{p}-E_{V}}{kT}\\right)$$|\n",
    "|  |\n",
    "\n",
    "In a low-level injection regime, $$\\Delta n<<n_{0} \\Rightarrow n \\approx n_{0} \\Rightarrow F_{n} \\approx E_{F}$$ (Yet, $F_p\\neq E_F$)"
   ]
  },
  {
   "cell_type": "markdown",
   "metadata": {
    "slideshow": {
     "slide_type": "slide"
    }
   },
   "source": [
    "# 7. Drift-diffusion equation\n",
    "We now study semiconductors in the most general scenario:\n",
    "* External electric field $\\vec E$\n",
    "* Inhomogeneous semiconductor\n",
    "* Carrier generation and recombination\n",
    "\n",
    "We want to obtain an equation describing the **evolution in space and time** of the charge carriers densities."
   ]
  },
  {
   "cell_type": "markdown",
   "metadata": {
    "slideshow": {
     "slide_type": "subslide"
    }
   },
   "source": [
    "## 7.1 net current\n",
    "The net flux driven by drift+diffusion will be simply the sum of each contribution.\n",
    "\n",
    "$$\n",
    "\\begin{array}{l}\\label{netFlux}\n",
    "J_{n}=\\left.J_{n}\\right|_{\\text{dri}}+\\left.J_{n}\\right|_{\\text{dif}}=e \\mu_{n} n {E}+e D_{n} \\frac{d n}{d x} \\\\\n",
    "J_{p}=\\left.J_{p}\\right|_{\\text{dri}}+\\left.J_{p}\\right|_{\\text{dif}}=e \\mu_{p} p {E}-e D_{p} \\frac{d p}{d x}\n",
    "\\end{array}\n",
    "$$"
   ]
  },
  {
   "cell_type": "markdown",
   "metadata": {
    "slideshow": {
     "slide_type": "subslide"
    }
   },
   "source": [
    "## 7.2 drift-diffusion equation\n",
    "\n",
    "Recall the **continuity equation**, applied to electrons and holes\n",
    "$$\n",
    "\\frac{\\partial n}{\\partial t}=\\frac{1}{e} \\frac{\\partial J_{n}}{\\partial x}+\\left(G_{n}-R_{n}\\right)\n",
    "$$\n",
    "$$\n",
    "\\frac{\\partial n}{\\partial t}=-\\frac{1}{e} \\frac{\\partial J_{p}}{\\partial x}+\\left(G_{p}-R_{p}\\right)\n",
    "$$\n",
    "\n",
    "where $G$ is the generation rate. If we now introduce the expression of the net flux into the previous expressions, we arrive to the **drift-diffusion equations** for each carrier\n",
    "\n",
    "$$\n",
    "\\frac{\\partial n}{\\partial t}=\\frac{1}{e} \\frac{\\partial}{\\partial x}\\left[e \\mu_{n} n {E}+e D_{n} \\frac{\\partial n}{\\partial x}\\right]+\\left(G_{n}-R_{n}\\right)\n",
    "$$\n",
    "$$\n",
    "\\frac{\\partial p}{\\partial t}=-\\frac{1}{e} \\frac{\\partial}{\\partial x}\\left[e \\mu_{p} p {E}-e D_{p} \\frac{\\partial p}{\\partial x}\\right]+\\left(G_{p}-R_{p}\\right)\n",
    "$$"
   ]
  },
  {
   "cell_type": "markdown",
   "metadata": {
    "slideshow": {
     "slide_type": "subslide"
    }
   },
   "source": [
    "Expanding derivatives and particularizing for low-level injection regimes\n",
    "\n",
    "|  |\n",
    "|--|\n",
    "|$$\\frac{\\partial n}{\\partial t}=n \\mu_{n} \\frac{\\partial {E}}{\\partial x}+\\mu_{n}  E \\frac{\\partial n}{\\partial x}+D_{n} \\frac{\\partial^{2} n}{\\partial x^{2}}+G_{e x t}-\\frac{n-n_{0}}{\\tau_{n}} \\\\ \\frac{\\partial p}{\\partial t}=-p \\mu_{p} \\frac{\\partial {E}}{\\partial x}-\\mu_{p}  E \\frac{\\partial p}{\\partial x}+D_{p} \\frac{\\partial^{2} p}{\\partial x^{2}}+G_{e x t}-\\frac{p-p_{0}}{\\tau_{p}} $$|\n",
    "|   |"
   ]
  },
  {
   "cell_type": "markdown",
   "metadata": {
    "slideshow": {
     "slide_type": "subslide"
    }
   },
   "source": [
    "### 7.2.1 Example\n",
    "Injection of holes from one side of a semiconductor in the absence of electric field. Find the steady state solution.\n",
    "\n",
    "The equation+boundary conditions are\n",
    "\n",
    "$$\n",
    "\\begin{array}{c}\n",
    "\\frac{\\partial p}{\\partial t}=0=D_{p} \\frac{\\partial^{2} p}{\\partial x^{2}}-\\frac{p-p_{0}}{\\tau_{p}} \\\\\n",
    "p(x=0)=p(0) \\\\\n",
    "p(x \\rightarrow \\infty)=p_{n 0}\n",
    "\\end{array}\n",
    "$$\n",
    "<center><img src=\"example.png\" width=\"300\" /></center>"
   ]
  },
  {
   "cell_type": "markdown",
   "metadata": {
    "slideshow": {
     "slide_type": "subslide"
    }
   },
   "source": [
    "Solution\n",
    "\n",
    "$$\n",
    "\\begin{array}{c}\n",
    "p(x)=p_{n0}+\\left(p(0)-p_{n0}\\right) e^{-x / L_{p}} \\\\\n",
    "L_{p}=\\sqrt{D_{p} \\tau_{p}}\n",
    "\\end{array}\n",
    "$$\n",
    "\n",
    "<center><img src=\"example2.png\" width=\"300\" /></center>\n",
    "\n",
    "diffusion length (the mean distance a carrier diffuses before recombination) $L_{p}$ is typically on the order of micrometers."
   ]
  },
  {
   "cell_type": "markdown",
   "metadata": {
    "slideshow": {
     "slide_type": "slide"
    }
   },
   "source": [
    "# Apendix\n",
    "## Intuitive derivation of continuity equation in 1D\n",
    "\n",
    "The charge contained in the infinitesimal volume $Adx$ varies due to: 1) the charges getting into the volume at $x$ 2) the charges flowing out of the volume at $x+dx$ and 3) the difference between the charges created and eliminated inside the volume. Mathematically,\n",
    "\n",
    "$$\n",
    "\\begin{array}{c}\n",
    "\\frac{\\partial n}{\\partial t} A d x=\\left[\\frac{j_{n}(x) A}{-e}-\\frac{j_{n}(x+d x) A}{-e}\\right]+\\left(G_{n}-R_{n}\\right) A d x \\\\\n",
    "j_{n}(x+d x)=j_{n}(x)+\\frac{\\partial j_{n}}{\\partial x} d x+\\ldots \\\\\n",
    "\\frac{\\partial n}{\\partial t}=\\frac{1}{e} \\frac{\\partial j_{n}}{\\partial x}+\\left(G_{n}-R_{n}\\right)\n",
    "\\end{array}\n",
    "$$\n",
    "<center><img src=\"continuity2.png\" width=\"400\" /></center>"
   ]
  },
  {
   "cell_type": "markdown",
   "metadata": {
    "slideshow": {
     "slide_type": "subslide"
    }
   },
   "source": [
    "## Band-to-band radiative recombination\n",
    "\n",
    "Due to charge neutrality, we have $\\Delta n(t)=\\Delta p(t)$ for charge neutrality!!. We can write,\n",
    "\n",
    "$$\n",
    "\\frac{d n}{d t}=\\frac{d p}{d t}=G-R\n",
    "$$\n",
    "\n",
    "where\n",
    "- G is the net generation rate\n",
    "- R is the net recombination rate\n",
    " \n",
    "In thermal equilibrium $\\frac{d n}{d t}=0$, so the recombination rate $R=R_{0}$ is equal to the generation rate $G=G_{0}$, and $n_0p_0=n_i^2$ (action mass law). A electron-hole pair recombination process demands one electron and one hole, hence recombination happens with a probability proportional to the concentration of both charge carriers\n",
    "\n",
    "$$G_0=R_0=\\gamma n_0p_0=\\gamma n_i^2$$, \n",
    "\n",
    "where $\\gamma$ is the *radiative recombination rate*. \n",
    "\n",
    "Out of equilibrium, the net generation rate differs from its thermal equilibrium value and can be written as $G=G_{ext}+G_0$. They system will eventually reach a steady state (dynamic equilibrium) whereby $\\frac{d n}{d t}=0\\implies G_{e x t}+G_0=R$.Hence\n",
    "\n",
    "$$\n",
    "n p=\\left(n_{0}+\\Delta n\\right)\\left(p_{0}+\\Delta p\\right)>n_{i}^{2}\n",
    "$$\n",
    "\n",
    "Let us now switch off the external contribution $G_{e x t}=0 \\implies R>G_{0}$, then\n",
    "\n",
    "$$\n",
    "-\\frac{d n}{d t}=-\\frac{d p}{d t}=R-G_{0}=\\gamma_{r}\\left(n p-n_{0} p_{0}\\right)=\\gamma_{r}\\left(n_{0}+p_{0}+\\Delta n\\right) \\Delta n\n",
    "$$\n",
    "\n",
    "In low-level injection we neglect $\\Delta n^2$ terms\n",
    "\n",
    "$$\\Delta n<<n_{0}+p_{0} \\Rightarrow-\\frac{d n}{d t} \\approx \\gamma_{r}\\left(n_{0}+p_{0}\\right) \\Delta n\\implies \\Delta n(t)=\\Delta n(0) e^{-t / \\tau}$$\n",
    "\n",
    "where \n",
    "\n",
    "$$\n",
    "\\tau=\\frac{1}{\\gamma_{r}\\left(n_{0}+p_{0}\\right)}=\\frac{\\Delta n}{-\\frac{dn}{dt}}=\\frac{\\Delta n}{R}.\n",
    "$$\n",
    "\n",
    "$\\tau$ is the carrier lifetime (the average time before an electron in the conduction band of a semiconductor recombines with a hole). \n",
    "\n",
    "Thus, in n-type semiconductors where $n_0\\gg p_0$\n",
    "\n",
    "$$R_{n}=R_{p}=\\frac{\\Delta n(t)}{\\tau_{n}}=\\frac{n-n_{0}}{\\tau_{n}}$$\n",
    "\n",
    "Similarly, for p-type semiconductors\n",
    "\n",
    "$$R_p=R_n=\\frac{\\Delta p(t)}{\\tau_{p}}=\\frac{p-p_{0}}{\\tau_{p}}$$"
   ]
  }
 ],
 "metadata": {
  "celltoolbar": "Slideshow",
  "hide_input": false,
  "kernelspec": {
   "display_name": "Python 3 (ipykernel)",
   "language": "python",
   "name": "python3"
  },
  "language_info": {
   "codemirror_mode": {
    "name": "ipython",
    "version": 3
   },
   "file_extension": ".py",
   "mimetype": "text/x-python",
   "name": "python",
   "nbconvert_exporter": "python",
   "pygments_lexer": "ipython3",
   "version": "3.9.7"
  },
  "latex_envs": {
   "LaTeX_envs_menu_present": true,
   "autoclose": false,
   "autocomplete": true,
   "bibliofile": "biblio.bib",
   "cite_by": "apalike",
   "current_citInitial": 1,
   "eqLabelWithNumbers": true,
   "eqNumInitial": 1,
   "hotkeys": {
    "equation": "Ctrl-E",
    "itemize": "Ctrl-I"
   },
   "labels_anchors": false,
   "latex_user_defs": false,
   "report_style_numbering": false,
   "user_envs_cfg": false
  },
  "rise": {
   "scroll": true
  },
  "toc": {
   "base_numbering": 1,
   "nav_menu": {},
   "number_sections": true,
   "sideBar": true,
   "skip_h1_title": false,
   "title_cell": "Table of Contents",
   "title_sidebar": "Contents",
   "toc_cell": false,
   "toc_position": {},
   "toc_section_display": true,
   "toc_window_display": false
  },
  "varInspector": {
   "cols": {
    "lenName": 16,
    "lenType": 16,
    "lenVar": 40
   },
   "kernels_config": {
    "python": {
     "delete_cmd_postfix": "",
     "delete_cmd_prefix": "del ",
     "library": "var_list.py",
     "varRefreshCmd": "print(var_dic_list())"
    },
    "r": {
     "delete_cmd_postfix": ") ",
     "delete_cmd_prefix": "rm(",
     "library": "var_list.r",
     "varRefreshCmd": "cat(var_dic_list()) "
    }
   },
   "types_to_exclude": [
    "module",
    "function",
    "builtin_function_or_method",
    "instance",
    "_Feature"
   ],
   "window_display": false
  }
 },
 "nbformat": 4,
 "nbformat_minor": 4
}
