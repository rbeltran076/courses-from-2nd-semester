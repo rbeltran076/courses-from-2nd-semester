{
 "cells": [
  {
   "cell_type": "code",
   "execution_count": null,
   "metadata": {},
   "outputs": [],
   "source": [
    "from IPython.display import YouTubeVideo"
   ]
  },
  {
   "cell_type": "markdown",
   "metadata": {
    "slideshow": {
     "slide_type": "slide"
    }
   },
   "source": [
    " <span style=\"font-size:30px;\">Semiconductors in equilibrium</span>\n",
    " \n",
    "1. Condensed matter\n",
    "2. Crystalline solid\n",
    "3. Bonding in solids\n",
    "4. Energy bands\n",
    "5. Semiconductors\n",
    "6. Holes\n",
    "7. Impurities and doping\n",
    "8. Density of states\n",
    "9. Fermi-Dirac and Maxwell-Boltzmann distributions\n",
    "10. Charge carrier density\n",
    "11. Electronic mass-action law\n",
    "12. Charge neutrality condition\n",
    "\n",
    "**Recommended readings**\n",
    " \n",
    " - Sears and Zemansky's University physics-Addison Wesley (credit: many figures in these slides taken from it)\n",
    "     - Chapters 42"
   ]
  },
  {
   "cell_type": "markdown",
   "metadata": {
    "slideshow": {
     "slide_type": "slide"
    }
   },
   "source": [
    "# 1. Condensed matter\n",
    "\n",
    "Condensed matter refers to those materials in which interactions between atoms is strong enough so they present definite volume. \n",
    "\n",
    "- Typical distances between atoms is typically in the range of angstrom ($1Å=10^{-10}m=0.1nm$), which is also the typical atomic size.\n",
    "- There exists an overlap between outer electron clouds, which prevents further condensation.\n",
    "- The term includes both solids and liquids.\n",
    " \n",
    "**Classification** of condensed matter according to their order\n",
    "- long-range order\n",
    "    - crystals\n",
    "- medium-range order\n",
    "- Short-range\n",
    "    - glass (amorphous solid)\n",
    "    - liquids\n",
    "    \n",
    "The boundaries between these categories is sometimes blurred (e.g. liquid crystals, imperfect crystals...)"
   ]
  },
  {
   "cell_type": "markdown",
   "metadata": {
    "slideshow": {
     "slide_type": "slide"
    }
   },
   "source": [
    "#  2. Crystalline solid\n",
    "\n",
    "A crystalline solid (or simply a **crystal**) exhibits long-range order due to a pattern arrangement of atoms in space. The specific pattern is called the **crystal structure**. Such structure is mathematically expressed as a **crystal lattice**, which is a pattern arrangement of points in space. Different combinations of atoms can be associated with each lattice point, defining a **basis**. Consequently, a crystal structure is specified when both the crystal lattice and the basis are provided.\n",
    "\n",
    "Remarks:\n",
    "- **Group theory** (a very abstract mathematical discipline) entirely classifies all sorts of possible crystal lattices, according to which there exits 14 possible crystal patterns.\n",
    "- From an experimental point of view, we can empirically observe these patterns in **diffraction experiments** with x rays, electrons or neutrons."
   ]
  },
  {
   "cell_type": "markdown",
   "metadata": {
    "slideshow": {
     "slide_type": "subslide"
    }
   },
   "source": [
    "Examples of crystal lattices\n",
    "<center><img src=\"cristals.png\" width=\"500\" /></center>\n",
    "Lattice+basis\n",
    "<center><img src=\"salt.png\" width=\"200\" /></center>\n",
    "<center><img src=\"diamond.png\" width=\"300\" /></center>"
   ]
  },
  {
   "cell_type": "markdown",
   "metadata": {
    "slideshow": {
     "slide_type": "slide"
    }
   },
   "source": [
    "# 3. Bonding in solids\n",
    "\n",
    "Electric attraction between atoms or molecules is responsible for crystalline structures in solids. \n",
    "\n",
    "Solids can be classified according to the nature of the bonding, resulting in distinctive thermodynamic, electronic, and mechanical properties.\n",
    "- covalent bonding (e.g. diamond, **silicon**)\n",
    "- ionic bonding (e.g. sodium chloride) \n",
    "- metallic bonding (e.g. copper)"
   ]
  },
  {
   "cell_type": "markdown",
   "metadata": {
    "slideshow": {
     "slide_type": "slide"
    }
   },
   "source": [
    "# 4. Energy bands\n",
    "\n",
    "Every atom has a **discrete** set of energy levels. The fact that the energy of an atom is not continuous but discrete is the result of its **quantum-mechanical** nature. Energy is then represented by energy-level diagrams. For instance, the energy-level diagram for the hydrogen atom is as follows\n",
    "\n",
    "\n",
    "<center><img src=\"energy.jpg\" width=\"400\" /></center>\n",
    "\n",
    "What happens to the energy levels of atoms in a solid? When atoms are closely arranged, like in a crystal, valence electrons interact, distorting the original energy diagrams. One can show that in the limit of a large number of atoms (and recall that the number of atoms is of the order of Avogadro's number, $10^{24}$), energy levels turn into **energy bands**. One might think of this process as a widening of energies associated to electrons. Inner electrons are much less affected than valence electrons, and so their energy levels remain sharp\n",
    "\n",
    "Between adjacent energy bands there are still **energy gaps** of forbidden energy levels. Energy gaps will condition the electric, optic and thermodynamic properties of the solid.\n",
    "\n",
    "Energy-level diagrams represent available states, but it doesn't mean those states are arbitrarily occupied. Indeed, **Pauli's exclusion principle** states that only one electron can occupy a given state, therefore energy bands are progressively filled up.\n",
    "\n",
    "The energy-band theory was developed by the Nobel Prize Felix Bloch. "
   ]
  },
  {
   "cell_type": "markdown",
   "metadata": {
    "slideshow": {
     "slide_type": "subslide"
    }
   },
   "source": [
    "## 4.1 Valence and conduction bands\n",
    "\n",
    "The conduction band is the lowest band with vacant electronic states, while the valence band is the band below the conduction band.\n",
    "\n",
    "<center><img src=\"https://upload.wikimedia.org/wikipedia/commons/thumb/1/12/Semiconductor_band_structure_%28lots_of_bands_2%29.svg/800px-Semiconductor_band_structure_%28lots_of_bands_2%29.svg.png\" width=\"300\" /></center>"
   ]
  },
  {
   "cell_type": "markdown",
   "metadata": {
    "slideshow": {
     "slide_type": "subslide"
    }
   },
   "source": [
    "## 4.2 Insulators, semiconductors and metals\n",
    "\n",
    "For an electron to move in response to an electric field, it has to 'jump' into another quantum state with slightly higher energy. As a result, the structure of the valence and conduction bands in a solid determines whether the material is an electrical insulator, a semiconductor, or a conductor.\n",
    "<center><img src=\"bands.png\" width=\"700\" /></center>\n",
    "\n",
    "- **insulator**: **valence band is filled up**, so electrons have to jump across the energy gap into the conduction band. Energy gap is of the order of $5eV$ or more, and typical thermal excitations are not enough to overcome such energy barrier. Only in the presence of a large electric field electrons receive enough energy to cross the energy gap, causing dielectric breakdown.  Thermal conductivity likewise relies on electronic mobility, and that's why electric insulators are also bad thermal conductors.\n",
    "- **semiconductor**: at $T=0K$, a semiconductor behaves like an insulator, with filled valence band. Yet, the energy gap is small enough so that thermal excitations cause electrons to jump into the conduction band. As the temperature of a semiconductor goes up, the population in the conduction band increases very rapidly, and so does the electric conductivity. \n",
    "- **metal**: the **conduction band is partially occupied** even at $T=0K$, so electrons can easily move in response to an electric field. \n",
    "\n",
    "The frontier between insulator and semiconductor is not well-defined. "
   ]
  },
  {
   "cell_type": "markdown",
   "metadata": {
    "slideshow": {
     "slide_type": "slide"
    }
   },
   "source": [
    "# 5. Semiconductors\n",
    "\n",
    "A semiconductor is then defined as a crystal with a filled valence band at $T=0K$, but with a small gap between the valence and conduction bands, typically in the range $0.5-2.5eV$. \n",
    "\n",
    "- Pure semiconductors are found in the group IV of the periodic table. \n",
    "- The most important examples of semiconductors are Silicon and Germanium\n",
    "    - Both have 4 electrons in the outermost subshells. \n",
    "    - both crystallize in the diamond structure with covalent bonding.\n",
    "    - All 4 outer electrons participate in the covalent bond. \n",
    "    - Energy gaps are 1.12 eV for silicon and only 0.67 eV for germanium.\n",
    "\n",
    "General properties\n",
    "- At very low temperatures semiconductors act like insulators, while they act like metals for high temperatures, hence the name semiconductor. At room temperature, a substantial number of electrons are dissociated from their parent atoms and freely move within the crystal.\n",
    "- **Electric properties are very sensitive to even very small concentrations of impurities.**\n",
    "- Their unique electric properties make them the essential building block in present-day electronics."
   ]
  },
  {
   "cell_type": "markdown",
   "metadata": {
    "slideshow": {
     "slide_type": "slide"
    }
   },
   "source": [
    "# 6. Holes\n",
    "\n",
    "When an electron is removed from a covalent bond, it leaves a vacancy behind. An electron from a neighboring atom can jump into this vacancy, which in turn leaves the neighbor with a vacancy. In this way, vacancies—called **holes**—travel through the semiconductor. Holes move in opposite direction to electrons, so the effectively behave as positively charged carriers, contributing to the overall conductivity.\n",
    "\n",
    "<center><img src=\"holes.png\" width=\"400\" /></center>"
   ]
  },
  {
   "cell_type": "markdown",
   "metadata": {
    "slideshow": {
     "slide_type": "slide"
    }
   },
   "source": [
    "# 7. Impurities and Doping\n",
    "\n",
    "Real crystals are not perfect. Among many other types of imperfections, **impurities** are foreign atoms that replace some of the atoms making up the solid. Typical impurity concentration is around $10^{15}-10^{19}cm^{-3}$, and even $10^{11}cm^{-3}$ for purified samples.\n",
    "\n",
    "Addition of impurities in semiconductors is called **doping**. \n",
    "\n",
    "Impurities distort the periodic potential of a crystal, creating spatially **localized energy levels**. These levels are represented in the energy-level diagram as an isolated energy level lying in the energy gap."
   ]
  },
  {
   "cell_type": "markdown",
   "metadata": {
    "slideshow": {
     "slide_type": "subslide"
    }
   },
   "source": [
    "## 7.1 Donors and acceptors \n",
    "\n",
    "**Donors** are impurities that introduce energy levels close to the conduction band (donor levels).\n",
    "\n",
    "All Group V elements (N, P, As, Sb, and Bi) can serve as donors. These elements have 5 valence electrons. When one of these electrons is removed, the electronic structure of the resulting ion is essentially the same as a Group IV element. The energy level of this fifth electron corresponds to the donor level.\n",
    "\n",
    "Ionization energy of As atom is $9.81eV$, yet inside Ge is only $0.013 eV$. Why? \n",
    "\n",
    "|       |        |\n",
    "|-------|--------|\n",
    "|<img src=\"ntype1.png\" width=\"250\" />|<img src=\"ntype2.png\" width=\"250\" />\n",
    "\n",
    "**Acceptors** are impurities that introduce energy levels close to the valence band (acceptor levels).\n",
    "\n",
    "All Group III elements (B, Al, Ga, In, Tl) can serve as acceptors. These elements have 3 valence electrons. Donors accept an electron from a neighboring atom to complete 4 covalent bonds, leaving the atom with a hole. The hole acts as an effective positive charge that can propagate through the crystal. \n",
    "\n",
    "|       |        |\n",
    "|-------|--------|\n",
    "|<img src=\"ptype1.png\" width=\"250\" />|<img src=\"ptype2.png\" width=\"250\" />"
   ]
  },
  {
   "cell_type": "markdown",
   "metadata": {
    "slideshow": {
     "slide_type": "subslide"
    }
   },
   "source": [
    "## 7.2 Intrinsic versus extrinsic conductivity\n",
    "\n",
    "Due to proximity to the conduction/valence band, it is much easier to excite an electron from the donor/acceptor energy level rather than the valence band through the energy gap. Even a small concentration of impurities can increase the conductivity $\\sigma$ drastically. We can distinguish 3 regimes\n",
    "\n",
    "- **Extrinsic range**: at low temperatures, donors/acceptors are a source of electrons/holes.\n",
    "- **Exhaustion range**: when temperature is high enough, all donors/acceptors are ionized.\n",
    "- **Intrinsic range**: at high enough temperatures, thermal excitations are high enough for electrons to get across the energy gap\n",
    "\n",
    "<center><img src=\"conductivity.jpg\" width=\"500\" /></center>"
   ]
  },
  {
   "cell_type": "markdown",
   "metadata": {
    "slideshow": {
     "slide_type": "subslide"
    }
   },
   "source": [
    "## 7.3 p-type and n-type semiconductors\n",
    "\n",
    "- A **p-type semiconductor** means that the majority carriers are **positive** holes (minority carriers are then negative electrons). Thus, it contains acceptors.\n",
    "- A **n-type semiconductor** means that the majority carriers are **negative** electrons (minority carriers are then negative electrons). Thus, it contains donors.\n",
    "\n",
    "We can experimentally verify the type of majority carrier by using the **Hall effect**, namely by observing the sign of the Hall emf. Hall effect in semiconductors is in turn used as a sensitive probe to measure magnetic fields. "
   ]
  },
  {
   "cell_type": "markdown",
   "metadata": {
    "slideshow": {
     "slide_type": "slide"
    }
   },
   "source": [
    "# 8. Density of states\n",
    "\n",
    "How many electrons are there in a band?\n",
    "\n",
    "The density of states $g(E)$ quantifies the number of quantum states $dn$ that have energies in a given infinitesimal energy range $dE$. In other words, $g(E)$ answers the question, how many states have energy between $E$ and $E+dE$? \n",
    "\n",
    "Given the knowledge of the band structure of a solid, one can derive an expression for the density of states. This is because the band structure gives the number of states a function of energy $n(E)$, this is, how many different states correspond to the same energy? Hence, the density of states is simply $g(E)=\\frac{dn}{dE}$.\n",
    "\n",
    "In this course we shall assume that $g(E)$ is known, although now explicit expression will be derived. It is enough to know that\n",
    "\n",
    "$$g_n(E)\\propto\\sqrt{E-E_C}$$\n",
    "$$g_p(E)\\propto\\sqrt{E_V-E}$$"
   ]
  },
  {
   "cell_type": "markdown",
   "metadata": {
    "slideshow": {
     "slide_type": "slide"
    }
   },
   "source": [
    "# 9. Fermi-Dirac and Maxwell-Boltzmann distributions\n",
    "\n",
    "How to take into account thermal excitations in a semiconductor? Using statistics. **Mechanical statistics** is the branch of physics that studies how macroscopic observables (such as temperature or pressure) emerge from a microscopic description. In particular, the statistics of large collection of electrons (fermions) in **thermal equilibrium** at temperature $T$ is governed by the **Fermi-Dirac distribution**. Namely, the probability of finding an electron in a state with energy $E$ is given by\n",
    "\n",
    "$$\n",
    "f(E)=\\frac{1}{e^{\\left(E-E_{F}\\right) / k T}+1}\n",
    "$$\n",
    "\n",
    "where we defined\n",
    "\n",
    "- **Fermi level** $E_F$: This energy level would have a 50% probability of being occupied. \n",
    "- **Boltzmann constant** k: $k=8.617333262145×10^{−5}eV\\cdot K^{-1}=1.380649×10^{−23}J\\cdot K^{−1}$"
   ]
  },
  {
   "cell_type": "markdown",
   "metadata": {
    "slideshow": {
     "slide_type": "subslide"
    }
   },
   "source": [
    "<center><img src=\"FD2.png\" width=\"350\" /></center>\n",
    "\n",
    "- The exclusion principle allows only one electron in each state, so electrons at absolute zero fill up the lowest available states. In looking at $f(E)$ at $T=0$, all states below the Fermi level are occupied (probability equals 1), and all states above the $E_F$ are empty. **Thus the Fermi level can be interpreted as the highest occupied energy level at absolute zero**.\n",
    "- It has the form of a sigmoid function, commonly employed in artificial neural networks.\n",
    "- The Fermi-Dirac distribution takes into account two critical aspects of the quantum-mechanical nature of electrons\n",
    "    - They are indistinguishable.\n",
    "    - They satisfy Pauli's exclusion principle."
   ]
  },
  {
   "cell_type": "markdown",
   "metadata": {
    "slideshow": {
     "slide_type": "subslide"
    }
   },
   "source": [
    "When $E-E_F>>kT$ ($E-E_F>3kT$ is enough), we can approximate the Fermi-Dirac distribution by the **Maxwell-Boltzmann distribution**\n",
    "\n",
    "$$\n",
    "f(E)=\\frac{1}{e^{\\left(E-E_{F}\\right) / k T}+1}\\approx e^{-\\left(E-E_{F}\\right) / k T}\n",
    "$$\n",
    "\n",
    "<center><img src=\"FD.png\" width=\"400\" /></center>\n",
    "\n",
    "The MD is used for classical particles instead of quantum-mechanical particles\n",
    "- In constrast to the FD distribution, at absolute zero the Maxwell–Boltzmann function predicts that all the electrons would go into the two ground states (the states with the lowest energies).  \n",
    "- In the MD distribution, particles are distinguishable. "
   ]
  },
  {
   "cell_type": "markdown",
   "metadata": {
    "slideshow": {
     "slide_type": "slide"
    }
   },
   "source": [
    "# 10. Charge carrier density\n",
    "\n",
    "The **charge carrier density** is defined as the average number of charge carriers per unit volume. In SI units, it is measured in $m^{−3}$.\n",
    "\n",
    "We can theoretically obtain this quantity by calculating the expected value of the density of states under the Fermi-Dirac distribution. The charge density for electrons $n_0$ requires integrating from the bottom to the top of the conduction band\n",
    "$$\n",
    "n_{0}=\\frac{1}{V}\\int_{E_{C}}^{E_{t o p}} N(E) d E=\\frac{1}{V}\\int_{E_{C}}^{E_{t o p}} g_{n}(E) f(E) d E\\simeq \\\\\n",
    "\\simeq\\frac{1}{V}\\int_{E_{C}}^{\\infty} g_{n}(E) f(E) d E\n",
    "$$\n",
    "\n",
    "Similarly, the charge density for holes $p_0$ requires integrating over the valence band\n",
    "\n",
    "$$\n",
    "p_{0}\\simeq\\frac{1}{V}\\int^{E_{V}}_{-\\infty} g_{p}(E) f(E) d E\n",
    "$$"
   ]
  },
  {
   "cell_type": "markdown",
   "metadata": {
    "slideshow": {
     "slide_type": "subslide"
    }
   },
   "source": [
    "## 10.1 Intrinsic range\n",
    "\n",
    "Inserting explicit expressions for the density of states, and using the Maxwell-Boltzmann approximation for $f(E)$, it can be shown that\n",
    "\n",
    "|     |\n",
    "|-----|\n",
    "|$$\\label{carriers}n_{0}=N_{C} \\exp \\left(-\\frac{E_{C}-E_{F}}{K T} \\right) \\\\ p_{0}=N_{V} \\exp \\left(-\\frac{E_{F}-E_{V}}{K T}\\right)$$|\n",
    "|  |\n",
    "\n",
    "where $N_C$ is the **effective density of states in the conduction band** and $N_V$ is the **effective density of states in the valence band**. Both are functions of temperature, although the vary slowly compared to the exponential."
   ]
  },
  {
   "cell_type": "markdown",
   "metadata": {
    "slideshow": {
     "slide_type": "subslide"
    }
   },
   "source": [
    "In an intrinsic semiconductor, every hole in the valence band is generated by an electron that get across the energy gap. Thus, the electron-carrier concentration is equal to the hole-carrier concentration at any given temperature\n",
    "\n",
    "|     |\n",
    "|-----|\n",
    "|$$n_{i}(T)=n_{0}(T)=p_{0}(T)$$|\n",
    "|  |\n",
    " \n",
    "where $n_i$ is defined as the **intrinsic carrier concentration**.\n",
    " \n",
    "At 300K (room temperature) \n",
    "\n",
    " |     |  Intrinsic carrier density $n_i$ (1/cm³)  | $N_V$ (1/cm³)|  $N_C$ (1/cm³) |  Bandgap (eV) |\n",
    " |-----|-----|-----|-----|-----|\n",
    " | Silicon|\t$$1.5\\times 10^9$$ | \t$$1.02\\times 10^{19}$$ | \t$$2.83\\times 10^{19}$$ | 1.12 |\n",
    " |Germanium|\t$$1.72\\times 10^{13}$$|\t $$5.18\\times 10^{18}$$ | $$1.03\\times 10^{19}$$ | 0.67 |\n",
    " |Gallium Arsenide|\t$$2.22\\times10^{6}$$|\t \t$$8.16\\times 10^{18}$$ | \t$$4.35\\times 10^{17}$$ | 1.42 |\n",
    "\n",
    " "
   ]
  },
  {
   "cell_type": "markdown",
   "metadata": {
    "slideshow": {
     "slide_type": "subslide"
    }
   },
   "source": [
    "From $n_{0}(T)=p_{0}(T)$ it's straightforward to find the position of the Fermi level\n",
    "\n",
    "|     |\n",
    "|-----|\n",
    "|$$E_{F}=E_V+\\frac{E_{g}}{2}+\\frac{1}{2} K T \\ln \\frac{N_V}{N_C}$$|\n",
    "|  |\n",
    "\n",
    "- At $T=0K$, $E_F$ is located in the middle of the gap.\n",
    "- As $ln(N_V/N_C)\\approx 1$, $E_F$ deviates $1-2kT$ at most. If $E_g>>kT$, and  $E_F$ doesn't get too close to the conduction or valence band, which is consistent with the Maxwell-Boltzmann approximation."
   ]
  },
  {
   "cell_type": "markdown",
   "metadata": {
    "slideshow": {
     "slide_type": "subslide"
    }
   },
   "source": [
    "## 10.2 Extrinsic range\n",
    "\n",
    "For moderate doping, the Maxwell-Boltzmann approximation is still valid. **Impurities only affect to $n_0$ $p_0$ though the Fermi level**. We shall then distinguish between the intrinsic Fermi level $E_{F_i}$ and the actual Fermi level $E_F$ in a doped semiconductor. Having this mind, equations from 10.1 are still valid, but we can also express them in terms of $E_{F_i}$ as follows\n",
    "\n",
    "|     |\n",
    "|-----|\n",
    "|$$n_{0}=N_{C} \\exp \\left(-\\frac{E_{C}-E_{F}}{K T}\\right)=N_{C} \\exp \\left(-\\frac{E_{C}-E_{F_i}+E_{F_i}-E_{F}}{K T}\\right)=n_{i} \\exp \\left(+\\frac{E_{F}-E_{F_i}}{K T}\\right)\\\\ p_{0}=N_{V} \\exp \\left(-\\frac{E_{F}-E_{V}}{K T}\\right)=N_{V} \\exp \\left(-\\frac{E_{F}-E_{F_i}+E_{F_i}-E_{V}}{K T}\\right)=n_{i} \\exp \\left(-\\frac{E_{F}-E_{F_i}}{K T}\\right)$$|"
   ]
  },
  {
   "cell_type": "markdown",
   "metadata": {
    "slideshow": {
     "slide_type": "slide"
    }
   },
   "source": [
    "# 11. Electronic mass action law\n",
    "\n",
    "Multiplying the expressions for the electron/hole-carrier concentrations we obtain\n",
    "\n",
    "|     |\n",
    "|-----|\n",
    "|$$n_{i}^{2}=n_0p_0=N_{C} N_{V} \\exp \\left(-\\frac{E_{C}-E_{V}}{K T}\\right)=N_{C} N_{V} \\exp \\left(-\\frac{E_{g}}{K T}\\right)$$|\n",
    "|  |\n",
    "\n",
    "- This result shows that **the intrinsic carrier concentration does not depend on the Fermi level, but the energy gap**.\n",
    "- $n_i$ depends exponentially on energy bandgap an temperature\n",
    "- The expression is **valid for both intrinsic and extrinsic semiconductors**."
   ]
  },
  {
   "cell_type": "markdown",
   "metadata": {
    "slideshow": {
     "slide_type": "slide"
    }
   },
   "source": [
    "# 12. Charge neutrality condition\n",
    "\n",
    "At thermal equilibrium, the charge neutrality condition is satisfied over all the sample\n",
    "\n",
    "$$\\sum\\text{positive charges}=\\sum\\text{negative charges}$$\n",
    "\n",
    "which implies\n",
    "\n",
    "$$ n_0+N_A^-=p_0+N_D^+$$\n",
    "\n",
    "where $N_A^-$ is the concentration of ionized acceptors and $N_D^+$ the concentration of ionized donors.\n",
    "\n",
    "- Intrinsic semiconductor: $n_0=p_0=n_i$\n",
    "- Extrinsic n-type semiconductor: $n_0=p_0+N_D^+$\n",
    "    - Exhaustive range: $N_D^+=N_D$ so $n_0\\approx N_D$, because we assume $N_D\\gg n_i$ (and minority carriers $p_0=n_i^{2} / N_D$)\n",
    "    - Intrinsic range: $n_0\\approx n_i$ \n",
    "- Extrinsic p-type semiconductor: $n_0+N_A^-=p_0$\n",
    "    - Exhaustive range: $N_A^-=N_A$ so $p_0\\approx N_A$, because we assume $N_A\\gg n_i$  (and minority carriers $n_0=n_i^{2} / N_A$)\n",
    "    - Intrinsic range: $p_0\\approx n_i$ "
   ]
  }
 ],
 "metadata": {
  "celltoolbar": "Slideshow",
  "hide_input": false,
  "kernelspec": {
   "display_name": "Python 3 (ipykernel)",
   "language": "python",
   "name": "python3"
  },
  "language_info": {
   "codemirror_mode": {
    "name": "ipython",
    "version": 3
   },
   "file_extension": ".py",
   "mimetype": "text/x-python",
   "name": "python",
   "nbconvert_exporter": "python",
   "pygments_lexer": "ipython3",
   "version": "3.9.7"
  },
  "latex_envs": {
   "LaTeX_envs_menu_present": true,
   "autoclose": false,
   "autocomplete": true,
   "bibliofile": "biblio.bib",
   "cite_by": "apalike",
   "current_citInitial": 1,
   "eqLabelWithNumbers": true,
   "eqNumInitial": 1,
   "hotkeys": {
    "equation": "Ctrl-E",
    "itemize": "Ctrl-I"
   },
   "labels_anchors": false,
   "latex_user_defs": false,
   "report_style_numbering": false,
   "user_envs_cfg": false
  },
  "rise": {
   "scroll": true
  },
  "toc": {
   "base_numbering": 1,
   "nav_menu": {},
   "number_sections": true,
   "sideBar": true,
   "skip_h1_title": false,
   "title_cell": "Table of Contents",
   "title_sidebar": "Contents",
   "toc_cell": false,
   "toc_position": {},
   "toc_section_display": true,
   "toc_window_display": false
  },
  "varInspector": {
   "cols": {
    "lenName": 16,
    "lenType": 16,
    "lenVar": 40
   },
   "kernels_config": {
    "python": {
     "delete_cmd_postfix": "",
     "delete_cmd_prefix": "del ",
     "library": "var_list.py",
     "varRefreshCmd": "print(var_dic_list())"
    },
    "r": {
     "delete_cmd_postfix": ") ",
     "delete_cmd_prefix": "rm(",
     "library": "var_list.r",
     "varRefreshCmd": "cat(var_dic_list()) "
    }
   },
   "types_to_exclude": [
    "module",
    "function",
    "builtin_function_or_method",
    "instance",
    "_Feature"
   ],
   "window_display": false
  }
 },
 "nbformat": 4,
 "nbformat_minor": 4
}
