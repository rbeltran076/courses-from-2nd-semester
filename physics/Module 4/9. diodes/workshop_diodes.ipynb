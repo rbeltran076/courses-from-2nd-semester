{
 "cells": [
  {
   "cell_type": "markdown",
   "metadata": {},
   "source": [
    "# Problems"
   ]
  },
  {
   "cell_type": "markdown",
   "metadata": {},
   "source": [
    "## Problem 1"
   ]
  },
  {
   "cell_type": "markdown",
   "metadata": {},
   "source": [
    "A LED is connected to an arduino, which supplies a voltage of 5V.  For a standard LED, the maximum current is usually 20mA. Find the minimum value of the resistance that safely allows to turn on the LED. Assume a built-in potential of $V_{bi}=1.7V$"
   ]
  },
  {
   "cell_type": "markdown",
   "metadata": {},
   "source": [
    "<center><img src=\"p1_.png\" width=\"400\" /></center>"
   ]
  },
  {
   "cell_type": "markdown",
   "metadata": {},
   "source": [
    "**Solution**:\n",
    "\n",
    "We assume the LED to be activated with a current flowing clockwise, so we replace the LED by a voltage source of value $V_{bi}=1.7V$. Applying Kirchoff, we have\n",
    "\n",
    "$$ IR+1.7=5\\implies IR=3.3V \\implies R_{min}=3.3V/I_{max}=3.3V/20mA=165\\Omega$$"
   ]
  },
  {
   "cell_type": "code",
   "execution_count": 1,
   "metadata": {},
   "outputs": [
    {
     "data": {
      "text/plain": [
       "165.0"
      ]
     },
     "execution_count": 1,
     "metadata": {},
     "output_type": "execute_result"
    }
   ],
   "source": [
    "3.3/(20*10**(-3))"
   ]
  },
  {
   "cell_type": "markdown",
   "metadata": {},
   "source": [
    "## Problem 2\n",
    "\n",
    "In the following circuit, calculate the Thevenin's equivalent between A and B, and the current going thorough the diode when the resistance is $R=2k\\Omega$ and $R=500\\Omega$\n",
    "<center><img src=\"p2.png\" width=\"500\" /></center>"
   ]
  },
  {
   "cell_type": "markdown",
   "metadata": {},
   "source": [
    "**Solution**\n",
    "\n",
    "As for the Thevenin's resistance, the resistor of value $R$ and $2k$ are in parallel, and the equivalent of these is in series with the $1k$ resistor. Hence,\n",
    "\n",
    "<center><img src=\"p2s.png\" width=\"500\" /></center>\n",
    "$$\n",
    "R_{T h}=\\frac{2 R}{2+R}+1(\\mathrm{k} \\Omega)\n",
    "$$\n",
    "\n",
    "Using mesh analysis, with the left mesh clockwise and the central mesh counterclockwise (the right mesh does not conduct any current due to short circuit)\n",
    "\n",
    "$$\n",
    "\\begin{aligned}\n",
    "I_{1} &=5 \\mathrm{~mA} \\\\\n",
    "5 &=R\\left(I_{1}+I_{2}\\right)+2 I_{2}\n",
    "\\end{aligned}\n",
    "$$\n",
    "\n",
    "The current $I_2$ is then,\n",
    "$$\n",
    "I_{2}=\\frac{5(1-R)}{R+2} \\mathrm{mA}\n",
    "$$\n",
    "Finally, the Thevenin's voltage can be calculated as\n",
    "$$\n",
    "V_{AB}=V_{th}=-2 I_{2}=\\frac{10(1-R)}{R+2}  \\mathrm{V}\n",
    "$$\n",
    "\n",
    "If we now substitute the values of $R$ given,\n",
    "\n",
    "$R=2k\\Omega \\implies V_{th}=2.5V,R_{th}=2k\\Omega$,\n",
    "and $R=500\\Omega \\implies V_{th}=-2V,R_{th}=1,4k\\Omega$\n",
    "\n",
    "We now apply the simplified circuits to analyze the state of the diode. For the first value, we assume the diode to be forwardly biased. Then, applying Kirchoff \n",
    "\n",
    "$$\n",
    "\\begin{array}{l}\n",
    "2,5=2 I_{D}+0,7 \\\\\n",
    "I_{D}=0,9 \\mathrm{mA}>0\n",
    "\\end{array}\n",
    "$$\n",
    "\n",
    "which is consistent.\n",
    "\n",
    "For the second value, we assume the diode to be with reverse bias, so \n",
    "\n",
    "$$\n",
    "\\begin{aligned}\n",
    "2 &=-V_{D}+1,4 I_{D} \\\\\n",
    "V_{D} &=-2 \\mathrm{V}<0,7 \\mathrm{V}\n",
    "\\end{aligned}\n",
    "$$\n",
    "\n",
    "which is consistent."
   ]
  },
  {
   "cell_type": "markdown",
   "metadata": {},
   "source": [
    "## Problem 3\n",
    "\n",
    "Calculate the reading of the voltmeter when the voltage source is V=10V and V=5V\n",
    "\n",
    "<center><img src=\"p7.png\" width=\"500\" /></center>"
   ]
  },
  {
   "cell_type": "markdown",
   "metadata": {},
   "source": [
    "**Solution**:\n",
    "\n",
    "Let's assume that both diodes are forward biased, and let's employ mesh analysis with clockwise mesh currents.\n",
    "\n",
    "$$\n",
    "\\begin{array}{l}\n",
    "(10+15) I_{1}+(-10) I_{2}=10-2.5-0.7 \\\\\n",
    "(-10)I_{1}+ (10+5) I_{2}=-10+2.5+0.7 \\\\\n",
    "\\end{array}\n",
    "$$\n",
    "\n",
    "$$\n",
    "I_{1}=0.12 \\mathrm{mA}, I_{2}=-0.37 \\mathrm{mA}\n",
    "$$"
   ]
  },
  {
   "cell_type": "markdown",
   "metadata": {},
   "source": [
    "This solution is consistent with our hypothesis"
   ]
  },
  {
   "cell_type": "code",
   "execution_count": 5,
   "metadata": {},
   "outputs": [
    {
     "name": "stdout",
     "output_type": "stream",
     "text": [
      "[[ 0.12363636]\n",
      " [-0.37090909]]\n"
     ]
    }
   ],
   "source": [
    "import numpy as np\n",
    "from numpy.linalg import solve\n",
    "A=np.matrix('25,-10;-10,15')\n",
    "b=np.matrix('6.8;-6.8')\n",
    "x=solve(A,b)\n",
    "print(x)"
   ]
  },
  {
   "cell_type": "markdown",
   "metadata": {},
   "source": [
    "The voltmeter then measures $V=5I_2+10=-0.37(5)+10=8.145V$"
   ]
  },
  {
   "cell_type": "code",
   "execution_count": 6,
   "metadata": {},
   "outputs": [
    {
     "data": {
      "text/plain": [
       "8.145"
      ]
     },
     "execution_count": 6,
     "metadata": {},
     "output_type": "execute_result"
    }
   ],
   "source": [
    "-0.371*5+10"
   ]
  },
  {
   "cell_type": "markdown",
   "metadata": {},
   "source": [
    "However, for 5V\n",
    "\n",
    "$$\n",
    "\\begin{array}{l}\n",
    "(10+15) I_{1}+(-10) I_{2}=5-2.5-0.7 \\\\\n",
    "(-10)I_{1}+ (10+5) I_{2}=-10+2.5+0.7 \\\\\n",
    "\\end{array}\n",
    "$$\n",
    "\n",
    "$$\n",
    "I_{1}=-0.14 \\mathrm{mA}, I_{2}=-0.55 \\mathrm{mA}\n",
    "$$\n",
    "\n",
    "which is not consistent as $I_1<0$. "
   ]
  },
  {
   "cell_type": "code",
   "execution_count": 6,
   "metadata": {},
   "outputs": [
    {
     "name": "stdout",
     "output_type": "stream",
     "text": [
      "[[-0.14909091]\n",
      " [-0.55272727]]\n"
     ]
    }
   ],
   "source": [
    "A=np.matrix('25,-10;-10,15')\n",
    "b=np.matrix('1.8;-6.8')\n",
    "x=solve(A,b)\n",
    "print(x)"
   ]
  },
  {
   "cell_type": "markdown",
   "metadata": {},
   "source": [
    "Let's then assume that diode on the left mesh is reverse biased,so we are only concerned about the right mesh now. The current must be counterclokwise so\n",
    "\n",
    "$$(10+5) I=10-2.5-0.7\\implies I=0.45mA$$\n",
    "\n",
    "which is consistent because now the voltage between the diode is $V_D=5-(2.5+0.45(10))=-2V<0.7V$.\n",
    "\n",
    "The voltmeter measures: $V=5I+10=-0.45(5)+10=7.75V$"
   ]
  },
  {
   "cell_type": "code",
   "execution_count": 15,
   "metadata": {},
   "outputs": [
    {
     "data": {
      "text/plain": [
       "-2.0"
      ]
     },
     "execution_count": 15,
     "metadata": {},
     "output_type": "execute_result"
    }
   ],
   "source": [
    "5-(2.5+0.45*(10))"
   ]
  },
  {
   "cell_type": "markdown",
   "metadata": {},
   "source": [
    "## Problem 4\n",
    "\n",
    "*Half wave rectifier*: calculate the maximum current that flows through the diode and draw the current as a function of time in the following circuit. The voltage source oscillates as $v(t)=5Vsin(\\omega t)$\n",
    "\n",
    "<center><img src=\"p4.png\" width=\"400\" /></center>\n",
    "\n",
    "**solution**: \n",
    "\n",
    "$$I100-0.7=v(t)\\implies I_{max}100-0.7=5\\implies I_{max}=43mA$$\n",
    "\n",
    "The diode allows a current only when the voltage is positive (clockwise current), and when $v(t)>0.7V$."
   ]
  },
  {
   "cell_type": "code",
   "execution_count": null,
   "metadata": {},
   "outputs": [],
   "source": [
    "import numpy as np\n",
    "from numpy.linalg import solve\n",
    "A=np.matrix('20,-10;-10,30')\n",
    "b=np.matrix('20;-0.7')\n",
    "x=solve(A,b)\n",
    "print(x)"
   ]
  },
  {
   "cell_type": "markdown",
   "metadata": {},
   "source": [
    "## Problem 5\n",
    "\n",
    "Calculate the maximum current that flows through the diode in the following circuit for $v(t)=20V\\cos(wt)$:\n",
    "\n",
    "<center><img src=\"p5.png\" width=\"400\" /></center>"
   ]
  },
  {
   "cell_type": "markdown",
   "metadata": {},
   "source": [
    "**Solution**: we assume the diode to be forwardly biased (as we want to calculate the maximum current, it couldn't be otherwise), so we replace it by a voltage of 0.7V. Additionally, the maximum current will happe when the voltage source instantly becomes a 20V, so replace it by a DC voltage source as well.\n",
    "\n",
    "Applying mesh analysis with clockwise mesh currents:\n",
    "\n",
    "$$\n",
    "\\begin{array}{l}\n",
    "(10+10) I_{1}+(-10) I_{2}=20 \\\\\n",
    "(-10)I_{1}+ (10+20) I_{2}=-0.7 \\\\\n",
    "\\end{array}\n",
    "$$\n",
    "\n",
    "$$\n",
    "I_{1}=1.186 \\mathrm{mA}, I_{2}=0.372 \\mathrm{mA}\n",
    "$$\n",
    "\n",
    "$$I_{max}=I_2=0.372mA$$"
   ]
  },
  {
   "cell_type": "code",
   "execution_count": 1,
   "metadata": {},
   "outputs": [
    {
     "name": "stdout",
     "output_type": "stream",
     "text": [
      "[[1.186]\n",
      " [0.372]]\n"
     ]
    }
   ],
   "source": [
    "import numpy as np\n",
    "from numpy.linalg import solve\n",
    "A=np.matrix('20,-10;-10,30')\n",
    "b=np.matrix('20;-0.7')\n",
    "x=solve(A,b)\n",
    "print(x)"
   ]
  },
  {
   "cell_type": "markdown",
   "metadata": {},
   "source": [
    "## Problem\n",
    "\n",
    "Analyze qualitatively the functioning of the following circuits.\n",
    "\n",
    "<center><img src=\"p6.png\" width=\"400\" /></center>\n",
    "<center><img src=\"protect.png\" width=\"200\" /></center>"
   ]
  },
  {
   "cell_type": "markdown",
   "metadata": {},
   "source": [
    "**Solution**:\n",
    "\n",
    "The first circuit alternates between the different LEDs: the the current is clockwise only the right LED is one, an the opposite for the left one.\n",
    "\n",
    "The second circuit indicates how to use a **Flywheel diode** as a protection circuit. When we switch off the switch, the energy stored in the inductor finds a path through the diode to safely dissipate the energy, avoiding voltage spikes (back emf) that could damage other circuit components."
   ]
  },
  {
   "cell_type": "markdown",
   "metadata": {},
   "source": [
    "# Problem 7\n",
    "\n",
    "Find the minimum value of the voltage source so that there is current flowing through the diode.\n",
    "\n",
    "<center><img src=\"extra.png\" width=\"400\" /></center>\n",
    "\n",
    "**Solution**:\n",
    "\n",
    "Let's impose a forward biased to the diode, so\n",
    "\n",
    "$$\n",
    "\\begin{array}{l}\n",
    "I_{1}=I_{2}+I_{D} \\\\\n",
    "V_{i}=R_{2} I_{1}+R_{1} I_{2} \\\\\n",
    "R_{1} I_{2}=0.7\n",
    "\\end{array}\n",
    "$$\n",
    "\n",
    "$$\n",
    "I_{1}=\\frac{V_{i}-0.7}{R_{1}}, \\quad I_{2}=\\frac{0.7}{R_{1}} \n",
    "$$\n",
    "\n",
    "Hence\n",
    "\n",
    "$$\\quad I_{D}=\\frac{V_{i}-0.7}{R_{1}}-\\frac{0.7}{R_{1}}=\\frac{R_{1} \\cdot\\left(V_{i}-0.7\\right)-R_{2} \\cdot 0.7}{R_{1} \\cdot R_{2}}$$\n",
    "\n",
    "As we are assuming the diode is forward biased, then $I_D>0$ must be true, which implies\n",
    "\n",
    "$$\n",
    "R_{1} \\cdot\\left(V_{i}-0,7\\right)-R_{2} \\cdot 0.7 \\geq 0\n",
    "$$\n",
    "\n",
    "$$\n",
    "V_{i} \\geq \\frac{R_{1}+R_{2}}{R_{1}} \\cdot 0.7 \\mathrm{V}\n",
    "$$"
   ]
  },
  {
   "cell_type": "code",
   "execution_count": null,
   "metadata": {},
   "outputs": [],
   "source": []
  }
 ],
 "metadata": {
  "hide_input": false,
  "kernelspec": {
   "display_name": "Python 3",
   "language": "python",
   "name": "python3"
  },
  "language_info": {
   "codemirror_mode": {
    "name": "ipython",
    "version": 3
   },
   "file_extension": ".py",
   "mimetype": "text/x-python",
   "name": "python",
   "nbconvert_exporter": "python",
   "pygments_lexer": "ipython3",
   "version": "3.8.3"
  },
  "latex_envs": {
   "LaTeX_envs_menu_present": true,
   "autoclose": false,
   "autocomplete": true,
   "bibliofile": "biblio.bib",
   "cite_by": "apalike",
   "current_citInitial": 1,
   "eqLabelWithNumbers": true,
   "eqNumInitial": 1,
   "hotkeys": {
    "equation": "Ctrl-E",
    "itemize": "Ctrl-I"
   },
   "labels_anchors": false,
   "latex_user_defs": false,
   "report_style_numbering": false,
   "user_envs_cfg": false
  },
  "toc": {
   "base_numbering": 1,
   "nav_menu": {},
   "number_sections": true,
   "sideBar": true,
   "skip_h1_title": false,
   "title_cell": "Table of Contents",
   "title_sidebar": "Contents",
   "toc_cell": false,
   "toc_position": {},
   "toc_section_display": true,
   "toc_window_display": false
  },
  "varInspector": {
   "cols": {
    "lenName": 16,
    "lenType": 16,
    "lenVar": 40
   },
   "kernels_config": {
    "python": {
     "delete_cmd_postfix": "",
     "delete_cmd_prefix": "del ",
     "library": "var_list.py",
     "varRefreshCmd": "print(var_dic_list())"
    },
    "r": {
     "delete_cmd_postfix": ") ",
     "delete_cmd_prefix": "rm(",
     "library": "var_list.r",
     "varRefreshCmd": "cat(var_dic_list()) "
    }
   },
   "types_to_exclude": [
    "module",
    "function",
    "builtin_function_or_method",
    "instance",
    "_Feature"
   ],
   "window_display": false
  }
 },
 "nbformat": 4,
 "nbformat_minor": 4
}
